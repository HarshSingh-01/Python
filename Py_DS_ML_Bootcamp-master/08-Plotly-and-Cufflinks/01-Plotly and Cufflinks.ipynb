{
 "cells": [
  {
   "cell_type": "markdown",
   "metadata": {},
   "source": [
    "___\n",
    "\n",
    "<a href='http://www.pieriandata.com'> <img src='../Pierian_Data_Logo.png' /></a>\n",
    "___\n",
    "# Plotly and Cufflinks"
   ]
  },
  {
   "cell_type": "markdown",
   "metadata": {},
   "source": [
    "Plotly is a library that allows you to create interactive plots that you can use in dashboards or websites (you can save them as html files or static images).\n",
    "\n",
    "## Installation\n",
    "\n",
    "In order for this all to work, you'll need to install plotly and cufflinks to call plots directly off of a pandas dataframe. These libraries are not currently available through **conda** but are available through **pip**. Install the libraries at your command line/terminal using:\n",
    "\n",
    "    pip install plotly\n",
    "    pip install cufflinks\n",
    "\n",
    "** NOTE: Make sure you only have one installation of Python on your computer when you do this, otherwise the installation may not work. **\n",
    "\n",
    "## Imports and Set-up"
   ]
  },
  {
   "cell_type": "code",
   "execution_count": 1,
   "metadata": {},
   "outputs": [],
   "source": [
    "import pandas as pd\n",
    "import numpy as np\n",
    "%matplotlib inline"
   ]
  },
  {
   "cell_type": "code",
   "execution_count": 2,
   "metadata": {},
   "outputs": [
    {
     "name": "stdout",
     "output_type": "stream",
     "text": [
      "4.6.0\n"
     ]
    }
   ],
   "source": [
    "from plotly import __version__\n",
    "from plotly.offline import download_plotlyjs, init_notebook_mode, plot, iplot\n",
    "\n",
    "print(__version__) # requires version >= 1.9.0"
   ]
  },
  {
   "cell_type": "code",
   "execution_count": 10,
   "metadata": {},
   "outputs": [],
   "source": [
    "import cufflinks as cf"
   ]
  },
  {
   "cell_type": "code",
   "execution_count": 11,
   "metadata": {},
   "outputs": [
    {
     "data": {
      "text/html": [
       "        <script type=\"text/javascript\">\n",
       "        window.PlotlyConfig = {MathJaxConfig: 'local'};\n",
       "        if (window.MathJax) {MathJax.Hub.Config({SVG: {font: \"STIX-Web\"}});}\n",
       "        if (typeof require !== 'undefined') {\n",
       "        require.undef(\"plotly\");\n",
       "        requirejs.config({\n",
       "            paths: {\n",
       "                'plotly': ['https://cdn.plot.ly/plotly-latest.min']\n",
       "            }\n",
       "        });\n",
       "        require(['plotly'], function(Plotly) {\n",
       "            window._Plotly = Plotly;\n",
       "        });\n",
       "        }\n",
       "        </script>\n",
       "        "
      ]
     },
     "metadata": {},
     "output_type": "display_data"
    }
   ],
   "source": [
    "# For Notebooks\n",
    "init_notebook_mode(connected=True)"
   ]
  },
  {
   "cell_type": "code",
   "execution_count": 12,
   "metadata": {},
   "outputs": [
    {
     "data": {
      "text/html": [
       "        <script type=\"text/javascript\">\n",
       "        window.PlotlyConfig = {MathJaxConfig: 'local'};\n",
       "        if (window.MathJax) {MathJax.Hub.Config({SVG: {font: \"STIX-Web\"}});}\n",
       "        if (typeof require !== 'undefined') {\n",
       "        require.undef(\"plotly\");\n",
       "        requirejs.config({\n",
       "            paths: {\n",
       "                'plotly': ['https://cdn.plot.ly/plotly-latest.min']\n",
       "            }\n",
       "        });\n",
       "        require(['plotly'], function(Plotly) {\n",
       "            window._Plotly = Plotly;\n",
       "        });\n",
       "        }\n",
       "        </script>\n",
       "        "
      ]
     },
     "metadata": {},
     "output_type": "display_data"
    }
   ],
   "source": [
    "# For offline use\n",
    "cf.go_offline()"
   ]
  },
  {
   "cell_type": "markdown",
   "metadata": {},
   "source": [
    "### Fake Data"
   ]
  },
  {
   "cell_type": "code",
   "execution_count": 13,
   "metadata": {},
   "outputs": [],
   "source": [
    "df = pd.DataFrame(np.random.randn(100,4),columns='A B C D'.split())"
   ]
  },
  {
   "cell_type": "code",
   "execution_count": 14,
   "metadata": {},
   "outputs": [
    {
     "data": {
      "text/html": [
       "<div>\n",
       "<style scoped>\n",
       "    .dataframe tbody tr th:only-of-type {\n",
       "        vertical-align: middle;\n",
       "    }\n",
       "\n",
       "    .dataframe tbody tr th {\n",
       "        vertical-align: top;\n",
       "    }\n",
       "\n",
       "    .dataframe thead th {\n",
       "        text-align: right;\n",
       "    }\n",
       "</style>\n",
       "<table border=\"1\" class=\"dataframe\">\n",
       "  <thead>\n",
       "    <tr style=\"text-align: right;\">\n",
       "      <th></th>\n",
       "      <th>A</th>\n",
       "      <th>B</th>\n",
       "      <th>C</th>\n",
       "      <th>D</th>\n",
       "    </tr>\n",
       "  </thead>\n",
       "  <tbody>\n",
       "    <tr>\n",
       "      <td>0</td>\n",
       "      <td>-0.094606</td>\n",
       "      <td>0.108142</td>\n",
       "      <td>-1.182726</td>\n",
       "      <td>-0.523208</td>\n",
       "    </tr>\n",
       "    <tr>\n",
       "      <td>1</td>\n",
       "      <td>-1.115162</td>\n",
       "      <td>0.426825</td>\n",
       "      <td>-0.746363</td>\n",
       "      <td>-2.778028</td>\n",
       "    </tr>\n",
       "    <tr>\n",
       "      <td>2</td>\n",
       "      <td>0.552251</td>\n",
       "      <td>1.544572</td>\n",
       "      <td>1.586985</td>\n",
       "      <td>-2.516436</td>\n",
       "    </tr>\n",
       "    <tr>\n",
       "      <td>3</td>\n",
       "      <td>-0.705559</td>\n",
       "      <td>0.974986</td>\n",
       "      <td>-0.481288</td>\n",
       "      <td>-0.070761</td>\n",
       "    </tr>\n",
       "    <tr>\n",
       "      <td>4</td>\n",
       "      <td>1.067001</td>\n",
       "      <td>0.114491</td>\n",
       "      <td>0.964713</td>\n",
       "      <td>-0.310067</td>\n",
       "    </tr>\n",
       "  </tbody>\n",
       "</table>\n",
       "</div>"
      ],
      "text/plain": [
       "          A         B         C         D\n",
       "0 -0.094606  0.108142 -1.182726 -0.523208\n",
       "1 -1.115162  0.426825 -0.746363 -2.778028\n",
       "2  0.552251  1.544572  1.586985 -2.516436\n",
       "3 -0.705559  0.974986 -0.481288 -0.070761\n",
       "4  1.067001  0.114491  0.964713 -0.310067"
      ]
     },
     "execution_count": 14,
     "metadata": {},
     "output_type": "execute_result"
    }
   ],
   "source": [
    "df.head()"
   ]
  },
  {
   "cell_type": "code",
   "execution_count": 15,
   "metadata": {},
   "outputs": [],
   "source": [
    "df2 = pd.DataFrame({'Category':['A','B','C'],'Values':[32,43,50]})"
   ]
  },
  {
   "cell_type": "code",
   "execution_count": 16,
   "metadata": {},
   "outputs": [
    {
     "data": {
      "text/html": [
       "<div>\n",
       "<style scoped>\n",
       "    .dataframe tbody tr th:only-of-type {\n",
       "        vertical-align: middle;\n",
       "    }\n",
       "\n",
       "    .dataframe tbody tr th {\n",
       "        vertical-align: top;\n",
       "    }\n",
       "\n",
       "    .dataframe thead th {\n",
       "        text-align: right;\n",
       "    }\n",
       "</style>\n",
       "<table border=\"1\" class=\"dataframe\">\n",
       "  <thead>\n",
       "    <tr style=\"text-align: right;\">\n",
       "      <th></th>\n",
       "      <th>Category</th>\n",
       "      <th>Values</th>\n",
       "    </tr>\n",
       "  </thead>\n",
       "  <tbody>\n",
       "    <tr>\n",
       "      <td>0</td>\n",
       "      <td>A</td>\n",
       "      <td>32</td>\n",
       "    </tr>\n",
       "    <tr>\n",
       "      <td>1</td>\n",
       "      <td>B</td>\n",
       "      <td>43</td>\n",
       "    </tr>\n",
       "    <tr>\n",
       "      <td>2</td>\n",
       "      <td>C</td>\n",
       "      <td>50</td>\n",
       "    </tr>\n",
       "  </tbody>\n",
       "</table>\n",
       "</div>"
      ],
      "text/plain": [
       "  Category  Values\n",
       "0        A      32\n",
       "1        B      43\n",
       "2        C      50"
      ]
     },
     "execution_count": 16,
     "metadata": {},
     "output_type": "execute_result"
    }
   ],
   "source": [
    "df2.head()"
   ]
  },
  {
   "cell_type": "markdown",
   "metadata": {},
   "source": [
    "## Using Cufflinks and iplot()\n",
    "\n",
    "* scatter\n",
    "* bar\n",
    "* box\n",
    "* spread\n",
    "* ratio\n",
    "* heatmap\n",
    "* surface\n",
    "* histogram\n",
    "* bubble"
   ]
  },
  {
   "cell_type": "markdown",
   "metadata": {},
   "source": [
    "## Scatter"
   ]
  },
  {
   "cell_type": "code",
   "execution_count": 17,
   "metadata": {},
   "outputs": [
    {
     "data": {
      "application/vnd.plotly.v1+json": {
       "config": {
        "linkText": "Export to plot.ly",
        "plotlyServerURL": "https://plot.ly",
        "showLink": true
       },
       "data": [
        {
         "line": {
          "color": "rgba(255, 153, 51, 1.0)",
          "dash": "solid",
          "shape": "linear",
          "width": 1.3
         },
         "marker": {
          "size": 10,
          "symbol": "circle"
         },
         "mode": "markers",
         "name": "B",
         "text": "",
         "type": "scatter",
         "x": [
          -0.09460603389983938,
          -1.115161546621085,
          0.552250823286241,
          -0.7055585325246749,
          1.0670013833110146,
          -0.07525731914888965,
          -1.6446033596519718,
          -0.5731132448732882,
          0.28230643408060346,
          -0.6369429176693027,
          -0.463511904581433,
          -0.6818221515715177,
          1.59240552402439,
          -0.2310620264246376,
          -0.35468737820097457,
          1.2691226063805376,
          -1.4841009789615545,
          0.364885132366754,
          0.29974569384933014,
          0.3132572406958177,
          -0.8102636947808791,
          0.30326014383977185,
          -0.21028570150169376,
          0.2614901512140256,
          0.2829084841851137,
          -0.34187122348639937,
          0.6142993959736801,
          -1.0414937499282173,
          0.9659132783487621,
          0.41805635893271176,
          1.06600170275434,
          -0.5663640057412325,
          -0.14857852734621776,
          3.623714617818191,
          -1.3600316145541635,
          0.2567161441480053,
          -0.6611837387514589,
          1.29355716133248,
          -0.19598547591848683,
          0.7998749870418101,
          1.0155298030451088,
          -0.06856500394033782,
          0.5239722030750937,
          -0.9834154296918106,
          -0.21776853784336786,
          -0.24696562933856378,
          -1.0855733141799837,
          -0.9173815950664124,
          -0.44408610344305527,
          -0.6979985385575076,
          -0.8598898351611934,
          1.6047381407356591,
          -0.5121271928381996,
          -0.5690117266214028,
          -1.2928831125482076,
          -0.16234669644829336,
          0.2694659729180265,
          -1.78561152072582,
          -1.428921850440534,
          -0.8621474792297036,
          -0.10637837209491757,
          0.4559792143724122,
          -0.8574353878244705,
          0.3021885994240502,
          -0.6103244159191482,
          -0.13726219349285845,
          0.5166354607657865,
          0.9059694275722422,
          -0.7067201810359846,
          -1.2311046837646813,
          -0.6412688895420384,
          -0.7819574959040753,
          -1.0179952653389717,
          0.1916237565333311,
          -0.6639610916594818,
          -0.15226547568551907,
          1.3306783412941994,
          -0.2567291255971543,
          0.2440121159927055,
          0.808940508913544,
          0.8949476598798622,
          0.7215510656519343,
          0.33975029703787796,
          0.0487793512520937,
          0.014331855573335089,
          0.9586024020595021,
          0.6164197105007017,
          -1.5382301075004485,
          0.2997924069194535,
          0.4659523836493858,
          0.6384592931548604,
          1.5109032777927809,
          1.176181158569553,
          1.9540048439726154,
          -1.2859495924226727,
          -0.887694697363015,
          0.13068821466303016,
          1.212937405174254,
          -0.10810375040123243,
          0.2549416048048139
         ],
         "y": [
          0.1081415629462722,
          0.4268245327166299,
          1.5445724980427822,
          0.9749858108183381,
          0.11449114167189642,
          1.4909096828570594,
          -0.5260456895720725,
          -1.3758691637260192,
          1.044161724360801,
          -1.1092315877742995,
          0.9670447984242331,
          -0.49257750966647734,
          1.0083424456629906,
          1.6885392876330236,
          1.0257650564036982,
          2.99075191788488,
          -0.9350489509778263,
          1.3509322989107693,
          0.7327247826693019,
          -1.216688483531076,
          0.439187156007758,
          0.7834858278015342,
          -1.0010346920455842,
          -0.18418277849451004,
          0.6691026962458871,
          -1.4144483849267844,
          0.8692718843241752,
          -0.21714490067334163,
          1.5080736437005582,
          0.21633766008584335,
          0.21540298577400788,
          0.39668945806355743,
          1.6920374198303962,
          2.1291025135898645,
          1.0086829319016535,
          0.6882703768598456,
          0.5260058746129411,
          -0.32403554739037366,
          -2.5808940818911505,
          -0.44918693914966534,
          -1.2867007075492303,
          0.8817648710663066,
          -0.2116089089096702,
          -0.5901077282473927,
          -1.0962507700134656,
          0.12608049280794345,
          0.317036264205109,
          0.7756982105135313,
          0.7909109267769698,
          0.7409657789632829,
          -0.9825901210917485,
          -0.08636936949193734,
          0.10096210691370497,
          -0.2813182291307528,
          -1.0250092240672513,
          -0.360665288454977,
          1.4124426002380253,
          0.2381977331747811,
          -0.752549537439929,
          0.8198761767071212,
          0.2944436999635293,
          -1.4739537040295216,
          0.16679057324504853,
          1.6740543786755937,
          -1.0748604415950138,
          0.7751341167935993,
          0.9539902019500902,
          -0.9918431337061299,
          0.042113280156370794,
          0.35927719801313474,
          -0.8380540062867653,
          1.565365597960983,
          -0.8558934319004765,
          2.0180128424056836,
          0.514647344235371,
          -1.5144668221405355,
          -1.540063547852475,
          -1.1225329538451916,
          0.6634805682965175,
          0.05867190349109249,
          0.14132776451484372,
          -0.42345845862152137,
          0.08108099227504234,
          -0.9921570022559376,
          -0.11472860485217094,
          -0.2871729128066149,
          0.5942010414877332,
          -0.6906728192068669,
          -0.1932952922984659,
          0.3353581241138731,
          -0.710578443380192,
          -0.010508048548534713,
          0.2472535856529788,
          -0.5764328208509977,
          -2.0137544897542825,
          -0.013688338442916483,
          -0.08955780113355191,
          -0.3894832296265267,
          -0.5903110638733836,
          0.599868761822671
         ]
        }
       ],
       "layout": {
        "legend": {
         "bgcolor": "#F5F6F9",
         "font": {
          "color": "#4D5663"
         }
        },
        "paper_bgcolor": "#F5F6F9",
        "plot_bgcolor": "#F5F6F9",
        "template": {
         "data": {
          "bar": [
           {
            "error_x": {
             "color": "#2a3f5f"
            },
            "error_y": {
             "color": "#2a3f5f"
            },
            "marker": {
             "line": {
              "color": "#E5ECF6",
              "width": 0.5
             }
            },
            "type": "bar"
           }
          ],
          "barpolar": [
           {
            "marker": {
             "line": {
              "color": "#E5ECF6",
              "width": 0.5
             }
            },
            "type": "barpolar"
           }
          ],
          "carpet": [
           {
            "aaxis": {
             "endlinecolor": "#2a3f5f",
             "gridcolor": "white",
             "linecolor": "white",
             "minorgridcolor": "white",
             "startlinecolor": "#2a3f5f"
            },
            "baxis": {
             "endlinecolor": "#2a3f5f",
             "gridcolor": "white",
             "linecolor": "white",
             "minorgridcolor": "white",
             "startlinecolor": "#2a3f5f"
            },
            "type": "carpet"
           }
          ],
          "choropleth": [
           {
            "colorbar": {
             "outlinewidth": 0,
             "ticks": ""
            },
            "type": "choropleth"
           }
          ],
          "contour": [
           {
            "colorbar": {
             "outlinewidth": 0,
             "ticks": ""
            },
            "colorscale": [
             [
              0,
              "#0d0887"
             ],
             [
              0.1111111111111111,
              "#46039f"
             ],
             [
              0.2222222222222222,
              "#7201a8"
             ],
             [
              0.3333333333333333,
              "#9c179e"
             ],
             [
              0.4444444444444444,
              "#bd3786"
             ],
             [
              0.5555555555555556,
              "#d8576b"
             ],
             [
              0.6666666666666666,
              "#ed7953"
             ],
             [
              0.7777777777777778,
              "#fb9f3a"
             ],
             [
              0.8888888888888888,
              "#fdca26"
             ],
             [
              1,
              "#f0f921"
             ]
            ],
            "type": "contour"
           }
          ],
          "contourcarpet": [
           {
            "colorbar": {
             "outlinewidth": 0,
             "ticks": ""
            },
            "type": "contourcarpet"
           }
          ],
          "heatmap": [
           {
            "colorbar": {
             "outlinewidth": 0,
             "ticks": ""
            },
            "colorscale": [
             [
              0,
              "#0d0887"
             ],
             [
              0.1111111111111111,
              "#46039f"
             ],
             [
              0.2222222222222222,
              "#7201a8"
             ],
             [
              0.3333333333333333,
              "#9c179e"
             ],
             [
              0.4444444444444444,
              "#bd3786"
             ],
             [
              0.5555555555555556,
              "#d8576b"
             ],
             [
              0.6666666666666666,
              "#ed7953"
             ],
             [
              0.7777777777777778,
              "#fb9f3a"
             ],
             [
              0.8888888888888888,
              "#fdca26"
             ],
             [
              1,
              "#f0f921"
             ]
            ],
            "type": "heatmap"
           }
          ],
          "heatmapgl": [
           {
            "colorbar": {
             "outlinewidth": 0,
             "ticks": ""
            },
            "colorscale": [
             [
              0,
              "#0d0887"
             ],
             [
              0.1111111111111111,
              "#46039f"
             ],
             [
              0.2222222222222222,
              "#7201a8"
             ],
             [
              0.3333333333333333,
              "#9c179e"
             ],
             [
              0.4444444444444444,
              "#bd3786"
             ],
             [
              0.5555555555555556,
              "#d8576b"
             ],
             [
              0.6666666666666666,
              "#ed7953"
             ],
             [
              0.7777777777777778,
              "#fb9f3a"
             ],
             [
              0.8888888888888888,
              "#fdca26"
             ],
             [
              1,
              "#f0f921"
             ]
            ],
            "type": "heatmapgl"
           }
          ],
          "histogram": [
           {
            "marker": {
             "colorbar": {
              "outlinewidth": 0,
              "ticks": ""
             }
            },
            "type": "histogram"
           }
          ],
          "histogram2d": [
           {
            "colorbar": {
             "outlinewidth": 0,
             "ticks": ""
            },
            "colorscale": [
             [
              0,
              "#0d0887"
             ],
             [
              0.1111111111111111,
              "#46039f"
             ],
             [
              0.2222222222222222,
              "#7201a8"
             ],
             [
              0.3333333333333333,
              "#9c179e"
             ],
             [
              0.4444444444444444,
              "#bd3786"
             ],
             [
              0.5555555555555556,
              "#d8576b"
             ],
             [
              0.6666666666666666,
              "#ed7953"
             ],
             [
              0.7777777777777778,
              "#fb9f3a"
             ],
             [
              0.8888888888888888,
              "#fdca26"
             ],
             [
              1,
              "#f0f921"
             ]
            ],
            "type": "histogram2d"
           }
          ],
          "histogram2dcontour": [
           {
            "colorbar": {
             "outlinewidth": 0,
             "ticks": ""
            },
            "colorscale": [
             [
              0,
              "#0d0887"
             ],
             [
              0.1111111111111111,
              "#46039f"
             ],
             [
              0.2222222222222222,
              "#7201a8"
             ],
             [
              0.3333333333333333,
              "#9c179e"
             ],
             [
              0.4444444444444444,
              "#bd3786"
             ],
             [
              0.5555555555555556,
              "#d8576b"
             ],
             [
              0.6666666666666666,
              "#ed7953"
             ],
             [
              0.7777777777777778,
              "#fb9f3a"
             ],
             [
              0.8888888888888888,
              "#fdca26"
             ],
             [
              1,
              "#f0f921"
             ]
            ],
            "type": "histogram2dcontour"
           }
          ],
          "mesh3d": [
           {
            "colorbar": {
             "outlinewidth": 0,
             "ticks": ""
            },
            "type": "mesh3d"
           }
          ],
          "parcoords": [
           {
            "line": {
             "colorbar": {
              "outlinewidth": 0,
              "ticks": ""
             }
            },
            "type": "parcoords"
           }
          ],
          "pie": [
           {
            "automargin": true,
            "type": "pie"
           }
          ],
          "scatter": [
           {
            "marker": {
             "colorbar": {
              "outlinewidth": 0,
              "ticks": ""
             }
            },
            "type": "scatter"
           }
          ],
          "scatter3d": [
           {
            "line": {
             "colorbar": {
              "outlinewidth": 0,
              "ticks": ""
             }
            },
            "marker": {
             "colorbar": {
              "outlinewidth": 0,
              "ticks": ""
             }
            },
            "type": "scatter3d"
           }
          ],
          "scattercarpet": [
           {
            "marker": {
             "colorbar": {
              "outlinewidth": 0,
              "ticks": ""
             }
            },
            "type": "scattercarpet"
           }
          ],
          "scattergeo": [
           {
            "marker": {
             "colorbar": {
              "outlinewidth": 0,
              "ticks": ""
             }
            },
            "type": "scattergeo"
           }
          ],
          "scattergl": [
           {
            "marker": {
             "colorbar": {
              "outlinewidth": 0,
              "ticks": ""
             }
            },
            "type": "scattergl"
           }
          ],
          "scattermapbox": [
           {
            "marker": {
             "colorbar": {
              "outlinewidth": 0,
              "ticks": ""
             }
            },
            "type": "scattermapbox"
           }
          ],
          "scatterpolar": [
           {
            "marker": {
             "colorbar": {
              "outlinewidth": 0,
              "ticks": ""
             }
            },
            "type": "scatterpolar"
           }
          ],
          "scatterpolargl": [
           {
            "marker": {
             "colorbar": {
              "outlinewidth": 0,
              "ticks": ""
             }
            },
            "type": "scatterpolargl"
           }
          ],
          "scatterternary": [
           {
            "marker": {
             "colorbar": {
              "outlinewidth": 0,
              "ticks": ""
             }
            },
            "type": "scatterternary"
           }
          ],
          "surface": [
           {
            "colorbar": {
             "outlinewidth": 0,
             "ticks": ""
            },
            "colorscale": [
             [
              0,
              "#0d0887"
             ],
             [
              0.1111111111111111,
              "#46039f"
             ],
             [
              0.2222222222222222,
              "#7201a8"
             ],
             [
              0.3333333333333333,
              "#9c179e"
             ],
             [
              0.4444444444444444,
              "#bd3786"
             ],
             [
              0.5555555555555556,
              "#d8576b"
             ],
             [
              0.6666666666666666,
              "#ed7953"
             ],
             [
              0.7777777777777778,
              "#fb9f3a"
             ],
             [
              0.8888888888888888,
              "#fdca26"
             ],
             [
              1,
              "#f0f921"
             ]
            ],
            "type": "surface"
           }
          ],
          "table": [
           {
            "cells": {
             "fill": {
              "color": "#EBF0F8"
             },
             "line": {
              "color": "white"
             }
            },
            "header": {
             "fill": {
              "color": "#C8D4E3"
             },
             "line": {
              "color": "white"
             }
            },
            "type": "table"
           }
          ]
         },
         "layout": {
          "annotationdefaults": {
           "arrowcolor": "#2a3f5f",
           "arrowhead": 0,
           "arrowwidth": 1
          },
          "coloraxis": {
           "colorbar": {
            "outlinewidth": 0,
            "ticks": ""
           }
          },
          "colorscale": {
           "diverging": [
            [
             0,
             "#8e0152"
            ],
            [
             0.1,
             "#c51b7d"
            ],
            [
             0.2,
             "#de77ae"
            ],
            [
             0.3,
             "#f1b6da"
            ],
            [
             0.4,
             "#fde0ef"
            ],
            [
             0.5,
             "#f7f7f7"
            ],
            [
             0.6,
             "#e6f5d0"
            ],
            [
             0.7,
             "#b8e186"
            ],
            [
             0.8,
             "#7fbc41"
            ],
            [
             0.9,
             "#4d9221"
            ],
            [
             1,
             "#276419"
            ]
           ],
           "sequential": [
            [
             0,
             "#0d0887"
            ],
            [
             0.1111111111111111,
             "#46039f"
            ],
            [
             0.2222222222222222,
             "#7201a8"
            ],
            [
             0.3333333333333333,
             "#9c179e"
            ],
            [
             0.4444444444444444,
             "#bd3786"
            ],
            [
             0.5555555555555556,
             "#d8576b"
            ],
            [
             0.6666666666666666,
             "#ed7953"
            ],
            [
             0.7777777777777778,
             "#fb9f3a"
            ],
            [
             0.8888888888888888,
             "#fdca26"
            ],
            [
             1,
             "#f0f921"
            ]
           ],
           "sequentialminus": [
            [
             0,
             "#0d0887"
            ],
            [
             0.1111111111111111,
             "#46039f"
            ],
            [
             0.2222222222222222,
             "#7201a8"
            ],
            [
             0.3333333333333333,
             "#9c179e"
            ],
            [
             0.4444444444444444,
             "#bd3786"
            ],
            [
             0.5555555555555556,
             "#d8576b"
            ],
            [
             0.6666666666666666,
             "#ed7953"
            ],
            [
             0.7777777777777778,
             "#fb9f3a"
            ],
            [
             0.8888888888888888,
             "#fdca26"
            ],
            [
             1,
             "#f0f921"
            ]
           ]
          },
          "colorway": [
           "#636efa",
           "#EF553B",
           "#00cc96",
           "#ab63fa",
           "#FFA15A",
           "#19d3f3",
           "#FF6692",
           "#B6E880",
           "#FF97FF",
           "#FECB52"
          ],
          "font": {
           "color": "#2a3f5f"
          },
          "geo": {
           "bgcolor": "white",
           "lakecolor": "white",
           "landcolor": "#E5ECF6",
           "showlakes": true,
           "showland": true,
           "subunitcolor": "white"
          },
          "hoverlabel": {
           "align": "left"
          },
          "hovermode": "closest",
          "mapbox": {
           "style": "light"
          },
          "paper_bgcolor": "white",
          "plot_bgcolor": "#E5ECF6",
          "polar": {
           "angularaxis": {
            "gridcolor": "white",
            "linecolor": "white",
            "ticks": ""
           },
           "bgcolor": "#E5ECF6",
           "radialaxis": {
            "gridcolor": "white",
            "linecolor": "white",
            "ticks": ""
           }
          },
          "scene": {
           "xaxis": {
            "backgroundcolor": "#E5ECF6",
            "gridcolor": "white",
            "gridwidth": 2,
            "linecolor": "white",
            "showbackground": true,
            "ticks": "",
            "zerolinecolor": "white"
           },
           "yaxis": {
            "backgroundcolor": "#E5ECF6",
            "gridcolor": "white",
            "gridwidth": 2,
            "linecolor": "white",
            "showbackground": true,
            "ticks": "",
            "zerolinecolor": "white"
           },
           "zaxis": {
            "backgroundcolor": "#E5ECF6",
            "gridcolor": "white",
            "gridwidth": 2,
            "linecolor": "white",
            "showbackground": true,
            "ticks": "",
            "zerolinecolor": "white"
           }
          },
          "shapedefaults": {
           "line": {
            "color": "#2a3f5f"
           }
          },
          "ternary": {
           "aaxis": {
            "gridcolor": "white",
            "linecolor": "white",
            "ticks": ""
           },
           "baxis": {
            "gridcolor": "white",
            "linecolor": "white",
            "ticks": ""
           },
           "bgcolor": "#E5ECF6",
           "caxis": {
            "gridcolor": "white",
            "linecolor": "white",
            "ticks": ""
           }
          },
          "title": {
           "x": 0.05
          },
          "xaxis": {
           "automargin": true,
           "gridcolor": "white",
           "linecolor": "white",
           "ticks": "",
           "title": {
            "standoff": 15
           },
           "zerolinecolor": "white",
           "zerolinewidth": 2
          },
          "yaxis": {
           "automargin": true,
           "gridcolor": "white",
           "linecolor": "white",
           "ticks": "",
           "title": {
            "standoff": 15
           },
           "zerolinecolor": "white",
           "zerolinewidth": 2
          }
         }
        },
        "title": {
         "font": {
          "color": "#4D5663"
         }
        },
        "xaxis": {
         "gridcolor": "#E1E5ED",
         "showgrid": true,
         "tickfont": {
          "color": "#4D5663"
         },
         "title": {
          "font": {
           "color": "#4D5663"
          },
          "text": ""
         },
         "zerolinecolor": "#E1E5ED"
        },
        "yaxis": {
         "gridcolor": "#E1E5ED",
         "showgrid": true,
         "tickfont": {
          "color": "#4D5663"
         },
         "title": {
          "font": {
           "color": "#4D5663"
          },
          "text": ""
         },
         "zerolinecolor": "#E1E5ED"
        }
       }
      },
      "text/html": [
       "<div>\n",
       "        \n",
       "        \n",
       "            <div id=\"40286037-b908-473a-bb18-3871db3f687e\" class=\"plotly-graph-div\" style=\"height:525px; width:100%;\"></div>\n",
       "            <script type=\"text/javascript\">\n",
       "                require([\"plotly\"], function(Plotly) {\n",
       "                    window.PLOTLYENV=window.PLOTLYENV || {};\n",
       "                    window.PLOTLYENV.BASE_URL='https://plot.ly';\n",
       "                    \n",
       "                if (document.getElementById(\"40286037-b908-473a-bb18-3871db3f687e\")) {\n",
       "                    Plotly.newPlot(\n",
       "                        '40286037-b908-473a-bb18-3871db3f687e',\n",
       "                        [{\"line\": {\"color\": \"rgba(255, 153, 51, 1.0)\", \"dash\": \"solid\", \"shape\": \"linear\", \"width\": 1.3}, \"marker\": {\"size\": 10, \"symbol\": \"circle\"}, \"mode\": \"markers\", \"name\": \"B\", \"text\": \"\", \"type\": \"scatter\", \"x\": [-0.09460603389983938, -1.115161546621085, 0.552250823286241, -0.7055585325246749, 1.0670013833110146, -0.07525731914888965, -1.6446033596519718, -0.5731132448732882, 0.28230643408060346, -0.6369429176693027, -0.463511904581433, -0.6818221515715177, 1.59240552402439, -0.2310620264246376, -0.35468737820097457, 1.2691226063805376, -1.4841009789615545, 0.364885132366754, 0.29974569384933014, 0.3132572406958177, -0.8102636947808791, 0.30326014383977185, -0.21028570150169376, 0.2614901512140256, 0.2829084841851137, -0.34187122348639937, 0.6142993959736801, -1.0414937499282173, 0.9659132783487621, 0.41805635893271176, 1.06600170275434, -0.5663640057412325, -0.14857852734621776, 3.623714617818191, -1.3600316145541635, 0.2567161441480053, -0.6611837387514589, 1.29355716133248, -0.19598547591848683, 0.7998749870418101, 1.0155298030451088, -0.06856500394033782, 0.5239722030750937, -0.9834154296918106, -0.21776853784336786, -0.24696562933856378, -1.0855733141799837, -0.9173815950664124, -0.44408610344305527, -0.6979985385575076, -0.8598898351611934, 1.6047381407356591, -0.5121271928381996, -0.5690117266214028, -1.2928831125482076, -0.16234669644829336, 0.2694659729180265, -1.78561152072582, -1.428921850440534, -0.8621474792297036, -0.10637837209491757, 0.4559792143724122, -0.8574353878244705, 0.3021885994240502, -0.6103244159191482, -0.13726219349285845, 0.5166354607657865, 0.9059694275722422, -0.7067201810359846, -1.2311046837646813, -0.6412688895420384, -0.7819574959040753, -1.0179952653389717, 0.1916237565333311, -0.6639610916594818, -0.15226547568551907, 1.3306783412941994, -0.2567291255971543, 0.2440121159927055, 0.808940508913544, 0.8949476598798622, 0.7215510656519343, 0.33975029703787796, 0.0487793512520937, 0.014331855573335089, 0.9586024020595021, 0.6164197105007017, -1.5382301075004485, 0.2997924069194535, 0.4659523836493858, 0.6384592931548604, 1.5109032777927809, 1.176181158569553, 1.9540048439726154, -1.2859495924226727, -0.887694697363015, 0.13068821466303016, 1.212937405174254, -0.10810375040123243, 0.2549416048048139], \"y\": [0.1081415629462722, 0.4268245327166299, 1.5445724980427822, 0.9749858108183381, 0.11449114167189642, 1.4909096828570594, -0.5260456895720725, -1.3758691637260192, 1.044161724360801, -1.1092315877742995, 0.9670447984242331, -0.49257750966647734, 1.0083424456629906, 1.6885392876330236, 1.0257650564036982, 2.99075191788488, -0.9350489509778263, 1.3509322989107693, 0.7327247826693019, -1.216688483531076, 0.439187156007758, 0.7834858278015342, -1.0010346920455842, -0.18418277849451004, 0.6691026962458871, -1.4144483849267844, 0.8692718843241752, -0.21714490067334163, 1.5080736437005582, 0.21633766008584335, 0.21540298577400788, 0.39668945806355743, 1.6920374198303962, 2.1291025135898645, 1.0086829319016535, 0.6882703768598456, 0.5260058746129411, -0.32403554739037366, -2.5808940818911505, -0.44918693914966534, -1.2867007075492303, 0.8817648710663066, -0.2116089089096702, -0.5901077282473927, -1.0962507700134656, 0.12608049280794345, 0.317036264205109, 0.7756982105135313, 0.7909109267769698, 0.7409657789632829, -0.9825901210917485, -0.08636936949193734, 0.10096210691370497, -0.2813182291307528, -1.0250092240672513, -0.360665288454977, 1.4124426002380253, 0.2381977331747811, -0.752549537439929, 0.8198761767071212, 0.2944436999635293, -1.4739537040295216, 0.16679057324504853, 1.6740543786755937, -1.0748604415950138, 0.7751341167935993, 0.9539902019500902, -0.9918431337061299, 0.042113280156370794, 0.35927719801313474, -0.8380540062867653, 1.565365597960983, -0.8558934319004765, 2.0180128424056836, 0.514647344235371, -1.5144668221405355, -1.540063547852475, -1.1225329538451916, 0.6634805682965175, 0.05867190349109249, 0.14132776451484372, -0.42345845862152137, 0.08108099227504234, -0.9921570022559376, -0.11472860485217094, -0.2871729128066149, 0.5942010414877332, -0.6906728192068669, -0.1932952922984659, 0.3353581241138731, -0.710578443380192, -0.010508048548534713, 0.2472535856529788, -0.5764328208509977, -2.0137544897542825, -0.013688338442916483, -0.08955780113355191, -0.3894832296265267, -0.5903110638733836, 0.599868761822671]}],\n",
       "                        {\"legend\": {\"bgcolor\": \"#F5F6F9\", \"font\": {\"color\": \"#4D5663\"}}, \"paper_bgcolor\": \"#F5F6F9\", \"plot_bgcolor\": \"#F5F6F9\", \"template\": {\"data\": {\"bar\": [{\"error_x\": {\"color\": \"#2a3f5f\"}, \"error_y\": {\"color\": \"#2a3f5f\"}, \"marker\": {\"line\": {\"color\": \"#E5ECF6\", \"width\": 0.5}}, \"type\": \"bar\"}], \"barpolar\": [{\"marker\": {\"line\": {\"color\": \"#E5ECF6\", \"width\": 0.5}}, \"type\": \"barpolar\"}], \"carpet\": [{\"aaxis\": {\"endlinecolor\": \"#2a3f5f\", \"gridcolor\": \"white\", \"linecolor\": \"white\", \"minorgridcolor\": \"white\", \"startlinecolor\": \"#2a3f5f\"}, \"baxis\": {\"endlinecolor\": \"#2a3f5f\", \"gridcolor\": \"white\", \"linecolor\": \"white\", \"minorgridcolor\": \"white\", \"startlinecolor\": \"#2a3f5f\"}, \"type\": \"carpet\"}], \"choropleth\": [{\"colorbar\": {\"outlinewidth\": 0, \"ticks\": \"\"}, \"type\": \"choropleth\"}], \"contour\": [{\"colorbar\": {\"outlinewidth\": 0, \"ticks\": \"\"}, \"colorscale\": [[0.0, \"#0d0887\"], [0.1111111111111111, \"#46039f\"], [0.2222222222222222, \"#7201a8\"], [0.3333333333333333, \"#9c179e\"], [0.4444444444444444, \"#bd3786\"], [0.5555555555555556, \"#d8576b\"], [0.6666666666666666, \"#ed7953\"], [0.7777777777777778, \"#fb9f3a\"], [0.8888888888888888, \"#fdca26\"], [1.0, \"#f0f921\"]], \"type\": \"contour\"}], \"contourcarpet\": [{\"colorbar\": {\"outlinewidth\": 0, \"ticks\": \"\"}, \"type\": \"contourcarpet\"}], \"heatmap\": [{\"colorbar\": {\"outlinewidth\": 0, \"ticks\": \"\"}, \"colorscale\": [[0.0, \"#0d0887\"], [0.1111111111111111, \"#46039f\"], [0.2222222222222222, \"#7201a8\"], [0.3333333333333333, \"#9c179e\"], [0.4444444444444444, \"#bd3786\"], [0.5555555555555556, \"#d8576b\"], [0.6666666666666666, \"#ed7953\"], [0.7777777777777778, \"#fb9f3a\"], [0.8888888888888888, \"#fdca26\"], [1.0, \"#f0f921\"]], \"type\": \"heatmap\"}], \"heatmapgl\": [{\"colorbar\": {\"outlinewidth\": 0, \"ticks\": \"\"}, \"colorscale\": [[0.0, \"#0d0887\"], [0.1111111111111111, \"#46039f\"], [0.2222222222222222, \"#7201a8\"], [0.3333333333333333, \"#9c179e\"], [0.4444444444444444, \"#bd3786\"], [0.5555555555555556, \"#d8576b\"], [0.6666666666666666, \"#ed7953\"], [0.7777777777777778, \"#fb9f3a\"], [0.8888888888888888, \"#fdca26\"], [1.0, \"#f0f921\"]], \"type\": \"heatmapgl\"}], \"histogram\": [{\"marker\": {\"colorbar\": {\"outlinewidth\": 0, \"ticks\": \"\"}}, \"type\": \"histogram\"}], \"histogram2d\": [{\"colorbar\": {\"outlinewidth\": 0, \"ticks\": \"\"}, \"colorscale\": [[0.0, \"#0d0887\"], [0.1111111111111111, \"#46039f\"], [0.2222222222222222, \"#7201a8\"], [0.3333333333333333, \"#9c179e\"], [0.4444444444444444, \"#bd3786\"], [0.5555555555555556, \"#d8576b\"], [0.6666666666666666, \"#ed7953\"], [0.7777777777777778, \"#fb9f3a\"], [0.8888888888888888, \"#fdca26\"], [1.0, \"#f0f921\"]], \"type\": \"histogram2d\"}], \"histogram2dcontour\": [{\"colorbar\": {\"outlinewidth\": 0, \"ticks\": \"\"}, \"colorscale\": [[0.0, \"#0d0887\"], [0.1111111111111111, \"#46039f\"], [0.2222222222222222, \"#7201a8\"], [0.3333333333333333, \"#9c179e\"], [0.4444444444444444, \"#bd3786\"], [0.5555555555555556, \"#d8576b\"], [0.6666666666666666, \"#ed7953\"], [0.7777777777777778, \"#fb9f3a\"], [0.8888888888888888, \"#fdca26\"], [1.0, \"#f0f921\"]], \"type\": \"histogram2dcontour\"}], \"mesh3d\": [{\"colorbar\": {\"outlinewidth\": 0, \"ticks\": \"\"}, \"type\": \"mesh3d\"}], \"parcoords\": [{\"line\": {\"colorbar\": {\"outlinewidth\": 0, \"ticks\": \"\"}}, \"type\": \"parcoords\"}], \"pie\": [{\"automargin\": true, \"type\": \"pie\"}], \"scatter\": [{\"marker\": {\"colorbar\": {\"outlinewidth\": 0, \"ticks\": \"\"}}, \"type\": \"scatter\"}], \"scatter3d\": [{\"line\": {\"colorbar\": {\"outlinewidth\": 0, \"ticks\": \"\"}}, \"marker\": {\"colorbar\": {\"outlinewidth\": 0, \"ticks\": \"\"}}, \"type\": \"scatter3d\"}], \"scattercarpet\": [{\"marker\": {\"colorbar\": {\"outlinewidth\": 0, \"ticks\": \"\"}}, \"type\": \"scattercarpet\"}], \"scattergeo\": [{\"marker\": {\"colorbar\": {\"outlinewidth\": 0, \"ticks\": \"\"}}, \"type\": \"scattergeo\"}], \"scattergl\": [{\"marker\": {\"colorbar\": {\"outlinewidth\": 0, \"ticks\": \"\"}}, \"type\": \"scattergl\"}], \"scattermapbox\": [{\"marker\": {\"colorbar\": {\"outlinewidth\": 0, \"ticks\": \"\"}}, \"type\": \"scattermapbox\"}], \"scatterpolar\": [{\"marker\": {\"colorbar\": {\"outlinewidth\": 0, \"ticks\": \"\"}}, \"type\": \"scatterpolar\"}], \"scatterpolargl\": [{\"marker\": {\"colorbar\": {\"outlinewidth\": 0, \"ticks\": \"\"}}, \"type\": \"scatterpolargl\"}], \"scatterternary\": [{\"marker\": {\"colorbar\": {\"outlinewidth\": 0, \"ticks\": \"\"}}, \"type\": \"scatterternary\"}], \"surface\": [{\"colorbar\": {\"outlinewidth\": 0, \"ticks\": \"\"}, \"colorscale\": [[0.0, \"#0d0887\"], [0.1111111111111111, \"#46039f\"], [0.2222222222222222, \"#7201a8\"], [0.3333333333333333, \"#9c179e\"], [0.4444444444444444, \"#bd3786\"], [0.5555555555555556, \"#d8576b\"], [0.6666666666666666, \"#ed7953\"], [0.7777777777777778, \"#fb9f3a\"], [0.8888888888888888, \"#fdca26\"], [1.0, \"#f0f921\"]], \"type\": \"surface\"}], \"table\": [{\"cells\": {\"fill\": {\"color\": \"#EBF0F8\"}, \"line\": {\"color\": \"white\"}}, \"header\": {\"fill\": {\"color\": \"#C8D4E3\"}, \"line\": {\"color\": \"white\"}}, \"type\": \"table\"}]}, \"layout\": {\"annotationdefaults\": {\"arrowcolor\": \"#2a3f5f\", \"arrowhead\": 0, \"arrowwidth\": 1}, \"coloraxis\": {\"colorbar\": {\"outlinewidth\": 0, \"ticks\": \"\"}}, \"colorscale\": {\"diverging\": [[0, \"#8e0152\"], [0.1, \"#c51b7d\"], [0.2, \"#de77ae\"], [0.3, \"#f1b6da\"], [0.4, \"#fde0ef\"], [0.5, \"#f7f7f7\"], [0.6, \"#e6f5d0\"], [0.7, \"#b8e186\"], [0.8, \"#7fbc41\"], [0.9, \"#4d9221\"], [1, \"#276419\"]], \"sequential\": [[0.0, \"#0d0887\"], [0.1111111111111111, \"#46039f\"], [0.2222222222222222, \"#7201a8\"], [0.3333333333333333, \"#9c179e\"], [0.4444444444444444, \"#bd3786\"], [0.5555555555555556, \"#d8576b\"], [0.6666666666666666, \"#ed7953\"], [0.7777777777777778, \"#fb9f3a\"], [0.8888888888888888, \"#fdca26\"], [1.0, \"#f0f921\"]], \"sequentialminus\": [[0.0, \"#0d0887\"], [0.1111111111111111, \"#46039f\"], [0.2222222222222222, \"#7201a8\"], [0.3333333333333333, \"#9c179e\"], [0.4444444444444444, \"#bd3786\"], [0.5555555555555556, \"#d8576b\"], [0.6666666666666666, \"#ed7953\"], [0.7777777777777778, \"#fb9f3a\"], [0.8888888888888888, \"#fdca26\"], [1.0, \"#f0f921\"]]}, \"colorway\": [\"#636efa\", \"#EF553B\", \"#00cc96\", \"#ab63fa\", \"#FFA15A\", \"#19d3f3\", \"#FF6692\", \"#B6E880\", \"#FF97FF\", \"#FECB52\"], \"font\": {\"color\": \"#2a3f5f\"}, \"geo\": {\"bgcolor\": \"white\", \"lakecolor\": \"white\", \"landcolor\": \"#E5ECF6\", \"showlakes\": true, \"showland\": true, \"subunitcolor\": \"white\"}, \"hoverlabel\": {\"align\": \"left\"}, \"hovermode\": \"closest\", \"mapbox\": {\"style\": \"light\"}, \"paper_bgcolor\": \"white\", \"plot_bgcolor\": \"#E5ECF6\", \"polar\": {\"angularaxis\": {\"gridcolor\": \"white\", \"linecolor\": \"white\", \"ticks\": \"\"}, \"bgcolor\": \"#E5ECF6\", \"radialaxis\": {\"gridcolor\": \"white\", \"linecolor\": \"white\", \"ticks\": \"\"}}, \"scene\": {\"xaxis\": {\"backgroundcolor\": \"#E5ECF6\", \"gridcolor\": \"white\", \"gridwidth\": 2, \"linecolor\": \"white\", \"showbackground\": true, \"ticks\": \"\", \"zerolinecolor\": \"white\"}, \"yaxis\": {\"backgroundcolor\": \"#E5ECF6\", \"gridcolor\": \"white\", \"gridwidth\": 2, \"linecolor\": \"white\", \"showbackground\": true, \"ticks\": \"\", \"zerolinecolor\": \"white\"}, \"zaxis\": {\"backgroundcolor\": \"#E5ECF6\", \"gridcolor\": \"white\", \"gridwidth\": 2, \"linecolor\": \"white\", \"showbackground\": true, \"ticks\": \"\", \"zerolinecolor\": \"white\"}}, \"shapedefaults\": {\"line\": {\"color\": \"#2a3f5f\"}}, \"ternary\": {\"aaxis\": {\"gridcolor\": \"white\", \"linecolor\": \"white\", \"ticks\": \"\"}, \"baxis\": {\"gridcolor\": \"white\", \"linecolor\": \"white\", \"ticks\": \"\"}, \"bgcolor\": \"#E5ECF6\", \"caxis\": {\"gridcolor\": \"white\", \"linecolor\": \"white\", \"ticks\": \"\"}}, \"title\": {\"x\": 0.05}, \"xaxis\": {\"automargin\": true, \"gridcolor\": \"white\", \"linecolor\": \"white\", \"ticks\": \"\", \"title\": {\"standoff\": 15}, \"zerolinecolor\": \"white\", \"zerolinewidth\": 2}, \"yaxis\": {\"automargin\": true, \"gridcolor\": \"white\", \"linecolor\": \"white\", \"ticks\": \"\", \"title\": {\"standoff\": 15}, \"zerolinecolor\": \"white\", \"zerolinewidth\": 2}}}, \"title\": {\"font\": {\"color\": \"#4D5663\"}}, \"xaxis\": {\"gridcolor\": \"#E1E5ED\", \"showgrid\": true, \"tickfont\": {\"color\": \"#4D5663\"}, \"title\": {\"font\": {\"color\": \"#4D5663\"}, \"text\": \"\"}, \"zerolinecolor\": \"#E1E5ED\"}, \"yaxis\": {\"gridcolor\": \"#E1E5ED\", \"showgrid\": true, \"tickfont\": {\"color\": \"#4D5663\"}, \"title\": {\"font\": {\"color\": \"#4D5663\"}, \"text\": \"\"}, \"zerolinecolor\": \"#E1E5ED\"}},\n",
       "                        {\"showLink\": true, \"linkText\": \"Export to plot.ly\", \"plotlyServerURL\": \"https://plot.ly\", \"responsive\": true}\n",
       "                    ).then(function(){\n",
       "                            \n",
       "var gd = document.getElementById('40286037-b908-473a-bb18-3871db3f687e');\n",
       "var x = new MutationObserver(function (mutations, observer) {{\n",
       "        var display = window.getComputedStyle(gd).display;\n",
       "        if (!display || display === 'none') {{\n",
       "            console.log([gd, 'removed!']);\n",
       "            Plotly.purge(gd);\n",
       "            observer.disconnect();\n",
       "        }}\n",
       "}});\n",
       "\n",
       "// Listen for the removal of the full notebook cells\n",
       "var notebookContainer = gd.closest('#notebook-container');\n",
       "if (notebookContainer) {{\n",
       "    x.observe(notebookContainer, {childList: true});\n",
       "}}\n",
       "\n",
       "// Listen for the clearing of the current output cell\n",
       "var outputEl = gd.closest('.output');\n",
       "if (outputEl) {{\n",
       "    x.observe(outputEl, {childList: true});\n",
       "}}\n",
       "\n",
       "                        })\n",
       "                };\n",
       "                });\n",
       "            </script>\n",
       "        </div>"
      ]
     },
     "metadata": {},
     "output_type": "display_data"
    }
   ],
   "source": [
    "df.iplot(kind='scatter',x='A',y='B',mode='markers',size=10)"
   ]
  },
  {
   "cell_type": "markdown",
   "metadata": {},
   "source": [
    "## Bar Plots"
   ]
  },
  {
   "cell_type": "code",
   "execution_count": 18,
   "metadata": {},
   "outputs": [
    {
     "data": {
      "application/vnd.plotly.v1+json": {
       "config": {
        "linkText": "Export to plot.ly",
        "plotlyServerURL": "https://plot.ly",
        "showLink": true
       },
       "data": [
        {
         "marker": {
          "color": "rgba(255, 153, 51, 0.6)",
          "line": {
           "color": "rgba(255, 153, 51, 1.0)",
           "width": 1
          }
         },
         "name": "Values",
         "orientation": "v",
         "text": "",
         "type": "bar",
         "x": [
          "A",
          "B",
          "C"
         ],
         "y": [
          32,
          43,
          50
         ]
        }
       ],
       "layout": {
        "legend": {
         "bgcolor": "#F5F6F9",
         "font": {
          "color": "#4D5663"
         }
        },
        "paper_bgcolor": "#F5F6F9",
        "plot_bgcolor": "#F5F6F9",
        "template": {
         "data": {
          "bar": [
           {
            "error_x": {
             "color": "#2a3f5f"
            },
            "error_y": {
             "color": "#2a3f5f"
            },
            "marker": {
             "line": {
              "color": "#E5ECF6",
              "width": 0.5
             }
            },
            "type": "bar"
           }
          ],
          "barpolar": [
           {
            "marker": {
             "line": {
              "color": "#E5ECF6",
              "width": 0.5
             }
            },
            "type": "barpolar"
           }
          ],
          "carpet": [
           {
            "aaxis": {
             "endlinecolor": "#2a3f5f",
             "gridcolor": "white",
             "linecolor": "white",
             "minorgridcolor": "white",
             "startlinecolor": "#2a3f5f"
            },
            "baxis": {
             "endlinecolor": "#2a3f5f",
             "gridcolor": "white",
             "linecolor": "white",
             "minorgridcolor": "white",
             "startlinecolor": "#2a3f5f"
            },
            "type": "carpet"
           }
          ],
          "choropleth": [
           {
            "colorbar": {
             "outlinewidth": 0,
             "ticks": ""
            },
            "type": "choropleth"
           }
          ],
          "contour": [
           {
            "colorbar": {
             "outlinewidth": 0,
             "ticks": ""
            },
            "colorscale": [
             [
              0,
              "#0d0887"
             ],
             [
              0.1111111111111111,
              "#46039f"
             ],
             [
              0.2222222222222222,
              "#7201a8"
             ],
             [
              0.3333333333333333,
              "#9c179e"
             ],
             [
              0.4444444444444444,
              "#bd3786"
             ],
             [
              0.5555555555555556,
              "#d8576b"
             ],
             [
              0.6666666666666666,
              "#ed7953"
             ],
             [
              0.7777777777777778,
              "#fb9f3a"
             ],
             [
              0.8888888888888888,
              "#fdca26"
             ],
             [
              1,
              "#f0f921"
             ]
            ],
            "type": "contour"
           }
          ],
          "contourcarpet": [
           {
            "colorbar": {
             "outlinewidth": 0,
             "ticks": ""
            },
            "type": "contourcarpet"
           }
          ],
          "heatmap": [
           {
            "colorbar": {
             "outlinewidth": 0,
             "ticks": ""
            },
            "colorscale": [
             [
              0,
              "#0d0887"
             ],
             [
              0.1111111111111111,
              "#46039f"
             ],
             [
              0.2222222222222222,
              "#7201a8"
             ],
             [
              0.3333333333333333,
              "#9c179e"
             ],
             [
              0.4444444444444444,
              "#bd3786"
             ],
             [
              0.5555555555555556,
              "#d8576b"
             ],
             [
              0.6666666666666666,
              "#ed7953"
             ],
             [
              0.7777777777777778,
              "#fb9f3a"
             ],
             [
              0.8888888888888888,
              "#fdca26"
             ],
             [
              1,
              "#f0f921"
             ]
            ],
            "type": "heatmap"
           }
          ],
          "heatmapgl": [
           {
            "colorbar": {
             "outlinewidth": 0,
             "ticks": ""
            },
            "colorscale": [
             [
              0,
              "#0d0887"
             ],
             [
              0.1111111111111111,
              "#46039f"
             ],
             [
              0.2222222222222222,
              "#7201a8"
             ],
             [
              0.3333333333333333,
              "#9c179e"
             ],
             [
              0.4444444444444444,
              "#bd3786"
             ],
             [
              0.5555555555555556,
              "#d8576b"
             ],
             [
              0.6666666666666666,
              "#ed7953"
             ],
             [
              0.7777777777777778,
              "#fb9f3a"
             ],
             [
              0.8888888888888888,
              "#fdca26"
             ],
             [
              1,
              "#f0f921"
             ]
            ],
            "type": "heatmapgl"
           }
          ],
          "histogram": [
           {
            "marker": {
             "colorbar": {
              "outlinewidth": 0,
              "ticks": ""
             }
            },
            "type": "histogram"
           }
          ],
          "histogram2d": [
           {
            "colorbar": {
             "outlinewidth": 0,
             "ticks": ""
            },
            "colorscale": [
             [
              0,
              "#0d0887"
             ],
             [
              0.1111111111111111,
              "#46039f"
             ],
             [
              0.2222222222222222,
              "#7201a8"
             ],
             [
              0.3333333333333333,
              "#9c179e"
             ],
             [
              0.4444444444444444,
              "#bd3786"
             ],
             [
              0.5555555555555556,
              "#d8576b"
             ],
             [
              0.6666666666666666,
              "#ed7953"
             ],
             [
              0.7777777777777778,
              "#fb9f3a"
             ],
             [
              0.8888888888888888,
              "#fdca26"
             ],
             [
              1,
              "#f0f921"
             ]
            ],
            "type": "histogram2d"
           }
          ],
          "histogram2dcontour": [
           {
            "colorbar": {
             "outlinewidth": 0,
             "ticks": ""
            },
            "colorscale": [
             [
              0,
              "#0d0887"
             ],
             [
              0.1111111111111111,
              "#46039f"
             ],
             [
              0.2222222222222222,
              "#7201a8"
             ],
             [
              0.3333333333333333,
              "#9c179e"
             ],
             [
              0.4444444444444444,
              "#bd3786"
             ],
             [
              0.5555555555555556,
              "#d8576b"
             ],
             [
              0.6666666666666666,
              "#ed7953"
             ],
             [
              0.7777777777777778,
              "#fb9f3a"
             ],
             [
              0.8888888888888888,
              "#fdca26"
             ],
             [
              1,
              "#f0f921"
             ]
            ],
            "type": "histogram2dcontour"
           }
          ],
          "mesh3d": [
           {
            "colorbar": {
             "outlinewidth": 0,
             "ticks": ""
            },
            "type": "mesh3d"
           }
          ],
          "parcoords": [
           {
            "line": {
             "colorbar": {
              "outlinewidth": 0,
              "ticks": ""
             }
            },
            "type": "parcoords"
           }
          ],
          "pie": [
           {
            "automargin": true,
            "type": "pie"
           }
          ],
          "scatter": [
           {
            "marker": {
             "colorbar": {
              "outlinewidth": 0,
              "ticks": ""
             }
            },
            "type": "scatter"
           }
          ],
          "scatter3d": [
           {
            "line": {
             "colorbar": {
              "outlinewidth": 0,
              "ticks": ""
             }
            },
            "marker": {
             "colorbar": {
              "outlinewidth": 0,
              "ticks": ""
             }
            },
            "type": "scatter3d"
           }
          ],
          "scattercarpet": [
           {
            "marker": {
             "colorbar": {
              "outlinewidth": 0,
              "ticks": ""
             }
            },
            "type": "scattercarpet"
           }
          ],
          "scattergeo": [
           {
            "marker": {
             "colorbar": {
              "outlinewidth": 0,
              "ticks": ""
             }
            },
            "type": "scattergeo"
           }
          ],
          "scattergl": [
           {
            "marker": {
             "colorbar": {
              "outlinewidth": 0,
              "ticks": ""
             }
            },
            "type": "scattergl"
           }
          ],
          "scattermapbox": [
           {
            "marker": {
             "colorbar": {
              "outlinewidth": 0,
              "ticks": ""
             }
            },
            "type": "scattermapbox"
           }
          ],
          "scatterpolar": [
           {
            "marker": {
             "colorbar": {
              "outlinewidth": 0,
              "ticks": ""
             }
            },
            "type": "scatterpolar"
           }
          ],
          "scatterpolargl": [
           {
            "marker": {
             "colorbar": {
              "outlinewidth": 0,
              "ticks": ""
             }
            },
            "type": "scatterpolargl"
           }
          ],
          "scatterternary": [
           {
            "marker": {
             "colorbar": {
              "outlinewidth": 0,
              "ticks": ""
             }
            },
            "type": "scatterternary"
           }
          ],
          "surface": [
           {
            "colorbar": {
             "outlinewidth": 0,
             "ticks": ""
            },
            "colorscale": [
             [
              0,
              "#0d0887"
             ],
             [
              0.1111111111111111,
              "#46039f"
             ],
             [
              0.2222222222222222,
              "#7201a8"
             ],
             [
              0.3333333333333333,
              "#9c179e"
             ],
             [
              0.4444444444444444,
              "#bd3786"
             ],
             [
              0.5555555555555556,
              "#d8576b"
             ],
             [
              0.6666666666666666,
              "#ed7953"
             ],
             [
              0.7777777777777778,
              "#fb9f3a"
             ],
             [
              0.8888888888888888,
              "#fdca26"
             ],
             [
              1,
              "#f0f921"
             ]
            ],
            "type": "surface"
           }
          ],
          "table": [
           {
            "cells": {
             "fill": {
              "color": "#EBF0F8"
             },
             "line": {
              "color": "white"
             }
            },
            "header": {
             "fill": {
              "color": "#C8D4E3"
             },
             "line": {
              "color": "white"
             }
            },
            "type": "table"
           }
          ]
         },
         "layout": {
          "annotationdefaults": {
           "arrowcolor": "#2a3f5f",
           "arrowhead": 0,
           "arrowwidth": 1
          },
          "coloraxis": {
           "colorbar": {
            "outlinewidth": 0,
            "ticks": ""
           }
          },
          "colorscale": {
           "diverging": [
            [
             0,
             "#8e0152"
            ],
            [
             0.1,
             "#c51b7d"
            ],
            [
             0.2,
             "#de77ae"
            ],
            [
             0.3,
             "#f1b6da"
            ],
            [
             0.4,
             "#fde0ef"
            ],
            [
             0.5,
             "#f7f7f7"
            ],
            [
             0.6,
             "#e6f5d0"
            ],
            [
             0.7,
             "#b8e186"
            ],
            [
             0.8,
             "#7fbc41"
            ],
            [
             0.9,
             "#4d9221"
            ],
            [
             1,
             "#276419"
            ]
           ],
           "sequential": [
            [
             0,
             "#0d0887"
            ],
            [
             0.1111111111111111,
             "#46039f"
            ],
            [
             0.2222222222222222,
             "#7201a8"
            ],
            [
             0.3333333333333333,
             "#9c179e"
            ],
            [
             0.4444444444444444,
             "#bd3786"
            ],
            [
             0.5555555555555556,
             "#d8576b"
            ],
            [
             0.6666666666666666,
             "#ed7953"
            ],
            [
             0.7777777777777778,
             "#fb9f3a"
            ],
            [
             0.8888888888888888,
             "#fdca26"
            ],
            [
             1,
             "#f0f921"
            ]
           ],
           "sequentialminus": [
            [
             0,
             "#0d0887"
            ],
            [
             0.1111111111111111,
             "#46039f"
            ],
            [
             0.2222222222222222,
             "#7201a8"
            ],
            [
             0.3333333333333333,
             "#9c179e"
            ],
            [
             0.4444444444444444,
             "#bd3786"
            ],
            [
             0.5555555555555556,
             "#d8576b"
            ],
            [
             0.6666666666666666,
             "#ed7953"
            ],
            [
             0.7777777777777778,
             "#fb9f3a"
            ],
            [
             0.8888888888888888,
             "#fdca26"
            ],
            [
             1,
             "#f0f921"
            ]
           ]
          },
          "colorway": [
           "#636efa",
           "#EF553B",
           "#00cc96",
           "#ab63fa",
           "#FFA15A",
           "#19d3f3",
           "#FF6692",
           "#B6E880",
           "#FF97FF",
           "#FECB52"
          ],
          "font": {
           "color": "#2a3f5f"
          },
          "geo": {
           "bgcolor": "white",
           "lakecolor": "white",
           "landcolor": "#E5ECF6",
           "showlakes": true,
           "showland": true,
           "subunitcolor": "white"
          },
          "hoverlabel": {
           "align": "left"
          },
          "hovermode": "closest",
          "mapbox": {
           "style": "light"
          },
          "paper_bgcolor": "white",
          "plot_bgcolor": "#E5ECF6",
          "polar": {
           "angularaxis": {
            "gridcolor": "white",
            "linecolor": "white",
            "ticks": ""
           },
           "bgcolor": "#E5ECF6",
           "radialaxis": {
            "gridcolor": "white",
            "linecolor": "white",
            "ticks": ""
           }
          },
          "scene": {
           "xaxis": {
            "backgroundcolor": "#E5ECF6",
            "gridcolor": "white",
            "gridwidth": 2,
            "linecolor": "white",
            "showbackground": true,
            "ticks": "",
            "zerolinecolor": "white"
           },
           "yaxis": {
            "backgroundcolor": "#E5ECF6",
            "gridcolor": "white",
            "gridwidth": 2,
            "linecolor": "white",
            "showbackground": true,
            "ticks": "",
            "zerolinecolor": "white"
           },
           "zaxis": {
            "backgroundcolor": "#E5ECF6",
            "gridcolor": "white",
            "gridwidth": 2,
            "linecolor": "white",
            "showbackground": true,
            "ticks": "",
            "zerolinecolor": "white"
           }
          },
          "shapedefaults": {
           "line": {
            "color": "#2a3f5f"
           }
          },
          "ternary": {
           "aaxis": {
            "gridcolor": "white",
            "linecolor": "white",
            "ticks": ""
           },
           "baxis": {
            "gridcolor": "white",
            "linecolor": "white",
            "ticks": ""
           },
           "bgcolor": "#E5ECF6",
           "caxis": {
            "gridcolor": "white",
            "linecolor": "white",
            "ticks": ""
           }
          },
          "title": {
           "x": 0.05
          },
          "xaxis": {
           "automargin": true,
           "gridcolor": "white",
           "linecolor": "white",
           "ticks": "",
           "title": {
            "standoff": 15
           },
           "zerolinecolor": "white",
           "zerolinewidth": 2
          },
          "yaxis": {
           "automargin": true,
           "gridcolor": "white",
           "linecolor": "white",
           "ticks": "",
           "title": {
            "standoff": 15
           },
           "zerolinecolor": "white",
           "zerolinewidth": 2
          }
         }
        },
        "title": {
         "font": {
          "color": "#4D5663"
         }
        },
        "xaxis": {
         "gridcolor": "#E1E5ED",
         "showgrid": true,
         "tickfont": {
          "color": "#4D5663"
         },
         "title": {
          "font": {
           "color": "#4D5663"
          },
          "text": ""
         },
         "zerolinecolor": "#E1E5ED"
        },
        "yaxis": {
         "gridcolor": "#E1E5ED",
         "showgrid": true,
         "tickfont": {
          "color": "#4D5663"
         },
         "title": {
          "font": {
           "color": "#4D5663"
          },
          "text": ""
         },
         "zerolinecolor": "#E1E5ED"
        }
       }
      },
      "text/html": [
       "<div>\n",
       "        \n",
       "        \n",
       "            <div id=\"e992b3b7-a4b0-4907-ac95-f5dc37886e60\" class=\"plotly-graph-div\" style=\"height:525px; width:100%;\"></div>\n",
       "            <script type=\"text/javascript\">\n",
       "                require([\"plotly\"], function(Plotly) {\n",
       "                    window.PLOTLYENV=window.PLOTLYENV || {};\n",
       "                    window.PLOTLYENV.BASE_URL='https://plot.ly';\n",
       "                    \n",
       "                if (document.getElementById(\"e992b3b7-a4b0-4907-ac95-f5dc37886e60\")) {\n",
       "                    Plotly.newPlot(\n",
       "                        'e992b3b7-a4b0-4907-ac95-f5dc37886e60',\n",
       "                        [{\"marker\": {\"color\": \"rgba(255, 153, 51, 0.6)\", \"line\": {\"color\": \"rgba(255, 153, 51, 1.0)\", \"width\": 1}}, \"name\": \"Values\", \"orientation\": \"v\", \"text\": \"\", \"type\": \"bar\", \"x\": [\"A\", \"B\", \"C\"], \"y\": [32, 43, 50]}],\n",
       "                        {\"legend\": {\"bgcolor\": \"#F5F6F9\", \"font\": {\"color\": \"#4D5663\"}}, \"paper_bgcolor\": \"#F5F6F9\", \"plot_bgcolor\": \"#F5F6F9\", \"template\": {\"data\": {\"bar\": [{\"error_x\": {\"color\": \"#2a3f5f\"}, \"error_y\": {\"color\": \"#2a3f5f\"}, \"marker\": {\"line\": {\"color\": \"#E5ECF6\", \"width\": 0.5}}, \"type\": \"bar\"}], \"barpolar\": [{\"marker\": {\"line\": {\"color\": \"#E5ECF6\", \"width\": 0.5}}, \"type\": \"barpolar\"}], \"carpet\": [{\"aaxis\": {\"endlinecolor\": \"#2a3f5f\", \"gridcolor\": \"white\", \"linecolor\": \"white\", \"minorgridcolor\": \"white\", \"startlinecolor\": \"#2a3f5f\"}, \"baxis\": {\"endlinecolor\": \"#2a3f5f\", \"gridcolor\": \"white\", \"linecolor\": \"white\", \"minorgridcolor\": \"white\", \"startlinecolor\": \"#2a3f5f\"}, \"type\": \"carpet\"}], \"choropleth\": [{\"colorbar\": {\"outlinewidth\": 0, \"ticks\": \"\"}, \"type\": \"choropleth\"}], \"contour\": [{\"colorbar\": {\"outlinewidth\": 0, \"ticks\": \"\"}, \"colorscale\": [[0.0, \"#0d0887\"], [0.1111111111111111, \"#46039f\"], [0.2222222222222222, \"#7201a8\"], [0.3333333333333333, \"#9c179e\"], [0.4444444444444444, \"#bd3786\"], [0.5555555555555556, \"#d8576b\"], [0.6666666666666666, \"#ed7953\"], [0.7777777777777778, \"#fb9f3a\"], [0.8888888888888888, \"#fdca26\"], [1.0, \"#f0f921\"]], \"type\": \"contour\"}], \"contourcarpet\": [{\"colorbar\": {\"outlinewidth\": 0, \"ticks\": \"\"}, \"type\": \"contourcarpet\"}], \"heatmap\": [{\"colorbar\": {\"outlinewidth\": 0, \"ticks\": \"\"}, \"colorscale\": [[0.0, \"#0d0887\"], [0.1111111111111111, \"#46039f\"], [0.2222222222222222, \"#7201a8\"], [0.3333333333333333, \"#9c179e\"], [0.4444444444444444, \"#bd3786\"], [0.5555555555555556, \"#d8576b\"], [0.6666666666666666, \"#ed7953\"], [0.7777777777777778, \"#fb9f3a\"], [0.8888888888888888, \"#fdca26\"], [1.0, \"#f0f921\"]], \"type\": \"heatmap\"}], \"heatmapgl\": [{\"colorbar\": {\"outlinewidth\": 0, \"ticks\": \"\"}, \"colorscale\": [[0.0, \"#0d0887\"], [0.1111111111111111, \"#46039f\"], [0.2222222222222222, \"#7201a8\"], [0.3333333333333333, \"#9c179e\"], [0.4444444444444444, \"#bd3786\"], [0.5555555555555556, \"#d8576b\"], [0.6666666666666666, \"#ed7953\"], [0.7777777777777778, \"#fb9f3a\"], [0.8888888888888888, \"#fdca26\"], [1.0, \"#f0f921\"]], \"type\": \"heatmapgl\"}], \"histogram\": [{\"marker\": {\"colorbar\": {\"outlinewidth\": 0, \"ticks\": \"\"}}, \"type\": \"histogram\"}], \"histogram2d\": [{\"colorbar\": {\"outlinewidth\": 0, \"ticks\": \"\"}, \"colorscale\": [[0.0, \"#0d0887\"], [0.1111111111111111, \"#46039f\"], [0.2222222222222222, \"#7201a8\"], [0.3333333333333333, \"#9c179e\"], [0.4444444444444444, \"#bd3786\"], [0.5555555555555556, \"#d8576b\"], [0.6666666666666666, \"#ed7953\"], [0.7777777777777778, \"#fb9f3a\"], [0.8888888888888888, \"#fdca26\"], [1.0, \"#f0f921\"]], \"type\": \"histogram2d\"}], \"histogram2dcontour\": [{\"colorbar\": {\"outlinewidth\": 0, \"ticks\": \"\"}, \"colorscale\": [[0.0, \"#0d0887\"], [0.1111111111111111, \"#46039f\"], [0.2222222222222222, \"#7201a8\"], [0.3333333333333333, \"#9c179e\"], [0.4444444444444444, \"#bd3786\"], [0.5555555555555556, \"#d8576b\"], [0.6666666666666666, \"#ed7953\"], [0.7777777777777778, \"#fb9f3a\"], [0.8888888888888888, \"#fdca26\"], [1.0, \"#f0f921\"]], \"type\": \"histogram2dcontour\"}], \"mesh3d\": [{\"colorbar\": {\"outlinewidth\": 0, \"ticks\": \"\"}, \"type\": \"mesh3d\"}], \"parcoords\": [{\"line\": {\"colorbar\": {\"outlinewidth\": 0, \"ticks\": \"\"}}, \"type\": \"parcoords\"}], \"pie\": [{\"automargin\": true, \"type\": \"pie\"}], \"scatter\": [{\"marker\": {\"colorbar\": {\"outlinewidth\": 0, \"ticks\": \"\"}}, \"type\": \"scatter\"}], \"scatter3d\": [{\"line\": {\"colorbar\": {\"outlinewidth\": 0, \"ticks\": \"\"}}, \"marker\": {\"colorbar\": {\"outlinewidth\": 0, \"ticks\": \"\"}}, \"type\": \"scatter3d\"}], \"scattercarpet\": [{\"marker\": {\"colorbar\": {\"outlinewidth\": 0, \"ticks\": \"\"}}, \"type\": \"scattercarpet\"}], \"scattergeo\": [{\"marker\": {\"colorbar\": {\"outlinewidth\": 0, \"ticks\": \"\"}}, \"type\": \"scattergeo\"}], \"scattergl\": [{\"marker\": {\"colorbar\": {\"outlinewidth\": 0, \"ticks\": \"\"}}, \"type\": \"scattergl\"}], \"scattermapbox\": [{\"marker\": {\"colorbar\": {\"outlinewidth\": 0, \"ticks\": \"\"}}, \"type\": \"scattermapbox\"}], \"scatterpolar\": [{\"marker\": {\"colorbar\": {\"outlinewidth\": 0, \"ticks\": \"\"}}, \"type\": \"scatterpolar\"}], \"scatterpolargl\": [{\"marker\": {\"colorbar\": {\"outlinewidth\": 0, \"ticks\": \"\"}}, \"type\": \"scatterpolargl\"}], \"scatterternary\": [{\"marker\": {\"colorbar\": {\"outlinewidth\": 0, \"ticks\": \"\"}}, \"type\": \"scatterternary\"}], \"surface\": [{\"colorbar\": {\"outlinewidth\": 0, \"ticks\": \"\"}, \"colorscale\": [[0.0, \"#0d0887\"], [0.1111111111111111, \"#46039f\"], [0.2222222222222222, \"#7201a8\"], [0.3333333333333333, \"#9c179e\"], [0.4444444444444444, \"#bd3786\"], [0.5555555555555556, \"#d8576b\"], [0.6666666666666666, \"#ed7953\"], [0.7777777777777778, \"#fb9f3a\"], [0.8888888888888888, \"#fdca26\"], [1.0, \"#f0f921\"]], \"type\": \"surface\"}], \"table\": [{\"cells\": {\"fill\": {\"color\": \"#EBF0F8\"}, \"line\": {\"color\": \"white\"}}, \"header\": {\"fill\": {\"color\": \"#C8D4E3\"}, \"line\": {\"color\": \"white\"}}, \"type\": \"table\"}]}, \"layout\": {\"annotationdefaults\": {\"arrowcolor\": \"#2a3f5f\", \"arrowhead\": 0, \"arrowwidth\": 1}, \"coloraxis\": {\"colorbar\": {\"outlinewidth\": 0, \"ticks\": \"\"}}, \"colorscale\": {\"diverging\": [[0, \"#8e0152\"], [0.1, \"#c51b7d\"], [0.2, \"#de77ae\"], [0.3, \"#f1b6da\"], [0.4, \"#fde0ef\"], [0.5, \"#f7f7f7\"], [0.6, \"#e6f5d0\"], [0.7, \"#b8e186\"], [0.8, \"#7fbc41\"], [0.9, \"#4d9221\"], [1, \"#276419\"]], \"sequential\": [[0.0, \"#0d0887\"], [0.1111111111111111, \"#46039f\"], [0.2222222222222222, \"#7201a8\"], [0.3333333333333333, \"#9c179e\"], [0.4444444444444444, \"#bd3786\"], [0.5555555555555556, \"#d8576b\"], [0.6666666666666666, \"#ed7953\"], [0.7777777777777778, \"#fb9f3a\"], [0.8888888888888888, \"#fdca26\"], [1.0, \"#f0f921\"]], \"sequentialminus\": [[0.0, \"#0d0887\"], [0.1111111111111111, \"#46039f\"], [0.2222222222222222, \"#7201a8\"], [0.3333333333333333, \"#9c179e\"], [0.4444444444444444, \"#bd3786\"], [0.5555555555555556, \"#d8576b\"], [0.6666666666666666, \"#ed7953\"], [0.7777777777777778, \"#fb9f3a\"], [0.8888888888888888, \"#fdca26\"], [1.0, \"#f0f921\"]]}, \"colorway\": [\"#636efa\", \"#EF553B\", \"#00cc96\", \"#ab63fa\", \"#FFA15A\", \"#19d3f3\", \"#FF6692\", \"#B6E880\", \"#FF97FF\", \"#FECB52\"], \"font\": {\"color\": \"#2a3f5f\"}, \"geo\": {\"bgcolor\": \"white\", \"lakecolor\": \"white\", \"landcolor\": \"#E5ECF6\", \"showlakes\": true, \"showland\": true, \"subunitcolor\": \"white\"}, \"hoverlabel\": {\"align\": \"left\"}, \"hovermode\": \"closest\", \"mapbox\": {\"style\": \"light\"}, \"paper_bgcolor\": \"white\", \"plot_bgcolor\": \"#E5ECF6\", \"polar\": {\"angularaxis\": {\"gridcolor\": \"white\", \"linecolor\": \"white\", \"ticks\": \"\"}, \"bgcolor\": \"#E5ECF6\", \"radialaxis\": {\"gridcolor\": \"white\", \"linecolor\": \"white\", \"ticks\": \"\"}}, \"scene\": {\"xaxis\": {\"backgroundcolor\": \"#E5ECF6\", \"gridcolor\": \"white\", \"gridwidth\": 2, \"linecolor\": \"white\", \"showbackground\": true, \"ticks\": \"\", \"zerolinecolor\": \"white\"}, \"yaxis\": {\"backgroundcolor\": \"#E5ECF6\", \"gridcolor\": \"white\", \"gridwidth\": 2, \"linecolor\": \"white\", \"showbackground\": true, \"ticks\": \"\", \"zerolinecolor\": \"white\"}, \"zaxis\": {\"backgroundcolor\": \"#E5ECF6\", \"gridcolor\": \"white\", \"gridwidth\": 2, \"linecolor\": \"white\", \"showbackground\": true, \"ticks\": \"\", \"zerolinecolor\": \"white\"}}, \"shapedefaults\": {\"line\": {\"color\": \"#2a3f5f\"}}, \"ternary\": {\"aaxis\": {\"gridcolor\": \"white\", \"linecolor\": \"white\", \"ticks\": \"\"}, \"baxis\": {\"gridcolor\": \"white\", \"linecolor\": \"white\", \"ticks\": \"\"}, \"bgcolor\": \"#E5ECF6\", \"caxis\": {\"gridcolor\": \"white\", \"linecolor\": \"white\", \"ticks\": \"\"}}, \"title\": {\"x\": 0.05}, \"xaxis\": {\"automargin\": true, \"gridcolor\": \"white\", \"linecolor\": \"white\", \"ticks\": \"\", \"title\": {\"standoff\": 15}, \"zerolinecolor\": \"white\", \"zerolinewidth\": 2}, \"yaxis\": {\"automargin\": true, \"gridcolor\": \"white\", \"linecolor\": \"white\", \"ticks\": \"\", \"title\": {\"standoff\": 15}, \"zerolinecolor\": \"white\", \"zerolinewidth\": 2}}}, \"title\": {\"font\": {\"color\": \"#4D5663\"}}, \"xaxis\": {\"gridcolor\": \"#E1E5ED\", \"showgrid\": true, \"tickfont\": {\"color\": \"#4D5663\"}, \"title\": {\"font\": {\"color\": \"#4D5663\"}, \"text\": \"\"}, \"zerolinecolor\": \"#E1E5ED\"}, \"yaxis\": {\"gridcolor\": \"#E1E5ED\", \"showgrid\": true, \"tickfont\": {\"color\": \"#4D5663\"}, \"title\": {\"font\": {\"color\": \"#4D5663\"}, \"text\": \"\"}, \"zerolinecolor\": \"#E1E5ED\"}},\n",
       "                        {\"showLink\": true, \"linkText\": \"Export to plot.ly\", \"plotlyServerURL\": \"https://plot.ly\", \"responsive\": true}\n",
       "                    ).then(function(){\n",
       "                            \n",
       "var gd = document.getElementById('e992b3b7-a4b0-4907-ac95-f5dc37886e60');\n",
       "var x = new MutationObserver(function (mutations, observer) {{\n",
       "        var display = window.getComputedStyle(gd).display;\n",
       "        if (!display || display === 'none') {{\n",
       "            console.log([gd, 'removed!']);\n",
       "            Plotly.purge(gd);\n",
       "            observer.disconnect();\n",
       "        }}\n",
       "}});\n",
       "\n",
       "// Listen for the removal of the full notebook cells\n",
       "var notebookContainer = gd.closest('#notebook-container');\n",
       "if (notebookContainer) {{\n",
       "    x.observe(notebookContainer, {childList: true});\n",
       "}}\n",
       "\n",
       "// Listen for the clearing of the current output cell\n",
       "var outputEl = gd.closest('.output');\n",
       "if (outputEl) {{\n",
       "    x.observe(outputEl, {childList: true});\n",
       "}}\n",
       "\n",
       "                        })\n",
       "                };\n",
       "                });\n",
       "            </script>\n",
       "        </div>"
      ]
     },
     "metadata": {},
     "output_type": "display_data"
    }
   ],
   "source": [
    "df2.iplot(kind='bar',x='Category',y='Values')"
   ]
  },
  {
   "cell_type": "code",
   "execution_count": 19,
   "metadata": {},
   "outputs": [
    {
     "data": {
      "application/vnd.plotly.v1+json": {
       "config": {
        "linkText": "Export to plot.ly",
        "plotlyServerURL": "https://plot.ly",
        "showLink": true
       },
       "data": [
        {
         "marker": {
          "color": "rgba(255, 153, 51, 0.6)",
          "line": {
           "color": "rgba(255, 153, 51, 1.0)",
           "width": 1
          }
         },
         "name": "None",
         "orientation": "v",
         "text": "",
         "type": "bar",
         "x": [
          "A",
          "B",
          "C",
          "D"
         ],
         "y": [
          100,
          100,
          100,
          100
         ]
        }
       ],
       "layout": {
        "legend": {
         "bgcolor": "#F5F6F9",
         "font": {
          "color": "#4D5663"
         }
        },
        "paper_bgcolor": "#F5F6F9",
        "plot_bgcolor": "#F5F6F9",
        "template": {
         "data": {
          "bar": [
           {
            "error_x": {
             "color": "#2a3f5f"
            },
            "error_y": {
             "color": "#2a3f5f"
            },
            "marker": {
             "line": {
              "color": "#E5ECF6",
              "width": 0.5
             }
            },
            "type": "bar"
           }
          ],
          "barpolar": [
           {
            "marker": {
             "line": {
              "color": "#E5ECF6",
              "width": 0.5
             }
            },
            "type": "barpolar"
           }
          ],
          "carpet": [
           {
            "aaxis": {
             "endlinecolor": "#2a3f5f",
             "gridcolor": "white",
             "linecolor": "white",
             "minorgridcolor": "white",
             "startlinecolor": "#2a3f5f"
            },
            "baxis": {
             "endlinecolor": "#2a3f5f",
             "gridcolor": "white",
             "linecolor": "white",
             "minorgridcolor": "white",
             "startlinecolor": "#2a3f5f"
            },
            "type": "carpet"
           }
          ],
          "choropleth": [
           {
            "colorbar": {
             "outlinewidth": 0,
             "ticks": ""
            },
            "type": "choropleth"
           }
          ],
          "contour": [
           {
            "colorbar": {
             "outlinewidth": 0,
             "ticks": ""
            },
            "colorscale": [
             [
              0,
              "#0d0887"
             ],
             [
              0.1111111111111111,
              "#46039f"
             ],
             [
              0.2222222222222222,
              "#7201a8"
             ],
             [
              0.3333333333333333,
              "#9c179e"
             ],
             [
              0.4444444444444444,
              "#bd3786"
             ],
             [
              0.5555555555555556,
              "#d8576b"
             ],
             [
              0.6666666666666666,
              "#ed7953"
             ],
             [
              0.7777777777777778,
              "#fb9f3a"
             ],
             [
              0.8888888888888888,
              "#fdca26"
             ],
             [
              1,
              "#f0f921"
             ]
            ],
            "type": "contour"
           }
          ],
          "contourcarpet": [
           {
            "colorbar": {
             "outlinewidth": 0,
             "ticks": ""
            },
            "type": "contourcarpet"
           }
          ],
          "heatmap": [
           {
            "colorbar": {
             "outlinewidth": 0,
             "ticks": ""
            },
            "colorscale": [
             [
              0,
              "#0d0887"
             ],
             [
              0.1111111111111111,
              "#46039f"
             ],
             [
              0.2222222222222222,
              "#7201a8"
             ],
             [
              0.3333333333333333,
              "#9c179e"
             ],
             [
              0.4444444444444444,
              "#bd3786"
             ],
             [
              0.5555555555555556,
              "#d8576b"
             ],
             [
              0.6666666666666666,
              "#ed7953"
             ],
             [
              0.7777777777777778,
              "#fb9f3a"
             ],
             [
              0.8888888888888888,
              "#fdca26"
             ],
             [
              1,
              "#f0f921"
             ]
            ],
            "type": "heatmap"
           }
          ],
          "heatmapgl": [
           {
            "colorbar": {
             "outlinewidth": 0,
             "ticks": ""
            },
            "colorscale": [
             [
              0,
              "#0d0887"
             ],
             [
              0.1111111111111111,
              "#46039f"
             ],
             [
              0.2222222222222222,
              "#7201a8"
             ],
             [
              0.3333333333333333,
              "#9c179e"
             ],
             [
              0.4444444444444444,
              "#bd3786"
             ],
             [
              0.5555555555555556,
              "#d8576b"
             ],
             [
              0.6666666666666666,
              "#ed7953"
             ],
             [
              0.7777777777777778,
              "#fb9f3a"
             ],
             [
              0.8888888888888888,
              "#fdca26"
             ],
             [
              1,
              "#f0f921"
             ]
            ],
            "type": "heatmapgl"
           }
          ],
          "histogram": [
           {
            "marker": {
             "colorbar": {
              "outlinewidth": 0,
              "ticks": ""
             }
            },
            "type": "histogram"
           }
          ],
          "histogram2d": [
           {
            "colorbar": {
             "outlinewidth": 0,
             "ticks": ""
            },
            "colorscale": [
             [
              0,
              "#0d0887"
             ],
             [
              0.1111111111111111,
              "#46039f"
             ],
             [
              0.2222222222222222,
              "#7201a8"
             ],
             [
              0.3333333333333333,
              "#9c179e"
             ],
             [
              0.4444444444444444,
              "#bd3786"
             ],
             [
              0.5555555555555556,
              "#d8576b"
             ],
             [
              0.6666666666666666,
              "#ed7953"
             ],
             [
              0.7777777777777778,
              "#fb9f3a"
             ],
             [
              0.8888888888888888,
              "#fdca26"
             ],
             [
              1,
              "#f0f921"
             ]
            ],
            "type": "histogram2d"
           }
          ],
          "histogram2dcontour": [
           {
            "colorbar": {
             "outlinewidth": 0,
             "ticks": ""
            },
            "colorscale": [
             [
              0,
              "#0d0887"
             ],
             [
              0.1111111111111111,
              "#46039f"
             ],
             [
              0.2222222222222222,
              "#7201a8"
             ],
             [
              0.3333333333333333,
              "#9c179e"
             ],
             [
              0.4444444444444444,
              "#bd3786"
             ],
             [
              0.5555555555555556,
              "#d8576b"
             ],
             [
              0.6666666666666666,
              "#ed7953"
             ],
             [
              0.7777777777777778,
              "#fb9f3a"
             ],
             [
              0.8888888888888888,
              "#fdca26"
             ],
             [
              1,
              "#f0f921"
             ]
            ],
            "type": "histogram2dcontour"
           }
          ],
          "mesh3d": [
           {
            "colorbar": {
             "outlinewidth": 0,
             "ticks": ""
            },
            "type": "mesh3d"
           }
          ],
          "parcoords": [
           {
            "line": {
             "colorbar": {
              "outlinewidth": 0,
              "ticks": ""
             }
            },
            "type": "parcoords"
           }
          ],
          "pie": [
           {
            "automargin": true,
            "type": "pie"
           }
          ],
          "scatter": [
           {
            "marker": {
             "colorbar": {
              "outlinewidth": 0,
              "ticks": ""
             }
            },
            "type": "scatter"
           }
          ],
          "scatter3d": [
           {
            "line": {
             "colorbar": {
              "outlinewidth": 0,
              "ticks": ""
             }
            },
            "marker": {
             "colorbar": {
              "outlinewidth": 0,
              "ticks": ""
             }
            },
            "type": "scatter3d"
           }
          ],
          "scattercarpet": [
           {
            "marker": {
             "colorbar": {
              "outlinewidth": 0,
              "ticks": ""
             }
            },
            "type": "scattercarpet"
           }
          ],
          "scattergeo": [
           {
            "marker": {
             "colorbar": {
              "outlinewidth": 0,
              "ticks": ""
             }
            },
            "type": "scattergeo"
           }
          ],
          "scattergl": [
           {
            "marker": {
             "colorbar": {
              "outlinewidth": 0,
              "ticks": ""
             }
            },
            "type": "scattergl"
           }
          ],
          "scattermapbox": [
           {
            "marker": {
             "colorbar": {
              "outlinewidth": 0,
              "ticks": ""
             }
            },
            "type": "scattermapbox"
           }
          ],
          "scatterpolar": [
           {
            "marker": {
             "colorbar": {
              "outlinewidth": 0,
              "ticks": ""
             }
            },
            "type": "scatterpolar"
           }
          ],
          "scatterpolargl": [
           {
            "marker": {
             "colorbar": {
              "outlinewidth": 0,
              "ticks": ""
             }
            },
            "type": "scatterpolargl"
           }
          ],
          "scatterternary": [
           {
            "marker": {
             "colorbar": {
              "outlinewidth": 0,
              "ticks": ""
             }
            },
            "type": "scatterternary"
           }
          ],
          "surface": [
           {
            "colorbar": {
             "outlinewidth": 0,
             "ticks": ""
            },
            "colorscale": [
             [
              0,
              "#0d0887"
             ],
             [
              0.1111111111111111,
              "#46039f"
             ],
             [
              0.2222222222222222,
              "#7201a8"
             ],
             [
              0.3333333333333333,
              "#9c179e"
             ],
             [
              0.4444444444444444,
              "#bd3786"
             ],
             [
              0.5555555555555556,
              "#d8576b"
             ],
             [
              0.6666666666666666,
              "#ed7953"
             ],
             [
              0.7777777777777778,
              "#fb9f3a"
             ],
             [
              0.8888888888888888,
              "#fdca26"
             ],
             [
              1,
              "#f0f921"
             ]
            ],
            "type": "surface"
           }
          ],
          "table": [
           {
            "cells": {
             "fill": {
              "color": "#EBF0F8"
             },
             "line": {
              "color": "white"
             }
            },
            "header": {
             "fill": {
              "color": "#C8D4E3"
             },
             "line": {
              "color": "white"
             }
            },
            "type": "table"
           }
          ]
         },
         "layout": {
          "annotationdefaults": {
           "arrowcolor": "#2a3f5f",
           "arrowhead": 0,
           "arrowwidth": 1
          },
          "coloraxis": {
           "colorbar": {
            "outlinewidth": 0,
            "ticks": ""
           }
          },
          "colorscale": {
           "diverging": [
            [
             0,
             "#8e0152"
            ],
            [
             0.1,
             "#c51b7d"
            ],
            [
             0.2,
             "#de77ae"
            ],
            [
             0.3,
             "#f1b6da"
            ],
            [
             0.4,
             "#fde0ef"
            ],
            [
             0.5,
             "#f7f7f7"
            ],
            [
             0.6,
             "#e6f5d0"
            ],
            [
             0.7,
             "#b8e186"
            ],
            [
             0.8,
             "#7fbc41"
            ],
            [
             0.9,
             "#4d9221"
            ],
            [
             1,
             "#276419"
            ]
           ],
           "sequential": [
            [
             0,
             "#0d0887"
            ],
            [
             0.1111111111111111,
             "#46039f"
            ],
            [
             0.2222222222222222,
             "#7201a8"
            ],
            [
             0.3333333333333333,
             "#9c179e"
            ],
            [
             0.4444444444444444,
             "#bd3786"
            ],
            [
             0.5555555555555556,
             "#d8576b"
            ],
            [
             0.6666666666666666,
             "#ed7953"
            ],
            [
             0.7777777777777778,
             "#fb9f3a"
            ],
            [
             0.8888888888888888,
             "#fdca26"
            ],
            [
             1,
             "#f0f921"
            ]
           ],
           "sequentialminus": [
            [
             0,
             "#0d0887"
            ],
            [
             0.1111111111111111,
             "#46039f"
            ],
            [
             0.2222222222222222,
             "#7201a8"
            ],
            [
             0.3333333333333333,
             "#9c179e"
            ],
            [
             0.4444444444444444,
             "#bd3786"
            ],
            [
             0.5555555555555556,
             "#d8576b"
            ],
            [
             0.6666666666666666,
             "#ed7953"
            ],
            [
             0.7777777777777778,
             "#fb9f3a"
            ],
            [
             0.8888888888888888,
             "#fdca26"
            ],
            [
             1,
             "#f0f921"
            ]
           ]
          },
          "colorway": [
           "#636efa",
           "#EF553B",
           "#00cc96",
           "#ab63fa",
           "#FFA15A",
           "#19d3f3",
           "#FF6692",
           "#B6E880",
           "#FF97FF",
           "#FECB52"
          ],
          "font": {
           "color": "#2a3f5f"
          },
          "geo": {
           "bgcolor": "white",
           "lakecolor": "white",
           "landcolor": "#E5ECF6",
           "showlakes": true,
           "showland": true,
           "subunitcolor": "white"
          },
          "hoverlabel": {
           "align": "left"
          },
          "hovermode": "closest",
          "mapbox": {
           "style": "light"
          },
          "paper_bgcolor": "white",
          "plot_bgcolor": "#E5ECF6",
          "polar": {
           "angularaxis": {
            "gridcolor": "white",
            "linecolor": "white",
            "ticks": ""
           },
           "bgcolor": "#E5ECF6",
           "radialaxis": {
            "gridcolor": "white",
            "linecolor": "white",
            "ticks": ""
           }
          },
          "scene": {
           "xaxis": {
            "backgroundcolor": "#E5ECF6",
            "gridcolor": "white",
            "gridwidth": 2,
            "linecolor": "white",
            "showbackground": true,
            "ticks": "",
            "zerolinecolor": "white"
           },
           "yaxis": {
            "backgroundcolor": "#E5ECF6",
            "gridcolor": "white",
            "gridwidth": 2,
            "linecolor": "white",
            "showbackground": true,
            "ticks": "",
            "zerolinecolor": "white"
           },
           "zaxis": {
            "backgroundcolor": "#E5ECF6",
            "gridcolor": "white",
            "gridwidth": 2,
            "linecolor": "white",
            "showbackground": true,
            "ticks": "",
            "zerolinecolor": "white"
           }
          },
          "shapedefaults": {
           "line": {
            "color": "#2a3f5f"
           }
          },
          "ternary": {
           "aaxis": {
            "gridcolor": "white",
            "linecolor": "white",
            "ticks": ""
           },
           "baxis": {
            "gridcolor": "white",
            "linecolor": "white",
            "ticks": ""
           },
           "bgcolor": "#E5ECF6",
           "caxis": {
            "gridcolor": "white",
            "linecolor": "white",
            "ticks": ""
           }
          },
          "title": {
           "x": 0.05
          },
          "xaxis": {
           "automargin": true,
           "gridcolor": "white",
           "linecolor": "white",
           "ticks": "",
           "title": {
            "standoff": 15
           },
           "zerolinecolor": "white",
           "zerolinewidth": 2
          },
          "yaxis": {
           "automargin": true,
           "gridcolor": "white",
           "linecolor": "white",
           "ticks": "",
           "title": {
            "standoff": 15
           },
           "zerolinecolor": "white",
           "zerolinewidth": 2
          }
         }
        },
        "title": {
         "font": {
          "color": "#4D5663"
         }
        },
        "xaxis": {
         "gridcolor": "#E1E5ED",
         "showgrid": true,
         "tickfont": {
          "color": "#4D5663"
         },
         "title": {
          "font": {
           "color": "#4D5663"
          },
          "text": ""
         },
         "zerolinecolor": "#E1E5ED"
        },
        "yaxis": {
         "gridcolor": "#E1E5ED",
         "showgrid": true,
         "tickfont": {
          "color": "#4D5663"
         },
         "title": {
          "font": {
           "color": "#4D5663"
          },
          "text": ""
         },
         "zerolinecolor": "#E1E5ED"
        }
       }
      },
      "text/html": [
       "<div>\n",
       "        \n",
       "        \n",
       "            <div id=\"1967ba2a-f7d4-4057-97f7-47f2aea1ca91\" class=\"plotly-graph-div\" style=\"height:525px; width:100%;\"></div>\n",
       "            <script type=\"text/javascript\">\n",
       "                require([\"plotly\"], function(Plotly) {\n",
       "                    window.PLOTLYENV=window.PLOTLYENV || {};\n",
       "                    window.PLOTLYENV.BASE_URL='https://plot.ly';\n",
       "                    \n",
       "                if (document.getElementById(\"1967ba2a-f7d4-4057-97f7-47f2aea1ca91\")) {\n",
       "                    Plotly.newPlot(\n",
       "                        '1967ba2a-f7d4-4057-97f7-47f2aea1ca91',\n",
       "                        [{\"marker\": {\"color\": \"rgba(255, 153, 51, 0.6)\", \"line\": {\"color\": \"rgba(255, 153, 51, 1.0)\", \"width\": 1}}, \"name\": \"None\", \"orientation\": \"v\", \"text\": \"\", \"type\": \"bar\", \"x\": [\"A\", \"B\", \"C\", \"D\"], \"y\": [100, 100, 100, 100]}],\n",
       "                        {\"legend\": {\"bgcolor\": \"#F5F6F9\", \"font\": {\"color\": \"#4D5663\"}}, \"paper_bgcolor\": \"#F5F6F9\", \"plot_bgcolor\": \"#F5F6F9\", \"template\": {\"data\": {\"bar\": [{\"error_x\": {\"color\": \"#2a3f5f\"}, \"error_y\": {\"color\": \"#2a3f5f\"}, \"marker\": {\"line\": {\"color\": \"#E5ECF6\", \"width\": 0.5}}, \"type\": \"bar\"}], \"barpolar\": [{\"marker\": {\"line\": {\"color\": \"#E5ECF6\", \"width\": 0.5}}, \"type\": \"barpolar\"}], \"carpet\": [{\"aaxis\": {\"endlinecolor\": \"#2a3f5f\", \"gridcolor\": \"white\", \"linecolor\": \"white\", \"minorgridcolor\": \"white\", \"startlinecolor\": \"#2a3f5f\"}, \"baxis\": {\"endlinecolor\": \"#2a3f5f\", \"gridcolor\": \"white\", \"linecolor\": \"white\", \"minorgridcolor\": \"white\", \"startlinecolor\": \"#2a3f5f\"}, \"type\": \"carpet\"}], \"choropleth\": [{\"colorbar\": {\"outlinewidth\": 0, \"ticks\": \"\"}, \"type\": \"choropleth\"}], \"contour\": [{\"colorbar\": {\"outlinewidth\": 0, \"ticks\": \"\"}, \"colorscale\": [[0.0, \"#0d0887\"], [0.1111111111111111, \"#46039f\"], [0.2222222222222222, \"#7201a8\"], [0.3333333333333333, \"#9c179e\"], [0.4444444444444444, \"#bd3786\"], [0.5555555555555556, \"#d8576b\"], [0.6666666666666666, \"#ed7953\"], [0.7777777777777778, \"#fb9f3a\"], [0.8888888888888888, \"#fdca26\"], [1.0, \"#f0f921\"]], \"type\": \"contour\"}], \"contourcarpet\": [{\"colorbar\": {\"outlinewidth\": 0, \"ticks\": \"\"}, \"type\": \"contourcarpet\"}], \"heatmap\": [{\"colorbar\": {\"outlinewidth\": 0, \"ticks\": \"\"}, \"colorscale\": [[0.0, \"#0d0887\"], [0.1111111111111111, \"#46039f\"], [0.2222222222222222, \"#7201a8\"], [0.3333333333333333, \"#9c179e\"], [0.4444444444444444, \"#bd3786\"], [0.5555555555555556, \"#d8576b\"], [0.6666666666666666, \"#ed7953\"], [0.7777777777777778, \"#fb9f3a\"], [0.8888888888888888, \"#fdca26\"], [1.0, \"#f0f921\"]], \"type\": \"heatmap\"}], \"heatmapgl\": [{\"colorbar\": {\"outlinewidth\": 0, \"ticks\": \"\"}, \"colorscale\": [[0.0, \"#0d0887\"], [0.1111111111111111, \"#46039f\"], [0.2222222222222222, \"#7201a8\"], [0.3333333333333333, \"#9c179e\"], [0.4444444444444444, \"#bd3786\"], [0.5555555555555556, \"#d8576b\"], [0.6666666666666666, \"#ed7953\"], [0.7777777777777778, \"#fb9f3a\"], [0.8888888888888888, \"#fdca26\"], [1.0, \"#f0f921\"]], \"type\": \"heatmapgl\"}], \"histogram\": [{\"marker\": {\"colorbar\": {\"outlinewidth\": 0, \"ticks\": \"\"}}, \"type\": \"histogram\"}], \"histogram2d\": [{\"colorbar\": {\"outlinewidth\": 0, \"ticks\": \"\"}, \"colorscale\": [[0.0, \"#0d0887\"], [0.1111111111111111, \"#46039f\"], [0.2222222222222222, \"#7201a8\"], [0.3333333333333333, \"#9c179e\"], [0.4444444444444444, \"#bd3786\"], [0.5555555555555556, \"#d8576b\"], [0.6666666666666666, \"#ed7953\"], [0.7777777777777778, \"#fb9f3a\"], [0.8888888888888888, \"#fdca26\"], [1.0, \"#f0f921\"]], \"type\": \"histogram2d\"}], \"histogram2dcontour\": [{\"colorbar\": {\"outlinewidth\": 0, \"ticks\": \"\"}, \"colorscale\": [[0.0, \"#0d0887\"], [0.1111111111111111, \"#46039f\"], [0.2222222222222222, \"#7201a8\"], [0.3333333333333333, \"#9c179e\"], [0.4444444444444444, \"#bd3786\"], [0.5555555555555556, \"#d8576b\"], [0.6666666666666666, \"#ed7953\"], [0.7777777777777778, \"#fb9f3a\"], [0.8888888888888888, \"#fdca26\"], [1.0, \"#f0f921\"]], \"type\": \"histogram2dcontour\"}], \"mesh3d\": [{\"colorbar\": {\"outlinewidth\": 0, \"ticks\": \"\"}, \"type\": \"mesh3d\"}], \"parcoords\": [{\"line\": {\"colorbar\": {\"outlinewidth\": 0, \"ticks\": \"\"}}, \"type\": \"parcoords\"}], \"pie\": [{\"automargin\": true, \"type\": \"pie\"}], \"scatter\": [{\"marker\": {\"colorbar\": {\"outlinewidth\": 0, \"ticks\": \"\"}}, \"type\": \"scatter\"}], \"scatter3d\": [{\"line\": {\"colorbar\": {\"outlinewidth\": 0, \"ticks\": \"\"}}, \"marker\": {\"colorbar\": {\"outlinewidth\": 0, \"ticks\": \"\"}}, \"type\": \"scatter3d\"}], \"scattercarpet\": [{\"marker\": {\"colorbar\": {\"outlinewidth\": 0, \"ticks\": \"\"}}, \"type\": \"scattercarpet\"}], \"scattergeo\": [{\"marker\": {\"colorbar\": {\"outlinewidth\": 0, \"ticks\": \"\"}}, \"type\": \"scattergeo\"}], \"scattergl\": [{\"marker\": {\"colorbar\": {\"outlinewidth\": 0, \"ticks\": \"\"}}, \"type\": \"scattergl\"}], \"scattermapbox\": [{\"marker\": {\"colorbar\": {\"outlinewidth\": 0, \"ticks\": \"\"}}, \"type\": \"scattermapbox\"}], \"scatterpolar\": [{\"marker\": {\"colorbar\": {\"outlinewidth\": 0, \"ticks\": \"\"}}, \"type\": \"scatterpolar\"}], \"scatterpolargl\": [{\"marker\": {\"colorbar\": {\"outlinewidth\": 0, \"ticks\": \"\"}}, \"type\": \"scatterpolargl\"}], \"scatterternary\": [{\"marker\": {\"colorbar\": {\"outlinewidth\": 0, \"ticks\": \"\"}}, \"type\": \"scatterternary\"}], \"surface\": [{\"colorbar\": {\"outlinewidth\": 0, \"ticks\": \"\"}, \"colorscale\": [[0.0, \"#0d0887\"], [0.1111111111111111, \"#46039f\"], [0.2222222222222222, \"#7201a8\"], [0.3333333333333333, \"#9c179e\"], [0.4444444444444444, \"#bd3786\"], [0.5555555555555556, \"#d8576b\"], [0.6666666666666666, \"#ed7953\"], [0.7777777777777778, \"#fb9f3a\"], [0.8888888888888888, \"#fdca26\"], [1.0, \"#f0f921\"]], \"type\": \"surface\"}], \"table\": [{\"cells\": {\"fill\": {\"color\": \"#EBF0F8\"}, \"line\": {\"color\": \"white\"}}, \"header\": {\"fill\": {\"color\": \"#C8D4E3\"}, \"line\": {\"color\": \"white\"}}, \"type\": \"table\"}]}, \"layout\": {\"annotationdefaults\": {\"arrowcolor\": \"#2a3f5f\", \"arrowhead\": 0, \"arrowwidth\": 1}, \"coloraxis\": {\"colorbar\": {\"outlinewidth\": 0, \"ticks\": \"\"}}, \"colorscale\": {\"diverging\": [[0, \"#8e0152\"], [0.1, \"#c51b7d\"], [0.2, \"#de77ae\"], [0.3, \"#f1b6da\"], [0.4, \"#fde0ef\"], [0.5, \"#f7f7f7\"], [0.6, \"#e6f5d0\"], [0.7, \"#b8e186\"], [0.8, \"#7fbc41\"], [0.9, \"#4d9221\"], [1, \"#276419\"]], \"sequential\": [[0.0, \"#0d0887\"], [0.1111111111111111, \"#46039f\"], [0.2222222222222222, \"#7201a8\"], [0.3333333333333333, \"#9c179e\"], [0.4444444444444444, \"#bd3786\"], [0.5555555555555556, \"#d8576b\"], [0.6666666666666666, \"#ed7953\"], [0.7777777777777778, \"#fb9f3a\"], [0.8888888888888888, \"#fdca26\"], [1.0, \"#f0f921\"]], \"sequentialminus\": [[0.0, \"#0d0887\"], [0.1111111111111111, \"#46039f\"], [0.2222222222222222, \"#7201a8\"], [0.3333333333333333, \"#9c179e\"], [0.4444444444444444, \"#bd3786\"], [0.5555555555555556, \"#d8576b\"], [0.6666666666666666, \"#ed7953\"], [0.7777777777777778, \"#fb9f3a\"], [0.8888888888888888, \"#fdca26\"], [1.0, \"#f0f921\"]]}, \"colorway\": [\"#636efa\", \"#EF553B\", \"#00cc96\", \"#ab63fa\", \"#FFA15A\", \"#19d3f3\", \"#FF6692\", \"#B6E880\", \"#FF97FF\", \"#FECB52\"], \"font\": {\"color\": \"#2a3f5f\"}, \"geo\": {\"bgcolor\": \"white\", \"lakecolor\": \"white\", \"landcolor\": \"#E5ECF6\", \"showlakes\": true, \"showland\": true, \"subunitcolor\": \"white\"}, \"hoverlabel\": {\"align\": \"left\"}, \"hovermode\": \"closest\", \"mapbox\": {\"style\": \"light\"}, \"paper_bgcolor\": \"white\", \"plot_bgcolor\": \"#E5ECF6\", \"polar\": {\"angularaxis\": {\"gridcolor\": \"white\", \"linecolor\": \"white\", \"ticks\": \"\"}, \"bgcolor\": \"#E5ECF6\", \"radialaxis\": {\"gridcolor\": \"white\", \"linecolor\": \"white\", \"ticks\": \"\"}}, \"scene\": {\"xaxis\": {\"backgroundcolor\": \"#E5ECF6\", \"gridcolor\": \"white\", \"gridwidth\": 2, \"linecolor\": \"white\", \"showbackground\": true, \"ticks\": \"\", \"zerolinecolor\": \"white\"}, \"yaxis\": {\"backgroundcolor\": \"#E5ECF6\", \"gridcolor\": \"white\", \"gridwidth\": 2, \"linecolor\": \"white\", \"showbackground\": true, \"ticks\": \"\", \"zerolinecolor\": \"white\"}, \"zaxis\": {\"backgroundcolor\": \"#E5ECF6\", \"gridcolor\": \"white\", \"gridwidth\": 2, \"linecolor\": \"white\", \"showbackground\": true, \"ticks\": \"\", \"zerolinecolor\": \"white\"}}, \"shapedefaults\": {\"line\": {\"color\": \"#2a3f5f\"}}, \"ternary\": {\"aaxis\": {\"gridcolor\": \"white\", \"linecolor\": \"white\", \"ticks\": \"\"}, \"baxis\": {\"gridcolor\": \"white\", \"linecolor\": \"white\", \"ticks\": \"\"}, \"bgcolor\": \"#E5ECF6\", \"caxis\": {\"gridcolor\": \"white\", \"linecolor\": \"white\", \"ticks\": \"\"}}, \"title\": {\"x\": 0.05}, \"xaxis\": {\"automargin\": true, \"gridcolor\": \"white\", \"linecolor\": \"white\", \"ticks\": \"\", \"title\": {\"standoff\": 15}, \"zerolinecolor\": \"white\", \"zerolinewidth\": 2}, \"yaxis\": {\"automargin\": true, \"gridcolor\": \"white\", \"linecolor\": \"white\", \"ticks\": \"\", \"title\": {\"standoff\": 15}, \"zerolinecolor\": \"white\", \"zerolinewidth\": 2}}}, \"title\": {\"font\": {\"color\": \"#4D5663\"}}, \"xaxis\": {\"gridcolor\": \"#E1E5ED\", \"showgrid\": true, \"tickfont\": {\"color\": \"#4D5663\"}, \"title\": {\"font\": {\"color\": \"#4D5663\"}, \"text\": \"\"}, \"zerolinecolor\": \"#E1E5ED\"}, \"yaxis\": {\"gridcolor\": \"#E1E5ED\", \"showgrid\": true, \"tickfont\": {\"color\": \"#4D5663\"}, \"title\": {\"font\": {\"color\": \"#4D5663\"}, \"text\": \"\"}, \"zerolinecolor\": \"#E1E5ED\"}},\n",
       "                        {\"showLink\": true, \"linkText\": \"Export to plot.ly\", \"plotlyServerURL\": \"https://plot.ly\", \"responsive\": true}\n",
       "                    ).then(function(){\n",
       "                            \n",
       "var gd = document.getElementById('1967ba2a-f7d4-4057-97f7-47f2aea1ca91');\n",
       "var x = new MutationObserver(function (mutations, observer) {{\n",
       "        var display = window.getComputedStyle(gd).display;\n",
       "        if (!display || display === 'none') {{\n",
       "            console.log([gd, 'removed!']);\n",
       "            Plotly.purge(gd);\n",
       "            observer.disconnect();\n",
       "        }}\n",
       "}});\n",
       "\n",
       "// Listen for the removal of the full notebook cells\n",
       "var notebookContainer = gd.closest('#notebook-container');\n",
       "if (notebookContainer) {{\n",
       "    x.observe(notebookContainer, {childList: true});\n",
       "}}\n",
       "\n",
       "// Listen for the clearing of the current output cell\n",
       "var outputEl = gd.closest('.output');\n",
       "if (outputEl) {{\n",
       "    x.observe(outputEl, {childList: true});\n",
       "}}\n",
       "\n",
       "                        })\n",
       "                };\n",
       "                });\n",
       "            </script>\n",
       "        </div>"
      ]
     },
     "metadata": {},
     "output_type": "display_data"
    }
   ],
   "source": [
    "df.count().iplot(kind='bar')"
   ]
  },
  {
   "cell_type": "markdown",
   "metadata": {},
   "source": [
    "## Boxplots"
   ]
  },
  {
   "cell_type": "code",
   "execution_count": 20,
   "metadata": {},
   "outputs": [
    {
     "data": {
      "application/vnd.plotly.v1+json": {
       "config": {
        "linkText": "Export to plot.ly",
        "plotlyServerURL": "https://plot.ly",
        "showLink": true
       },
       "data": [
        {
         "boxpoints": false,
         "line": {
          "width": 1.3
         },
         "marker": {
          "color": "rgba(255, 153, 51, 1.0)"
         },
         "name": "A",
         "orientation": "v",
         "type": "box",
         "y": [
          -0.09460603389983938,
          -1.115161546621085,
          0.552250823286241,
          -0.7055585325246749,
          1.0670013833110146,
          -0.07525731914888965,
          -1.6446033596519718,
          -0.5731132448732882,
          0.28230643408060346,
          -0.6369429176693027,
          -0.463511904581433,
          -0.6818221515715177,
          1.59240552402439,
          -0.2310620264246376,
          -0.35468737820097457,
          1.2691226063805376,
          -1.4841009789615545,
          0.364885132366754,
          0.29974569384933014,
          0.3132572406958177,
          -0.8102636947808791,
          0.30326014383977185,
          -0.21028570150169376,
          0.2614901512140256,
          0.2829084841851137,
          -0.34187122348639937,
          0.6142993959736801,
          -1.0414937499282173,
          0.9659132783487621,
          0.41805635893271176,
          1.06600170275434,
          -0.5663640057412325,
          -0.14857852734621776,
          3.623714617818191,
          -1.3600316145541635,
          0.2567161441480053,
          -0.6611837387514589,
          1.29355716133248,
          -0.19598547591848683,
          0.7998749870418101,
          1.0155298030451088,
          -0.06856500394033782,
          0.5239722030750937,
          -0.9834154296918106,
          -0.21776853784336786,
          -0.24696562933856378,
          -1.0855733141799837,
          -0.9173815950664124,
          -0.44408610344305527,
          -0.6979985385575076,
          -0.8598898351611934,
          1.6047381407356591,
          -0.5121271928381996,
          -0.5690117266214028,
          -1.2928831125482076,
          -0.16234669644829336,
          0.2694659729180265,
          -1.78561152072582,
          -1.428921850440534,
          -0.8621474792297036,
          -0.10637837209491757,
          0.4559792143724122,
          -0.8574353878244705,
          0.3021885994240502,
          -0.6103244159191482,
          -0.13726219349285845,
          0.5166354607657865,
          0.9059694275722422,
          -0.7067201810359846,
          -1.2311046837646813,
          -0.6412688895420384,
          -0.7819574959040753,
          -1.0179952653389717,
          0.1916237565333311,
          -0.6639610916594818,
          -0.15226547568551907,
          1.3306783412941994,
          -0.2567291255971543,
          0.2440121159927055,
          0.808940508913544,
          0.8949476598798622,
          0.7215510656519343,
          0.33975029703787796,
          0.0487793512520937,
          0.014331855573335089,
          0.9586024020595021,
          0.6164197105007017,
          -1.5382301075004485,
          0.2997924069194535,
          0.4659523836493858,
          0.6384592931548604,
          1.5109032777927809,
          1.176181158569553,
          1.9540048439726154,
          -1.2859495924226727,
          -0.887694697363015,
          0.13068821466303016,
          1.212937405174254,
          -0.10810375040123243,
          0.2549416048048139
         ]
        },
        {
         "boxpoints": false,
         "line": {
          "width": 1.3
         },
         "marker": {
          "color": "rgba(55, 128, 191, 1.0)"
         },
         "name": "B",
         "orientation": "v",
         "type": "box",
         "y": [
          0.1081415629462722,
          0.4268245327166299,
          1.5445724980427822,
          0.9749858108183381,
          0.11449114167189642,
          1.4909096828570594,
          -0.5260456895720725,
          -1.3758691637260192,
          1.044161724360801,
          -1.1092315877742995,
          0.9670447984242331,
          -0.49257750966647734,
          1.0083424456629906,
          1.6885392876330236,
          1.0257650564036982,
          2.99075191788488,
          -0.9350489509778263,
          1.3509322989107693,
          0.7327247826693019,
          -1.216688483531076,
          0.439187156007758,
          0.7834858278015342,
          -1.0010346920455842,
          -0.18418277849451004,
          0.6691026962458871,
          -1.4144483849267844,
          0.8692718843241752,
          -0.21714490067334163,
          1.5080736437005582,
          0.21633766008584335,
          0.21540298577400788,
          0.39668945806355743,
          1.6920374198303962,
          2.1291025135898645,
          1.0086829319016535,
          0.6882703768598456,
          0.5260058746129411,
          -0.32403554739037366,
          -2.5808940818911505,
          -0.44918693914966534,
          -1.2867007075492303,
          0.8817648710663066,
          -0.2116089089096702,
          -0.5901077282473927,
          -1.0962507700134656,
          0.12608049280794345,
          0.317036264205109,
          0.7756982105135313,
          0.7909109267769698,
          0.7409657789632829,
          -0.9825901210917485,
          -0.08636936949193734,
          0.10096210691370497,
          -0.2813182291307528,
          -1.0250092240672513,
          -0.360665288454977,
          1.4124426002380253,
          0.2381977331747811,
          -0.752549537439929,
          0.8198761767071212,
          0.2944436999635293,
          -1.4739537040295216,
          0.16679057324504853,
          1.6740543786755937,
          -1.0748604415950138,
          0.7751341167935993,
          0.9539902019500902,
          -0.9918431337061299,
          0.042113280156370794,
          0.35927719801313474,
          -0.8380540062867653,
          1.565365597960983,
          -0.8558934319004765,
          2.0180128424056836,
          0.514647344235371,
          -1.5144668221405355,
          -1.540063547852475,
          -1.1225329538451916,
          0.6634805682965175,
          0.05867190349109249,
          0.14132776451484372,
          -0.42345845862152137,
          0.08108099227504234,
          -0.9921570022559376,
          -0.11472860485217094,
          -0.2871729128066149,
          0.5942010414877332,
          -0.6906728192068669,
          -0.1932952922984659,
          0.3353581241138731,
          -0.710578443380192,
          -0.010508048548534713,
          0.2472535856529788,
          -0.5764328208509977,
          -2.0137544897542825,
          -0.013688338442916483,
          -0.08955780113355191,
          -0.3894832296265267,
          -0.5903110638733836,
          0.599868761822671
         ]
        },
        {
         "boxpoints": false,
         "line": {
          "width": 1.3
         },
         "marker": {
          "color": "rgba(50, 171, 96, 1.0)"
         },
         "name": "C",
         "orientation": "v",
         "type": "box",
         "y": [
          -1.1827259433819777,
          -0.7463632403893589,
          1.5869845464323131,
          -0.48128806221065623,
          0.9647130734900492,
          -0.7115669352452291,
          -1.0558867630210798,
          -0.2112493850785817,
          0.4772684592094632,
          2.8358519847182495,
          3.129758902718336,
          0.07956280211849266,
          -0.1293475877645689,
          -0.4338883834323736,
          -0.7751917229497093,
          1.6753544807720804,
          0.23639000388766174,
          0.272133026585016,
          1.3422980145718197,
          -1.304888284732863,
          -0.5483211764645866,
          -1.9825560293549385,
          -1.634616712877582,
          1.0361956533293408,
          -0.4342165383144139,
          1.0065414084645101,
          1.1468032801127306,
          -0.5744074726064387,
          -1.04240223089339,
          -0.7915491542780841,
          -0.9652702271941871,
          0.5126825622828637,
          2.6632466464508946,
          1.0561211482804482,
          0.020302981333594303,
          0.8354480895071337,
          -0.8885211709747984,
          -0.823672601908323,
          -1.2403864199155994,
          -0.0172080307320625,
          1.3218374125697285,
          -0.33914719355175915,
          -0.18886363017727495,
          0.30316838811918007,
          -0.19700145897041968,
          0.24250320637210218,
          0.5153831263385966,
          -1.7724094970287918,
          0.221158958594906,
          0.5453379784184197,
          0.06393956526193875,
          0.8875741760583279,
          -0.3998610239300832,
          0.12810886137043376,
          0.884935028590192,
          0.8823779002124457,
          -0.7178329808727657,
          -0.028885927432759907,
          -0.7140146818108343,
          -0.016519200276902866,
          -0.06793112502200062,
          0.3485763574855543,
          0.5683892535478055,
          -0.34051252800752524,
          0.8755679471971263,
          0.1626087959861342,
          0.745513301744381,
          0.9277066296072016,
          -0.9719878737923496,
          0.09459262940506379,
          -1.0339392772771134,
          1.044328548546555,
          0.06884956012399289,
          -0.24549946604735245,
          -1.237854928533087,
          1.9665823197071388,
          0.4417726032310142,
          0.8933222020261974,
          1.009407215197556,
          0.42466913090792907,
          -1.480491815949762,
          1.8623027372796663,
          -0.3426790914523096,
          0.6754540063547467,
          -0.2897868251463864,
          -0.8823007739516492,
          -0.1000685974502755,
          -0.3881174876544056,
          -1.5567480443211044,
          1.5869570763967449,
          2.0787655732518737,
          -1.0935145259258487,
          -1.5071386217990124,
          1.0916117015881708,
          -0.1392148614731725,
          -0.6088569300008707,
          0.6118464385144239,
          2.269981383813951,
          -0.07724596673008673,
          0.35405233964649135
         ]
        },
        {
         "boxpoints": false,
         "line": {
          "width": 1.3
         },
         "marker": {
          "color": "rgba(128, 0, 128, 1.0)"
         },
         "name": "D",
         "orientation": "v",
         "type": "box",
         "y": [
          -0.5232076329673341,
          -2.7780278052907583,
          -2.5164355444279165,
          -0.07076084954405218,
          -0.3100665345543423,
          -1.2992831139128915,
          0.2744546137068443,
          -0.6107506952030757,
          -0.9888632734514667,
          1.0063565817729676,
          -0.16107223450937846,
          -0.22858597734118727,
          2.596022569332713,
          0.772721576833007,
          0.11036912256335496,
          1.282797361689481,
          1.2971211264530746,
          1.1850470018585757,
          -0.3340964996760273,
          0.5225290837167507,
          -0.6168344038180612,
          -0.48619041858807,
          2.1436754966424716,
          0.08252280410403706,
          0.5810930347033849,
          -0.3307714374819015,
          -0.6890359819377596,
          -0.7928744719179733,
          0.3527576717318461,
          0.24486514704398085,
          1.0011407785804325,
          0.5157695030425896,
          -0.12886725469469357,
          0.9230963073231013,
          -0.20047626341370794,
          0.1534180254606642,
          0.4041796839315926,
          0.6036913009919193,
          0.2367257984688612,
          0.09599547115473209,
          -1.9352409768325793,
          -0.746214287091547,
          0.34970800394772433,
          0.24768311251201497,
          0.4957424439791478,
          -1.1060228289455452,
          -1.8897068594053286,
          0.556317929379018,
          -1.6018021635578017,
          -0.7546206119428837,
          0.9410103647651131,
          1.4133265919678077,
          -0.3555666027529307,
          -0.4843535119767807,
          1.056911477278011,
          0.36643402090681876,
          -0.284914717660016,
          -0.6488039010770915,
          -0.6488205062793916,
          -1.0205525934448836,
          0.5799492182700319,
          -1.5662148517473167,
          0.6876554200193934,
          0.6127103671010093,
          0.28558580340059847,
          0.007542739703220468,
          -0.3050536113073103,
          0.17331059568382085,
          0.19803643275013189,
          -1.391330074335235,
          -0.3703920654840774,
          0.4292130619487019,
          0.26262710641993153,
          0.47199168684567666,
          0.8085331851901155,
          -0.6068435343537658,
          0.12108355966645976,
          -1.3197245366949333,
          0.852152398626517,
          0.6993596929402611,
          -0.3351098119187117,
          -0.9042658424388572,
          -0.9717270056817701,
          -1.4209981268772078,
          0.034163813703027325,
          -1.331979741355321,
          -1.6563145936278176,
          -0.513279287951007,
          -0.8419144299469731,
          0.044636637948974156,
          -0.21208058030108048,
          1.6326792690744631,
          -1.5292024015123202,
          -0.8611573282896546,
          -0.7279382938870731,
          -1.0883292845657897,
          -1.1564454586538655,
          0.3399786122877439,
          0.7317425241364005,
          1.0798024354545284
         ]
        }
       ],
       "layout": {
        "legend": {
         "bgcolor": "#F5F6F9",
         "font": {
          "color": "#4D5663"
         }
        },
        "paper_bgcolor": "#F5F6F9",
        "plot_bgcolor": "#F5F6F9",
        "template": {
         "data": {
          "bar": [
           {
            "error_x": {
             "color": "#2a3f5f"
            },
            "error_y": {
             "color": "#2a3f5f"
            },
            "marker": {
             "line": {
              "color": "#E5ECF6",
              "width": 0.5
             }
            },
            "type": "bar"
           }
          ],
          "barpolar": [
           {
            "marker": {
             "line": {
              "color": "#E5ECF6",
              "width": 0.5
             }
            },
            "type": "barpolar"
           }
          ],
          "carpet": [
           {
            "aaxis": {
             "endlinecolor": "#2a3f5f",
             "gridcolor": "white",
             "linecolor": "white",
             "minorgridcolor": "white",
             "startlinecolor": "#2a3f5f"
            },
            "baxis": {
             "endlinecolor": "#2a3f5f",
             "gridcolor": "white",
             "linecolor": "white",
             "minorgridcolor": "white",
             "startlinecolor": "#2a3f5f"
            },
            "type": "carpet"
           }
          ],
          "choropleth": [
           {
            "colorbar": {
             "outlinewidth": 0,
             "ticks": ""
            },
            "type": "choropleth"
           }
          ],
          "contour": [
           {
            "colorbar": {
             "outlinewidth": 0,
             "ticks": ""
            },
            "colorscale": [
             [
              0,
              "#0d0887"
             ],
             [
              0.1111111111111111,
              "#46039f"
             ],
             [
              0.2222222222222222,
              "#7201a8"
             ],
             [
              0.3333333333333333,
              "#9c179e"
             ],
             [
              0.4444444444444444,
              "#bd3786"
             ],
             [
              0.5555555555555556,
              "#d8576b"
             ],
             [
              0.6666666666666666,
              "#ed7953"
             ],
             [
              0.7777777777777778,
              "#fb9f3a"
             ],
             [
              0.8888888888888888,
              "#fdca26"
             ],
             [
              1,
              "#f0f921"
             ]
            ],
            "type": "contour"
           }
          ],
          "contourcarpet": [
           {
            "colorbar": {
             "outlinewidth": 0,
             "ticks": ""
            },
            "type": "contourcarpet"
           }
          ],
          "heatmap": [
           {
            "colorbar": {
             "outlinewidth": 0,
             "ticks": ""
            },
            "colorscale": [
             [
              0,
              "#0d0887"
             ],
             [
              0.1111111111111111,
              "#46039f"
             ],
             [
              0.2222222222222222,
              "#7201a8"
             ],
             [
              0.3333333333333333,
              "#9c179e"
             ],
             [
              0.4444444444444444,
              "#bd3786"
             ],
             [
              0.5555555555555556,
              "#d8576b"
             ],
             [
              0.6666666666666666,
              "#ed7953"
             ],
             [
              0.7777777777777778,
              "#fb9f3a"
             ],
             [
              0.8888888888888888,
              "#fdca26"
             ],
             [
              1,
              "#f0f921"
             ]
            ],
            "type": "heatmap"
           }
          ],
          "heatmapgl": [
           {
            "colorbar": {
             "outlinewidth": 0,
             "ticks": ""
            },
            "colorscale": [
             [
              0,
              "#0d0887"
             ],
             [
              0.1111111111111111,
              "#46039f"
             ],
             [
              0.2222222222222222,
              "#7201a8"
             ],
             [
              0.3333333333333333,
              "#9c179e"
             ],
             [
              0.4444444444444444,
              "#bd3786"
             ],
             [
              0.5555555555555556,
              "#d8576b"
             ],
             [
              0.6666666666666666,
              "#ed7953"
             ],
             [
              0.7777777777777778,
              "#fb9f3a"
             ],
             [
              0.8888888888888888,
              "#fdca26"
             ],
             [
              1,
              "#f0f921"
             ]
            ],
            "type": "heatmapgl"
           }
          ],
          "histogram": [
           {
            "marker": {
             "colorbar": {
              "outlinewidth": 0,
              "ticks": ""
             }
            },
            "type": "histogram"
           }
          ],
          "histogram2d": [
           {
            "colorbar": {
             "outlinewidth": 0,
             "ticks": ""
            },
            "colorscale": [
             [
              0,
              "#0d0887"
             ],
             [
              0.1111111111111111,
              "#46039f"
             ],
             [
              0.2222222222222222,
              "#7201a8"
             ],
             [
              0.3333333333333333,
              "#9c179e"
             ],
             [
              0.4444444444444444,
              "#bd3786"
             ],
             [
              0.5555555555555556,
              "#d8576b"
             ],
             [
              0.6666666666666666,
              "#ed7953"
             ],
             [
              0.7777777777777778,
              "#fb9f3a"
             ],
             [
              0.8888888888888888,
              "#fdca26"
             ],
             [
              1,
              "#f0f921"
             ]
            ],
            "type": "histogram2d"
           }
          ],
          "histogram2dcontour": [
           {
            "colorbar": {
             "outlinewidth": 0,
             "ticks": ""
            },
            "colorscale": [
             [
              0,
              "#0d0887"
             ],
             [
              0.1111111111111111,
              "#46039f"
             ],
             [
              0.2222222222222222,
              "#7201a8"
             ],
             [
              0.3333333333333333,
              "#9c179e"
             ],
             [
              0.4444444444444444,
              "#bd3786"
             ],
             [
              0.5555555555555556,
              "#d8576b"
             ],
             [
              0.6666666666666666,
              "#ed7953"
             ],
             [
              0.7777777777777778,
              "#fb9f3a"
             ],
             [
              0.8888888888888888,
              "#fdca26"
             ],
             [
              1,
              "#f0f921"
             ]
            ],
            "type": "histogram2dcontour"
           }
          ],
          "mesh3d": [
           {
            "colorbar": {
             "outlinewidth": 0,
             "ticks": ""
            },
            "type": "mesh3d"
           }
          ],
          "parcoords": [
           {
            "line": {
             "colorbar": {
              "outlinewidth": 0,
              "ticks": ""
             }
            },
            "type": "parcoords"
           }
          ],
          "pie": [
           {
            "automargin": true,
            "type": "pie"
           }
          ],
          "scatter": [
           {
            "marker": {
             "colorbar": {
              "outlinewidth": 0,
              "ticks": ""
             }
            },
            "type": "scatter"
           }
          ],
          "scatter3d": [
           {
            "line": {
             "colorbar": {
              "outlinewidth": 0,
              "ticks": ""
             }
            },
            "marker": {
             "colorbar": {
              "outlinewidth": 0,
              "ticks": ""
             }
            },
            "type": "scatter3d"
           }
          ],
          "scattercarpet": [
           {
            "marker": {
             "colorbar": {
              "outlinewidth": 0,
              "ticks": ""
             }
            },
            "type": "scattercarpet"
           }
          ],
          "scattergeo": [
           {
            "marker": {
             "colorbar": {
              "outlinewidth": 0,
              "ticks": ""
             }
            },
            "type": "scattergeo"
           }
          ],
          "scattergl": [
           {
            "marker": {
             "colorbar": {
              "outlinewidth": 0,
              "ticks": ""
             }
            },
            "type": "scattergl"
           }
          ],
          "scattermapbox": [
           {
            "marker": {
             "colorbar": {
              "outlinewidth": 0,
              "ticks": ""
             }
            },
            "type": "scattermapbox"
           }
          ],
          "scatterpolar": [
           {
            "marker": {
             "colorbar": {
              "outlinewidth": 0,
              "ticks": ""
             }
            },
            "type": "scatterpolar"
           }
          ],
          "scatterpolargl": [
           {
            "marker": {
             "colorbar": {
              "outlinewidth": 0,
              "ticks": ""
             }
            },
            "type": "scatterpolargl"
           }
          ],
          "scatterternary": [
           {
            "marker": {
             "colorbar": {
              "outlinewidth": 0,
              "ticks": ""
             }
            },
            "type": "scatterternary"
           }
          ],
          "surface": [
           {
            "colorbar": {
             "outlinewidth": 0,
             "ticks": ""
            },
            "colorscale": [
             [
              0,
              "#0d0887"
             ],
             [
              0.1111111111111111,
              "#46039f"
             ],
             [
              0.2222222222222222,
              "#7201a8"
             ],
             [
              0.3333333333333333,
              "#9c179e"
             ],
             [
              0.4444444444444444,
              "#bd3786"
             ],
             [
              0.5555555555555556,
              "#d8576b"
             ],
             [
              0.6666666666666666,
              "#ed7953"
             ],
             [
              0.7777777777777778,
              "#fb9f3a"
             ],
             [
              0.8888888888888888,
              "#fdca26"
             ],
             [
              1,
              "#f0f921"
             ]
            ],
            "type": "surface"
           }
          ],
          "table": [
           {
            "cells": {
             "fill": {
              "color": "#EBF0F8"
             },
             "line": {
              "color": "white"
             }
            },
            "header": {
             "fill": {
              "color": "#C8D4E3"
             },
             "line": {
              "color": "white"
             }
            },
            "type": "table"
           }
          ]
         },
         "layout": {
          "annotationdefaults": {
           "arrowcolor": "#2a3f5f",
           "arrowhead": 0,
           "arrowwidth": 1
          },
          "coloraxis": {
           "colorbar": {
            "outlinewidth": 0,
            "ticks": ""
           }
          },
          "colorscale": {
           "diverging": [
            [
             0,
             "#8e0152"
            ],
            [
             0.1,
             "#c51b7d"
            ],
            [
             0.2,
             "#de77ae"
            ],
            [
             0.3,
             "#f1b6da"
            ],
            [
             0.4,
             "#fde0ef"
            ],
            [
             0.5,
             "#f7f7f7"
            ],
            [
             0.6,
             "#e6f5d0"
            ],
            [
             0.7,
             "#b8e186"
            ],
            [
             0.8,
             "#7fbc41"
            ],
            [
             0.9,
             "#4d9221"
            ],
            [
             1,
             "#276419"
            ]
           ],
           "sequential": [
            [
             0,
             "#0d0887"
            ],
            [
             0.1111111111111111,
             "#46039f"
            ],
            [
             0.2222222222222222,
             "#7201a8"
            ],
            [
             0.3333333333333333,
             "#9c179e"
            ],
            [
             0.4444444444444444,
             "#bd3786"
            ],
            [
             0.5555555555555556,
             "#d8576b"
            ],
            [
             0.6666666666666666,
             "#ed7953"
            ],
            [
             0.7777777777777778,
             "#fb9f3a"
            ],
            [
             0.8888888888888888,
             "#fdca26"
            ],
            [
             1,
             "#f0f921"
            ]
           ],
           "sequentialminus": [
            [
             0,
             "#0d0887"
            ],
            [
             0.1111111111111111,
             "#46039f"
            ],
            [
             0.2222222222222222,
             "#7201a8"
            ],
            [
             0.3333333333333333,
             "#9c179e"
            ],
            [
             0.4444444444444444,
             "#bd3786"
            ],
            [
             0.5555555555555556,
             "#d8576b"
            ],
            [
             0.6666666666666666,
             "#ed7953"
            ],
            [
             0.7777777777777778,
             "#fb9f3a"
            ],
            [
             0.8888888888888888,
             "#fdca26"
            ],
            [
             1,
             "#f0f921"
            ]
           ]
          },
          "colorway": [
           "#636efa",
           "#EF553B",
           "#00cc96",
           "#ab63fa",
           "#FFA15A",
           "#19d3f3",
           "#FF6692",
           "#B6E880",
           "#FF97FF",
           "#FECB52"
          ],
          "font": {
           "color": "#2a3f5f"
          },
          "geo": {
           "bgcolor": "white",
           "lakecolor": "white",
           "landcolor": "#E5ECF6",
           "showlakes": true,
           "showland": true,
           "subunitcolor": "white"
          },
          "hoverlabel": {
           "align": "left"
          },
          "hovermode": "closest",
          "mapbox": {
           "style": "light"
          },
          "paper_bgcolor": "white",
          "plot_bgcolor": "#E5ECF6",
          "polar": {
           "angularaxis": {
            "gridcolor": "white",
            "linecolor": "white",
            "ticks": ""
           },
           "bgcolor": "#E5ECF6",
           "radialaxis": {
            "gridcolor": "white",
            "linecolor": "white",
            "ticks": ""
           }
          },
          "scene": {
           "xaxis": {
            "backgroundcolor": "#E5ECF6",
            "gridcolor": "white",
            "gridwidth": 2,
            "linecolor": "white",
            "showbackground": true,
            "ticks": "",
            "zerolinecolor": "white"
           },
           "yaxis": {
            "backgroundcolor": "#E5ECF6",
            "gridcolor": "white",
            "gridwidth": 2,
            "linecolor": "white",
            "showbackground": true,
            "ticks": "",
            "zerolinecolor": "white"
           },
           "zaxis": {
            "backgroundcolor": "#E5ECF6",
            "gridcolor": "white",
            "gridwidth": 2,
            "linecolor": "white",
            "showbackground": true,
            "ticks": "",
            "zerolinecolor": "white"
           }
          },
          "shapedefaults": {
           "line": {
            "color": "#2a3f5f"
           }
          },
          "ternary": {
           "aaxis": {
            "gridcolor": "white",
            "linecolor": "white",
            "ticks": ""
           },
           "baxis": {
            "gridcolor": "white",
            "linecolor": "white",
            "ticks": ""
           },
           "bgcolor": "#E5ECF6",
           "caxis": {
            "gridcolor": "white",
            "linecolor": "white",
            "ticks": ""
           }
          },
          "title": {
           "x": 0.05
          },
          "xaxis": {
           "automargin": true,
           "gridcolor": "white",
           "linecolor": "white",
           "ticks": "",
           "title": {
            "standoff": 15
           },
           "zerolinecolor": "white",
           "zerolinewidth": 2
          },
          "yaxis": {
           "automargin": true,
           "gridcolor": "white",
           "linecolor": "white",
           "ticks": "",
           "title": {
            "standoff": 15
           },
           "zerolinecolor": "white",
           "zerolinewidth": 2
          }
         }
        },
        "title": {
         "font": {
          "color": "#4D5663"
         }
        },
        "xaxis": {
         "gridcolor": "#E1E5ED",
         "showgrid": true,
         "tickfont": {
          "color": "#4D5663"
         },
         "title": {
          "font": {
           "color": "#4D5663"
          },
          "text": ""
         },
         "zerolinecolor": "#E1E5ED"
        },
        "yaxis": {
         "gridcolor": "#E1E5ED",
         "showgrid": true,
         "tickfont": {
          "color": "#4D5663"
         },
         "title": {
          "font": {
           "color": "#4D5663"
          },
          "text": ""
         },
         "zerolinecolor": "#E1E5ED"
        }
       }
      },
      "text/html": [
       "<div>\n",
       "        \n",
       "        \n",
       "            <div id=\"0619c3f7-d11d-44f7-83b4-8f6f395e719a\" class=\"plotly-graph-div\" style=\"height:525px; width:100%;\"></div>\n",
       "            <script type=\"text/javascript\">\n",
       "                require([\"plotly\"], function(Plotly) {\n",
       "                    window.PLOTLYENV=window.PLOTLYENV || {};\n",
       "                    window.PLOTLYENV.BASE_URL='https://plot.ly';\n",
       "                    \n",
       "                if (document.getElementById(\"0619c3f7-d11d-44f7-83b4-8f6f395e719a\")) {\n",
       "                    Plotly.newPlot(\n",
       "                        '0619c3f7-d11d-44f7-83b4-8f6f395e719a',\n",
       "                        [{\"boxpoints\": false, \"line\": {\"width\": 1.3}, \"marker\": {\"color\": \"rgba(255, 153, 51, 1.0)\"}, \"name\": \"A\", \"orientation\": \"v\", \"type\": \"box\", \"y\": [-0.09460603389983938, -1.115161546621085, 0.552250823286241, -0.7055585325246749, 1.0670013833110146, -0.07525731914888965, -1.6446033596519718, -0.5731132448732882, 0.28230643408060346, -0.6369429176693027, -0.463511904581433, -0.6818221515715177, 1.59240552402439, -0.2310620264246376, -0.35468737820097457, 1.2691226063805376, -1.4841009789615545, 0.364885132366754, 0.29974569384933014, 0.3132572406958177, -0.8102636947808791, 0.30326014383977185, -0.21028570150169376, 0.2614901512140256, 0.2829084841851137, -0.34187122348639937, 0.6142993959736801, -1.0414937499282173, 0.9659132783487621, 0.41805635893271176, 1.06600170275434, -0.5663640057412325, -0.14857852734621776, 3.623714617818191, -1.3600316145541635, 0.2567161441480053, -0.6611837387514589, 1.29355716133248, -0.19598547591848683, 0.7998749870418101, 1.0155298030451088, -0.06856500394033782, 0.5239722030750937, -0.9834154296918106, -0.21776853784336786, -0.24696562933856378, -1.0855733141799837, -0.9173815950664124, -0.44408610344305527, -0.6979985385575076, -0.8598898351611934, 1.6047381407356591, -0.5121271928381996, -0.5690117266214028, -1.2928831125482076, -0.16234669644829336, 0.2694659729180265, -1.78561152072582, -1.428921850440534, -0.8621474792297036, -0.10637837209491757, 0.4559792143724122, -0.8574353878244705, 0.3021885994240502, -0.6103244159191482, -0.13726219349285845, 0.5166354607657865, 0.9059694275722422, -0.7067201810359846, -1.2311046837646813, -0.6412688895420384, -0.7819574959040753, -1.0179952653389717, 0.1916237565333311, -0.6639610916594818, -0.15226547568551907, 1.3306783412941994, -0.2567291255971543, 0.2440121159927055, 0.808940508913544, 0.8949476598798622, 0.7215510656519343, 0.33975029703787796, 0.0487793512520937, 0.014331855573335089, 0.9586024020595021, 0.6164197105007017, -1.5382301075004485, 0.2997924069194535, 0.4659523836493858, 0.6384592931548604, 1.5109032777927809, 1.176181158569553, 1.9540048439726154, -1.2859495924226727, -0.887694697363015, 0.13068821466303016, 1.212937405174254, -0.10810375040123243, 0.2549416048048139]}, {\"boxpoints\": false, \"line\": {\"width\": 1.3}, \"marker\": {\"color\": \"rgba(55, 128, 191, 1.0)\"}, \"name\": \"B\", \"orientation\": \"v\", \"type\": \"box\", \"y\": [0.1081415629462722, 0.4268245327166299, 1.5445724980427822, 0.9749858108183381, 0.11449114167189642, 1.4909096828570594, -0.5260456895720725, -1.3758691637260192, 1.044161724360801, -1.1092315877742995, 0.9670447984242331, -0.49257750966647734, 1.0083424456629906, 1.6885392876330236, 1.0257650564036982, 2.99075191788488, -0.9350489509778263, 1.3509322989107693, 0.7327247826693019, -1.216688483531076, 0.439187156007758, 0.7834858278015342, -1.0010346920455842, -0.18418277849451004, 0.6691026962458871, -1.4144483849267844, 0.8692718843241752, -0.21714490067334163, 1.5080736437005582, 0.21633766008584335, 0.21540298577400788, 0.39668945806355743, 1.6920374198303962, 2.1291025135898645, 1.0086829319016535, 0.6882703768598456, 0.5260058746129411, -0.32403554739037366, -2.5808940818911505, -0.44918693914966534, -1.2867007075492303, 0.8817648710663066, -0.2116089089096702, -0.5901077282473927, -1.0962507700134656, 0.12608049280794345, 0.317036264205109, 0.7756982105135313, 0.7909109267769698, 0.7409657789632829, -0.9825901210917485, -0.08636936949193734, 0.10096210691370497, -0.2813182291307528, -1.0250092240672513, -0.360665288454977, 1.4124426002380253, 0.2381977331747811, -0.752549537439929, 0.8198761767071212, 0.2944436999635293, -1.4739537040295216, 0.16679057324504853, 1.6740543786755937, -1.0748604415950138, 0.7751341167935993, 0.9539902019500902, -0.9918431337061299, 0.042113280156370794, 0.35927719801313474, -0.8380540062867653, 1.565365597960983, -0.8558934319004765, 2.0180128424056836, 0.514647344235371, -1.5144668221405355, -1.540063547852475, -1.1225329538451916, 0.6634805682965175, 0.05867190349109249, 0.14132776451484372, -0.42345845862152137, 0.08108099227504234, -0.9921570022559376, -0.11472860485217094, -0.2871729128066149, 0.5942010414877332, -0.6906728192068669, -0.1932952922984659, 0.3353581241138731, -0.710578443380192, -0.010508048548534713, 0.2472535856529788, -0.5764328208509977, -2.0137544897542825, -0.013688338442916483, -0.08955780113355191, -0.3894832296265267, -0.5903110638733836, 0.599868761822671]}, {\"boxpoints\": false, \"line\": {\"width\": 1.3}, \"marker\": {\"color\": \"rgba(50, 171, 96, 1.0)\"}, \"name\": \"C\", \"orientation\": \"v\", \"type\": \"box\", \"y\": [-1.1827259433819777, -0.7463632403893589, 1.5869845464323131, -0.48128806221065623, 0.9647130734900492, -0.7115669352452291, -1.0558867630210798, -0.2112493850785817, 0.4772684592094632, 2.8358519847182495, 3.129758902718336, 0.07956280211849266, -0.1293475877645689, -0.4338883834323736, -0.7751917229497093, 1.6753544807720804, 0.23639000388766174, 0.272133026585016, 1.3422980145718197, -1.304888284732863, -0.5483211764645866, -1.9825560293549385, -1.634616712877582, 1.0361956533293408, -0.4342165383144139, 1.0065414084645101, 1.1468032801127306, -0.5744074726064387, -1.04240223089339, -0.7915491542780841, -0.9652702271941871, 0.5126825622828637, 2.6632466464508946, 1.0561211482804482, 0.020302981333594303, 0.8354480895071337, -0.8885211709747984, -0.823672601908323, -1.2403864199155994, -0.0172080307320625, 1.3218374125697285, -0.33914719355175915, -0.18886363017727495, 0.30316838811918007, -0.19700145897041968, 0.24250320637210218, 0.5153831263385966, -1.7724094970287918, 0.221158958594906, 0.5453379784184197, 0.06393956526193875, 0.8875741760583279, -0.3998610239300832, 0.12810886137043376, 0.884935028590192, 0.8823779002124457, -0.7178329808727657, -0.028885927432759907, -0.7140146818108343, -0.016519200276902866, -0.06793112502200062, 0.3485763574855543, 0.5683892535478055, -0.34051252800752524, 0.8755679471971263, 0.1626087959861342, 0.745513301744381, 0.9277066296072016, -0.9719878737923496, 0.09459262940506379, -1.0339392772771134, 1.044328548546555, 0.06884956012399289, -0.24549946604735245, -1.237854928533087, 1.9665823197071388, 0.4417726032310142, 0.8933222020261974, 1.009407215197556, 0.42466913090792907, -1.480491815949762, 1.8623027372796663, -0.3426790914523096, 0.6754540063547467, -0.2897868251463864, -0.8823007739516492, -0.1000685974502755, -0.3881174876544056, -1.5567480443211044, 1.5869570763967449, 2.0787655732518737, -1.0935145259258487, -1.5071386217990124, 1.0916117015881708, -0.1392148614731725, -0.6088569300008707, 0.6118464385144239, 2.269981383813951, -0.07724596673008673, 0.35405233964649135]}, {\"boxpoints\": false, \"line\": {\"width\": 1.3}, \"marker\": {\"color\": \"rgba(128, 0, 128, 1.0)\"}, \"name\": \"D\", \"orientation\": \"v\", \"type\": \"box\", \"y\": [-0.5232076329673341, -2.7780278052907583, -2.5164355444279165, -0.07076084954405218, -0.3100665345543423, -1.2992831139128915, 0.2744546137068443, -0.6107506952030757, -0.9888632734514667, 1.0063565817729676, -0.16107223450937846, -0.22858597734118727, 2.596022569332713, 0.772721576833007, 0.11036912256335496, 1.282797361689481, 1.2971211264530746, 1.1850470018585757, -0.3340964996760273, 0.5225290837167507, -0.6168344038180612, -0.48619041858807, 2.1436754966424716, 0.08252280410403706, 0.5810930347033849, -0.3307714374819015, -0.6890359819377596, -0.7928744719179733, 0.3527576717318461, 0.24486514704398085, 1.0011407785804325, 0.5157695030425896, -0.12886725469469357, 0.9230963073231013, -0.20047626341370794, 0.1534180254606642, 0.4041796839315926, 0.6036913009919193, 0.2367257984688612, 0.09599547115473209, -1.9352409768325793, -0.746214287091547, 0.34970800394772433, 0.24768311251201497, 0.4957424439791478, -1.1060228289455452, -1.8897068594053286, 0.556317929379018, -1.6018021635578017, -0.7546206119428837, 0.9410103647651131, 1.4133265919678077, -0.3555666027529307, -0.4843535119767807, 1.056911477278011, 0.36643402090681876, -0.284914717660016, -0.6488039010770915, -0.6488205062793916, -1.0205525934448836, 0.5799492182700319, -1.5662148517473167, 0.6876554200193934, 0.6127103671010093, 0.28558580340059847, 0.007542739703220468, -0.3050536113073103, 0.17331059568382085, 0.19803643275013189, -1.391330074335235, -0.3703920654840774, 0.4292130619487019, 0.26262710641993153, 0.47199168684567666, 0.8085331851901155, -0.6068435343537658, 0.12108355966645976, -1.3197245366949333, 0.852152398626517, 0.6993596929402611, -0.3351098119187117, -0.9042658424388572, -0.9717270056817701, -1.4209981268772078, 0.034163813703027325, -1.331979741355321, -1.6563145936278176, -0.513279287951007, -0.8419144299469731, 0.044636637948974156, -0.21208058030108048, 1.6326792690744631, -1.5292024015123202, -0.8611573282896546, -0.7279382938870731, -1.0883292845657897, -1.1564454586538655, 0.3399786122877439, 0.7317425241364005, 1.0798024354545284]}],\n",
       "                        {\"legend\": {\"bgcolor\": \"#F5F6F9\", \"font\": {\"color\": \"#4D5663\"}}, \"paper_bgcolor\": \"#F5F6F9\", \"plot_bgcolor\": \"#F5F6F9\", \"template\": {\"data\": {\"bar\": [{\"error_x\": {\"color\": \"#2a3f5f\"}, \"error_y\": {\"color\": \"#2a3f5f\"}, \"marker\": {\"line\": {\"color\": \"#E5ECF6\", \"width\": 0.5}}, \"type\": \"bar\"}], \"barpolar\": [{\"marker\": {\"line\": {\"color\": \"#E5ECF6\", \"width\": 0.5}}, \"type\": \"barpolar\"}], \"carpet\": [{\"aaxis\": {\"endlinecolor\": \"#2a3f5f\", \"gridcolor\": \"white\", \"linecolor\": \"white\", \"minorgridcolor\": \"white\", \"startlinecolor\": \"#2a3f5f\"}, \"baxis\": {\"endlinecolor\": \"#2a3f5f\", \"gridcolor\": \"white\", \"linecolor\": \"white\", \"minorgridcolor\": \"white\", \"startlinecolor\": \"#2a3f5f\"}, \"type\": \"carpet\"}], \"choropleth\": [{\"colorbar\": {\"outlinewidth\": 0, \"ticks\": \"\"}, \"type\": \"choropleth\"}], \"contour\": [{\"colorbar\": {\"outlinewidth\": 0, \"ticks\": \"\"}, \"colorscale\": [[0.0, \"#0d0887\"], [0.1111111111111111, \"#46039f\"], [0.2222222222222222, \"#7201a8\"], [0.3333333333333333, \"#9c179e\"], [0.4444444444444444, \"#bd3786\"], [0.5555555555555556, \"#d8576b\"], [0.6666666666666666, \"#ed7953\"], [0.7777777777777778, \"#fb9f3a\"], [0.8888888888888888, \"#fdca26\"], [1.0, \"#f0f921\"]], \"type\": \"contour\"}], \"contourcarpet\": [{\"colorbar\": {\"outlinewidth\": 0, \"ticks\": \"\"}, \"type\": \"contourcarpet\"}], \"heatmap\": [{\"colorbar\": {\"outlinewidth\": 0, \"ticks\": \"\"}, \"colorscale\": [[0.0, \"#0d0887\"], [0.1111111111111111, \"#46039f\"], [0.2222222222222222, \"#7201a8\"], [0.3333333333333333, \"#9c179e\"], [0.4444444444444444, \"#bd3786\"], [0.5555555555555556, \"#d8576b\"], [0.6666666666666666, \"#ed7953\"], [0.7777777777777778, \"#fb9f3a\"], [0.8888888888888888, \"#fdca26\"], [1.0, \"#f0f921\"]], \"type\": \"heatmap\"}], \"heatmapgl\": [{\"colorbar\": {\"outlinewidth\": 0, \"ticks\": \"\"}, \"colorscale\": [[0.0, \"#0d0887\"], [0.1111111111111111, \"#46039f\"], [0.2222222222222222, \"#7201a8\"], [0.3333333333333333, \"#9c179e\"], [0.4444444444444444, \"#bd3786\"], [0.5555555555555556, \"#d8576b\"], [0.6666666666666666, \"#ed7953\"], [0.7777777777777778, \"#fb9f3a\"], [0.8888888888888888, \"#fdca26\"], [1.0, \"#f0f921\"]], \"type\": \"heatmapgl\"}], \"histogram\": [{\"marker\": {\"colorbar\": {\"outlinewidth\": 0, \"ticks\": \"\"}}, \"type\": \"histogram\"}], \"histogram2d\": [{\"colorbar\": {\"outlinewidth\": 0, \"ticks\": \"\"}, \"colorscale\": [[0.0, \"#0d0887\"], [0.1111111111111111, \"#46039f\"], [0.2222222222222222, \"#7201a8\"], [0.3333333333333333, \"#9c179e\"], [0.4444444444444444, \"#bd3786\"], [0.5555555555555556, \"#d8576b\"], [0.6666666666666666, \"#ed7953\"], [0.7777777777777778, \"#fb9f3a\"], [0.8888888888888888, \"#fdca26\"], [1.0, \"#f0f921\"]], \"type\": \"histogram2d\"}], \"histogram2dcontour\": [{\"colorbar\": {\"outlinewidth\": 0, \"ticks\": \"\"}, \"colorscale\": [[0.0, \"#0d0887\"], [0.1111111111111111, \"#46039f\"], [0.2222222222222222, \"#7201a8\"], [0.3333333333333333, \"#9c179e\"], [0.4444444444444444, \"#bd3786\"], [0.5555555555555556, \"#d8576b\"], [0.6666666666666666, \"#ed7953\"], [0.7777777777777778, \"#fb9f3a\"], [0.8888888888888888, \"#fdca26\"], [1.0, \"#f0f921\"]], \"type\": \"histogram2dcontour\"}], \"mesh3d\": [{\"colorbar\": {\"outlinewidth\": 0, \"ticks\": \"\"}, \"type\": \"mesh3d\"}], \"parcoords\": [{\"line\": {\"colorbar\": {\"outlinewidth\": 0, \"ticks\": \"\"}}, \"type\": \"parcoords\"}], \"pie\": [{\"automargin\": true, \"type\": \"pie\"}], \"scatter\": [{\"marker\": {\"colorbar\": {\"outlinewidth\": 0, \"ticks\": \"\"}}, \"type\": \"scatter\"}], \"scatter3d\": [{\"line\": {\"colorbar\": {\"outlinewidth\": 0, \"ticks\": \"\"}}, \"marker\": {\"colorbar\": {\"outlinewidth\": 0, \"ticks\": \"\"}}, \"type\": \"scatter3d\"}], \"scattercarpet\": [{\"marker\": {\"colorbar\": {\"outlinewidth\": 0, \"ticks\": \"\"}}, \"type\": \"scattercarpet\"}], \"scattergeo\": [{\"marker\": {\"colorbar\": {\"outlinewidth\": 0, \"ticks\": \"\"}}, \"type\": \"scattergeo\"}], \"scattergl\": [{\"marker\": {\"colorbar\": {\"outlinewidth\": 0, \"ticks\": \"\"}}, \"type\": \"scattergl\"}], \"scattermapbox\": [{\"marker\": {\"colorbar\": {\"outlinewidth\": 0, \"ticks\": \"\"}}, \"type\": \"scattermapbox\"}], \"scatterpolar\": [{\"marker\": {\"colorbar\": {\"outlinewidth\": 0, \"ticks\": \"\"}}, \"type\": \"scatterpolar\"}], \"scatterpolargl\": [{\"marker\": {\"colorbar\": {\"outlinewidth\": 0, \"ticks\": \"\"}}, \"type\": \"scatterpolargl\"}], \"scatterternary\": [{\"marker\": {\"colorbar\": {\"outlinewidth\": 0, \"ticks\": \"\"}}, \"type\": \"scatterternary\"}], \"surface\": [{\"colorbar\": {\"outlinewidth\": 0, \"ticks\": \"\"}, \"colorscale\": [[0.0, \"#0d0887\"], [0.1111111111111111, \"#46039f\"], [0.2222222222222222, \"#7201a8\"], [0.3333333333333333, \"#9c179e\"], [0.4444444444444444, \"#bd3786\"], [0.5555555555555556, \"#d8576b\"], [0.6666666666666666, \"#ed7953\"], [0.7777777777777778, \"#fb9f3a\"], [0.8888888888888888, \"#fdca26\"], [1.0, \"#f0f921\"]], \"type\": \"surface\"}], \"table\": [{\"cells\": {\"fill\": {\"color\": \"#EBF0F8\"}, \"line\": {\"color\": \"white\"}}, \"header\": {\"fill\": {\"color\": \"#C8D4E3\"}, \"line\": {\"color\": \"white\"}}, \"type\": \"table\"}]}, \"layout\": {\"annotationdefaults\": {\"arrowcolor\": \"#2a3f5f\", \"arrowhead\": 0, \"arrowwidth\": 1}, \"coloraxis\": {\"colorbar\": {\"outlinewidth\": 0, \"ticks\": \"\"}}, \"colorscale\": {\"diverging\": [[0, \"#8e0152\"], [0.1, \"#c51b7d\"], [0.2, \"#de77ae\"], [0.3, \"#f1b6da\"], [0.4, \"#fde0ef\"], [0.5, \"#f7f7f7\"], [0.6, \"#e6f5d0\"], [0.7, \"#b8e186\"], [0.8, \"#7fbc41\"], [0.9, \"#4d9221\"], [1, \"#276419\"]], \"sequential\": [[0.0, \"#0d0887\"], [0.1111111111111111, \"#46039f\"], [0.2222222222222222, \"#7201a8\"], [0.3333333333333333, \"#9c179e\"], [0.4444444444444444, \"#bd3786\"], [0.5555555555555556, \"#d8576b\"], [0.6666666666666666, \"#ed7953\"], [0.7777777777777778, \"#fb9f3a\"], [0.8888888888888888, \"#fdca26\"], [1.0, \"#f0f921\"]], \"sequentialminus\": [[0.0, \"#0d0887\"], [0.1111111111111111, \"#46039f\"], [0.2222222222222222, \"#7201a8\"], [0.3333333333333333, \"#9c179e\"], [0.4444444444444444, \"#bd3786\"], [0.5555555555555556, \"#d8576b\"], [0.6666666666666666, \"#ed7953\"], [0.7777777777777778, \"#fb9f3a\"], [0.8888888888888888, \"#fdca26\"], [1.0, \"#f0f921\"]]}, \"colorway\": [\"#636efa\", \"#EF553B\", \"#00cc96\", \"#ab63fa\", \"#FFA15A\", \"#19d3f3\", \"#FF6692\", \"#B6E880\", \"#FF97FF\", \"#FECB52\"], \"font\": {\"color\": \"#2a3f5f\"}, \"geo\": {\"bgcolor\": \"white\", \"lakecolor\": \"white\", \"landcolor\": \"#E5ECF6\", \"showlakes\": true, \"showland\": true, \"subunitcolor\": \"white\"}, \"hoverlabel\": {\"align\": \"left\"}, \"hovermode\": \"closest\", \"mapbox\": {\"style\": \"light\"}, \"paper_bgcolor\": \"white\", \"plot_bgcolor\": \"#E5ECF6\", \"polar\": {\"angularaxis\": {\"gridcolor\": \"white\", \"linecolor\": \"white\", \"ticks\": \"\"}, \"bgcolor\": \"#E5ECF6\", \"radialaxis\": {\"gridcolor\": \"white\", \"linecolor\": \"white\", \"ticks\": \"\"}}, \"scene\": {\"xaxis\": {\"backgroundcolor\": \"#E5ECF6\", \"gridcolor\": \"white\", \"gridwidth\": 2, \"linecolor\": \"white\", \"showbackground\": true, \"ticks\": \"\", \"zerolinecolor\": \"white\"}, \"yaxis\": {\"backgroundcolor\": \"#E5ECF6\", \"gridcolor\": \"white\", \"gridwidth\": 2, \"linecolor\": \"white\", \"showbackground\": true, \"ticks\": \"\", \"zerolinecolor\": \"white\"}, \"zaxis\": {\"backgroundcolor\": \"#E5ECF6\", \"gridcolor\": \"white\", \"gridwidth\": 2, \"linecolor\": \"white\", \"showbackground\": true, \"ticks\": \"\", \"zerolinecolor\": \"white\"}}, \"shapedefaults\": {\"line\": {\"color\": \"#2a3f5f\"}}, \"ternary\": {\"aaxis\": {\"gridcolor\": \"white\", \"linecolor\": \"white\", \"ticks\": \"\"}, \"baxis\": {\"gridcolor\": \"white\", \"linecolor\": \"white\", \"ticks\": \"\"}, \"bgcolor\": \"#E5ECF6\", \"caxis\": {\"gridcolor\": \"white\", \"linecolor\": \"white\", \"ticks\": \"\"}}, \"title\": {\"x\": 0.05}, \"xaxis\": {\"automargin\": true, \"gridcolor\": \"white\", \"linecolor\": \"white\", \"ticks\": \"\", \"title\": {\"standoff\": 15}, \"zerolinecolor\": \"white\", \"zerolinewidth\": 2}, \"yaxis\": {\"automargin\": true, \"gridcolor\": \"white\", \"linecolor\": \"white\", \"ticks\": \"\", \"title\": {\"standoff\": 15}, \"zerolinecolor\": \"white\", \"zerolinewidth\": 2}}}, \"title\": {\"font\": {\"color\": \"#4D5663\"}}, \"xaxis\": {\"gridcolor\": \"#E1E5ED\", \"showgrid\": true, \"tickfont\": {\"color\": \"#4D5663\"}, \"title\": {\"font\": {\"color\": \"#4D5663\"}, \"text\": \"\"}, \"zerolinecolor\": \"#E1E5ED\"}, \"yaxis\": {\"gridcolor\": \"#E1E5ED\", \"showgrid\": true, \"tickfont\": {\"color\": \"#4D5663\"}, \"title\": {\"font\": {\"color\": \"#4D5663\"}, \"text\": \"\"}, \"zerolinecolor\": \"#E1E5ED\"}},\n",
       "                        {\"showLink\": true, \"linkText\": \"Export to plot.ly\", \"plotlyServerURL\": \"https://plot.ly\", \"responsive\": true}\n",
       "                    ).then(function(){\n",
       "                            \n",
       "var gd = document.getElementById('0619c3f7-d11d-44f7-83b4-8f6f395e719a');\n",
       "var x = new MutationObserver(function (mutations, observer) {{\n",
       "        var display = window.getComputedStyle(gd).display;\n",
       "        if (!display || display === 'none') {{\n",
       "            console.log([gd, 'removed!']);\n",
       "            Plotly.purge(gd);\n",
       "            observer.disconnect();\n",
       "        }}\n",
       "}});\n",
       "\n",
       "// Listen for the removal of the full notebook cells\n",
       "var notebookContainer = gd.closest('#notebook-container');\n",
       "if (notebookContainer) {{\n",
       "    x.observe(notebookContainer, {childList: true});\n",
       "}}\n",
       "\n",
       "// Listen for the clearing of the current output cell\n",
       "var outputEl = gd.closest('.output');\n",
       "if (outputEl) {{\n",
       "    x.observe(outputEl, {childList: true});\n",
       "}}\n",
       "\n",
       "                        })\n",
       "                };\n",
       "                });\n",
       "            </script>\n",
       "        </div>"
      ]
     },
     "metadata": {},
     "output_type": "display_data"
    }
   ],
   "source": [
    "df.iplot(kind='box')"
   ]
  },
  {
   "cell_type": "markdown",
   "metadata": {},
   "source": [
    "## 3d Surface"
   ]
  },
  {
   "cell_type": "code",
   "execution_count": 21,
   "metadata": {},
   "outputs": [
    {
     "data": {
      "application/vnd.plotly.v1+json": {
       "config": {
        "linkText": "Export to plot.ly",
        "plotlyServerURL": "https://plot.ly",
        "showLink": true
       },
       "data": [
        {
         "colorscale": [
          [
           0,
           "rgb(165,0,38)"
          ],
          [
           0.1,
           "rgb(215,48,39)"
          ],
          [
           0.2,
           "rgb(244,109,67)"
          ],
          [
           0.3,
           "rgb(253,174,97)"
          ],
          [
           0.4,
           "rgb(254,224,144)"
          ],
          [
           0.5,
           "rgb(255,255,191)"
          ],
          [
           0.6,
           "rgb(224,243,248)"
          ],
          [
           0.7,
           "rgb(171,217,233)"
          ],
          [
           0.8,
           "rgb(116,173,209)"
          ],
          [
           0.9,
           "rgb(69,117,180)"
          ],
          [
           1,
           "rgb(49,54,149)"
          ]
         ],
         "type": "surface",
         "x": [
          0,
          1,
          2,
          3,
          4
         ],
         "y": [
          "x",
          "y",
          "z"
         ],
         "z": [
          [
           1,
           2,
           3,
           4,
           5
          ],
          [
           10,
           20,
           30,
           20,
           10
          ],
          [
           5,
           4,
           3,
           2,
           1
          ]
         ]
        }
       ],
       "layout": {
        "legend": {
         "bgcolor": "#F5F6F9",
         "font": {
          "color": "#4D5663"
         }
        },
        "paper_bgcolor": "#F5F6F9",
        "plot_bgcolor": "#F5F6F9",
        "template": {
         "data": {
          "bar": [
           {
            "error_x": {
             "color": "#2a3f5f"
            },
            "error_y": {
             "color": "#2a3f5f"
            },
            "marker": {
             "line": {
              "color": "#E5ECF6",
              "width": 0.5
             }
            },
            "type": "bar"
           }
          ],
          "barpolar": [
           {
            "marker": {
             "line": {
              "color": "#E5ECF6",
              "width": 0.5
             }
            },
            "type": "barpolar"
           }
          ],
          "carpet": [
           {
            "aaxis": {
             "endlinecolor": "#2a3f5f",
             "gridcolor": "white",
             "linecolor": "white",
             "minorgridcolor": "white",
             "startlinecolor": "#2a3f5f"
            },
            "baxis": {
             "endlinecolor": "#2a3f5f",
             "gridcolor": "white",
             "linecolor": "white",
             "minorgridcolor": "white",
             "startlinecolor": "#2a3f5f"
            },
            "type": "carpet"
           }
          ],
          "choropleth": [
           {
            "colorbar": {
             "outlinewidth": 0,
             "ticks": ""
            },
            "type": "choropleth"
           }
          ],
          "contour": [
           {
            "colorbar": {
             "outlinewidth": 0,
             "ticks": ""
            },
            "colorscale": [
             [
              0,
              "#0d0887"
             ],
             [
              0.1111111111111111,
              "#46039f"
             ],
             [
              0.2222222222222222,
              "#7201a8"
             ],
             [
              0.3333333333333333,
              "#9c179e"
             ],
             [
              0.4444444444444444,
              "#bd3786"
             ],
             [
              0.5555555555555556,
              "#d8576b"
             ],
             [
              0.6666666666666666,
              "#ed7953"
             ],
             [
              0.7777777777777778,
              "#fb9f3a"
             ],
             [
              0.8888888888888888,
              "#fdca26"
             ],
             [
              1,
              "#f0f921"
             ]
            ],
            "type": "contour"
           }
          ],
          "contourcarpet": [
           {
            "colorbar": {
             "outlinewidth": 0,
             "ticks": ""
            },
            "type": "contourcarpet"
           }
          ],
          "heatmap": [
           {
            "colorbar": {
             "outlinewidth": 0,
             "ticks": ""
            },
            "colorscale": [
             [
              0,
              "#0d0887"
             ],
             [
              0.1111111111111111,
              "#46039f"
             ],
             [
              0.2222222222222222,
              "#7201a8"
             ],
             [
              0.3333333333333333,
              "#9c179e"
             ],
             [
              0.4444444444444444,
              "#bd3786"
             ],
             [
              0.5555555555555556,
              "#d8576b"
             ],
             [
              0.6666666666666666,
              "#ed7953"
             ],
             [
              0.7777777777777778,
              "#fb9f3a"
             ],
             [
              0.8888888888888888,
              "#fdca26"
             ],
             [
              1,
              "#f0f921"
             ]
            ],
            "type": "heatmap"
           }
          ],
          "heatmapgl": [
           {
            "colorbar": {
             "outlinewidth": 0,
             "ticks": ""
            },
            "colorscale": [
             [
              0,
              "#0d0887"
             ],
             [
              0.1111111111111111,
              "#46039f"
             ],
             [
              0.2222222222222222,
              "#7201a8"
             ],
             [
              0.3333333333333333,
              "#9c179e"
             ],
             [
              0.4444444444444444,
              "#bd3786"
             ],
             [
              0.5555555555555556,
              "#d8576b"
             ],
             [
              0.6666666666666666,
              "#ed7953"
             ],
             [
              0.7777777777777778,
              "#fb9f3a"
             ],
             [
              0.8888888888888888,
              "#fdca26"
             ],
             [
              1,
              "#f0f921"
             ]
            ],
            "type": "heatmapgl"
           }
          ],
          "histogram": [
           {
            "marker": {
             "colorbar": {
              "outlinewidth": 0,
              "ticks": ""
             }
            },
            "type": "histogram"
           }
          ],
          "histogram2d": [
           {
            "colorbar": {
             "outlinewidth": 0,
             "ticks": ""
            },
            "colorscale": [
             [
              0,
              "#0d0887"
             ],
             [
              0.1111111111111111,
              "#46039f"
             ],
             [
              0.2222222222222222,
              "#7201a8"
             ],
             [
              0.3333333333333333,
              "#9c179e"
             ],
             [
              0.4444444444444444,
              "#bd3786"
             ],
             [
              0.5555555555555556,
              "#d8576b"
             ],
             [
              0.6666666666666666,
              "#ed7953"
             ],
             [
              0.7777777777777778,
              "#fb9f3a"
             ],
             [
              0.8888888888888888,
              "#fdca26"
             ],
             [
              1,
              "#f0f921"
             ]
            ],
            "type": "histogram2d"
           }
          ],
          "histogram2dcontour": [
           {
            "colorbar": {
             "outlinewidth": 0,
             "ticks": ""
            },
            "colorscale": [
             [
              0,
              "#0d0887"
             ],
             [
              0.1111111111111111,
              "#46039f"
             ],
             [
              0.2222222222222222,
              "#7201a8"
             ],
             [
              0.3333333333333333,
              "#9c179e"
             ],
             [
              0.4444444444444444,
              "#bd3786"
             ],
             [
              0.5555555555555556,
              "#d8576b"
             ],
             [
              0.6666666666666666,
              "#ed7953"
             ],
             [
              0.7777777777777778,
              "#fb9f3a"
             ],
             [
              0.8888888888888888,
              "#fdca26"
             ],
             [
              1,
              "#f0f921"
             ]
            ],
            "type": "histogram2dcontour"
           }
          ],
          "mesh3d": [
           {
            "colorbar": {
             "outlinewidth": 0,
             "ticks": ""
            },
            "type": "mesh3d"
           }
          ],
          "parcoords": [
           {
            "line": {
             "colorbar": {
              "outlinewidth": 0,
              "ticks": ""
             }
            },
            "type": "parcoords"
           }
          ],
          "pie": [
           {
            "automargin": true,
            "type": "pie"
           }
          ],
          "scatter": [
           {
            "marker": {
             "colorbar": {
              "outlinewidth": 0,
              "ticks": ""
             }
            },
            "type": "scatter"
           }
          ],
          "scatter3d": [
           {
            "line": {
             "colorbar": {
              "outlinewidth": 0,
              "ticks": ""
             }
            },
            "marker": {
             "colorbar": {
              "outlinewidth": 0,
              "ticks": ""
             }
            },
            "type": "scatter3d"
           }
          ],
          "scattercarpet": [
           {
            "marker": {
             "colorbar": {
              "outlinewidth": 0,
              "ticks": ""
             }
            },
            "type": "scattercarpet"
           }
          ],
          "scattergeo": [
           {
            "marker": {
             "colorbar": {
              "outlinewidth": 0,
              "ticks": ""
             }
            },
            "type": "scattergeo"
           }
          ],
          "scattergl": [
           {
            "marker": {
             "colorbar": {
              "outlinewidth": 0,
              "ticks": ""
             }
            },
            "type": "scattergl"
           }
          ],
          "scattermapbox": [
           {
            "marker": {
             "colorbar": {
              "outlinewidth": 0,
              "ticks": ""
             }
            },
            "type": "scattermapbox"
           }
          ],
          "scatterpolar": [
           {
            "marker": {
             "colorbar": {
              "outlinewidth": 0,
              "ticks": ""
             }
            },
            "type": "scatterpolar"
           }
          ],
          "scatterpolargl": [
           {
            "marker": {
             "colorbar": {
              "outlinewidth": 0,
              "ticks": ""
             }
            },
            "type": "scatterpolargl"
           }
          ],
          "scatterternary": [
           {
            "marker": {
             "colorbar": {
              "outlinewidth": 0,
              "ticks": ""
             }
            },
            "type": "scatterternary"
           }
          ],
          "surface": [
           {
            "colorbar": {
             "outlinewidth": 0,
             "ticks": ""
            },
            "colorscale": [
             [
              0,
              "#0d0887"
             ],
             [
              0.1111111111111111,
              "#46039f"
             ],
             [
              0.2222222222222222,
              "#7201a8"
             ],
             [
              0.3333333333333333,
              "#9c179e"
             ],
             [
              0.4444444444444444,
              "#bd3786"
             ],
             [
              0.5555555555555556,
              "#d8576b"
             ],
             [
              0.6666666666666666,
              "#ed7953"
             ],
             [
              0.7777777777777778,
              "#fb9f3a"
             ],
             [
              0.8888888888888888,
              "#fdca26"
             ],
             [
              1,
              "#f0f921"
             ]
            ],
            "type": "surface"
           }
          ],
          "table": [
           {
            "cells": {
             "fill": {
              "color": "#EBF0F8"
             },
             "line": {
              "color": "white"
             }
            },
            "header": {
             "fill": {
              "color": "#C8D4E3"
             },
             "line": {
              "color": "white"
             }
            },
            "type": "table"
           }
          ]
         },
         "layout": {
          "annotationdefaults": {
           "arrowcolor": "#2a3f5f",
           "arrowhead": 0,
           "arrowwidth": 1
          },
          "coloraxis": {
           "colorbar": {
            "outlinewidth": 0,
            "ticks": ""
           }
          },
          "colorscale": {
           "diverging": [
            [
             0,
             "#8e0152"
            ],
            [
             0.1,
             "#c51b7d"
            ],
            [
             0.2,
             "#de77ae"
            ],
            [
             0.3,
             "#f1b6da"
            ],
            [
             0.4,
             "#fde0ef"
            ],
            [
             0.5,
             "#f7f7f7"
            ],
            [
             0.6,
             "#e6f5d0"
            ],
            [
             0.7,
             "#b8e186"
            ],
            [
             0.8,
             "#7fbc41"
            ],
            [
             0.9,
             "#4d9221"
            ],
            [
             1,
             "#276419"
            ]
           ],
           "sequential": [
            [
             0,
             "#0d0887"
            ],
            [
             0.1111111111111111,
             "#46039f"
            ],
            [
             0.2222222222222222,
             "#7201a8"
            ],
            [
             0.3333333333333333,
             "#9c179e"
            ],
            [
             0.4444444444444444,
             "#bd3786"
            ],
            [
             0.5555555555555556,
             "#d8576b"
            ],
            [
             0.6666666666666666,
             "#ed7953"
            ],
            [
             0.7777777777777778,
             "#fb9f3a"
            ],
            [
             0.8888888888888888,
             "#fdca26"
            ],
            [
             1,
             "#f0f921"
            ]
           ],
           "sequentialminus": [
            [
             0,
             "#0d0887"
            ],
            [
             0.1111111111111111,
             "#46039f"
            ],
            [
             0.2222222222222222,
             "#7201a8"
            ],
            [
             0.3333333333333333,
             "#9c179e"
            ],
            [
             0.4444444444444444,
             "#bd3786"
            ],
            [
             0.5555555555555556,
             "#d8576b"
            ],
            [
             0.6666666666666666,
             "#ed7953"
            ],
            [
             0.7777777777777778,
             "#fb9f3a"
            ],
            [
             0.8888888888888888,
             "#fdca26"
            ],
            [
             1,
             "#f0f921"
            ]
           ]
          },
          "colorway": [
           "#636efa",
           "#EF553B",
           "#00cc96",
           "#ab63fa",
           "#FFA15A",
           "#19d3f3",
           "#FF6692",
           "#B6E880",
           "#FF97FF",
           "#FECB52"
          ],
          "font": {
           "color": "#2a3f5f"
          },
          "geo": {
           "bgcolor": "white",
           "lakecolor": "white",
           "landcolor": "#E5ECF6",
           "showlakes": true,
           "showland": true,
           "subunitcolor": "white"
          },
          "hoverlabel": {
           "align": "left"
          },
          "hovermode": "closest",
          "mapbox": {
           "style": "light"
          },
          "paper_bgcolor": "white",
          "plot_bgcolor": "#E5ECF6",
          "polar": {
           "angularaxis": {
            "gridcolor": "white",
            "linecolor": "white",
            "ticks": ""
           },
           "bgcolor": "#E5ECF6",
           "radialaxis": {
            "gridcolor": "white",
            "linecolor": "white",
            "ticks": ""
           }
          },
          "scene": {
           "xaxis": {
            "backgroundcolor": "#E5ECF6",
            "gridcolor": "white",
            "gridwidth": 2,
            "linecolor": "white",
            "showbackground": true,
            "ticks": "",
            "zerolinecolor": "white"
           },
           "yaxis": {
            "backgroundcolor": "#E5ECF6",
            "gridcolor": "white",
            "gridwidth": 2,
            "linecolor": "white",
            "showbackground": true,
            "ticks": "",
            "zerolinecolor": "white"
           },
           "zaxis": {
            "backgroundcolor": "#E5ECF6",
            "gridcolor": "white",
            "gridwidth": 2,
            "linecolor": "white",
            "showbackground": true,
            "ticks": "",
            "zerolinecolor": "white"
           }
          },
          "shapedefaults": {
           "line": {
            "color": "#2a3f5f"
           }
          },
          "ternary": {
           "aaxis": {
            "gridcolor": "white",
            "linecolor": "white",
            "ticks": ""
           },
           "baxis": {
            "gridcolor": "white",
            "linecolor": "white",
            "ticks": ""
           },
           "bgcolor": "#E5ECF6",
           "caxis": {
            "gridcolor": "white",
            "linecolor": "white",
            "ticks": ""
           }
          },
          "title": {
           "x": 0.05
          },
          "xaxis": {
           "automargin": true,
           "gridcolor": "white",
           "linecolor": "white",
           "ticks": "",
           "title": {
            "standoff": 15
           },
           "zerolinecolor": "white",
           "zerolinewidth": 2
          },
          "yaxis": {
           "automargin": true,
           "gridcolor": "white",
           "linecolor": "white",
           "ticks": "",
           "title": {
            "standoff": 15
           },
           "zerolinecolor": "white",
           "zerolinewidth": 2
          }
         }
        },
        "title": {
         "font": {
          "color": "#4D5663"
         }
        },
        "xaxis": {
         "gridcolor": "#E1E5ED",
         "showgrid": true,
         "tickfont": {
          "color": "#4D5663"
         },
         "title": {
          "font": {
           "color": "#4D5663"
          },
          "text": ""
         },
         "zerolinecolor": "#E1E5ED"
        },
        "yaxis": {
         "gridcolor": "#E1E5ED",
         "showgrid": true,
         "tickfont": {
          "color": "#4D5663"
         },
         "title": {
          "font": {
           "color": "#4D5663"
          },
          "text": ""
         },
         "zerolinecolor": "#E1E5ED"
        }
       }
      },
      "text/html": [
       "<div>\n",
       "        \n",
       "        \n",
       "            <div id=\"41d13003-2d48-420d-bee5-a1e822d55d59\" class=\"plotly-graph-div\" style=\"height:525px; width:100%;\"></div>\n",
       "            <script type=\"text/javascript\">\n",
       "                require([\"plotly\"], function(Plotly) {\n",
       "                    window.PLOTLYENV=window.PLOTLYENV || {};\n",
       "                    window.PLOTLYENV.BASE_URL='https://plot.ly';\n",
       "                    \n",
       "                if (document.getElementById(\"41d13003-2d48-420d-bee5-a1e822d55d59\")) {\n",
       "                    Plotly.newPlot(\n",
       "                        '41d13003-2d48-420d-bee5-a1e822d55d59',\n",
       "                        [{\"colorscale\": [[0.0, \"rgb(165,0,38)\"], [0.1, \"rgb(215,48,39)\"], [0.2, \"rgb(244,109,67)\"], [0.3, \"rgb(253,174,97)\"], [0.4, \"rgb(254,224,144)\"], [0.5, \"rgb(255,255,191)\"], [0.6, \"rgb(224,243,248)\"], [0.7, \"rgb(171,217,233)\"], [0.8, \"rgb(116,173,209)\"], [0.9, \"rgb(69,117,180)\"], [1.0, \"rgb(49,54,149)\"]], \"type\": \"surface\", \"x\": [0, 1, 2, 3, 4], \"y\": [\"x\", \"y\", \"z\"], \"z\": [[1, 2, 3, 4, 5], [10, 20, 30, 20, 10], [5, 4, 3, 2, 1]]}],\n",
       "                        {\"legend\": {\"bgcolor\": \"#F5F6F9\", \"font\": {\"color\": \"#4D5663\"}}, \"paper_bgcolor\": \"#F5F6F9\", \"plot_bgcolor\": \"#F5F6F9\", \"template\": {\"data\": {\"bar\": [{\"error_x\": {\"color\": \"#2a3f5f\"}, \"error_y\": {\"color\": \"#2a3f5f\"}, \"marker\": {\"line\": {\"color\": \"#E5ECF6\", \"width\": 0.5}}, \"type\": \"bar\"}], \"barpolar\": [{\"marker\": {\"line\": {\"color\": \"#E5ECF6\", \"width\": 0.5}}, \"type\": \"barpolar\"}], \"carpet\": [{\"aaxis\": {\"endlinecolor\": \"#2a3f5f\", \"gridcolor\": \"white\", \"linecolor\": \"white\", \"minorgridcolor\": \"white\", \"startlinecolor\": \"#2a3f5f\"}, \"baxis\": {\"endlinecolor\": \"#2a3f5f\", \"gridcolor\": \"white\", \"linecolor\": \"white\", \"minorgridcolor\": \"white\", \"startlinecolor\": \"#2a3f5f\"}, \"type\": \"carpet\"}], \"choropleth\": [{\"colorbar\": {\"outlinewidth\": 0, \"ticks\": \"\"}, \"type\": \"choropleth\"}], \"contour\": [{\"colorbar\": {\"outlinewidth\": 0, \"ticks\": \"\"}, \"colorscale\": [[0.0, \"#0d0887\"], [0.1111111111111111, \"#46039f\"], [0.2222222222222222, \"#7201a8\"], [0.3333333333333333, \"#9c179e\"], [0.4444444444444444, \"#bd3786\"], [0.5555555555555556, \"#d8576b\"], [0.6666666666666666, \"#ed7953\"], [0.7777777777777778, \"#fb9f3a\"], [0.8888888888888888, \"#fdca26\"], [1.0, \"#f0f921\"]], \"type\": \"contour\"}], \"contourcarpet\": [{\"colorbar\": {\"outlinewidth\": 0, \"ticks\": \"\"}, \"type\": \"contourcarpet\"}], \"heatmap\": [{\"colorbar\": {\"outlinewidth\": 0, \"ticks\": \"\"}, \"colorscale\": [[0.0, \"#0d0887\"], [0.1111111111111111, \"#46039f\"], [0.2222222222222222, \"#7201a8\"], [0.3333333333333333, \"#9c179e\"], [0.4444444444444444, \"#bd3786\"], [0.5555555555555556, \"#d8576b\"], [0.6666666666666666, \"#ed7953\"], [0.7777777777777778, \"#fb9f3a\"], [0.8888888888888888, \"#fdca26\"], [1.0, \"#f0f921\"]], \"type\": \"heatmap\"}], \"heatmapgl\": [{\"colorbar\": {\"outlinewidth\": 0, \"ticks\": \"\"}, \"colorscale\": [[0.0, \"#0d0887\"], [0.1111111111111111, \"#46039f\"], [0.2222222222222222, \"#7201a8\"], [0.3333333333333333, \"#9c179e\"], [0.4444444444444444, \"#bd3786\"], [0.5555555555555556, \"#d8576b\"], [0.6666666666666666, \"#ed7953\"], [0.7777777777777778, \"#fb9f3a\"], [0.8888888888888888, \"#fdca26\"], [1.0, \"#f0f921\"]], \"type\": \"heatmapgl\"}], \"histogram\": [{\"marker\": {\"colorbar\": {\"outlinewidth\": 0, \"ticks\": \"\"}}, \"type\": \"histogram\"}], \"histogram2d\": [{\"colorbar\": {\"outlinewidth\": 0, \"ticks\": \"\"}, \"colorscale\": [[0.0, \"#0d0887\"], [0.1111111111111111, \"#46039f\"], [0.2222222222222222, \"#7201a8\"], [0.3333333333333333, \"#9c179e\"], [0.4444444444444444, \"#bd3786\"], [0.5555555555555556, \"#d8576b\"], [0.6666666666666666, \"#ed7953\"], [0.7777777777777778, \"#fb9f3a\"], [0.8888888888888888, \"#fdca26\"], [1.0, \"#f0f921\"]], \"type\": \"histogram2d\"}], \"histogram2dcontour\": [{\"colorbar\": {\"outlinewidth\": 0, \"ticks\": \"\"}, \"colorscale\": [[0.0, \"#0d0887\"], [0.1111111111111111, \"#46039f\"], [0.2222222222222222, \"#7201a8\"], [0.3333333333333333, \"#9c179e\"], [0.4444444444444444, \"#bd3786\"], [0.5555555555555556, \"#d8576b\"], [0.6666666666666666, \"#ed7953\"], [0.7777777777777778, \"#fb9f3a\"], [0.8888888888888888, \"#fdca26\"], [1.0, \"#f0f921\"]], \"type\": \"histogram2dcontour\"}], \"mesh3d\": [{\"colorbar\": {\"outlinewidth\": 0, \"ticks\": \"\"}, \"type\": \"mesh3d\"}], \"parcoords\": [{\"line\": {\"colorbar\": {\"outlinewidth\": 0, \"ticks\": \"\"}}, \"type\": \"parcoords\"}], \"pie\": [{\"automargin\": true, \"type\": \"pie\"}], \"scatter\": [{\"marker\": {\"colorbar\": {\"outlinewidth\": 0, \"ticks\": \"\"}}, \"type\": \"scatter\"}], \"scatter3d\": [{\"line\": {\"colorbar\": {\"outlinewidth\": 0, \"ticks\": \"\"}}, \"marker\": {\"colorbar\": {\"outlinewidth\": 0, \"ticks\": \"\"}}, \"type\": \"scatter3d\"}], \"scattercarpet\": [{\"marker\": {\"colorbar\": {\"outlinewidth\": 0, \"ticks\": \"\"}}, \"type\": \"scattercarpet\"}], \"scattergeo\": [{\"marker\": {\"colorbar\": {\"outlinewidth\": 0, \"ticks\": \"\"}}, \"type\": \"scattergeo\"}], \"scattergl\": [{\"marker\": {\"colorbar\": {\"outlinewidth\": 0, \"ticks\": \"\"}}, \"type\": \"scattergl\"}], \"scattermapbox\": [{\"marker\": {\"colorbar\": {\"outlinewidth\": 0, \"ticks\": \"\"}}, \"type\": \"scattermapbox\"}], \"scatterpolar\": [{\"marker\": {\"colorbar\": {\"outlinewidth\": 0, \"ticks\": \"\"}}, \"type\": \"scatterpolar\"}], \"scatterpolargl\": [{\"marker\": {\"colorbar\": {\"outlinewidth\": 0, \"ticks\": \"\"}}, \"type\": \"scatterpolargl\"}], \"scatterternary\": [{\"marker\": {\"colorbar\": {\"outlinewidth\": 0, \"ticks\": \"\"}}, \"type\": \"scatterternary\"}], \"surface\": [{\"colorbar\": {\"outlinewidth\": 0, \"ticks\": \"\"}, \"colorscale\": [[0.0, \"#0d0887\"], [0.1111111111111111, \"#46039f\"], [0.2222222222222222, \"#7201a8\"], [0.3333333333333333, \"#9c179e\"], [0.4444444444444444, \"#bd3786\"], [0.5555555555555556, \"#d8576b\"], [0.6666666666666666, \"#ed7953\"], [0.7777777777777778, \"#fb9f3a\"], [0.8888888888888888, \"#fdca26\"], [1.0, \"#f0f921\"]], \"type\": \"surface\"}], \"table\": [{\"cells\": {\"fill\": {\"color\": \"#EBF0F8\"}, \"line\": {\"color\": \"white\"}}, \"header\": {\"fill\": {\"color\": \"#C8D4E3\"}, \"line\": {\"color\": \"white\"}}, \"type\": \"table\"}]}, \"layout\": {\"annotationdefaults\": {\"arrowcolor\": \"#2a3f5f\", \"arrowhead\": 0, \"arrowwidth\": 1}, \"coloraxis\": {\"colorbar\": {\"outlinewidth\": 0, \"ticks\": \"\"}}, \"colorscale\": {\"diverging\": [[0, \"#8e0152\"], [0.1, \"#c51b7d\"], [0.2, \"#de77ae\"], [0.3, \"#f1b6da\"], [0.4, \"#fde0ef\"], [0.5, \"#f7f7f7\"], [0.6, \"#e6f5d0\"], [0.7, \"#b8e186\"], [0.8, \"#7fbc41\"], [0.9, \"#4d9221\"], [1, \"#276419\"]], \"sequential\": [[0.0, \"#0d0887\"], [0.1111111111111111, \"#46039f\"], [0.2222222222222222, \"#7201a8\"], [0.3333333333333333, \"#9c179e\"], [0.4444444444444444, \"#bd3786\"], [0.5555555555555556, \"#d8576b\"], [0.6666666666666666, \"#ed7953\"], [0.7777777777777778, \"#fb9f3a\"], [0.8888888888888888, \"#fdca26\"], [1.0, \"#f0f921\"]], \"sequentialminus\": [[0.0, \"#0d0887\"], [0.1111111111111111, \"#46039f\"], [0.2222222222222222, \"#7201a8\"], [0.3333333333333333, \"#9c179e\"], [0.4444444444444444, \"#bd3786\"], [0.5555555555555556, \"#d8576b\"], [0.6666666666666666, \"#ed7953\"], [0.7777777777777778, \"#fb9f3a\"], [0.8888888888888888, \"#fdca26\"], [1.0, \"#f0f921\"]]}, \"colorway\": [\"#636efa\", \"#EF553B\", \"#00cc96\", \"#ab63fa\", \"#FFA15A\", \"#19d3f3\", \"#FF6692\", \"#B6E880\", \"#FF97FF\", \"#FECB52\"], \"font\": {\"color\": \"#2a3f5f\"}, \"geo\": {\"bgcolor\": \"white\", \"lakecolor\": \"white\", \"landcolor\": \"#E5ECF6\", \"showlakes\": true, \"showland\": true, \"subunitcolor\": \"white\"}, \"hoverlabel\": {\"align\": \"left\"}, \"hovermode\": \"closest\", \"mapbox\": {\"style\": \"light\"}, \"paper_bgcolor\": \"white\", \"plot_bgcolor\": \"#E5ECF6\", \"polar\": {\"angularaxis\": {\"gridcolor\": \"white\", \"linecolor\": \"white\", \"ticks\": \"\"}, \"bgcolor\": \"#E5ECF6\", \"radialaxis\": {\"gridcolor\": \"white\", \"linecolor\": \"white\", \"ticks\": \"\"}}, \"scene\": {\"xaxis\": {\"backgroundcolor\": \"#E5ECF6\", \"gridcolor\": \"white\", \"gridwidth\": 2, \"linecolor\": \"white\", \"showbackground\": true, \"ticks\": \"\", \"zerolinecolor\": \"white\"}, \"yaxis\": {\"backgroundcolor\": \"#E5ECF6\", \"gridcolor\": \"white\", \"gridwidth\": 2, \"linecolor\": \"white\", \"showbackground\": true, \"ticks\": \"\", \"zerolinecolor\": \"white\"}, \"zaxis\": {\"backgroundcolor\": \"#E5ECF6\", \"gridcolor\": \"white\", \"gridwidth\": 2, \"linecolor\": \"white\", \"showbackground\": true, \"ticks\": \"\", \"zerolinecolor\": \"white\"}}, \"shapedefaults\": {\"line\": {\"color\": \"#2a3f5f\"}}, \"ternary\": {\"aaxis\": {\"gridcolor\": \"white\", \"linecolor\": \"white\", \"ticks\": \"\"}, \"baxis\": {\"gridcolor\": \"white\", \"linecolor\": \"white\", \"ticks\": \"\"}, \"bgcolor\": \"#E5ECF6\", \"caxis\": {\"gridcolor\": \"white\", \"linecolor\": \"white\", \"ticks\": \"\"}}, \"title\": {\"x\": 0.05}, \"xaxis\": {\"automargin\": true, \"gridcolor\": \"white\", \"linecolor\": \"white\", \"ticks\": \"\", \"title\": {\"standoff\": 15}, \"zerolinecolor\": \"white\", \"zerolinewidth\": 2}, \"yaxis\": {\"automargin\": true, \"gridcolor\": \"white\", \"linecolor\": \"white\", \"ticks\": \"\", \"title\": {\"standoff\": 15}, \"zerolinecolor\": \"white\", \"zerolinewidth\": 2}}}, \"title\": {\"font\": {\"color\": \"#4D5663\"}}, \"xaxis\": {\"gridcolor\": \"#E1E5ED\", \"showgrid\": true, \"tickfont\": {\"color\": \"#4D5663\"}, \"title\": {\"font\": {\"color\": \"#4D5663\"}, \"text\": \"\"}, \"zerolinecolor\": \"#E1E5ED\"}, \"yaxis\": {\"gridcolor\": \"#E1E5ED\", \"showgrid\": true, \"tickfont\": {\"color\": \"#4D5663\"}, \"title\": {\"font\": {\"color\": \"#4D5663\"}, \"text\": \"\"}, \"zerolinecolor\": \"#E1E5ED\"}},\n",
       "                        {\"showLink\": true, \"linkText\": \"Export to plot.ly\", \"plotlyServerURL\": \"https://plot.ly\", \"responsive\": true}\n",
       "                    ).then(function(){\n",
       "                            \n",
       "var gd = document.getElementById('41d13003-2d48-420d-bee5-a1e822d55d59');\n",
       "var x = new MutationObserver(function (mutations, observer) {{\n",
       "        var display = window.getComputedStyle(gd).display;\n",
       "        if (!display || display === 'none') {{\n",
       "            console.log([gd, 'removed!']);\n",
       "            Plotly.purge(gd);\n",
       "            observer.disconnect();\n",
       "        }}\n",
       "}});\n",
       "\n",
       "// Listen for the removal of the full notebook cells\n",
       "var notebookContainer = gd.closest('#notebook-container');\n",
       "if (notebookContainer) {{\n",
       "    x.observe(notebookContainer, {childList: true});\n",
       "}}\n",
       "\n",
       "// Listen for the clearing of the current output cell\n",
       "var outputEl = gd.closest('.output');\n",
       "if (outputEl) {{\n",
       "    x.observe(outputEl, {childList: true});\n",
       "}}\n",
       "\n",
       "                        })\n",
       "                };\n",
       "                });\n",
       "            </script>\n",
       "        </div>"
      ]
     },
     "metadata": {},
     "output_type": "display_data"
    }
   ],
   "source": [
    "df3 = pd.DataFrame({'x':[1,2,3,4,5],'y':[10,20,30,20,10],'z':[5,4,3,2,1]})\n",
    "df3.iplot(kind='surface',colorscale='rdylbu')"
   ]
  },
  {
   "cell_type": "markdown",
   "metadata": {},
   "source": [
    "## Spread"
   ]
  },
  {
   "cell_type": "code",
   "execution_count": 22,
   "metadata": {},
   "outputs": [
    {
     "data": {
      "application/vnd.plotly.v1+json": {
       "config": {
        "linkText": "Export to plot.ly",
        "plotlyServerURL": "https://plot.ly",
        "showLink": true
       },
       "data": [
        {
         "line": {
          "color": "rgba(255, 153, 51, 1.0)",
          "dash": "solid",
          "shape": "linear",
          "width": 1.3
         },
         "mode": "lines",
         "name": "A",
         "text": "",
         "type": "scatter",
         "x": [
          0,
          1,
          2,
          3,
          4,
          5,
          6,
          7,
          8,
          9,
          10,
          11,
          12,
          13,
          14,
          15,
          16,
          17,
          18,
          19,
          20,
          21,
          22,
          23,
          24,
          25,
          26,
          27,
          28,
          29,
          30,
          31,
          32,
          33,
          34,
          35,
          36,
          37,
          38,
          39,
          40,
          41,
          42,
          43,
          44,
          45,
          46,
          47,
          48,
          49,
          50,
          51,
          52,
          53,
          54,
          55,
          56,
          57,
          58,
          59,
          60,
          61,
          62,
          63,
          64,
          65,
          66,
          67,
          68,
          69,
          70,
          71,
          72,
          73,
          74,
          75,
          76,
          77,
          78,
          79,
          80,
          81,
          82,
          83,
          84,
          85,
          86,
          87,
          88,
          89,
          90,
          91,
          92,
          93,
          94,
          95,
          96,
          97,
          98,
          99
         ],
         "y": [
          -0.09460603389983938,
          -1.115161546621085,
          0.552250823286241,
          -0.7055585325246749,
          1.0670013833110146,
          -0.07525731914888965,
          -1.6446033596519718,
          -0.5731132448732882,
          0.28230643408060346,
          -0.6369429176693027,
          -0.463511904581433,
          -0.6818221515715177,
          1.59240552402439,
          -0.2310620264246376,
          -0.35468737820097457,
          1.2691226063805376,
          -1.4841009789615545,
          0.364885132366754,
          0.29974569384933014,
          0.3132572406958177,
          -0.8102636947808791,
          0.30326014383977185,
          -0.21028570150169376,
          0.2614901512140256,
          0.2829084841851137,
          -0.34187122348639937,
          0.6142993959736801,
          -1.0414937499282173,
          0.9659132783487621,
          0.41805635893271176,
          1.06600170275434,
          -0.5663640057412325,
          -0.14857852734621776,
          3.623714617818191,
          -1.3600316145541635,
          0.2567161441480053,
          -0.6611837387514589,
          1.29355716133248,
          -0.19598547591848683,
          0.7998749870418101,
          1.0155298030451088,
          -0.06856500394033782,
          0.5239722030750937,
          -0.9834154296918106,
          -0.21776853784336786,
          -0.24696562933856378,
          -1.0855733141799837,
          -0.9173815950664124,
          -0.44408610344305527,
          -0.6979985385575076,
          -0.8598898351611934,
          1.6047381407356591,
          -0.5121271928381996,
          -0.5690117266214028,
          -1.2928831125482076,
          -0.16234669644829336,
          0.2694659729180265,
          -1.78561152072582,
          -1.428921850440534,
          -0.8621474792297036,
          -0.10637837209491757,
          0.4559792143724122,
          -0.8574353878244705,
          0.3021885994240502,
          -0.6103244159191482,
          -0.13726219349285845,
          0.5166354607657865,
          0.9059694275722422,
          -0.7067201810359846,
          -1.2311046837646813,
          -0.6412688895420384,
          -0.7819574959040753,
          -1.0179952653389717,
          0.1916237565333311,
          -0.6639610916594818,
          -0.15226547568551907,
          1.3306783412941994,
          -0.2567291255971543,
          0.2440121159927055,
          0.808940508913544,
          0.8949476598798622,
          0.7215510656519343,
          0.33975029703787796,
          0.0487793512520937,
          0.014331855573335089,
          0.9586024020595021,
          0.6164197105007017,
          -1.5382301075004485,
          0.2997924069194535,
          0.4659523836493858,
          0.6384592931548604,
          1.5109032777927809,
          1.176181158569553,
          1.9540048439726154,
          -1.2859495924226727,
          -0.887694697363015,
          0.13068821466303016,
          1.212937405174254,
          -0.10810375040123243,
          0.2549416048048139
         ]
        },
        {
         "line": {
          "color": "rgba(55, 128, 191, 1.0)",
          "dash": "solid",
          "shape": "linear",
          "width": 1.3
         },
         "mode": "lines",
         "name": "B",
         "text": "",
         "type": "scatter",
         "x": [
          0,
          1,
          2,
          3,
          4,
          5,
          6,
          7,
          8,
          9,
          10,
          11,
          12,
          13,
          14,
          15,
          16,
          17,
          18,
          19,
          20,
          21,
          22,
          23,
          24,
          25,
          26,
          27,
          28,
          29,
          30,
          31,
          32,
          33,
          34,
          35,
          36,
          37,
          38,
          39,
          40,
          41,
          42,
          43,
          44,
          45,
          46,
          47,
          48,
          49,
          50,
          51,
          52,
          53,
          54,
          55,
          56,
          57,
          58,
          59,
          60,
          61,
          62,
          63,
          64,
          65,
          66,
          67,
          68,
          69,
          70,
          71,
          72,
          73,
          74,
          75,
          76,
          77,
          78,
          79,
          80,
          81,
          82,
          83,
          84,
          85,
          86,
          87,
          88,
          89,
          90,
          91,
          92,
          93,
          94,
          95,
          96,
          97,
          98,
          99
         ],
         "y": [
          0.1081415629462722,
          0.4268245327166299,
          1.5445724980427822,
          0.9749858108183381,
          0.11449114167189642,
          1.4909096828570594,
          -0.5260456895720725,
          -1.3758691637260192,
          1.044161724360801,
          -1.1092315877742995,
          0.9670447984242331,
          -0.49257750966647734,
          1.0083424456629906,
          1.6885392876330236,
          1.0257650564036982,
          2.99075191788488,
          -0.9350489509778263,
          1.3509322989107693,
          0.7327247826693019,
          -1.216688483531076,
          0.439187156007758,
          0.7834858278015342,
          -1.0010346920455842,
          -0.18418277849451004,
          0.6691026962458871,
          -1.4144483849267844,
          0.8692718843241752,
          -0.21714490067334163,
          1.5080736437005582,
          0.21633766008584335,
          0.21540298577400788,
          0.39668945806355743,
          1.6920374198303962,
          2.1291025135898645,
          1.0086829319016535,
          0.6882703768598456,
          0.5260058746129411,
          -0.32403554739037366,
          -2.5808940818911505,
          -0.44918693914966534,
          -1.2867007075492303,
          0.8817648710663066,
          -0.2116089089096702,
          -0.5901077282473927,
          -1.0962507700134656,
          0.12608049280794345,
          0.317036264205109,
          0.7756982105135313,
          0.7909109267769698,
          0.7409657789632829,
          -0.9825901210917485,
          -0.08636936949193734,
          0.10096210691370497,
          -0.2813182291307528,
          -1.0250092240672513,
          -0.360665288454977,
          1.4124426002380253,
          0.2381977331747811,
          -0.752549537439929,
          0.8198761767071212,
          0.2944436999635293,
          -1.4739537040295216,
          0.16679057324504853,
          1.6740543786755937,
          -1.0748604415950138,
          0.7751341167935993,
          0.9539902019500902,
          -0.9918431337061299,
          0.042113280156370794,
          0.35927719801313474,
          -0.8380540062867653,
          1.565365597960983,
          -0.8558934319004765,
          2.0180128424056836,
          0.514647344235371,
          -1.5144668221405355,
          -1.540063547852475,
          -1.1225329538451916,
          0.6634805682965175,
          0.05867190349109249,
          0.14132776451484372,
          -0.42345845862152137,
          0.08108099227504234,
          -0.9921570022559376,
          -0.11472860485217094,
          -0.2871729128066149,
          0.5942010414877332,
          -0.6906728192068669,
          -0.1932952922984659,
          0.3353581241138731,
          -0.710578443380192,
          -0.010508048548534713,
          0.2472535856529788,
          -0.5764328208509977,
          -2.0137544897542825,
          -0.013688338442916483,
          -0.08955780113355191,
          -0.3894832296265267,
          -0.5903110638733836,
          0.599868761822671
         ]
        },
        {
         "connectgaps": false,
         "fill": "tozeroy",
         "line": {
          "color": "green",
          "dash": "solid",
          "shape": "linear",
          "width": 0.5
         },
         "mode": "lines",
         "name": "Spread",
         "showlegend": false,
         "type": "scatter",
         "x": [
          0,
          1,
          2,
          3,
          4,
          5,
          6,
          7,
          8,
          9,
          10,
          11,
          12,
          13,
          14,
          15,
          16,
          17,
          18,
          19,
          20,
          21,
          22,
          23,
          24,
          25,
          26,
          27,
          28,
          29,
          30,
          31,
          32,
          33,
          34,
          35,
          36,
          37,
          38,
          39,
          40,
          41,
          42,
          43,
          44,
          45,
          46,
          47,
          48,
          49,
          50,
          51,
          52,
          53,
          54,
          55,
          56,
          57,
          58,
          59,
          60,
          61,
          62,
          63,
          64,
          65,
          66,
          67,
          68,
          69,
          70,
          71,
          72,
          73,
          74,
          75,
          76,
          77,
          78,
          79,
          80,
          81,
          82,
          83,
          84,
          85,
          86,
          87,
          88,
          89,
          90,
          91,
          92,
          93,
          94,
          95,
          96,
          97,
          98,
          99
         ],
         "xaxis": "x2",
         "y": [
          "",
          "",
          "",
          "",
          0.9525102416391181,
          "",
          "",
          0.802755918852731,
          "",
          0.47228867010499687,
          "",
          "",
          0.5840630783613994,
          "",
          "",
          "",
          "",
          "",
          "",
          1.5299457242268937,
          "",
          "",
          0.7907489905438904,
          0.4456729297085356,
          "",
          1.072577161440385,
          "",
          "",
          "",
          0.2017186988468684,
          0.8505987169803322,
          "",
          "",
          1.4946121042283265,
          "",
          "",
          "",
          1.6175927087228539,
          2.384908605972664,
          1.2490619261914755,
          2.302230510594339,
          "",
          0.735581111984764,
          "",
          0.8784822321700978,
          "",
          "",
          "",
          "",
          "",
          0.12270028593055504,
          1.6911075102275965,
          "",
          "",
          "",
          0.1983185920066836,
          "",
          "",
          "",
          "",
          "",
          1.9299329184019338,
          "",
          "",
          0.4645360256758656,
          "",
          "",
          1.897812561278372,
          "",
          "",
          0.19678511674472687,
          "",
          "",
          "",
          "",
          1.3622013464550164,
          2.8707418891466743,
          0.8658038282480374,
          "",
          0.7502686054224514,
          0.7536198953650185,
          1.1450095242734557,
          0.2586693047628356,
          1.0409363535080314,
          0.12906046042550604,
          1.245775314866117,
          0.02221866901296843,
          "",
          0.4930876992179194,
          0.13059425953551268,
          1.3490377365350525,
          1.5214113263413156,
          0.9289275729165741,
          2.530437664823613,
          0.7278048973316098,
          "",
          0.22024601579658207,
          1.6024206348007808,
          0.4822073134721512,
          ""
         ],
         "yaxis": "y2"
        },
        {
         "connectgaps": false,
         "fill": "tozeroy",
         "line": {
          "color": "red",
          "dash": "solid",
          "shape": "linear",
          "width": 0.5
         },
         "mode": "lines",
         "name": "Spread",
         "showlegend": false,
         "type": "scatter",
         "x": [
          0,
          1,
          2,
          3,
          4,
          5,
          6,
          7,
          8,
          9,
          10,
          11,
          12,
          13,
          14,
          15,
          16,
          17,
          18,
          19,
          20,
          21,
          22,
          23,
          24,
          25,
          26,
          27,
          28,
          29,
          30,
          31,
          32,
          33,
          34,
          35,
          36,
          37,
          38,
          39,
          40,
          41,
          42,
          43,
          44,
          45,
          46,
          47,
          48,
          49,
          50,
          51,
          52,
          53,
          54,
          55,
          56,
          57,
          58,
          59,
          60,
          61,
          62,
          63,
          64,
          65,
          66,
          67,
          68,
          69,
          70,
          71,
          72,
          73,
          74,
          75,
          76,
          77,
          78,
          79,
          80,
          81,
          82,
          83,
          84,
          85,
          86,
          87,
          88,
          89,
          90,
          91,
          92,
          93,
          94,
          95,
          96,
          97,
          98,
          99
         ],
         "xaxis": "x2",
         "y": [
          -0.20274759684611157,
          -1.5419860793377147,
          -0.9923216747565412,
          -1.680544343343013,
          "",
          -1.566167002005949,
          -1.1185576700798991,
          "",
          -0.7618552902801976,
          "",
          -1.430556703005666,
          -0.18924464190504037,
          "",
          -1.9196013140576613,
          -1.3804524346046727,
          -1.7216293115043424,
          -0.5490520279837282,
          -0.9860471665440153,
          -0.4329790888199717,
          "",
          -1.249450850788637,
          -0.48022568396176235,
          "",
          "",
          -0.3861942120607734,
          "",
          -0.25497248835049513,
          -0.8243488492548756,
          -0.5421603653517961,
          "",
          "",
          -0.9630534638047898,
          -1.840615947176614,
          "",
          -2.3687145464558172,
          -0.4315542327118403,
          -1.1871896133644,
          "",
          "",
          "",
          "",
          -0.9503298750066445,
          "",
          -0.39330770144441796,
          "",
          -0.37304612214650723,
          -1.4026095783850927,
          -1.6930798055799436,
          -1.234997030220025,
          -1.4389643175207905,
          "",
          "",
          -0.6130892997519046,
          -0.28769349749065,
          -0.2678738884809564,
          "",
          -1.1429766273199988,
          -2.023809253900601,
          -0.6763723130006051,
          -1.682023655936825,
          -0.4008220720584469,
          "",
          -1.024225961069519,
          -1.3718657792515434,
          "",
          -0.9123963102864578,
          -0.43735474118430373,
          "",
          -0.7488334611923554,
          -1.590381881777816,
          "",
          -2.347323093865058,
          -0.16210183343849516,
          -1.8263890858723524,
          -1.1786084358948528,
          "",
          "",
          "",
          -0.41946845230381197,
          "",
          "",
          "",
          "",
          "",
          "",
          "",
          "",
          -0.8475572882935817,
          "",
          "",
          "",
          "",
          "",
          "",
          "",
          -0.8740063589200985,
          "",
          "",
          "",
          -0.3449271570178571
         ],
         "yaxis": "y2"
        }
       ],
       "layout": {
        "hovermode": "x",
        "legend": {
         "bgcolor": "#F5F6F9",
         "font": {
          "color": "#4D5663"
         }
        },
        "paper_bgcolor": "#F5F6F9",
        "plot_bgcolor": "#F5F6F9",
        "template": {
         "data": {
          "bar": [
           {
            "error_x": {
             "color": "#2a3f5f"
            },
            "error_y": {
             "color": "#2a3f5f"
            },
            "marker": {
             "line": {
              "color": "#E5ECF6",
              "width": 0.5
             }
            },
            "type": "bar"
           }
          ],
          "barpolar": [
           {
            "marker": {
             "line": {
              "color": "#E5ECF6",
              "width": 0.5
             }
            },
            "type": "barpolar"
           }
          ],
          "carpet": [
           {
            "aaxis": {
             "endlinecolor": "#2a3f5f",
             "gridcolor": "white",
             "linecolor": "white",
             "minorgridcolor": "white",
             "startlinecolor": "#2a3f5f"
            },
            "baxis": {
             "endlinecolor": "#2a3f5f",
             "gridcolor": "white",
             "linecolor": "white",
             "minorgridcolor": "white",
             "startlinecolor": "#2a3f5f"
            },
            "type": "carpet"
           }
          ],
          "choropleth": [
           {
            "colorbar": {
             "outlinewidth": 0,
             "ticks": ""
            },
            "type": "choropleth"
           }
          ],
          "contour": [
           {
            "colorbar": {
             "outlinewidth": 0,
             "ticks": ""
            },
            "colorscale": [
             [
              0,
              "#0d0887"
             ],
             [
              0.1111111111111111,
              "#46039f"
             ],
             [
              0.2222222222222222,
              "#7201a8"
             ],
             [
              0.3333333333333333,
              "#9c179e"
             ],
             [
              0.4444444444444444,
              "#bd3786"
             ],
             [
              0.5555555555555556,
              "#d8576b"
             ],
             [
              0.6666666666666666,
              "#ed7953"
             ],
             [
              0.7777777777777778,
              "#fb9f3a"
             ],
             [
              0.8888888888888888,
              "#fdca26"
             ],
             [
              1,
              "#f0f921"
             ]
            ],
            "type": "contour"
           }
          ],
          "contourcarpet": [
           {
            "colorbar": {
             "outlinewidth": 0,
             "ticks": ""
            },
            "type": "contourcarpet"
           }
          ],
          "heatmap": [
           {
            "colorbar": {
             "outlinewidth": 0,
             "ticks": ""
            },
            "colorscale": [
             [
              0,
              "#0d0887"
             ],
             [
              0.1111111111111111,
              "#46039f"
             ],
             [
              0.2222222222222222,
              "#7201a8"
             ],
             [
              0.3333333333333333,
              "#9c179e"
             ],
             [
              0.4444444444444444,
              "#bd3786"
             ],
             [
              0.5555555555555556,
              "#d8576b"
             ],
             [
              0.6666666666666666,
              "#ed7953"
             ],
             [
              0.7777777777777778,
              "#fb9f3a"
             ],
             [
              0.8888888888888888,
              "#fdca26"
             ],
             [
              1,
              "#f0f921"
             ]
            ],
            "type": "heatmap"
           }
          ],
          "heatmapgl": [
           {
            "colorbar": {
             "outlinewidth": 0,
             "ticks": ""
            },
            "colorscale": [
             [
              0,
              "#0d0887"
             ],
             [
              0.1111111111111111,
              "#46039f"
             ],
             [
              0.2222222222222222,
              "#7201a8"
             ],
             [
              0.3333333333333333,
              "#9c179e"
             ],
             [
              0.4444444444444444,
              "#bd3786"
             ],
             [
              0.5555555555555556,
              "#d8576b"
             ],
             [
              0.6666666666666666,
              "#ed7953"
             ],
             [
              0.7777777777777778,
              "#fb9f3a"
             ],
             [
              0.8888888888888888,
              "#fdca26"
             ],
             [
              1,
              "#f0f921"
             ]
            ],
            "type": "heatmapgl"
           }
          ],
          "histogram": [
           {
            "marker": {
             "colorbar": {
              "outlinewidth": 0,
              "ticks": ""
             }
            },
            "type": "histogram"
           }
          ],
          "histogram2d": [
           {
            "colorbar": {
             "outlinewidth": 0,
             "ticks": ""
            },
            "colorscale": [
             [
              0,
              "#0d0887"
             ],
             [
              0.1111111111111111,
              "#46039f"
             ],
             [
              0.2222222222222222,
              "#7201a8"
             ],
             [
              0.3333333333333333,
              "#9c179e"
             ],
             [
              0.4444444444444444,
              "#bd3786"
             ],
             [
              0.5555555555555556,
              "#d8576b"
             ],
             [
              0.6666666666666666,
              "#ed7953"
             ],
             [
              0.7777777777777778,
              "#fb9f3a"
             ],
             [
              0.8888888888888888,
              "#fdca26"
             ],
             [
              1,
              "#f0f921"
             ]
            ],
            "type": "histogram2d"
           }
          ],
          "histogram2dcontour": [
           {
            "colorbar": {
             "outlinewidth": 0,
             "ticks": ""
            },
            "colorscale": [
             [
              0,
              "#0d0887"
             ],
             [
              0.1111111111111111,
              "#46039f"
             ],
             [
              0.2222222222222222,
              "#7201a8"
             ],
             [
              0.3333333333333333,
              "#9c179e"
             ],
             [
              0.4444444444444444,
              "#bd3786"
             ],
             [
              0.5555555555555556,
              "#d8576b"
             ],
             [
              0.6666666666666666,
              "#ed7953"
             ],
             [
              0.7777777777777778,
              "#fb9f3a"
             ],
             [
              0.8888888888888888,
              "#fdca26"
             ],
             [
              1,
              "#f0f921"
             ]
            ],
            "type": "histogram2dcontour"
           }
          ],
          "mesh3d": [
           {
            "colorbar": {
             "outlinewidth": 0,
             "ticks": ""
            },
            "type": "mesh3d"
           }
          ],
          "parcoords": [
           {
            "line": {
             "colorbar": {
              "outlinewidth": 0,
              "ticks": ""
             }
            },
            "type": "parcoords"
           }
          ],
          "pie": [
           {
            "automargin": true,
            "type": "pie"
           }
          ],
          "scatter": [
           {
            "marker": {
             "colorbar": {
              "outlinewidth": 0,
              "ticks": ""
             }
            },
            "type": "scatter"
           }
          ],
          "scatter3d": [
           {
            "line": {
             "colorbar": {
              "outlinewidth": 0,
              "ticks": ""
             }
            },
            "marker": {
             "colorbar": {
              "outlinewidth": 0,
              "ticks": ""
             }
            },
            "type": "scatter3d"
           }
          ],
          "scattercarpet": [
           {
            "marker": {
             "colorbar": {
              "outlinewidth": 0,
              "ticks": ""
             }
            },
            "type": "scattercarpet"
           }
          ],
          "scattergeo": [
           {
            "marker": {
             "colorbar": {
              "outlinewidth": 0,
              "ticks": ""
             }
            },
            "type": "scattergeo"
           }
          ],
          "scattergl": [
           {
            "marker": {
             "colorbar": {
              "outlinewidth": 0,
              "ticks": ""
             }
            },
            "type": "scattergl"
           }
          ],
          "scattermapbox": [
           {
            "marker": {
             "colorbar": {
              "outlinewidth": 0,
              "ticks": ""
             }
            },
            "type": "scattermapbox"
           }
          ],
          "scatterpolar": [
           {
            "marker": {
             "colorbar": {
              "outlinewidth": 0,
              "ticks": ""
             }
            },
            "type": "scatterpolar"
           }
          ],
          "scatterpolargl": [
           {
            "marker": {
             "colorbar": {
              "outlinewidth": 0,
              "ticks": ""
             }
            },
            "type": "scatterpolargl"
           }
          ],
          "scatterternary": [
           {
            "marker": {
             "colorbar": {
              "outlinewidth": 0,
              "ticks": ""
             }
            },
            "type": "scatterternary"
           }
          ],
          "surface": [
           {
            "colorbar": {
             "outlinewidth": 0,
             "ticks": ""
            },
            "colorscale": [
             [
              0,
              "#0d0887"
             ],
             [
              0.1111111111111111,
              "#46039f"
             ],
             [
              0.2222222222222222,
              "#7201a8"
             ],
             [
              0.3333333333333333,
              "#9c179e"
             ],
             [
              0.4444444444444444,
              "#bd3786"
             ],
             [
              0.5555555555555556,
              "#d8576b"
             ],
             [
              0.6666666666666666,
              "#ed7953"
             ],
             [
              0.7777777777777778,
              "#fb9f3a"
             ],
             [
              0.8888888888888888,
              "#fdca26"
             ],
             [
              1,
              "#f0f921"
             ]
            ],
            "type": "surface"
           }
          ],
          "table": [
           {
            "cells": {
             "fill": {
              "color": "#EBF0F8"
             },
             "line": {
              "color": "white"
             }
            },
            "header": {
             "fill": {
              "color": "#C8D4E3"
             },
             "line": {
              "color": "white"
             }
            },
            "type": "table"
           }
          ]
         },
         "layout": {
          "annotationdefaults": {
           "arrowcolor": "#2a3f5f",
           "arrowhead": 0,
           "arrowwidth": 1
          },
          "coloraxis": {
           "colorbar": {
            "outlinewidth": 0,
            "ticks": ""
           }
          },
          "colorscale": {
           "diverging": [
            [
             0,
             "#8e0152"
            ],
            [
             0.1,
             "#c51b7d"
            ],
            [
             0.2,
             "#de77ae"
            ],
            [
             0.3,
             "#f1b6da"
            ],
            [
             0.4,
             "#fde0ef"
            ],
            [
             0.5,
             "#f7f7f7"
            ],
            [
             0.6,
             "#e6f5d0"
            ],
            [
             0.7,
             "#b8e186"
            ],
            [
             0.8,
             "#7fbc41"
            ],
            [
             0.9,
             "#4d9221"
            ],
            [
             1,
             "#276419"
            ]
           ],
           "sequential": [
            [
             0,
             "#0d0887"
            ],
            [
             0.1111111111111111,
             "#46039f"
            ],
            [
             0.2222222222222222,
             "#7201a8"
            ],
            [
             0.3333333333333333,
             "#9c179e"
            ],
            [
             0.4444444444444444,
             "#bd3786"
            ],
            [
             0.5555555555555556,
             "#d8576b"
            ],
            [
             0.6666666666666666,
             "#ed7953"
            ],
            [
             0.7777777777777778,
             "#fb9f3a"
            ],
            [
             0.8888888888888888,
             "#fdca26"
            ],
            [
             1,
             "#f0f921"
            ]
           ],
           "sequentialminus": [
            [
             0,
             "#0d0887"
            ],
            [
             0.1111111111111111,
             "#46039f"
            ],
            [
             0.2222222222222222,
             "#7201a8"
            ],
            [
             0.3333333333333333,
             "#9c179e"
            ],
            [
             0.4444444444444444,
             "#bd3786"
            ],
            [
             0.5555555555555556,
             "#d8576b"
            ],
            [
             0.6666666666666666,
             "#ed7953"
            ],
            [
             0.7777777777777778,
             "#fb9f3a"
            ],
            [
             0.8888888888888888,
             "#fdca26"
            ],
            [
             1,
             "#f0f921"
            ]
           ]
          },
          "colorway": [
           "#636efa",
           "#EF553B",
           "#00cc96",
           "#ab63fa",
           "#FFA15A",
           "#19d3f3",
           "#FF6692",
           "#B6E880",
           "#FF97FF",
           "#FECB52"
          ],
          "font": {
           "color": "#2a3f5f"
          },
          "geo": {
           "bgcolor": "white",
           "lakecolor": "white",
           "landcolor": "#E5ECF6",
           "showlakes": true,
           "showland": true,
           "subunitcolor": "white"
          },
          "hoverlabel": {
           "align": "left"
          },
          "hovermode": "closest",
          "mapbox": {
           "style": "light"
          },
          "paper_bgcolor": "white",
          "plot_bgcolor": "#E5ECF6",
          "polar": {
           "angularaxis": {
            "gridcolor": "white",
            "linecolor": "white",
            "ticks": ""
           },
           "bgcolor": "#E5ECF6",
           "radialaxis": {
            "gridcolor": "white",
            "linecolor": "white",
            "ticks": ""
           }
          },
          "scene": {
           "xaxis": {
            "backgroundcolor": "#E5ECF6",
            "gridcolor": "white",
            "gridwidth": 2,
            "linecolor": "white",
            "showbackground": true,
            "ticks": "",
            "zerolinecolor": "white"
           },
           "yaxis": {
            "backgroundcolor": "#E5ECF6",
            "gridcolor": "white",
            "gridwidth": 2,
            "linecolor": "white",
            "showbackground": true,
            "ticks": "",
            "zerolinecolor": "white"
           },
           "zaxis": {
            "backgroundcolor": "#E5ECF6",
            "gridcolor": "white",
            "gridwidth": 2,
            "linecolor": "white",
            "showbackground": true,
            "ticks": "",
            "zerolinecolor": "white"
           }
          },
          "shapedefaults": {
           "line": {
            "color": "#2a3f5f"
           }
          },
          "ternary": {
           "aaxis": {
            "gridcolor": "white",
            "linecolor": "white",
            "ticks": ""
           },
           "baxis": {
            "gridcolor": "white",
            "linecolor": "white",
            "ticks": ""
           },
           "bgcolor": "#E5ECF6",
           "caxis": {
            "gridcolor": "white",
            "linecolor": "white",
            "ticks": ""
           }
          },
          "title": {
           "x": 0.05
          },
          "xaxis": {
           "automargin": true,
           "gridcolor": "white",
           "linecolor": "white",
           "ticks": "",
           "title": {
            "standoff": 15
           },
           "zerolinecolor": "white",
           "zerolinewidth": 2
          },
          "yaxis": {
           "automargin": true,
           "gridcolor": "white",
           "linecolor": "white",
           "ticks": "",
           "title": {
            "standoff": 15
           },
           "zerolinecolor": "white",
           "zerolinewidth": 2
          }
         }
        },
        "title": {
         "font": {
          "color": "#4D5663"
         }
        },
        "xaxis": {
         "gridcolor": "#E1E5ED",
         "showgrid": true,
         "tickfont": {
          "color": "#4D5663"
         },
         "title": {
          "font": {
           "color": "#4D5663"
          },
          "text": ""
         },
         "zerolinecolor": "#E1E5ED"
        },
        "xaxis2": {
         "anchor": "y2",
         "gridcolor": "#E1E5ED",
         "showgrid": true,
         "showticklabels": false,
         "tickfont": {
          "color": "#4D5663"
         },
         "title": {
          "font": {
           "color": "#4D5663"
          },
          "text": ""
         },
         "zerolinecolor": "#E1E5ED"
        },
        "yaxis": {
         "domain": [
          0.3,
          1
         ],
         "gridcolor": "#E1E5ED",
         "showgrid": true,
         "tickfont": {
          "color": "#4D5663"
         },
         "title": {
          "font": {
           "color": "#4D5663"
          },
          "text": ""
         },
         "zerolinecolor": "#E1E5ED"
        },
        "yaxis2": {
         "domain": [
          0,
          0.25
         ],
         "gridcolor": "#E1E5ED",
         "showgrid": true,
         "tickfont": {
          "color": "#4D5663"
         },
         "title": {
          "font": {
           "color": "#4D5663"
          },
          "text": "Spread"
         },
         "zerolinecolor": "#E1E5ED"
        }
       }
      },
      "text/html": [
       "<div>\n",
       "        \n",
       "        \n",
       "            <div id=\"66993f61-1d85-47ae-ae6e-4ce70b7f5116\" class=\"plotly-graph-div\" style=\"height:525px; width:100%;\"></div>\n",
       "            <script type=\"text/javascript\">\n",
       "                require([\"plotly\"], function(Plotly) {\n",
       "                    window.PLOTLYENV=window.PLOTLYENV || {};\n",
       "                    window.PLOTLYENV.BASE_URL='https://plot.ly';\n",
       "                    \n",
       "                if (document.getElementById(\"66993f61-1d85-47ae-ae6e-4ce70b7f5116\")) {\n",
       "                    Plotly.newPlot(\n",
       "                        '66993f61-1d85-47ae-ae6e-4ce70b7f5116',\n",
       "                        [{\"line\": {\"color\": \"rgba(255, 153, 51, 1.0)\", \"dash\": \"solid\", \"shape\": \"linear\", \"width\": 1.3}, \"mode\": \"lines\", \"name\": \"A\", \"text\": \"\", \"type\": \"scatter\", \"x\": [0, 1, 2, 3, 4, 5, 6, 7, 8, 9, 10, 11, 12, 13, 14, 15, 16, 17, 18, 19, 20, 21, 22, 23, 24, 25, 26, 27, 28, 29, 30, 31, 32, 33, 34, 35, 36, 37, 38, 39, 40, 41, 42, 43, 44, 45, 46, 47, 48, 49, 50, 51, 52, 53, 54, 55, 56, 57, 58, 59, 60, 61, 62, 63, 64, 65, 66, 67, 68, 69, 70, 71, 72, 73, 74, 75, 76, 77, 78, 79, 80, 81, 82, 83, 84, 85, 86, 87, 88, 89, 90, 91, 92, 93, 94, 95, 96, 97, 98, 99], \"y\": [-0.09460603389983938, -1.115161546621085, 0.552250823286241, -0.7055585325246749, 1.0670013833110146, -0.07525731914888965, -1.6446033596519718, -0.5731132448732882, 0.28230643408060346, -0.6369429176693027, -0.463511904581433, -0.6818221515715177, 1.59240552402439, -0.2310620264246376, -0.35468737820097457, 1.2691226063805376, -1.4841009789615545, 0.364885132366754, 0.29974569384933014, 0.3132572406958177, -0.8102636947808791, 0.30326014383977185, -0.21028570150169376, 0.2614901512140256, 0.2829084841851137, -0.34187122348639937, 0.6142993959736801, -1.0414937499282173, 0.9659132783487621, 0.41805635893271176, 1.06600170275434, -0.5663640057412325, -0.14857852734621776, 3.623714617818191, -1.3600316145541635, 0.2567161441480053, -0.6611837387514589, 1.29355716133248, -0.19598547591848683, 0.7998749870418101, 1.0155298030451088, -0.06856500394033782, 0.5239722030750937, -0.9834154296918106, -0.21776853784336786, -0.24696562933856378, -1.0855733141799837, -0.9173815950664124, -0.44408610344305527, -0.6979985385575076, -0.8598898351611934, 1.6047381407356591, -0.5121271928381996, -0.5690117266214028, -1.2928831125482076, -0.16234669644829336, 0.2694659729180265, -1.78561152072582, -1.428921850440534, -0.8621474792297036, -0.10637837209491757, 0.4559792143724122, -0.8574353878244705, 0.3021885994240502, -0.6103244159191482, -0.13726219349285845, 0.5166354607657865, 0.9059694275722422, -0.7067201810359846, -1.2311046837646813, -0.6412688895420384, -0.7819574959040753, -1.0179952653389717, 0.1916237565333311, -0.6639610916594818, -0.15226547568551907, 1.3306783412941994, -0.2567291255971543, 0.2440121159927055, 0.808940508913544, 0.8949476598798622, 0.7215510656519343, 0.33975029703787796, 0.0487793512520937, 0.014331855573335089, 0.9586024020595021, 0.6164197105007017, -1.5382301075004485, 0.2997924069194535, 0.4659523836493858, 0.6384592931548604, 1.5109032777927809, 1.176181158569553, 1.9540048439726154, -1.2859495924226727, -0.887694697363015, 0.13068821466303016, 1.212937405174254, -0.10810375040123243, 0.2549416048048139]}, {\"line\": {\"color\": \"rgba(55, 128, 191, 1.0)\", \"dash\": \"solid\", \"shape\": \"linear\", \"width\": 1.3}, \"mode\": \"lines\", \"name\": \"B\", \"text\": \"\", \"type\": \"scatter\", \"x\": [0, 1, 2, 3, 4, 5, 6, 7, 8, 9, 10, 11, 12, 13, 14, 15, 16, 17, 18, 19, 20, 21, 22, 23, 24, 25, 26, 27, 28, 29, 30, 31, 32, 33, 34, 35, 36, 37, 38, 39, 40, 41, 42, 43, 44, 45, 46, 47, 48, 49, 50, 51, 52, 53, 54, 55, 56, 57, 58, 59, 60, 61, 62, 63, 64, 65, 66, 67, 68, 69, 70, 71, 72, 73, 74, 75, 76, 77, 78, 79, 80, 81, 82, 83, 84, 85, 86, 87, 88, 89, 90, 91, 92, 93, 94, 95, 96, 97, 98, 99], \"y\": [0.1081415629462722, 0.4268245327166299, 1.5445724980427822, 0.9749858108183381, 0.11449114167189642, 1.4909096828570594, -0.5260456895720725, -1.3758691637260192, 1.044161724360801, -1.1092315877742995, 0.9670447984242331, -0.49257750966647734, 1.0083424456629906, 1.6885392876330236, 1.0257650564036982, 2.99075191788488, -0.9350489509778263, 1.3509322989107693, 0.7327247826693019, -1.216688483531076, 0.439187156007758, 0.7834858278015342, -1.0010346920455842, -0.18418277849451004, 0.6691026962458871, -1.4144483849267844, 0.8692718843241752, -0.21714490067334163, 1.5080736437005582, 0.21633766008584335, 0.21540298577400788, 0.39668945806355743, 1.6920374198303962, 2.1291025135898645, 1.0086829319016535, 0.6882703768598456, 0.5260058746129411, -0.32403554739037366, -2.5808940818911505, -0.44918693914966534, -1.2867007075492303, 0.8817648710663066, -0.2116089089096702, -0.5901077282473927, -1.0962507700134656, 0.12608049280794345, 0.317036264205109, 0.7756982105135313, 0.7909109267769698, 0.7409657789632829, -0.9825901210917485, -0.08636936949193734, 0.10096210691370497, -0.2813182291307528, -1.0250092240672513, -0.360665288454977, 1.4124426002380253, 0.2381977331747811, -0.752549537439929, 0.8198761767071212, 0.2944436999635293, -1.4739537040295216, 0.16679057324504853, 1.6740543786755937, -1.0748604415950138, 0.7751341167935993, 0.9539902019500902, -0.9918431337061299, 0.042113280156370794, 0.35927719801313474, -0.8380540062867653, 1.565365597960983, -0.8558934319004765, 2.0180128424056836, 0.514647344235371, -1.5144668221405355, -1.540063547852475, -1.1225329538451916, 0.6634805682965175, 0.05867190349109249, 0.14132776451484372, -0.42345845862152137, 0.08108099227504234, -0.9921570022559376, -0.11472860485217094, -0.2871729128066149, 0.5942010414877332, -0.6906728192068669, -0.1932952922984659, 0.3353581241138731, -0.710578443380192, -0.010508048548534713, 0.2472535856529788, -0.5764328208509977, -2.0137544897542825, -0.013688338442916483, -0.08955780113355191, -0.3894832296265267, -0.5903110638733836, 0.599868761822671]}, {\"connectgaps\": false, \"fill\": \"tozeroy\", \"line\": {\"color\": \"green\", \"dash\": \"solid\", \"shape\": \"linear\", \"width\": 0.5}, \"mode\": \"lines\", \"name\": \"Spread\", \"showlegend\": false, \"type\": \"scatter\", \"x\": [0, 1, 2, 3, 4, 5, 6, 7, 8, 9, 10, 11, 12, 13, 14, 15, 16, 17, 18, 19, 20, 21, 22, 23, 24, 25, 26, 27, 28, 29, 30, 31, 32, 33, 34, 35, 36, 37, 38, 39, 40, 41, 42, 43, 44, 45, 46, 47, 48, 49, 50, 51, 52, 53, 54, 55, 56, 57, 58, 59, 60, 61, 62, 63, 64, 65, 66, 67, 68, 69, 70, 71, 72, 73, 74, 75, 76, 77, 78, 79, 80, 81, 82, 83, 84, 85, 86, 87, 88, 89, 90, 91, 92, 93, 94, 95, 96, 97, 98, 99], \"xaxis\": \"x2\", \"y\": [\"\", \"\", \"\", \"\", 0.9525102416391181, \"\", \"\", 0.802755918852731, \"\", 0.47228867010499687, \"\", \"\", 0.5840630783613994, \"\", \"\", \"\", \"\", \"\", \"\", 1.5299457242268937, \"\", \"\", 0.7907489905438904, 0.4456729297085356, \"\", 1.072577161440385, \"\", \"\", \"\", 0.2017186988468684, 0.8505987169803322, \"\", \"\", 1.4946121042283265, \"\", \"\", \"\", 1.6175927087228539, 2.384908605972664, 1.2490619261914755, 2.302230510594339, \"\", 0.735581111984764, \"\", 0.8784822321700978, \"\", \"\", \"\", \"\", \"\", 0.12270028593055504, 1.6911075102275965, \"\", \"\", \"\", 0.1983185920066836, \"\", \"\", \"\", \"\", \"\", 1.9299329184019338, \"\", \"\", 0.4645360256758656, \"\", \"\", 1.897812561278372, \"\", \"\", 0.19678511674472687, \"\", \"\", \"\", \"\", 1.3622013464550164, 2.8707418891466743, 0.8658038282480374, \"\", 0.7502686054224514, 0.7536198953650185, 1.1450095242734557, 0.2586693047628356, 1.0409363535080314, 0.12906046042550604, 1.245775314866117, 0.02221866901296843, \"\", 0.4930876992179194, 0.13059425953551268, 1.3490377365350525, 1.5214113263413156, 0.9289275729165741, 2.530437664823613, 0.7278048973316098, \"\", 0.22024601579658207, 1.6024206348007808, 0.4822073134721512, \"\"], \"yaxis\": \"y2\"}, {\"connectgaps\": false, \"fill\": \"tozeroy\", \"line\": {\"color\": \"red\", \"dash\": \"solid\", \"shape\": \"linear\", \"width\": 0.5}, \"mode\": \"lines\", \"name\": \"Spread\", \"showlegend\": false, \"type\": \"scatter\", \"x\": [0, 1, 2, 3, 4, 5, 6, 7, 8, 9, 10, 11, 12, 13, 14, 15, 16, 17, 18, 19, 20, 21, 22, 23, 24, 25, 26, 27, 28, 29, 30, 31, 32, 33, 34, 35, 36, 37, 38, 39, 40, 41, 42, 43, 44, 45, 46, 47, 48, 49, 50, 51, 52, 53, 54, 55, 56, 57, 58, 59, 60, 61, 62, 63, 64, 65, 66, 67, 68, 69, 70, 71, 72, 73, 74, 75, 76, 77, 78, 79, 80, 81, 82, 83, 84, 85, 86, 87, 88, 89, 90, 91, 92, 93, 94, 95, 96, 97, 98, 99], \"xaxis\": \"x2\", \"y\": [-0.20274759684611157, -1.5419860793377147, -0.9923216747565412, -1.680544343343013, \"\", -1.566167002005949, -1.1185576700798991, \"\", -0.7618552902801976, \"\", -1.430556703005666, -0.18924464190504037, \"\", -1.9196013140576613, -1.3804524346046727, -1.7216293115043424, -0.5490520279837282, -0.9860471665440153, -0.4329790888199717, \"\", -1.249450850788637, -0.48022568396176235, \"\", \"\", -0.3861942120607734, \"\", -0.25497248835049513, -0.8243488492548756, -0.5421603653517961, \"\", \"\", -0.9630534638047898, -1.840615947176614, \"\", -2.3687145464558172, -0.4315542327118403, -1.1871896133644, \"\", \"\", \"\", \"\", -0.9503298750066445, \"\", -0.39330770144441796, \"\", -0.37304612214650723, -1.4026095783850927, -1.6930798055799436, -1.234997030220025, -1.4389643175207905, \"\", \"\", -0.6130892997519046, -0.28769349749065, -0.2678738884809564, \"\", -1.1429766273199988, -2.023809253900601, -0.6763723130006051, -1.682023655936825, -0.4008220720584469, \"\", -1.024225961069519, -1.3718657792515434, \"\", -0.9123963102864578, -0.43735474118430373, \"\", -0.7488334611923554, -1.590381881777816, \"\", -2.347323093865058, -0.16210183343849516, -1.8263890858723524, -1.1786084358948528, \"\", \"\", \"\", -0.41946845230381197, \"\", \"\", \"\", \"\", \"\", \"\", \"\", \"\", -0.8475572882935817, \"\", \"\", \"\", \"\", \"\", \"\", \"\", -0.8740063589200985, \"\", \"\", \"\", -0.3449271570178571], \"yaxis\": \"y2\"}],\n",
       "                        {\"hovermode\": \"x\", \"legend\": {\"bgcolor\": \"#F5F6F9\", \"font\": {\"color\": \"#4D5663\"}}, \"paper_bgcolor\": \"#F5F6F9\", \"plot_bgcolor\": \"#F5F6F9\", \"template\": {\"data\": {\"bar\": [{\"error_x\": {\"color\": \"#2a3f5f\"}, \"error_y\": {\"color\": \"#2a3f5f\"}, \"marker\": {\"line\": {\"color\": \"#E5ECF6\", \"width\": 0.5}}, \"type\": \"bar\"}], \"barpolar\": [{\"marker\": {\"line\": {\"color\": \"#E5ECF6\", \"width\": 0.5}}, \"type\": \"barpolar\"}], \"carpet\": [{\"aaxis\": {\"endlinecolor\": \"#2a3f5f\", \"gridcolor\": \"white\", \"linecolor\": \"white\", \"minorgridcolor\": \"white\", \"startlinecolor\": \"#2a3f5f\"}, \"baxis\": {\"endlinecolor\": \"#2a3f5f\", \"gridcolor\": \"white\", \"linecolor\": \"white\", \"minorgridcolor\": \"white\", \"startlinecolor\": \"#2a3f5f\"}, \"type\": \"carpet\"}], \"choropleth\": [{\"colorbar\": {\"outlinewidth\": 0, \"ticks\": \"\"}, \"type\": \"choropleth\"}], \"contour\": [{\"colorbar\": {\"outlinewidth\": 0, \"ticks\": \"\"}, \"colorscale\": [[0.0, \"#0d0887\"], [0.1111111111111111, \"#46039f\"], [0.2222222222222222, \"#7201a8\"], [0.3333333333333333, \"#9c179e\"], [0.4444444444444444, \"#bd3786\"], [0.5555555555555556, \"#d8576b\"], [0.6666666666666666, \"#ed7953\"], [0.7777777777777778, \"#fb9f3a\"], [0.8888888888888888, \"#fdca26\"], [1.0, \"#f0f921\"]], \"type\": \"contour\"}], \"contourcarpet\": [{\"colorbar\": {\"outlinewidth\": 0, \"ticks\": \"\"}, \"type\": \"contourcarpet\"}], \"heatmap\": [{\"colorbar\": {\"outlinewidth\": 0, \"ticks\": \"\"}, \"colorscale\": [[0.0, \"#0d0887\"], [0.1111111111111111, \"#46039f\"], [0.2222222222222222, \"#7201a8\"], [0.3333333333333333, \"#9c179e\"], [0.4444444444444444, \"#bd3786\"], [0.5555555555555556, \"#d8576b\"], [0.6666666666666666, \"#ed7953\"], [0.7777777777777778, \"#fb9f3a\"], [0.8888888888888888, \"#fdca26\"], [1.0, \"#f0f921\"]], \"type\": \"heatmap\"}], \"heatmapgl\": [{\"colorbar\": {\"outlinewidth\": 0, \"ticks\": \"\"}, \"colorscale\": [[0.0, \"#0d0887\"], [0.1111111111111111, \"#46039f\"], [0.2222222222222222, \"#7201a8\"], [0.3333333333333333, \"#9c179e\"], [0.4444444444444444, \"#bd3786\"], [0.5555555555555556, \"#d8576b\"], [0.6666666666666666, \"#ed7953\"], [0.7777777777777778, \"#fb9f3a\"], [0.8888888888888888, \"#fdca26\"], [1.0, \"#f0f921\"]], \"type\": \"heatmapgl\"}], \"histogram\": [{\"marker\": {\"colorbar\": {\"outlinewidth\": 0, \"ticks\": \"\"}}, \"type\": \"histogram\"}], \"histogram2d\": [{\"colorbar\": {\"outlinewidth\": 0, \"ticks\": \"\"}, \"colorscale\": [[0.0, \"#0d0887\"], [0.1111111111111111, \"#46039f\"], [0.2222222222222222, \"#7201a8\"], [0.3333333333333333, \"#9c179e\"], [0.4444444444444444, \"#bd3786\"], [0.5555555555555556, \"#d8576b\"], [0.6666666666666666, \"#ed7953\"], [0.7777777777777778, \"#fb9f3a\"], [0.8888888888888888, \"#fdca26\"], [1.0, \"#f0f921\"]], \"type\": \"histogram2d\"}], \"histogram2dcontour\": [{\"colorbar\": {\"outlinewidth\": 0, \"ticks\": \"\"}, \"colorscale\": [[0.0, \"#0d0887\"], [0.1111111111111111, \"#46039f\"], [0.2222222222222222, \"#7201a8\"], [0.3333333333333333, \"#9c179e\"], [0.4444444444444444, \"#bd3786\"], [0.5555555555555556, \"#d8576b\"], [0.6666666666666666, \"#ed7953\"], [0.7777777777777778, \"#fb9f3a\"], [0.8888888888888888, \"#fdca26\"], [1.0, \"#f0f921\"]], \"type\": \"histogram2dcontour\"}], \"mesh3d\": [{\"colorbar\": {\"outlinewidth\": 0, \"ticks\": \"\"}, \"type\": \"mesh3d\"}], \"parcoords\": [{\"line\": {\"colorbar\": {\"outlinewidth\": 0, \"ticks\": \"\"}}, \"type\": \"parcoords\"}], \"pie\": [{\"automargin\": true, \"type\": \"pie\"}], \"scatter\": [{\"marker\": {\"colorbar\": {\"outlinewidth\": 0, \"ticks\": \"\"}}, \"type\": \"scatter\"}], \"scatter3d\": [{\"line\": {\"colorbar\": {\"outlinewidth\": 0, \"ticks\": \"\"}}, \"marker\": {\"colorbar\": {\"outlinewidth\": 0, \"ticks\": \"\"}}, \"type\": \"scatter3d\"}], \"scattercarpet\": [{\"marker\": {\"colorbar\": {\"outlinewidth\": 0, \"ticks\": \"\"}}, \"type\": \"scattercarpet\"}], \"scattergeo\": [{\"marker\": {\"colorbar\": {\"outlinewidth\": 0, \"ticks\": \"\"}}, \"type\": \"scattergeo\"}], \"scattergl\": [{\"marker\": {\"colorbar\": {\"outlinewidth\": 0, \"ticks\": \"\"}}, \"type\": \"scattergl\"}], \"scattermapbox\": [{\"marker\": {\"colorbar\": {\"outlinewidth\": 0, \"ticks\": \"\"}}, \"type\": \"scattermapbox\"}], \"scatterpolar\": [{\"marker\": {\"colorbar\": {\"outlinewidth\": 0, \"ticks\": \"\"}}, \"type\": \"scatterpolar\"}], \"scatterpolargl\": [{\"marker\": {\"colorbar\": {\"outlinewidth\": 0, \"ticks\": \"\"}}, \"type\": \"scatterpolargl\"}], \"scatterternary\": [{\"marker\": {\"colorbar\": {\"outlinewidth\": 0, \"ticks\": \"\"}}, \"type\": \"scatterternary\"}], \"surface\": [{\"colorbar\": {\"outlinewidth\": 0, \"ticks\": \"\"}, \"colorscale\": [[0.0, \"#0d0887\"], [0.1111111111111111, \"#46039f\"], [0.2222222222222222, \"#7201a8\"], [0.3333333333333333, \"#9c179e\"], [0.4444444444444444, \"#bd3786\"], [0.5555555555555556, \"#d8576b\"], [0.6666666666666666, \"#ed7953\"], [0.7777777777777778, \"#fb9f3a\"], [0.8888888888888888, \"#fdca26\"], [1.0, \"#f0f921\"]], \"type\": \"surface\"}], \"table\": [{\"cells\": {\"fill\": {\"color\": \"#EBF0F8\"}, \"line\": {\"color\": \"white\"}}, \"header\": {\"fill\": {\"color\": \"#C8D4E3\"}, \"line\": {\"color\": \"white\"}}, \"type\": \"table\"}]}, \"layout\": {\"annotationdefaults\": {\"arrowcolor\": \"#2a3f5f\", \"arrowhead\": 0, \"arrowwidth\": 1}, \"coloraxis\": {\"colorbar\": {\"outlinewidth\": 0, \"ticks\": \"\"}}, \"colorscale\": {\"diverging\": [[0, \"#8e0152\"], [0.1, \"#c51b7d\"], [0.2, \"#de77ae\"], [0.3, \"#f1b6da\"], [0.4, \"#fde0ef\"], [0.5, \"#f7f7f7\"], [0.6, \"#e6f5d0\"], [0.7, \"#b8e186\"], [0.8, \"#7fbc41\"], [0.9, \"#4d9221\"], [1, \"#276419\"]], \"sequential\": [[0.0, \"#0d0887\"], [0.1111111111111111, \"#46039f\"], [0.2222222222222222, \"#7201a8\"], [0.3333333333333333, \"#9c179e\"], [0.4444444444444444, \"#bd3786\"], [0.5555555555555556, \"#d8576b\"], [0.6666666666666666, \"#ed7953\"], [0.7777777777777778, \"#fb9f3a\"], [0.8888888888888888, \"#fdca26\"], [1.0, \"#f0f921\"]], \"sequentialminus\": [[0.0, \"#0d0887\"], [0.1111111111111111, \"#46039f\"], [0.2222222222222222, \"#7201a8\"], [0.3333333333333333, \"#9c179e\"], [0.4444444444444444, \"#bd3786\"], [0.5555555555555556, \"#d8576b\"], [0.6666666666666666, \"#ed7953\"], [0.7777777777777778, \"#fb9f3a\"], [0.8888888888888888, \"#fdca26\"], [1.0, \"#f0f921\"]]}, \"colorway\": [\"#636efa\", \"#EF553B\", \"#00cc96\", \"#ab63fa\", \"#FFA15A\", \"#19d3f3\", \"#FF6692\", \"#B6E880\", \"#FF97FF\", \"#FECB52\"], \"font\": {\"color\": \"#2a3f5f\"}, \"geo\": {\"bgcolor\": \"white\", \"lakecolor\": \"white\", \"landcolor\": \"#E5ECF6\", \"showlakes\": true, \"showland\": true, \"subunitcolor\": \"white\"}, \"hoverlabel\": {\"align\": \"left\"}, \"hovermode\": \"closest\", \"mapbox\": {\"style\": \"light\"}, \"paper_bgcolor\": \"white\", \"plot_bgcolor\": \"#E5ECF6\", \"polar\": {\"angularaxis\": {\"gridcolor\": \"white\", \"linecolor\": \"white\", \"ticks\": \"\"}, \"bgcolor\": \"#E5ECF6\", \"radialaxis\": {\"gridcolor\": \"white\", \"linecolor\": \"white\", \"ticks\": \"\"}}, \"scene\": {\"xaxis\": {\"backgroundcolor\": \"#E5ECF6\", \"gridcolor\": \"white\", \"gridwidth\": 2, \"linecolor\": \"white\", \"showbackground\": true, \"ticks\": \"\", \"zerolinecolor\": \"white\"}, \"yaxis\": {\"backgroundcolor\": \"#E5ECF6\", \"gridcolor\": \"white\", \"gridwidth\": 2, \"linecolor\": \"white\", \"showbackground\": true, \"ticks\": \"\", \"zerolinecolor\": \"white\"}, \"zaxis\": {\"backgroundcolor\": \"#E5ECF6\", \"gridcolor\": \"white\", \"gridwidth\": 2, \"linecolor\": \"white\", \"showbackground\": true, \"ticks\": \"\", \"zerolinecolor\": \"white\"}}, \"shapedefaults\": {\"line\": {\"color\": \"#2a3f5f\"}}, \"ternary\": {\"aaxis\": {\"gridcolor\": \"white\", \"linecolor\": \"white\", \"ticks\": \"\"}, \"baxis\": {\"gridcolor\": \"white\", \"linecolor\": \"white\", \"ticks\": \"\"}, \"bgcolor\": \"#E5ECF6\", \"caxis\": {\"gridcolor\": \"white\", \"linecolor\": \"white\", \"ticks\": \"\"}}, \"title\": {\"x\": 0.05}, \"xaxis\": {\"automargin\": true, \"gridcolor\": \"white\", \"linecolor\": \"white\", \"ticks\": \"\", \"title\": {\"standoff\": 15}, \"zerolinecolor\": \"white\", \"zerolinewidth\": 2}, \"yaxis\": {\"automargin\": true, \"gridcolor\": \"white\", \"linecolor\": \"white\", \"ticks\": \"\", \"title\": {\"standoff\": 15}, \"zerolinecolor\": \"white\", \"zerolinewidth\": 2}}}, \"title\": {\"font\": {\"color\": \"#4D5663\"}}, \"xaxis\": {\"gridcolor\": \"#E1E5ED\", \"showgrid\": true, \"tickfont\": {\"color\": \"#4D5663\"}, \"title\": {\"font\": {\"color\": \"#4D5663\"}, \"text\": \"\"}, \"zerolinecolor\": \"#E1E5ED\"}, \"xaxis2\": {\"anchor\": \"y2\", \"gridcolor\": \"#E1E5ED\", \"showgrid\": true, \"showticklabels\": false, \"tickfont\": {\"color\": \"#4D5663\"}, \"title\": {\"font\": {\"color\": \"#4D5663\"}, \"text\": \"\"}, \"zerolinecolor\": \"#E1E5ED\"}, \"yaxis\": {\"domain\": [0.3, 1], \"gridcolor\": \"#E1E5ED\", \"showgrid\": true, \"tickfont\": {\"color\": \"#4D5663\"}, \"title\": {\"font\": {\"color\": \"#4D5663\"}, \"text\": \"\"}, \"zerolinecolor\": \"#E1E5ED\"}, \"yaxis2\": {\"domain\": [0, 0.25], \"gridcolor\": \"#E1E5ED\", \"showgrid\": true, \"tickfont\": {\"color\": \"#4D5663\"}, \"title\": {\"font\": {\"color\": \"#4D5663\"}, \"text\": \"Spread\"}, \"zerolinecolor\": \"#E1E5ED\"}},\n",
       "                        {\"showLink\": true, \"linkText\": \"Export to plot.ly\", \"plotlyServerURL\": \"https://plot.ly\", \"responsive\": true}\n",
       "                    ).then(function(){\n",
       "                            \n",
       "var gd = document.getElementById('66993f61-1d85-47ae-ae6e-4ce70b7f5116');\n",
       "var x = new MutationObserver(function (mutations, observer) {{\n",
       "        var display = window.getComputedStyle(gd).display;\n",
       "        if (!display || display === 'none') {{\n",
       "            console.log([gd, 'removed!']);\n",
       "            Plotly.purge(gd);\n",
       "            observer.disconnect();\n",
       "        }}\n",
       "}});\n",
       "\n",
       "// Listen for the removal of the full notebook cells\n",
       "var notebookContainer = gd.closest('#notebook-container');\n",
       "if (notebookContainer) {{\n",
       "    x.observe(notebookContainer, {childList: true});\n",
       "}}\n",
       "\n",
       "// Listen for the clearing of the current output cell\n",
       "var outputEl = gd.closest('.output');\n",
       "if (outputEl) {{\n",
       "    x.observe(outputEl, {childList: true});\n",
       "}}\n",
       "\n",
       "                        })\n",
       "                };\n",
       "                });\n",
       "            </script>\n",
       "        </div>"
      ]
     },
     "metadata": {},
     "output_type": "display_data"
    }
   ],
   "source": [
    "df[['A','B']].iplot(kind='spread')"
   ]
  },
  {
   "cell_type": "markdown",
   "metadata": {},
   "source": [
    "## histogram"
   ]
  },
  {
   "cell_type": "code",
   "execution_count": 23,
   "metadata": {},
   "outputs": [
    {
     "data": {
      "application/vnd.plotly.v1+json": {
       "config": {
        "linkText": "Export to plot.ly",
        "plotlyServerURL": "https://plot.ly",
        "showLink": true
       },
       "data": [
        {
         "histfunc": "count",
         "histnorm": "",
         "marker": {
          "color": "rgba(255, 153, 51, 1.0)",
          "line": {
           "color": "#4D5663",
           "width": 1.3
          }
         },
         "name": "A",
         "nbinsx": 25,
         "opacity": 0.8,
         "orientation": "v",
         "type": "histogram",
         "x": [
          -0.09460603389983938,
          -1.115161546621085,
          0.552250823286241,
          -0.7055585325246749,
          1.0670013833110146,
          -0.07525731914888965,
          -1.6446033596519718,
          -0.5731132448732882,
          0.28230643408060346,
          -0.6369429176693027,
          -0.463511904581433,
          -0.6818221515715177,
          1.59240552402439,
          -0.2310620264246376,
          -0.35468737820097457,
          1.2691226063805376,
          -1.4841009789615545,
          0.364885132366754,
          0.29974569384933014,
          0.3132572406958177,
          -0.8102636947808791,
          0.30326014383977185,
          -0.21028570150169376,
          0.2614901512140256,
          0.2829084841851137,
          -0.34187122348639937,
          0.6142993959736801,
          -1.0414937499282173,
          0.9659132783487621,
          0.41805635893271176,
          1.06600170275434,
          -0.5663640057412325,
          -0.14857852734621776,
          3.623714617818191,
          -1.3600316145541635,
          0.2567161441480053,
          -0.6611837387514589,
          1.29355716133248,
          -0.19598547591848683,
          0.7998749870418101,
          1.0155298030451088,
          -0.06856500394033782,
          0.5239722030750937,
          -0.9834154296918106,
          -0.21776853784336786,
          -0.24696562933856378,
          -1.0855733141799837,
          -0.9173815950664124,
          -0.44408610344305527,
          -0.6979985385575076,
          -0.8598898351611934,
          1.6047381407356591,
          -0.5121271928381996,
          -0.5690117266214028,
          -1.2928831125482076,
          -0.16234669644829336,
          0.2694659729180265,
          -1.78561152072582,
          -1.428921850440534,
          -0.8621474792297036,
          -0.10637837209491757,
          0.4559792143724122,
          -0.8574353878244705,
          0.3021885994240502,
          -0.6103244159191482,
          -0.13726219349285845,
          0.5166354607657865,
          0.9059694275722422,
          -0.7067201810359846,
          -1.2311046837646813,
          -0.6412688895420384,
          -0.7819574959040753,
          -1.0179952653389717,
          0.1916237565333311,
          -0.6639610916594818,
          -0.15226547568551907,
          1.3306783412941994,
          -0.2567291255971543,
          0.2440121159927055,
          0.808940508913544,
          0.8949476598798622,
          0.7215510656519343,
          0.33975029703787796,
          0.0487793512520937,
          0.014331855573335089,
          0.9586024020595021,
          0.6164197105007017,
          -1.5382301075004485,
          0.2997924069194535,
          0.4659523836493858,
          0.6384592931548604,
          1.5109032777927809,
          1.176181158569553,
          1.9540048439726154,
          -1.2859495924226727,
          -0.887694697363015,
          0.13068821466303016,
          1.212937405174254,
          -0.10810375040123243,
          0.2549416048048139
         ]
        }
       ],
       "layout": {
        "barmode": "overlay",
        "legend": {
         "bgcolor": "#F5F6F9",
         "font": {
          "color": "#4D5663"
         }
        },
        "paper_bgcolor": "#F5F6F9",
        "plot_bgcolor": "#F5F6F9",
        "template": {
         "data": {
          "bar": [
           {
            "error_x": {
             "color": "#2a3f5f"
            },
            "error_y": {
             "color": "#2a3f5f"
            },
            "marker": {
             "line": {
              "color": "#E5ECF6",
              "width": 0.5
             }
            },
            "type": "bar"
           }
          ],
          "barpolar": [
           {
            "marker": {
             "line": {
              "color": "#E5ECF6",
              "width": 0.5
             }
            },
            "type": "barpolar"
           }
          ],
          "carpet": [
           {
            "aaxis": {
             "endlinecolor": "#2a3f5f",
             "gridcolor": "white",
             "linecolor": "white",
             "minorgridcolor": "white",
             "startlinecolor": "#2a3f5f"
            },
            "baxis": {
             "endlinecolor": "#2a3f5f",
             "gridcolor": "white",
             "linecolor": "white",
             "minorgridcolor": "white",
             "startlinecolor": "#2a3f5f"
            },
            "type": "carpet"
           }
          ],
          "choropleth": [
           {
            "colorbar": {
             "outlinewidth": 0,
             "ticks": ""
            },
            "type": "choropleth"
           }
          ],
          "contour": [
           {
            "colorbar": {
             "outlinewidth": 0,
             "ticks": ""
            },
            "colorscale": [
             [
              0,
              "#0d0887"
             ],
             [
              0.1111111111111111,
              "#46039f"
             ],
             [
              0.2222222222222222,
              "#7201a8"
             ],
             [
              0.3333333333333333,
              "#9c179e"
             ],
             [
              0.4444444444444444,
              "#bd3786"
             ],
             [
              0.5555555555555556,
              "#d8576b"
             ],
             [
              0.6666666666666666,
              "#ed7953"
             ],
             [
              0.7777777777777778,
              "#fb9f3a"
             ],
             [
              0.8888888888888888,
              "#fdca26"
             ],
             [
              1,
              "#f0f921"
             ]
            ],
            "type": "contour"
           }
          ],
          "contourcarpet": [
           {
            "colorbar": {
             "outlinewidth": 0,
             "ticks": ""
            },
            "type": "contourcarpet"
           }
          ],
          "heatmap": [
           {
            "colorbar": {
             "outlinewidth": 0,
             "ticks": ""
            },
            "colorscale": [
             [
              0,
              "#0d0887"
             ],
             [
              0.1111111111111111,
              "#46039f"
             ],
             [
              0.2222222222222222,
              "#7201a8"
             ],
             [
              0.3333333333333333,
              "#9c179e"
             ],
             [
              0.4444444444444444,
              "#bd3786"
             ],
             [
              0.5555555555555556,
              "#d8576b"
             ],
             [
              0.6666666666666666,
              "#ed7953"
             ],
             [
              0.7777777777777778,
              "#fb9f3a"
             ],
             [
              0.8888888888888888,
              "#fdca26"
             ],
             [
              1,
              "#f0f921"
             ]
            ],
            "type": "heatmap"
           }
          ],
          "heatmapgl": [
           {
            "colorbar": {
             "outlinewidth": 0,
             "ticks": ""
            },
            "colorscale": [
             [
              0,
              "#0d0887"
             ],
             [
              0.1111111111111111,
              "#46039f"
             ],
             [
              0.2222222222222222,
              "#7201a8"
             ],
             [
              0.3333333333333333,
              "#9c179e"
             ],
             [
              0.4444444444444444,
              "#bd3786"
             ],
             [
              0.5555555555555556,
              "#d8576b"
             ],
             [
              0.6666666666666666,
              "#ed7953"
             ],
             [
              0.7777777777777778,
              "#fb9f3a"
             ],
             [
              0.8888888888888888,
              "#fdca26"
             ],
             [
              1,
              "#f0f921"
             ]
            ],
            "type": "heatmapgl"
           }
          ],
          "histogram": [
           {
            "marker": {
             "colorbar": {
              "outlinewidth": 0,
              "ticks": ""
             }
            },
            "type": "histogram"
           }
          ],
          "histogram2d": [
           {
            "colorbar": {
             "outlinewidth": 0,
             "ticks": ""
            },
            "colorscale": [
             [
              0,
              "#0d0887"
             ],
             [
              0.1111111111111111,
              "#46039f"
             ],
             [
              0.2222222222222222,
              "#7201a8"
             ],
             [
              0.3333333333333333,
              "#9c179e"
             ],
             [
              0.4444444444444444,
              "#bd3786"
             ],
             [
              0.5555555555555556,
              "#d8576b"
             ],
             [
              0.6666666666666666,
              "#ed7953"
             ],
             [
              0.7777777777777778,
              "#fb9f3a"
             ],
             [
              0.8888888888888888,
              "#fdca26"
             ],
             [
              1,
              "#f0f921"
             ]
            ],
            "type": "histogram2d"
           }
          ],
          "histogram2dcontour": [
           {
            "colorbar": {
             "outlinewidth": 0,
             "ticks": ""
            },
            "colorscale": [
             [
              0,
              "#0d0887"
             ],
             [
              0.1111111111111111,
              "#46039f"
             ],
             [
              0.2222222222222222,
              "#7201a8"
             ],
             [
              0.3333333333333333,
              "#9c179e"
             ],
             [
              0.4444444444444444,
              "#bd3786"
             ],
             [
              0.5555555555555556,
              "#d8576b"
             ],
             [
              0.6666666666666666,
              "#ed7953"
             ],
             [
              0.7777777777777778,
              "#fb9f3a"
             ],
             [
              0.8888888888888888,
              "#fdca26"
             ],
             [
              1,
              "#f0f921"
             ]
            ],
            "type": "histogram2dcontour"
           }
          ],
          "mesh3d": [
           {
            "colorbar": {
             "outlinewidth": 0,
             "ticks": ""
            },
            "type": "mesh3d"
           }
          ],
          "parcoords": [
           {
            "line": {
             "colorbar": {
              "outlinewidth": 0,
              "ticks": ""
             }
            },
            "type": "parcoords"
           }
          ],
          "pie": [
           {
            "automargin": true,
            "type": "pie"
           }
          ],
          "scatter": [
           {
            "marker": {
             "colorbar": {
              "outlinewidth": 0,
              "ticks": ""
             }
            },
            "type": "scatter"
           }
          ],
          "scatter3d": [
           {
            "line": {
             "colorbar": {
              "outlinewidth": 0,
              "ticks": ""
             }
            },
            "marker": {
             "colorbar": {
              "outlinewidth": 0,
              "ticks": ""
             }
            },
            "type": "scatter3d"
           }
          ],
          "scattercarpet": [
           {
            "marker": {
             "colorbar": {
              "outlinewidth": 0,
              "ticks": ""
             }
            },
            "type": "scattercarpet"
           }
          ],
          "scattergeo": [
           {
            "marker": {
             "colorbar": {
              "outlinewidth": 0,
              "ticks": ""
             }
            },
            "type": "scattergeo"
           }
          ],
          "scattergl": [
           {
            "marker": {
             "colorbar": {
              "outlinewidth": 0,
              "ticks": ""
             }
            },
            "type": "scattergl"
           }
          ],
          "scattermapbox": [
           {
            "marker": {
             "colorbar": {
              "outlinewidth": 0,
              "ticks": ""
             }
            },
            "type": "scattermapbox"
           }
          ],
          "scatterpolar": [
           {
            "marker": {
             "colorbar": {
              "outlinewidth": 0,
              "ticks": ""
             }
            },
            "type": "scatterpolar"
           }
          ],
          "scatterpolargl": [
           {
            "marker": {
             "colorbar": {
              "outlinewidth": 0,
              "ticks": ""
             }
            },
            "type": "scatterpolargl"
           }
          ],
          "scatterternary": [
           {
            "marker": {
             "colorbar": {
              "outlinewidth": 0,
              "ticks": ""
             }
            },
            "type": "scatterternary"
           }
          ],
          "surface": [
           {
            "colorbar": {
             "outlinewidth": 0,
             "ticks": ""
            },
            "colorscale": [
             [
              0,
              "#0d0887"
             ],
             [
              0.1111111111111111,
              "#46039f"
             ],
             [
              0.2222222222222222,
              "#7201a8"
             ],
             [
              0.3333333333333333,
              "#9c179e"
             ],
             [
              0.4444444444444444,
              "#bd3786"
             ],
             [
              0.5555555555555556,
              "#d8576b"
             ],
             [
              0.6666666666666666,
              "#ed7953"
             ],
             [
              0.7777777777777778,
              "#fb9f3a"
             ],
             [
              0.8888888888888888,
              "#fdca26"
             ],
             [
              1,
              "#f0f921"
             ]
            ],
            "type": "surface"
           }
          ],
          "table": [
           {
            "cells": {
             "fill": {
              "color": "#EBF0F8"
             },
             "line": {
              "color": "white"
             }
            },
            "header": {
             "fill": {
              "color": "#C8D4E3"
             },
             "line": {
              "color": "white"
             }
            },
            "type": "table"
           }
          ]
         },
         "layout": {
          "annotationdefaults": {
           "arrowcolor": "#2a3f5f",
           "arrowhead": 0,
           "arrowwidth": 1
          },
          "coloraxis": {
           "colorbar": {
            "outlinewidth": 0,
            "ticks": ""
           }
          },
          "colorscale": {
           "diverging": [
            [
             0,
             "#8e0152"
            ],
            [
             0.1,
             "#c51b7d"
            ],
            [
             0.2,
             "#de77ae"
            ],
            [
             0.3,
             "#f1b6da"
            ],
            [
             0.4,
             "#fde0ef"
            ],
            [
             0.5,
             "#f7f7f7"
            ],
            [
             0.6,
             "#e6f5d0"
            ],
            [
             0.7,
             "#b8e186"
            ],
            [
             0.8,
             "#7fbc41"
            ],
            [
             0.9,
             "#4d9221"
            ],
            [
             1,
             "#276419"
            ]
           ],
           "sequential": [
            [
             0,
             "#0d0887"
            ],
            [
             0.1111111111111111,
             "#46039f"
            ],
            [
             0.2222222222222222,
             "#7201a8"
            ],
            [
             0.3333333333333333,
             "#9c179e"
            ],
            [
             0.4444444444444444,
             "#bd3786"
            ],
            [
             0.5555555555555556,
             "#d8576b"
            ],
            [
             0.6666666666666666,
             "#ed7953"
            ],
            [
             0.7777777777777778,
             "#fb9f3a"
            ],
            [
             0.8888888888888888,
             "#fdca26"
            ],
            [
             1,
             "#f0f921"
            ]
           ],
           "sequentialminus": [
            [
             0,
             "#0d0887"
            ],
            [
             0.1111111111111111,
             "#46039f"
            ],
            [
             0.2222222222222222,
             "#7201a8"
            ],
            [
             0.3333333333333333,
             "#9c179e"
            ],
            [
             0.4444444444444444,
             "#bd3786"
            ],
            [
             0.5555555555555556,
             "#d8576b"
            ],
            [
             0.6666666666666666,
             "#ed7953"
            ],
            [
             0.7777777777777778,
             "#fb9f3a"
            ],
            [
             0.8888888888888888,
             "#fdca26"
            ],
            [
             1,
             "#f0f921"
            ]
           ]
          },
          "colorway": [
           "#636efa",
           "#EF553B",
           "#00cc96",
           "#ab63fa",
           "#FFA15A",
           "#19d3f3",
           "#FF6692",
           "#B6E880",
           "#FF97FF",
           "#FECB52"
          ],
          "font": {
           "color": "#2a3f5f"
          },
          "geo": {
           "bgcolor": "white",
           "lakecolor": "white",
           "landcolor": "#E5ECF6",
           "showlakes": true,
           "showland": true,
           "subunitcolor": "white"
          },
          "hoverlabel": {
           "align": "left"
          },
          "hovermode": "closest",
          "mapbox": {
           "style": "light"
          },
          "paper_bgcolor": "white",
          "plot_bgcolor": "#E5ECF6",
          "polar": {
           "angularaxis": {
            "gridcolor": "white",
            "linecolor": "white",
            "ticks": ""
           },
           "bgcolor": "#E5ECF6",
           "radialaxis": {
            "gridcolor": "white",
            "linecolor": "white",
            "ticks": ""
           }
          },
          "scene": {
           "xaxis": {
            "backgroundcolor": "#E5ECF6",
            "gridcolor": "white",
            "gridwidth": 2,
            "linecolor": "white",
            "showbackground": true,
            "ticks": "",
            "zerolinecolor": "white"
           },
           "yaxis": {
            "backgroundcolor": "#E5ECF6",
            "gridcolor": "white",
            "gridwidth": 2,
            "linecolor": "white",
            "showbackground": true,
            "ticks": "",
            "zerolinecolor": "white"
           },
           "zaxis": {
            "backgroundcolor": "#E5ECF6",
            "gridcolor": "white",
            "gridwidth": 2,
            "linecolor": "white",
            "showbackground": true,
            "ticks": "",
            "zerolinecolor": "white"
           }
          },
          "shapedefaults": {
           "line": {
            "color": "#2a3f5f"
           }
          },
          "ternary": {
           "aaxis": {
            "gridcolor": "white",
            "linecolor": "white",
            "ticks": ""
           },
           "baxis": {
            "gridcolor": "white",
            "linecolor": "white",
            "ticks": ""
           },
           "bgcolor": "#E5ECF6",
           "caxis": {
            "gridcolor": "white",
            "linecolor": "white",
            "ticks": ""
           }
          },
          "title": {
           "x": 0.05
          },
          "xaxis": {
           "automargin": true,
           "gridcolor": "white",
           "linecolor": "white",
           "ticks": "",
           "title": {
            "standoff": 15
           },
           "zerolinecolor": "white",
           "zerolinewidth": 2
          },
          "yaxis": {
           "automargin": true,
           "gridcolor": "white",
           "linecolor": "white",
           "ticks": "",
           "title": {
            "standoff": 15
           },
           "zerolinecolor": "white",
           "zerolinewidth": 2
          }
         }
        },
        "title": {
         "font": {
          "color": "#4D5663"
         }
        },
        "xaxis": {
         "gridcolor": "#E1E5ED",
         "showgrid": true,
         "tickfont": {
          "color": "#4D5663"
         },
         "title": {
          "font": {
           "color": "#4D5663"
          },
          "text": ""
         },
         "zerolinecolor": "#E1E5ED"
        },
        "yaxis": {
         "gridcolor": "#E1E5ED",
         "showgrid": true,
         "tickfont": {
          "color": "#4D5663"
         },
         "title": {
          "font": {
           "color": "#4D5663"
          },
          "text": ""
         },
         "zerolinecolor": "#E1E5ED"
        }
       }
      },
      "text/html": [
       "<div>\n",
       "        \n",
       "        \n",
       "            <div id=\"dba713f6-6339-4072-8307-7cb24cf7cba8\" class=\"plotly-graph-div\" style=\"height:525px; width:100%;\"></div>\n",
       "            <script type=\"text/javascript\">\n",
       "                require([\"plotly\"], function(Plotly) {\n",
       "                    window.PLOTLYENV=window.PLOTLYENV || {};\n",
       "                    window.PLOTLYENV.BASE_URL='https://plot.ly';\n",
       "                    \n",
       "                if (document.getElementById(\"dba713f6-6339-4072-8307-7cb24cf7cba8\")) {\n",
       "                    Plotly.newPlot(\n",
       "                        'dba713f6-6339-4072-8307-7cb24cf7cba8',\n",
       "                        [{\"histfunc\": \"count\", \"histnorm\": \"\", \"marker\": {\"color\": \"rgba(255, 153, 51, 1.0)\", \"line\": {\"color\": \"#4D5663\", \"width\": 1.3}}, \"name\": \"A\", \"nbinsx\": 25, \"opacity\": 0.8, \"orientation\": \"v\", \"type\": \"histogram\", \"x\": [-0.09460603389983938, -1.115161546621085, 0.552250823286241, -0.7055585325246749, 1.0670013833110146, -0.07525731914888965, -1.6446033596519718, -0.5731132448732882, 0.28230643408060346, -0.6369429176693027, -0.463511904581433, -0.6818221515715177, 1.59240552402439, -0.2310620264246376, -0.35468737820097457, 1.2691226063805376, -1.4841009789615545, 0.364885132366754, 0.29974569384933014, 0.3132572406958177, -0.8102636947808791, 0.30326014383977185, -0.21028570150169376, 0.2614901512140256, 0.2829084841851137, -0.34187122348639937, 0.6142993959736801, -1.0414937499282173, 0.9659132783487621, 0.41805635893271176, 1.06600170275434, -0.5663640057412325, -0.14857852734621776, 3.623714617818191, -1.3600316145541635, 0.2567161441480053, -0.6611837387514589, 1.29355716133248, -0.19598547591848683, 0.7998749870418101, 1.0155298030451088, -0.06856500394033782, 0.5239722030750937, -0.9834154296918106, -0.21776853784336786, -0.24696562933856378, -1.0855733141799837, -0.9173815950664124, -0.44408610344305527, -0.6979985385575076, -0.8598898351611934, 1.6047381407356591, -0.5121271928381996, -0.5690117266214028, -1.2928831125482076, -0.16234669644829336, 0.2694659729180265, -1.78561152072582, -1.428921850440534, -0.8621474792297036, -0.10637837209491757, 0.4559792143724122, -0.8574353878244705, 0.3021885994240502, -0.6103244159191482, -0.13726219349285845, 0.5166354607657865, 0.9059694275722422, -0.7067201810359846, -1.2311046837646813, -0.6412688895420384, -0.7819574959040753, -1.0179952653389717, 0.1916237565333311, -0.6639610916594818, -0.15226547568551907, 1.3306783412941994, -0.2567291255971543, 0.2440121159927055, 0.808940508913544, 0.8949476598798622, 0.7215510656519343, 0.33975029703787796, 0.0487793512520937, 0.014331855573335089, 0.9586024020595021, 0.6164197105007017, -1.5382301075004485, 0.2997924069194535, 0.4659523836493858, 0.6384592931548604, 1.5109032777927809, 1.176181158569553, 1.9540048439726154, -1.2859495924226727, -0.887694697363015, 0.13068821466303016, 1.212937405174254, -0.10810375040123243, 0.2549416048048139]}],\n",
       "                        {\"barmode\": \"overlay\", \"legend\": {\"bgcolor\": \"#F5F6F9\", \"font\": {\"color\": \"#4D5663\"}}, \"paper_bgcolor\": \"#F5F6F9\", \"plot_bgcolor\": \"#F5F6F9\", \"template\": {\"data\": {\"bar\": [{\"error_x\": {\"color\": \"#2a3f5f\"}, \"error_y\": {\"color\": \"#2a3f5f\"}, \"marker\": {\"line\": {\"color\": \"#E5ECF6\", \"width\": 0.5}}, \"type\": \"bar\"}], \"barpolar\": [{\"marker\": {\"line\": {\"color\": \"#E5ECF6\", \"width\": 0.5}}, \"type\": \"barpolar\"}], \"carpet\": [{\"aaxis\": {\"endlinecolor\": \"#2a3f5f\", \"gridcolor\": \"white\", \"linecolor\": \"white\", \"minorgridcolor\": \"white\", \"startlinecolor\": \"#2a3f5f\"}, \"baxis\": {\"endlinecolor\": \"#2a3f5f\", \"gridcolor\": \"white\", \"linecolor\": \"white\", \"minorgridcolor\": \"white\", \"startlinecolor\": \"#2a3f5f\"}, \"type\": \"carpet\"}], \"choropleth\": [{\"colorbar\": {\"outlinewidth\": 0, \"ticks\": \"\"}, \"type\": \"choropleth\"}], \"contour\": [{\"colorbar\": {\"outlinewidth\": 0, \"ticks\": \"\"}, \"colorscale\": [[0.0, \"#0d0887\"], [0.1111111111111111, \"#46039f\"], [0.2222222222222222, \"#7201a8\"], [0.3333333333333333, \"#9c179e\"], [0.4444444444444444, \"#bd3786\"], [0.5555555555555556, \"#d8576b\"], [0.6666666666666666, \"#ed7953\"], [0.7777777777777778, \"#fb9f3a\"], [0.8888888888888888, \"#fdca26\"], [1.0, \"#f0f921\"]], \"type\": \"contour\"}], \"contourcarpet\": [{\"colorbar\": {\"outlinewidth\": 0, \"ticks\": \"\"}, \"type\": \"contourcarpet\"}], \"heatmap\": [{\"colorbar\": {\"outlinewidth\": 0, \"ticks\": \"\"}, \"colorscale\": [[0.0, \"#0d0887\"], [0.1111111111111111, \"#46039f\"], [0.2222222222222222, \"#7201a8\"], [0.3333333333333333, \"#9c179e\"], [0.4444444444444444, \"#bd3786\"], [0.5555555555555556, \"#d8576b\"], [0.6666666666666666, \"#ed7953\"], [0.7777777777777778, \"#fb9f3a\"], [0.8888888888888888, \"#fdca26\"], [1.0, \"#f0f921\"]], \"type\": \"heatmap\"}], \"heatmapgl\": [{\"colorbar\": {\"outlinewidth\": 0, \"ticks\": \"\"}, \"colorscale\": [[0.0, \"#0d0887\"], [0.1111111111111111, \"#46039f\"], [0.2222222222222222, \"#7201a8\"], [0.3333333333333333, \"#9c179e\"], [0.4444444444444444, \"#bd3786\"], [0.5555555555555556, \"#d8576b\"], [0.6666666666666666, \"#ed7953\"], [0.7777777777777778, \"#fb9f3a\"], [0.8888888888888888, \"#fdca26\"], [1.0, \"#f0f921\"]], \"type\": \"heatmapgl\"}], \"histogram\": [{\"marker\": {\"colorbar\": {\"outlinewidth\": 0, \"ticks\": \"\"}}, \"type\": \"histogram\"}], \"histogram2d\": [{\"colorbar\": {\"outlinewidth\": 0, \"ticks\": \"\"}, \"colorscale\": [[0.0, \"#0d0887\"], [0.1111111111111111, \"#46039f\"], [0.2222222222222222, \"#7201a8\"], [0.3333333333333333, \"#9c179e\"], [0.4444444444444444, \"#bd3786\"], [0.5555555555555556, \"#d8576b\"], [0.6666666666666666, \"#ed7953\"], [0.7777777777777778, \"#fb9f3a\"], [0.8888888888888888, \"#fdca26\"], [1.0, \"#f0f921\"]], \"type\": \"histogram2d\"}], \"histogram2dcontour\": [{\"colorbar\": {\"outlinewidth\": 0, \"ticks\": \"\"}, \"colorscale\": [[0.0, \"#0d0887\"], [0.1111111111111111, \"#46039f\"], [0.2222222222222222, \"#7201a8\"], [0.3333333333333333, \"#9c179e\"], [0.4444444444444444, \"#bd3786\"], [0.5555555555555556, \"#d8576b\"], [0.6666666666666666, \"#ed7953\"], [0.7777777777777778, \"#fb9f3a\"], [0.8888888888888888, \"#fdca26\"], [1.0, \"#f0f921\"]], \"type\": \"histogram2dcontour\"}], \"mesh3d\": [{\"colorbar\": {\"outlinewidth\": 0, \"ticks\": \"\"}, \"type\": \"mesh3d\"}], \"parcoords\": [{\"line\": {\"colorbar\": {\"outlinewidth\": 0, \"ticks\": \"\"}}, \"type\": \"parcoords\"}], \"pie\": [{\"automargin\": true, \"type\": \"pie\"}], \"scatter\": [{\"marker\": {\"colorbar\": {\"outlinewidth\": 0, \"ticks\": \"\"}}, \"type\": \"scatter\"}], \"scatter3d\": [{\"line\": {\"colorbar\": {\"outlinewidth\": 0, \"ticks\": \"\"}}, \"marker\": {\"colorbar\": {\"outlinewidth\": 0, \"ticks\": \"\"}}, \"type\": \"scatter3d\"}], \"scattercarpet\": [{\"marker\": {\"colorbar\": {\"outlinewidth\": 0, \"ticks\": \"\"}}, \"type\": \"scattercarpet\"}], \"scattergeo\": [{\"marker\": {\"colorbar\": {\"outlinewidth\": 0, \"ticks\": \"\"}}, \"type\": \"scattergeo\"}], \"scattergl\": [{\"marker\": {\"colorbar\": {\"outlinewidth\": 0, \"ticks\": \"\"}}, \"type\": \"scattergl\"}], \"scattermapbox\": [{\"marker\": {\"colorbar\": {\"outlinewidth\": 0, \"ticks\": \"\"}}, \"type\": \"scattermapbox\"}], \"scatterpolar\": [{\"marker\": {\"colorbar\": {\"outlinewidth\": 0, \"ticks\": \"\"}}, \"type\": \"scatterpolar\"}], \"scatterpolargl\": [{\"marker\": {\"colorbar\": {\"outlinewidth\": 0, \"ticks\": \"\"}}, \"type\": \"scatterpolargl\"}], \"scatterternary\": [{\"marker\": {\"colorbar\": {\"outlinewidth\": 0, \"ticks\": \"\"}}, \"type\": \"scatterternary\"}], \"surface\": [{\"colorbar\": {\"outlinewidth\": 0, \"ticks\": \"\"}, \"colorscale\": [[0.0, \"#0d0887\"], [0.1111111111111111, \"#46039f\"], [0.2222222222222222, \"#7201a8\"], [0.3333333333333333, \"#9c179e\"], [0.4444444444444444, \"#bd3786\"], [0.5555555555555556, \"#d8576b\"], [0.6666666666666666, \"#ed7953\"], [0.7777777777777778, \"#fb9f3a\"], [0.8888888888888888, \"#fdca26\"], [1.0, \"#f0f921\"]], \"type\": \"surface\"}], \"table\": [{\"cells\": {\"fill\": {\"color\": \"#EBF0F8\"}, \"line\": {\"color\": \"white\"}}, \"header\": {\"fill\": {\"color\": \"#C8D4E3\"}, \"line\": {\"color\": \"white\"}}, \"type\": \"table\"}]}, \"layout\": {\"annotationdefaults\": {\"arrowcolor\": \"#2a3f5f\", \"arrowhead\": 0, \"arrowwidth\": 1}, \"coloraxis\": {\"colorbar\": {\"outlinewidth\": 0, \"ticks\": \"\"}}, \"colorscale\": {\"diverging\": [[0, \"#8e0152\"], [0.1, \"#c51b7d\"], [0.2, \"#de77ae\"], [0.3, \"#f1b6da\"], [0.4, \"#fde0ef\"], [0.5, \"#f7f7f7\"], [0.6, \"#e6f5d0\"], [0.7, \"#b8e186\"], [0.8, \"#7fbc41\"], [0.9, \"#4d9221\"], [1, \"#276419\"]], \"sequential\": [[0.0, \"#0d0887\"], [0.1111111111111111, \"#46039f\"], [0.2222222222222222, \"#7201a8\"], [0.3333333333333333, \"#9c179e\"], [0.4444444444444444, \"#bd3786\"], [0.5555555555555556, \"#d8576b\"], [0.6666666666666666, \"#ed7953\"], [0.7777777777777778, \"#fb9f3a\"], [0.8888888888888888, \"#fdca26\"], [1.0, \"#f0f921\"]], \"sequentialminus\": [[0.0, \"#0d0887\"], [0.1111111111111111, \"#46039f\"], [0.2222222222222222, \"#7201a8\"], [0.3333333333333333, \"#9c179e\"], [0.4444444444444444, \"#bd3786\"], [0.5555555555555556, \"#d8576b\"], [0.6666666666666666, \"#ed7953\"], [0.7777777777777778, \"#fb9f3a\"], [0.8888888888888888, \"#fdca26\"], [1.0, \"#f0f921\"]]}, \"colorway\": [\"#636efa\", \"#EF553B\", \"#00cc96\", \"#ab63fa\", \"#FFA15A\", \"#19d3f3\", \"#FF6692\", \"#B6E880\", \"#FF97FF\", \"#FECB52\"], \"font\": {\"color\": \"#2a3f5f\"}, \"geo\": {\"bgcolor\": \"white\", \"lakecolor\": \"white\", \"landcolor\": \"#E5ECF6\", \"showlakes\": true, \"showland\": true, \"subunitcolor\": \"white\"}, \"hoverlabel\": {\"align\": \"left\"}, \"hovermode\": \"closest\", \"mapbox\": {\"style\": \"light\"}, \"paper_bgcolor\": \"white\", \"plot_bgcolor\": \"#E5ECF6\", \"polar\": {\"angularaxis\": {\"gridcolor\": \"white\", \"linecolor\": \"white\", \"ticks\": \"\"}, \"bgcolor\": \"#E5ECF6\", \"radialaxis\": {\"gridcolor\": \"white\", \"linecolor\": \"white\", \"ticks\": \"\"}}, \"scene\": {\"xaxis\": {\"backgroundcolor\": \"#E5ECF6\", \"gridcolor\": \"white\", \"gridwidth\": 2, \"linecolor\": \"white\", \"showbackground\": true, \"ticks\": \"\", \"zerolinecolor\": \"white\"}, \"yaxis\": {\"backgroundcolor\": \"#E5ECF6\", \"gridcolor\": \"white\", \"gridwidth\": 2, \"linecolor\": \"white\", \"showbackground\": true, \"ticks\": \"\", \"zerolinecolor\": \"white\"}, \"zaxis\": {\"backgroundcolor\": \"#E5ECF6\", \"gridcolor\": \"white\", \"gridwidth\": 2, \"linecolor\": \"white\", \"showbackground\": true, \"ticks\": \"\", \"zerolinecolor\": \"white\"}}, \"shapedefaults\": {\"line\": {\"color\": \"#2a3f5f\"}}, \"ternary\": {\"aaxis\": {\"gridcolor\": \"white\", \"linecolor\": \"white\", \"ticks\": \"\"}, \"baxis\": {\"gridcolor\": \"white\", \"linecolor\": \"white\", \"ticks\": \"\"}, \"bgcolor\": \"#E5ECF6\", \"caxis\": {\"gridcolor\": \"white\", \"linecolor\": \"white\", \"ticks\": \"\"}}, \"title\": {\"x\": 0.05}, \"xaxis\": {\"automargin\": true, \"gridcolor\": \"white\", \"linecolor\": \"white\", \"ticks\": \"\", \"title\": {\"standoff\": 15}, \"zerolinecolor\": \"white\", \"zerolinewidth\": 2}, \"yaxis\": {\"automargin\": true, \"gridcolor\": \"white\", \"linecolor\": \"white\", \"ticks\": \"\", \"title\": {\"standoff\": 15}, \"zerolinecolor\": \"white\", \"zerolinewidth\": 2}}}, \"title\": {\"font\": {\"color\": \"#4D5663\"}}, \"xaxis\": {\"gridcolor\": \"#E1E5ED\", \"showgrid\": true, \"tickfont\": {\"color\": \"#4D5663\"}, \"title\": {\"font\": {\"color\": \"#4D5663\"}, \"text\": \"\"}, \"zerolinecolor\": \"#E1E5ED\"}, \"yaxis\": {\"gridcolor\": \"#E1E5ED\", \"showgrid\": true, \"tickfont\": {\"color\": \"#4D5663\"}, \"title\": {\"font\": {\"color\": \"#4D5663\"}, \"text\": \"\"}, \"zerolinecolor\": \"#E1E5ED\"}},\n",
       "                        {\"showLink\": true, \"linkText\": \"Export to plot.ly\", \"plotlyServerURL\": \"https://plot.ly\", \"responsive\": true}\n",
       "                    ).then(function(){\n",
       "                            \n",
       "var gd = document.getElementById('dba713f6-6339-4072-8307-7cb24cf7cba8');\n",
       "var x = new MutationObserver(function (mutations, observer) {{\n",
       "        var display = window.getComputedStyle(gd).display;\n",
       "        if (!display || display === 'none') {{\n",
       "            console.log([gd, 'removed!']);\n",
       "            Plotly.purge(gd);\n",
       "            observer.disconnect();\n",
       "        }}\n",
       "}});\n",
       "\n",
       "// Listen for the removal of the full notebook cells\n",
       "var notebookContainer = gd.closest('#notebook-container');\n",
       "if (notebookContainer) {{\n",
       "    x.observe(notebookContainer, {childList: true});\n",
       "}}\n",
       "\n",
       "// Listen for the clearing of the current output cell\n",
       "var outputEl = gd.closest('.output');\n",
       "if (outputEl) {{\n",
       "    x.observe(outputEl, {childList: true});\n",
       "}}\n",
       "\n",
       "                        })\n",
       "                };\n",
       "                });\n",
       "            </script>\n",
       "        </div>"
      ]
     },
     "metadata": {},
     "output_type": "display_data"
    }
   ],
   "source": [
    "df['A'].iplot(kind='hist',bins=25)"
   ]
  },
  {
   "cell_type": "code",
   "execution_count": 24,
   "metadata": {},
   "outputs": [
    {
     "data": {
      "application/vnd.plotly.v1+json": {
       "config": {
        "linkText": "Export to plot.ly",
        "plotlyServerURL": "https://plot.ly",
        "showLink": true
       },
       "data": [
        {
         "marker": {
          "color": [
           "rgb(255, 153, 51)",
           "rgb(55, 128, 191)",
           "rgb(50, 171, 96)",
           "rgb(128, 0, 128)",
           "rgb(219, 64, 82)",
           "rgb(0, 128, 128)",
           "rgb(255, 255, 51)",
           "rgb(128, 128, 0)",
           "rgb(251, 128, 114)",
           "rgb(128, 177, 211)"
          ],
          "line": {
           "width": 1.3
          },
          "size": [
           27,
           36,
           81,
           41,
           69,
           36,
           30,
           46,
           60,
           106,
           112,
           52,
           48,
           42,
           35,
           83,
           55,
           56,
           77,
           25,
           40,
           12,
           18,
           71,
           42,
           70,
           73,
           39,
           30,
           35,
           31,
           60,
           102,
           71,
           51,
           67,
           33,
           34,
           26,
           50,
           76,
           44,
           47,
           56,
           46,
           55,
           60,
           16,
           55,
           61,
           52,
           68,
           42,
           53,
           68,
           68,
           36,
           50,
           36,
           50,
           49,
           57,
           61,
           44,
           67,
           53,
           65,
           68,
           31,
           52,
           30,
           71,
           52,
           45,
           26,
           89,
           59,
           68,
           70,
           59,
           21,
           87,
           44,
           63,
           45,
           33,
           48,
           43,
           20,
           81,
           91,
           29,
           21,
           72,
           48,
           38,
           62,
           95,
           49,
           57
          ],
          "symbol": "circle"
         },
         "mode": "markers",
         "text": "",
         "type": "scatter",
         "x": [
          -0.09460603389983938,
          -1.115161546621085,
          0.552250823286241,
          -0.7055585325246749,
          1.0670013833110146,
          -0.07525731914888965,
          -1.6446033596519718,
          -0.5731132448732882,
          0.28230643408060346,
          -0.6369429176693027,
          -0.463511904581433,
          -0.6818221515715177,
          1.59240552402439,
          -0.2310620264246376,
          -0.35468737820097457,
          1.2691226063805376,
          -1.4841009789615545,
          0.364885132366754,
          0.29974569384933014,
          0.3132572406958177,
          -0.8102636947808791,
          0.30326014383977185,
          -0.21028570150169376,
          0.2614901512140256,
          0.2829084841851137,
          -0.34187122348639937,
          0.6142993959736801,
          -1.0414937499282173,
          0.9659132783487621,
          0.41805635893271176,
          1.06600170275434,
          -0.5663640057412325,
          -0.14857852734621776,
          3.623714617818191,
          -1.3600316145541635,
          0.2567161441480053,
          -0.6611837387514589,
          1.29355716133248,
          -0.19598547591848683,
          0.7998749870418101,
          1.0155298030451088,
          -0.06856500394033782,
          0.5239722030750937,
          -0.9834154296918106,
          -0.21776853784336786,
          -0.24696562933856378,
          -1.0855733141799837,
          -0.9173815950664124,
          -0.44408610344305527,
          -0.6979985385575076,
          -0.8598898351611934,
          1.6047381407356591,
          -0.5121271928381996,
          -0.5690117266214028,
          -1.2928831125482076,
          -0.16234669644829336,
          0.2694659729180265,
          -1.78561152072582,
          -1.428921850440534,
          -0.8621474792297036,
          -0.10637837209491757,
          0.4559792143724122,
          -0.8574353878244705,
          0.3021885994240502,
          -0.6103244159191482,
          -0.13726219349285845,
          0.5166354607657865,
          0.9059694275722422,
          -0.7067201810359846,
          -1.2311046837646813,
          -0.6412688895420384,
          -0.7819574959040753,
          -1.0179952653389717,
          0.1916237565333311,
          -0.6639610916594818,
          -0.15226547568551907,
          1.3306783412941994,
          -0.2567291255971543,
          0.2440121159927055,
          0.808940508913544,
          0.8949476598798622,
          0.7215510656519343,
          0.33975029703787796,
          0.0487793512520937,
          0.014331855573335089,
          0.9586024020595021,
          0.6164197105007017,
          -1.5382301075004485,
          0.2997924069194535,
          0.4659523836493858,
          0.6384592931548604,
          1.5109032777927809,
          1.176181158569553,
          1.9540048439726154,
          -1.2859495924226727,
          -0.887694697363015,
          0.13068821466303016,
          1.212937405174254,
          -0.10810375040123243,
          0.2549416048048139
         ],
         "y": [
          0.1081415629462722,
          0.4268245327166299,
          1.5445724980427822,
          0.9749858108183381,
          0.11449114167189642,
          1.4909096828570594,
          -0.5260456895720725,
          -1.3758691637260192,
          1.044161724360801,
          -1.1092315877742995,
          0.9670447984242331,
          -0.49257750966647734,
          1.0083424456629906,
          1.6885392876330236,
          1.0257650564036982,
          2.99075191788488,
          -0.9350489509778263,
          1.3509322989107693,
          0.7327247826693019,
          -1.216688483531076,
          0.439187156007758,
          0.7834858278015342,
          -1.0010346920455842,
          -0.18418277849451004,
          0.6691026962458871,
          -1.4144483849267844,
          0.8692718843241752,
          -0.21714490067334163,
          1.5080736437005582,
          0.21633766008584335,
          0.21540298577400788,
          0.39668945806355743,
          1.6920374198303962,
          2.1291025135898645,
          1.0086829319016535,
          0.6882703768598456,
          0.5260058746129411,
          -0.32403554739037366,
          -2.5808940818911505,
          -0.44918693914966534,
          -1.2867007075492303,
          0.8817648710663066,
          -0.2116089089096702,
          -0.5901077282473927,
          -1.0962507700134656,
          0.12608049280794345,
          0.317036264205109,
          0.7756982105135313,
          0.7909109267769698,
          0.7409657789632829,
          -0.9825901210917485,
          -0.08636936949193734,
          0.10096210691370497,
          -0.2813182291307528,
          -1.0250092240672513,
          -0.360665288454977,
          1.4124426002380253,
          0.2381977331747811,
          -0.752549537439929,
          0.8198761767071212,
          0.2944436999635293,
          -1.4739537040295216,
          0.16679057324504853,
          1.6740543786755937,
          -1.0748604415950138,
          0.7751341167935993,
          0.9539902019500902,
          -0.9918431337061299,
          0.042113280156370794,
          0.35927719801313474,
          -0.8380540062867653,
          1.565365597960983,
          -0.8558934319004765,
          2.0180128424056836,
          0.514647344235371,
          -1.5144668221405355,
          -1.540063547852475,
          -1.1225329538451916,
          0.6634805682965175,
          0.05867190349109249,
          0.14132776451484372,
          -0.42345845862152137,
          0.08108099227504234,
          -0.9921570022559376,
          -0.11472860485217094,
          -0.2871729128066149,
          0.5942010414877332,
          -0.6906728192068669,
          -0.1932952922984659,
          0.3353581241138731,
          -0.710578443380192,
          -0.010508048548534713,
          0.2472535856529788,
          -0.5764328208509977,
          -2.0137544897542825,
          -0.013688338442916483,
          -0.08955780113355191,
          -0.3894832296265267,
          -0.5903110638733836,
          0.599868761822671
         ]
        }
       ],
       "layout": {
        "legend": {
         "bgcolor": "#F5F6F9",
         "font": {
          "color": "#4D5663"
         }
        },
        "paper_bgcolor": "#F5F6F9",
        "plot_bgcolor": "#F5F6F9",
        "template": {
         "data": {
          "bar": [
           {
            "error_x": {
             "color": "#2a3f5f"
            },
            "error_y": {
             "color": "#2a3f5f"
            },
            "marker": {
             "line": {
              "color": "#E5ECF6",
              "width": 0.5
             }
            },
            "type": "bar"
           }
          ],
          "barpolar": [
           {
            "marker": {
             "line": {
              "color": "#E5ECF6",
              "width": 0.5
             }
            },
            "type": "barpolar"
           }
          ],
          "carpet": [
           {
            "aaxis": {
             "endlinecolor": "#2a3f5f",
             "gridcolor": "white",
             "linecolor": "white",
             "minorgridcolor": "white",
             "startlinecolor": "#2a3f5f"
            },
            "baxis": {
             "endlinecolor": "#2a3f5f",
             "gridcolor": "white",
             "linecolor": "white",
             "minorgridcolor": "white",
             "startlinecolor": "#2a3f5f"
            },
            "type": "carpet"
           }
          ],
          "choropleth": [
           {
            "colorbar": {
             "outlinewidth": 0,
             "ticks": ""
            },
            "type": "choropleth"
           }
          ],
          "contour": [
           {
            "colorbar": {
             "outlinewidth": 0,
             "ticks": ""
            },
            "colorscale": [
             [
              0,
              "#0d0887"
             ],
             [
              0.1111111111111111,
              "#46039f"
             ],
             [
              0.2222222222222222,
              "#7201a8"
             ],
             [
              0.3333333333333333,
              "#9c179e"
             ],
             [
              0.4444444444444444,
              "#bd3786"
             ],
             [
              0.5555555555555556,
              "#d8576b"
             ],
             [
              0.6666666666666666,
              "#ed7953"
             ],
             [
              0.7777777777777778,
              "#fb9f3a"
             ],
             [
              0.8888888888888888,
              "#fdca26"
             ],
             [
              1,
              "#f0f921"
             ]
            ],
            "type": "contour"
           }
          ],
          "contourcarpet": [
           {
            "colorbar": {
             "outlinewidth": 0,
             "ticks": ""
            },
            "type": "contourcarpet"
           }
          ],
          "heatmap": [
           {
            "colorbar": {
             "outlinewidth": 0,
             "ticks": ""
            },
            "colorscale": [
             [
              0,
              "#0d0887"
             ],
             [
              0.1111111111111111,
              "#46039f"
             ],
             [
              0.2222222222222222,
              "#7201a8"
             ],
             [
              0.3333333333333333,
              "#9c179e"
             ],
             [
              0.4444444444444444,
              "#bd3786"
             ],
             [
              0.5555555555555556,
              "#d8576b"
             ],
             [
              0.6666666666666666,
              "#ed7953"
             ],
             [
              0.7777777777777778,
              "#fb9f3a"
             ],
             [
              0.8888888888888888,
              "#fdca26"
             ],
             [
              1,
              "#f0f921"
             ]
            ],
            "type": "heatmap"
           }
          ],
          "heatmapgl": [
           {
            "colorbar": {
             "outlinewidth": 0,
             "ticks": ""
            },
            "colorscale": [
             [
              0,
              "#0d0887"
             ],
             [
              0.1111111111111111,
              "#46039f"
             ],
             [
              0.2222222222222222,
              "#7201a8"
             ],
             [
              0.3333333333333333,
              "#9c179e"
             ],
             [
              0.4444444444444444,
              "#bd3786"
             ],
             [
              0.5555555555555556,
              "#d8576b"
             ],
             [
              0.6666666666666666,
              "#ed7953"
             ],
             [
              0.7777777777777778,
              "#fb9f3a"
             ],
             [
              0.8888888888888888,
              "#fdca26"
             ],
             [
              1,
              "#f0f921"
             ]
            ],
            "type": "heatmapgl"
           }
          ],
          "histogram": [
           {
            "marker": {
             "colorbar": {
              "outlinewidth": 0,
              "ticks": ""
             }
            },
            "type": "histogram"
           }
          ],
          "histogram2d": [
           {
            "colorbar": {
             "outlinewidth": 0,
             "ticks": ""
            },
            "colorscale": [
             [
              0,
              "#0d0887"
             ],
             [
              0.1111111111111111,
              "#46039f"
             ],
             [
              0.2222222222222222,
              "#7201a8"
             ],
             [
              0.3333333333333333,
              "#9c179e"
             ],
             [
              0.4444444444444444,
              "#bd3786"
             ],
             [
              0.5555555555555556,
              "#d8576b"
             ],
             [
              0.6666666666666666,
              "#ed7953"
             ],
             [
              0.7777777777777778,
              "#fb9f3a"
             ],
             [
              0.8888888888888888,
              "#fdca26"
             ],
             [
              1,
              "#f0f921"
             ]
            ],
            "type": "histogram2d"
           }
          ],
          "histogram2dcontour": [
           {
            "colorbar": {
             "outlinewidth": 0,
             "ticks": ""
            },
            "colorscale": [
             [
              0,
              "#0d0887"
             ],
             [
              0.1111111111111111,
              "#46039f"
             ],
             [
              0.2222222222222222,
              "#7201a8"
             ],
             [
              0.3333333333333333,
              "#9c179e"
             ],
             [
              0.4444444444444444,
              "#bd3786"
             ],
             [
              0.5555555555555556,
              "#d8576b"
             ],
             [
              0.6666666666666666,
              "#ed7953"
             ],
             [
              0.7777777777777778,
              "#fb9f3a"
             ],
             [
              0.8888888888888888,
              "#fdca26"
             ],
             [
              1,
              "#f0f921"
             ]
            ],
            "type": "histogram2dcontour"
           }
          ],
          "mesh3d": [
           {
            "colorbar": {
             "outlinewidth": 0,
             "ticks": ""
            },
            "type": "mesh3d"
           }
          ],
          "parcoords": [
           {
            "line": {
             "colorbar": {
              "outlinewidth": 0,
              "ticks": ""
             }
            },
            "type": "parcoords"
           }
          ],
          "pie": [
           {
            "automargin": true,
            "type": "pie"
           }
          ],
          "scatter": [
           {
            "marker": {
             "colorbar": {
              "outlinewidth": 0,
              "ticks": ""
             }
            },
            "type": "scatter"
           }
          ],
          "scatter3d": [
           {
            "line": {
             "colorbar": {
              "outlinewidth": 0,
              "ticks": ""
             }
            },
            "marker": {
             "colorbar": {
              "outlinewidth": 0,
              "ticks": ""
             }
            },
            "type": "scatter3d"
           }
          ],
          "scattercarpet": [
           {
            "marker": {
             "colorbar": {
              "outlinewidth": 0,
              "ticks": ""
             }
            },
            "type": "scattercarpet"
           }
          ],
          "scattergeo": [
           {
            "marker": {
             "colorbar": {
              "outlinewidth": 0,
              "ticks": ""
             }
            },
            "type": "scattergeo"
           }
          ],
          "scattergl": [
           {
            "marker": {
             "colorbar": {
              "outlinewidth": 0,
              "ticks": ""
             }
            },
            "type": "scattergl"
           }
          ],
          "scattermapbox": [
           {
            "marker": {
             "colorbar": {
              "outlinewidth": 0,
              "ticks": ""
             }
            },
            "type": "scattermapbox"
           }
          ],
          "scatterpolar": [
           {
            "marker": {
             "colorbar": {
              "outlinewidth": 0,
              "ticks": ""
             }
            },
            "type": "scatterpolar"
           }
          ],
          "scatterpolargl": [
           {
            "marker": {
             "colorbar": {
              "outlinewidth": 0,
              "ticks": ""
             }
            },
            "type": "scatterpolargl"
           }
          ],
          "scatterternary": [
           {
            "marker": {
             "colorbar": {
              "outlinewidth": 0,
              "ticks": ""
             }
            },
            "type": "scatterternary"
           }
          ],
          "surface": [
           {
            "colorbar": {
             "outlinewidth": 0,
             "ticks": ""
            },
            "colorscale": [
             [
              0,
              "#0d0887"
             ],
             [
              0.1111111111111111,
              "#46039f"
             ],
             [
              0.2222222222222222,
              "#7201a8"
             ],
             [
              0.3333333333333333,
              "#9c179e"
             ],
             [
              0.4444444444444444,
              "#bd3786"
             ],
             [
              0.5555555555555556,
              "#d8576b"
             ],
             [
              0.6666666666666666,
              "#ed7953"
             ],
             [
              0.7777777777777778,
              "#fb9f3a"
             ],
             [
              0.8888888888888888,
              "#fdca26"
             ],
             [
              1,
              "#f0f921"
             ]
            ],
            "type": "surface"
           }
          ],
          "table": [
           {
            "cells": {
             "fill": {
              "color": "#EBF0F8"
             },
             "line": {
              "color": "white"
             }
            },
            "header": {
             "fill": {
              "color": "#C8D4E3"
             },
             "line": {
              "color": "white"
             }
            },
            "type": "table"
           }
          ]
         },
         "layout": {
          "annotationdefaults": {
           "arrowcolor": "#2a3f5f",
           "arrowhead": 0,
           "arrowwidth": 1
          },
          "coloraxis": {
           "colorbar": {
            "outlinewidth": 0,
            "ticks": ""
           }
          },
          "colorscale": {
           "diverging": [
            [
             0,
             "#8e0152"
            ],
            [
             0.1,
             "#c51b7d"
            ],
            [
             0.2,
             "#de77ae"
            ],
            [
             0.3,
             "#f1b6da"
            ],
            [
             0.4,
             "#fde0ef"
            ],
            [
             0.5,
             "#f7f7f7"
            ],
            [
             0.6,
             "#e6f5d0"
            ],
            [
             0.7,
             "#b8e186"
            ],
            [
             0.8,
             "#7fbc41"
            ],
            [
             0.9,
             "#4d9221"
            ],
            [
             1,
             "#276419"
            ]
           ],
           "sequential": [
            [
             0,
             "#0d0887"
            ],
            [
             0.1111111111111111,
             "#46039f"
            ],
            [
             0.2222222222222222,
             "#7201a8"
            ],
            [
             0.3333333333333333,
             "#9c179e"
            ],
            [
             0.4444444444444444,
             "#bd3786"
            ],
            [
             0.5555555555555556,
             "#d8576b"
            ],
            [
             0.6666666666666666,
             "#ed7953"
            ],
            [
             0.7777777777777778,
             "#fb9f3a"
            ],
            [
             0.8888888888888888,
             "#fdca26"
            ],
            [
             1,
             "#f0f921"
            ]
           ],
           "sequentialminus": [
            [
             0,
             "#0d0887"
            ],
            [
             0.1111111111111111,
             "#46039f"
            ],
            [
             0.2222222222222222,
             "#7201a8"
            ],
            [
             0.3333333333333333,
             "#9c179e"
            ],
            [
             0.4444444444444444,
             "#bd3786"
            ],
            [
             0.5555555555555556,
             "#d8576b"
            ],
            [
             0.6666666666666666,
             "#ed7953"
            ],
            [
             0.7777777777777778,
             "#fb9f3a"
            ],
            [
             0.8888888888888888,
             "#fdca26"
            ],
            [
             1,
             "#f0f921"
            ]
           ]
          },
          "colorway": [
           "#636efa",
           "#EF553B",
           "#00cc96",
           "#ab63fa",
           "#FFA15A",
           "#19d3f3",
           "#FF6692",
           "#B6E880",
           "#FF97FF",
           "#FECB52"
          ],
          "font": {
           "color": "#2a3f5f"
          },
          "geo": {
           "bgcolor": "white",
           "lakecolor": "white",
           "landcolor": "#E5ECF6",
           "showlakes": true,
           "showland": true,
           "subunitcolor": "white"
          },
          "hoverlabel": {
           "align": "left"
          },
          "hovermode": "closest",
          "mapbox": {
           "style": "light"
          },
          "paper_bgcolor": "white",
          "plot_bgcolor": "#E5ECF6",
          "polar": {
           "angularaxis": {
            "gridcolor": "white",
            "linecolor": "white",
            "ticks": ""
           },
           "bgcolor": "#E5ECF6",
           "radialaxis": {
            "gridcolor": "white",
            "linecolor": "white",
            "ticks": ""
           }
          },
          "scene": {
           "xaxis": {
            "backgroundcolor": "#E5ECF6",
            "gridcolor": "white",
            "gridwidth": 2,
            "linecolor": "white",
            "showbackground": true,
            "ticks": "",
            "zerolinecolor": "white"
           },
           "yaxis": {
            "backgroundcolor": "#E5ECF6",
            "gridcolor": "white",
            "gridwidth": 2,
            "linecolor": "white",
            "showbackground": true,
            "ticks": "",
            "zerolinecolor": "white"
           },
           "zaxis": {
            "backgroundcolor": "#E5ECF6",
            "gridcolor": "white",
            "gridwidth": 2,
            "linecolor": "white",
            "showbackground": true,
            "ticks": "",
            "zerolinecolor": "white"
           }
          },
          "shapedefaults": {
           "line": {
            "color": "#2a3f5f"
           }
          },
          "ternary": {
           "aaxis": {
            "gridcolor": "white",
            "linecolor": "white",
            "ticks": ""
           },
           "baxis": {
            "gridcolor": "white",
            "linecolor": "white",
            "ticks": ""
           },
           "bgcolor": "#E5ECF6",
           "caxis": {
            "gridcolor": "white",
            "linecolor": "white",
            "ticks": ""
           }
          },
          "title": {
           "x": 0.05
          },
          "xaxis": {
           "automargin": true,
           "gridcolor": "white",
           "linecolor": "white",
           "ticks": "",
           "title": {
            "standoff": 15
           },
           "zerolinecolor": "white",
           "zerolinewidth": 2
          },
          "yaxis": {
           "automargin": true,
           "gridcolor": "white",
           "linecolor": "white",
           "ticks": "",
           "title": {
            "standoff": 15
           },
           "zerolinecolor": "white",
           "zerolinewidth": 2
          }
         }
        },
        "title": {
         "font": {
          "color": "#4D5663"
         }
        },
        "xaxis": {
         "gridcolor": "#E1E5ED",
         "showgrid": true,
         "tickfont": {
          "color": "#4D5663"
         },
         "title": {
          "font": {
           "color": "#4D5663"
          },
          "text": ""
         },
         "zerolinecolor": "#E1E5ED"
        },
        "yaxis": {
         "gridcolor": "#E1E5ED",
         "showgrid": true,
         "tickfont": {
          "color": "#4D5663"
         },
         "title": {
          "font": {
           "color": "#4D5663"
          },
          "text": ""
         },
         "zerolinecolor": "#E1E5ED"
        }
       }
      },
      "text/html": [
       "<div>\n",
       "        \n",
       "        \n",
       "            <div id=\"a7c72f9e-f78e-4fc1-ab15-5b7fcd51ea43\" class=\"plotly-graph-div\" style=\"height:525px; width:100%;\"></div>\n",
       "            <script type=\"text/javascript\">\n",
       "                require([\"plotly\"], function(Plotly) {\n",
       "                    window.PLOTLYENV=window.PLOTLYENV || {};\n",
       "                    window.PLOTLYENV.BASE_URL='https://plot.ly';\n",
       "                    \n",
       "                if (document.getElementById(\"a7c72f9e-f78e-4fc1-ab15-5b7fcd51ea43\")) {\n",
       "                    Plotly.newPlot(\n",
       "                        'a7c72f9e-f78e-4fc1-ab15-5b7fcd51ea43',\n",
       "                        [{\"marker\": {\"color\": [\"rgb(255, 153, 51)\", \"rgb(55, 128, 191)\", \"rgb(50, 171, 96)\", \"rgb(128, 0, 128)\", \"rgb(219, 64, 82)\", \"rgb(0, 128, 128)\", \"rgb(255, 255, 51)\", \"rgb(128, 128, 0)\", \"rgb(251, 128, 114)\", \"rgb(128, 177, 211)\"], \"line\": {\"width\": 1.3}, \"size\": [27, 36, 81, 41, 69, 36, 30, 46, 60, 106, 112, 52, 48, 42, 35, 83, 55, 56, 77, 25, 40, 12, 18, 71, 42, 70, 73, 39, 30, 35, 31, 60, 102, 71, 51, 67, 33, 34, 26, 50, 76, 44, 47, 56, 46, 55, 60, 16, 55, 61, 52, 68, 42, 53, 68, 68, 36, 50, 36, 50, 49, 57, 61, 44, 67, 53, 65, 68, 31, 52, 30, 71, 52, 45, 26, 89, 59, 68, 70, 59, 21, 87, 44, 63, 45, 33, 48, 43, 20, 81, 91, 29, 21, 72, 48, 38, 62, 95, 49, 57], \"symbol\": \"circle\"}, \"mode\": \"markers\", \"text\": \"\", \"type\": \"scatter\", \"x\": [-0.09460603389983938, -1.115161546621085, 0.552250823286241, -0.7055585325246749, 1.0670013833110146, -0.07525731914888965, -1.6446033596519718, -0.5731132448732882, 0.28230643408060346, -0.6369429176693027, -0.463511904581433, -0.6818221515715177, 1.59240552402439, -0.2310620264246376, -0.35468737820097457, 1.2691226063805376, -1.4841009789615545, 0.364885132366754, 0.29974569384933014, 0.3132572406958177, -0.8102636947808791, 0.30326014383977185, -0.21028570150169376, 0.2614901512140256, 0.2829084841851137, -0.34187122348639937, 0.6142993959736801, -1.0414937499282173, 0.9659132783487621, 0.41805635893271176, 1.06600170275434, -0.5663640057412325, -0.14857852734621776, 3.623714617818191, -1.3600316145541635, 0.2567161441480053, -0.6611837387514589, 1.29355716133248, -0.19598547591848683, 0.7998749870418101, 1.0155298030451088, -0.06856500394033782, 0.5239722030750937, -0.9834154296918106, -0.21776853784336786, -0.24696562933856378, -1.0855733141799837, -0.9173815950664124, -0.44408610344305527, -0.6979985385575076, -0.8598898351611934, 1.6047381407356591, -0.5121271928381996, -0.5690117266214028, -1.2928831125482076, -0.16234669644829336, 0.2694659729180265, -1.78561152072582, -1.428921850440534, -0.8621474792297036, -0.10637837209491757, 0.4559792143724122, -0.8574353878244705, 0.3021885994240502, -0.6103244159191482, -0.13726219349285845, 0.5166354607657865, 0.9059694275722422, -0.7067201810359846, -1.2311046837646813, -0.6412688895420384, -0.7819574959040753, -1.0179952653389717, 0.1916237565333311, -0.6639610916594818, -0.15226547568551907, 1.3306783412941994, -0.2567291255971543, 0.2440121159927055, 0.808940508913544, 0.8949476598798622, 0.7215510656519343, 0.33975029703787796, 0.0487793512520937, 0.014331855573335089, 0.9586024020595021, 0.6164197105007017, -1.5382301075004485, 0.2997924069194535, 0.4659523836493858, 0.6384592931548604, 1.5109032777927809, 1.176181158569553, 1.9540048439726154, -1.2859495924226727, -0.887694697363015, 0.13068821466303016, 1.212937405174254, -0.10810375040123243, 0.2549416048048139], \"y\": [0.1081415629462722, 0.4268245327166299, 1.5445724980427822, 0.9749858108183381, 0.11449114167189642, 1.4909096828570594, -0.5260456895720725, -1.3758691637260192, 1.044161724360801, -1.1092315877742995, 0.9670447984242331, -0.49257750966647734, 1.0083424456629906, 1.6885392876330236, 1.0257650564036982, 2.99075191788488, -0.9350489509778263, 1.3509322989107693, 0.7327247826693019, -1.216688483531076, 0.439187156007758, 0.7834858278015342, -1.0010346920455842, -0.18418277849451004, 0.6691026962458871, -1.4144483849267844, 0.8692718843241752, -0.21714490067334163, 1.5080736437005582, 0.21633766008584335, 0.21540298577400788, 0.39668945806355743, 1.6920374198303962, 2.1291025135898645, 1.0086829319016535, 0.6882703768598456, 0.5260058746129411, -0.32403554739037366, -2.5808940818911505, -0.44918693914966534, -1.2867007075492303, 0.8817648710663066, -0.2116089089096702, -0.5901077282473927, -1.0962507700134656, 0.12608049280794345, 0.317036264205109, 0.7756982105135313, 0.7909109267769698, 0.7409657789632829, -0.9825901210917485, -0.08636936949193734, 0.10096210691370497, -0.2813182291307528, -1.0250092240672513, -0.360665288454977, 1.4124426002380253, 0.2381977331747811, -0.752549537439929, 0.8198761767071212, 0.2944436999635293, -1.4739537040295216, 0.16679057324504853, 1.6740543786755937, -1.0748604415950138, 0.7751341167935993, 0.9539902019500902, -0.9918431337061299, 0.042113280156370794, 0.35927719801313474, -0.8380540062867653, 1.565365597960983, -0.8558934319004765, 2.0180128424056836, 0.514647344235371, -1.5144668221405355, -1.540063547852475, -1.1225329538451916, 0.6634805682965175, 0.05867190349109249, 0.14132776451484372, -0.42345845862152137, 0.08108099227504234, -0.9921570022559376, -0.11472860485217094, -0.2871729128066149, 0.5942010414877332, -0.6906728192068669, -0.1932952922984659, 0.3353581241138731, -0.710578443380192, -0.010508048548534713, 0.2472535856529788, -0.5764328208509977, -2.0137544897542825, -0.013688338442916483, -0.08955780113355191, -0.3894832296265267, -0.5903110638733836, 0.599868761822671]}],\n",
       "                        {\"legend\": {\"bgcolor\": \"#F5F6F9\", \"font\": {\"color\": \"#4D5663\"}}, \"paper_bgcolor\": \"#F5F6F9\", \"plot_bgcolor\": \"#F5F6F9\", \"template\": {\"data\": {\"bar\": [{\"error_x\": {\"color\": \"#2a3f5f\"}, \"error_y\": {\"color\": \"#2a3f5f\"}, \"marker\": {\"line\": {\"color\": \"#E5ECF6\", \"width\": 0.5}}, \"type\": \"bar\"}], \"barpolar\": [{\"marker\": {\"line\": {\"color\": \"#E5ECF6\", \"width\": 0.5}}, \"type\": \"barpolar\"}], \"carpet\": [{\"aaxis\": {\"endlinecolor\": \"#2a3f5f\", \"gridcolor\": \"white\", \"linecolor\": \"white\", \"minorgridcolor\": \"white\", \"startlinecolor\": \"#2a3f5f\"}, \"baxis\": {\"endlinecolor\": \"#2a3f5f\", \"gridcolor\": \"white\", \"linecolor\": \"white\", \"minorgridcolor\": \"white\", \"startlinecolor\": \"#2a3f5f\"}, \"type\": \"carpet\"}], \"choropleth\": [{\"colorbar\": {\"outlinewidth\": 0, \"ticks\": \"\"}, \"type\": \"choropleth\"}], \"contour\": [{\"colorbar\": {\"outlinewidth\": 0, \"ticks\": \"\"}, \"colorscale\": [[0.0, \"#0d0887\"], [0.1111111111111111, \"#46039f\"], [0.2222222222222222, \"#7201a8\"], [0.3333333333333333, \"#9c179e\"], [0.4444444444444444, \"#bd3786\"], [0.5555555555555556, \"#d8576b\"], [0.6666666666666666, \"#ed7953\"], [0.7777777777777778, \"#fb9f3a\"], [0.8888888888888888, \"#fdca26\"], [1.0, \"#f0f921\"]], \"type\": \"contour\"}], \"contourcarpet\": [{\"colorbar\": {\"outlinewidth\": 0, \"ticks\": \"\"}, \"type\": \"contourcarpet\"}], \"heatmap\": [{\"colorbar\": {\"outlinewidth\": 0, \"ticks\": \"\"}, \"colorscale\": [[0.0, \"#0d0887\"], [0.1111111111111111, \"#46039f\"], [0.2222222222222222, \"#7201a8\"], [0.3333333333333333, \"#9c179e\"], [0.4444444444444444, \"#bd3786\"], [0.5555555555555556, \"#d8576b\"], [0.6666666666666666, \"#ed7953\"], [0.7777777777777778, \"#fb9f3a\"], [0.8888888888888888, \"#fdca26\"], [1.0, \"#f0f921\"]], \"type\": \"heatmap\"}], \"heatmapgl\": [{\"colorbar\": {\"outlinewidth\": 0, \"ticks\": \"\"}, \"colorscale\": [[0.0, \"#0d0887\"], [0.1111111111111111, \"#46039f\"], [0.2222222222222222, \"#7201a8\"], [0.3333333333333333, \"#9c179e\"], [0.4444444444444444, \"#bd3786\"], [0.5555555555555556, \"#d8576b\"], [0.6666666666666666, \"#ed7953\"], [0.7777777777777778, \"#fb9f3a\"], [0.8888888888888888, \"#fdca26\"], [1.0, \"#f0f921\"]], \"type\": \"heatmapgl\"}], \"histogram\": [{\"marker\": {\"colorbar\": {\"outlinewidth\": 0, \"ticks\": \"\"}}, \"type\": \"histogram\"}], \"histogram2d\": [{\"colorbar\": {\"outlinewidth\": 0, \"ticks\": \"\"}, \"colorscale\": [[0.0, \"#0d0887\"], [0.1111111111111111, \"#46039f\"], [0.2222222222222222, \"#7201a8\"], [0.3333333333333333, \"#9c179e\"], [0.4444444444444444, \"#bd3786\"], [0.5555555555555556, \"#d8576b\"], [0.6666666666666666, \"#ed7953\"], [0.7777777777777778, \"#fb9f3a\"], [0.8888888888888888, \"#fdca26\"], [1.0, \"#f0f921\"]], \"type\": \"histogram2d\"}], \"histogram2dcontour\": [{\"colorbar\": {\"outlinewidth\": 0, \"ticks\": \"\"}, \"colorscale\": [[0.0, \"#0d0887\"], [0.1111111111111111, \"#46039f\"], [0.2222222222222222, \"#7201a8\"], [0.3333333333333333, \"#9c179e\"], [0.4444444444444444, \"#bd3786\"], [0.5555555555555556, \"#d8576b\"], [0.6666666666666666, \"#ed7953\"], [0.7777777777777778, \"#fb9f3a\"], [0.8888888888888888, \"#fdca26\"], [1.0, \"#f0f921\"]], \"type\": \"histogram2dcontour\"}], \"mesh3d\": [{\"colorbar\": {\"outlinewidth\": 0, \"ticks\": \"\"}, \"type\": \"mesh3d\"}], \"parcoords\": [{\"line\": {\"colorbar\": {\"outlinewidth\": 0, \"ticks\": \"\"}}, \"type\": \"parcoords\"}], \"pie\": [{\"automargin\": true, \"type\": \"pie\"}], \"scatter\": [{\"marker\": {\"colorbar\": {\"outlinewidth\": 0, \"ticks\": \"\"}}, \"type\": \"scatter\"}], \"scatter3d\": [{\"line\": {\"colorbar\": {\"outlinewidth\": 0, \"ticks\": \"\"}}, \"marker\": {\"colorbar\": {\"outlinewidth\": 0, \"ticks\": \"\"}}, \"type\": \"scatter3d\"}], \"scattercarpet\": [{\"marker\": {\"colorbar\": {\"outlinewidth\": 0, \"ticks\": \"\"}}, \"type\": \"scattercarpet\"}], \"scattergeo\": [{\"marker\": {\"colorbar\": {\"outlinewidth\": 0, \"ticks\": \"\"}}, \"type\": \"scattergeo\"}], \"scattergl\": [{\"marker\": {\"colorbar\": {\"outlinewidth\": 0, \"ticks\": \"\"}}, \"type\": \"scattergl\"}], \"scattermapbox\": [{\"marker\": {\"colorbar\": {\"outlinewidth\": 0, \"ticks\": \"\"}}, \"type\": \"scattermapbox\"}], \"scatterpolar\": [{\"marker\": {\"colorbar\": {\"outlinewidth\": 0, \"ticks\": \"\"}}, \"type\": \"scatterpolar\"}], \"scatterpolargl\": [{\"marker\": {\"colorbar\": {\"outlinewidth\": 0, \"ticks\": \"\"}}, \"type\": \"scatterpolargl\"}], \"scatterternary\": [{\"marker\": {\"colorbar\": {\"outlinewidth\": 0, \"ticks\": \"\"}}, \"type\": \"scatterternary\"}], \"surface\": [{\"colorbar\": {\"outlinewidth\": 0, \"ticks\": \"\"}, \"colorscale\": [[0.0, \"#0d0887\"], [0.1111111111111111, \"#46039f\"], [0.2222222222222222, \"#7201a8\"], [0.3333333333333333, \"#9c179e\"], [0.4444444444444444, \"#bd3786\"], [0.5555555555555556, \"#d8576b\"], [0.6666666666666666, \"#ed7953\"], [0.7777777777777778, \"#fb9f3a\"], [0.8888888888888888, \"#fdca26\"], [1.0, \"#f0f921\"]], \"type\": \"surface\"}], \"table\": [{\"cells\": {\"fill\": {\"color\": \"#EBF0F8\"}, \"line\": {\"color\": \"white\"}}, \"header\": {\"fill\": {\"color\": \"#C8D4E3\"}, \"line\": {\"color\": \"white\"}}, \"type\": \"table\"}]}, \"layout\": {\"annotationdefaults\": {\"arrowcolor\": \"#2a3f5f\", \"arrowhead\": 0, \"arrowwidth\": 1}, \"coloraxis\": {\"colorbar\": {\"outlinewidth\": 0, \"ticks\": \"\"}}, \"colorscale\": {\"diverging\": [[0, \"#8e0152\"], [0.1, \"#c51b7d\"], [0.2, \"#de77ae\"], [0.3, \"#f1b6da\"], [0.4, \"#fde0ef\"], [0.5, \"#f7f7f7\"], [0.6, \"#e6f5d0\"], [0.7, \"#b8e186\"], [0.8, \"#7fbc41\"], [0.9, \"#4d9221\"], [1, \"#276419\"]], \"sequential\": [[0.0, \"#0d0887\"], [0.1111111111111111, \"#46039f\"], [0.2222222222222222, \"#7201a8\"], [0.3333333333333333, \"#9c179e\"], [0.4444444444444444, \"#bd3786\"], [0.5555555555555556, \"#d8576b\"], [0.6666666666666666, \"#ed7953\"], [0.7777777777777778, \"#fb9f3a\"], [0.8888888888888888, \"#fdca26\"], [1.0, \"#f0f921\"]], \"sequentialminus\": [[0.0, \"#0d0887\"], [0.1111111111111111, \"#46039f\"], [0.2222222222222222, \"#7201a8\"], [0.3333333333333333, \"#9c179e\"], [0.4444444444444444, \"#bd3786\"], [0.5555555555555556, \"#d8576b\"], [0.6666666666666666, \"#ed7953\"], [0.7777777777777778, \"#fb9f3a\"], [0.8888888888888888, \"#fdca26\"], [1.0, \"#f0f921\"]]}, \"colorway\": [\"#636efa\", \"#EF553B\", \"#00cc96\", \"#ab63fa\", \"#FFA15A\", \"#19d3f3\", \"#FF6692\", \"#B6E880\", \"#FF97FF\", \"#FECB52\"], \"font\": {\"color\": \"#2a3f5f\"}, \"geo\": {\"bgcolor\": \"white\", \"lakecolor\": \"white\", \"landcolor\": \"#E5ECF6\", \"showlakes\": true, \"showland\": true, \"subunitcolor\": \"white\"}, \"hoverlabel\": {\"align\": \"left\"}, \"hovermode\": \"closest\", \"mapbox\": {\"style\": \"light\"}, \"paper_bgcolor\": \"white\", \"plot_bgcolor\": \"#E5ECF6\", \"polar\": {\"angularaxis\": {\"gridcolor\": \"white\", \"linecolor\": \"white\", \"ticks\": \"\"}, \"bgcolor\": \"#E5ECF6\", \"radialaxis\": {\"gridcolor\": \"white\", \"linecolor\": \"white\", \"ticks\": \"\"}}, \"scene\": {\"xaxis\": {\"backgroundcolor\": \"#E5ECF6\", \"gridcolor\": \"white\", \"gridwidth\": 2, \"linecolor\": \"white\", \"showbackground\": true, \"ticks\": \"\", \"zerolinecolor\": \"white\"}, \"yaxis\": {\"backgroundcolor\": \"#E5ECF6\", \"gridcolor\": \"white\", \"gridwidth\": 2, \"linecolor\": \"white\", \"showbackground\": true, \"ticks\": \"\", \"zerolinecolor\": \"white\"}, \"zaxis\": {\"backgroundcolor\": \"#E5ECF6\", \"gridcolor\": \"white\", \"gridwidth\": 2, \"linecolor\": \"white\", \"showbackground\": true, \"ticks\": \"\", \"zerolinecolor\": \"white\"}}, \"shapedefaults\": {\"line\": {\"color\": \"#2a3f5f\"}}, \"ternary\": {\"aaxis\": {\"gridcolor\": \"white\", \"linecolor\": \"white\", \"ticks\": \"\"}, \"baxis\": {\"gridcolor\": \"white\", \"linecolor\": \"white\", \"ticks\": \"\"}, \"bgcolor\": \"#E5ECF6\", \"caxis\": {\"gridcolor\": \"white\", \"linecolor\": \"white\", \"ticks\": \"\"}}, \"title\": {\"x\": 0.05}, \"xaxis\": {\"automargin\": true, \"gridcolor\": \"white\", \"linecolor\": \"white\", \"ticks\": \"\", \"title\": {\"standoff\": 15}, \"zerolinecolor\": \"white\", \"zerolinewidth\": 2}, \"yaxis\": {\"automargin\": true, \"gridcolor\": \"white\", \"linecolor\": \"white\", \"ticks\": \"\", \"title\": {\"standoff\": 15}, \"zerolinecolor\": \"white\", \"zerolinewidth\": 2}}}, \"title\": {\"font\": {\"color\": \"#4D5663\"}}, \"xaxis\": {\"gridcolor\": \"#E1E5ED\", \"showgrid\": true, \"tickfont\": {\"color\": \"#4D5663\"}, \"title\": {\"font\": {\"color\": \"#4D5663\"}, \"text\": \"\"}, \"zerolinecolor\": \"#E1E5ED\"}, \"yaxis\": {\"gridcolor\": \"#E1E5ED\", \"showgrid\": true, \"tickfont\": {\"color\": \"#4D5663\"}, \"title\": {\"font\": {\"color\": \"#4D5663\"}, \"text\": \"\"}, \"zerolinecolor\": \"#E1E5ED\"}},\n",
       "                        {\"showLink\": true, \"linkText\": \"Export to plot.ly\", \"plotlyServerURL\": \"https://plot.ly\", \"responsive\": true}\n",
       "                    ).then(function(){\n",
       "                            \n",
       "var gd = document.getElementById('a7c72f9e-f78e-4fc1-ab15-5b7fcd51ea43');\n",
       "var x = new MutationObserver(function (mutations, observer) {{\n",
       "        var display = window.getComputedStyle(gd).display;\n",
       "        if (!display || display === 'none') {{\n",
       "            console.log([gd, 'removed!']);\n",
       "            Plotly.purge(gd);\n",
       "            observer.disconnect();\n",
       "        }}\n",
       "}});\n",
       "\n",
       "// Listen for the removal of the full notebook cells\n",
       "var notebookContainer = gd.closest('#notebook-container');\n",
       "if (notebookContainer) {{\n",
       "    x.observe(notebookContainer, {childList: true});\n",
       "}}\n",
       "\n",
       "// Listen for the clearing of the current output cell\n",
       "var outputEl = gd.closest('.output');\n",
       "if (outputEl) {{\n",
       "    x.observe(outputEl, {childList: true});\n",
       "}}\n",
       "\n",
       "                        })\n",
       "                };\n",
       "                });\n",
       "            </script>\n",
       "        </div>"
      ]
     },
     "metadata": {},
     "output_type": "display_data"
    }
   ],
   "source": [
    "df.iplot(kind='bubble',x='A',y='B',size='C')"
   ]
  },
  {
   "cell_type": "markdown",
   "metadata": {},
   "source": [
    "## scatter_matrix()\n",
    "\n",
    "Similar to sns.pairplot()"
   ]
  },
  {
   "cell_type": "code",
   "execution_count": 25,
   "metadata": {},
   "outputs": [
    {
     "data": {
      "application/vnd.plotly.v1+json": {
       "config": {
        "linkText": "Export to plot.ly",
        "plotlyServerURL": "https://plot.ly",
        "showLink": true
       },
       "data": [
        {
         "histfunc": "count",
         "histnorm": "",
         "marker": {
          "color": "rgba(255, 153, 51, 1.0)",
          "line": {
           "color": "#4D5663",
           "width": 1.3
          }
         },
         "name": "A",
         "nbinsx": 10,
         "opacity": 0.8,
         "orientation": "v",
         "type": "histogram",
         "x": [
          -0.09460603389983938,
          -1.115161546621085,
          0.552250823286241,
          -0.7055585325246749,
          1.0670013833110146,
          -0.07525731914888965,
          -1.6446033596519718,
          -0.5731132448732882,
          0.28230643408060346,
          -0.6369429176693027,
          -0.463511904581433,
          -0.6818221515715177,
          1.59240552402439,
          -0.2310620264246376,
          -0.35468737820097457,
          1.2691226063805376,
          -1.4841009789615545,
          0.364885132366754,
          0.29974569384933014,
          0.3132572406958177,
          -0.8102636947808791,
          0.30326014383977185,
          -0.21028570150169376,
          0.2614901512140256,
          0.2829084841851137,
          -0.34187122348639937,
          0.6142993959736801,
          -1.0414937499282173,
          0.9659132783487621,
          0.41805635893271176,
          1.06600170275434,
          -0.5663640057412325,
          -0.14857852734621776,
          3.623714617818191,
          -1.3600316145541635,
          0.2567161441480053,
          -0.6611837387514589,
          1.29355716133248,
          -0.19598547591848683,
          0.7998749870418101,
          1.0155298030451088,
          -0.06856500394033782,
          0.5239722030750937,
          -0.9834154296918106,
          -0.21776853784336786,
          -0.24696562933856378,
          -1.0855733141799837,
          -0.9173815950664124,
          -0.44408610344305527,
          -0.6979985385575076,
          -0.8598898351611934,
          1.6047381407356591,
          -0.5121271928381996,
          -0.5690117266214028,
          -1.2928831125482076,
          -0.16234669644829336,
          0.2694659729180265,
          -1.78561152072582,
          -1.428921850440534,
          -0.8621474792297036,
          -0.10637837209491757,
          0.4559792143724122,
          -0.8574353878244705,
          0.3021885994240502,
          -0.6103244159191482,
          -0.13726219349285845,
          0.5166354607657865,
          0.9059694275722422,
          -0.7067201810359846,
          -1.2311046837646813,
          -0.6412688895420384,
          -0.7819574959040753,
          -1.0179952653389717,
          0.1916237565333311,
          -0.6639610916594818,
          -0.15226547568551907,
          1.3306783412941994,
          -0.2567291255971543,
          0.2440121159927055,
          0.808940508913544,
          0.8949476598798622,
          0.7215510656519343,
          0.33975029703787796,
          0.0487793512520937,
          0.014331855573335089,
          0.9586024020595021,
          0.6164197105007017,
          -1.5382301075004485,
          0.2997924069194535,
          0.4659523836493858,
          0.6384592931548604,
          1.5109032777927809,
          1.176181158569553,
          1.9540048439726154,
          -1.2859495924226727,
          -0.887694697363015,
          0.13068821466303016,
          1.212937405174254,
          -0.10810375040123243,
          0.2549416048048139
         ],
         "xaxis": "x",
         "yaxis": "y"
        },
        {
         "line": {
          "color": "rgba(128, 128, 128, 1.0)",
          "dash": "solid",
          "shape": "linear",
          "width": 1.3
         },
         "marker": {
          "size": 2,
          "symbol": "circle"
         },
         "mode": "markers",
         "name": "A",
         "text": "",
         "type": "scatter",
         "x": [
          0.1081415629462722,
          0.4268245327166299,
          1.5445724980427822,
          0.9749858108183381,
          0.11449114167189642,
          1.4909096828570594,
          -0.5260456895720725,
          -1.3758691637260192,
          1.044161724360801,
          -1.1092315877742995,
          0.9670447984242331,
          -0.49257750966647734,
          1.0083424456629906,
          1.6885392876330236,
          1.0257650564036982,
          2.99075191788488,
          -0.9350489509778263,
          1.3509322989107693,
          0.7327247826693019,
          -1.216688483531076,
          0.439187156007758,
          0.7834858278015342,
          -1.0010346920455842,
          -0.18418277849451004,
          0.6691026962458871,
          -1.4144483849267844,
          0.8692718843241752,
          -0.21714490067334163,
          1.5080736437005582,
          0.21633766008584335,
          0.21540298577400788,
          0.39668945806355743,
          1.6920374198303962,
          2.1291025135898645,
          1.0086829319016535,
          0.6882703768598456,
          0.5260058746129411,
          -0.32403554739037366,
          -2.5808940818911505,
          -0.44918693914966534,
          -1.2867007075492303,
          0.8817648710663066,
          -0.2116089089096702,
          -0.5901077282473927,
          -1.0962507700134656,
          0.12608049280794345,
          0.317036264205109,
          0.7756982105135313,
          0.7909109267769698,
          0.7409657789632829,
          -0.9825901210917485,
          -0.08636936949193734,
          0.10096210691370497,
          -0.2813182291307528,
          -1.0250092240672513,
          -0.360665288454977,
          1.4124426002380253,
          0.2381977331747811,
          -0.752549537439929,
          0.8198761767071212,
          0.2944436999635293,
          -1.4739537040295216,
          0.16679057324504853,
          1.6740543786755937,
          -1.0748604415950138,
          0.7751341167935993,
          0.9539902019500902,
          -0.9918431337061299,
          0.042113280156370794,
          0.35927719801313474,
          -0.8380540062867653,
          1.565365597960983,
          -0.8558934319004765,
          2.0180128424056836,
          0.514647344235371,
          -1.5144668221405355,
          -1.540063547852475,
          -1.1225329538451916,
          0.6634805682965175,
          0.05867190349109249,
          0.14132776451484372,
          -0.42345845862152137,
          0.08108099227504234,
          -0.9921570022559376,
          -0.11472860485217094,
          -0.2871729128066149,
          0.5942010414877332,
          -0.6906728192068669,
          -0.1932952922984659,
          0.3353581241138731,
          -0.710578443380192,
          -0.010508048548534713,
          0.2472535856529788,
          -0.5764328208509977,
          -2.0137544897542825,
          -0.013688338442916483,
          -0.08955780113355191,
          -0.3894832296265267,
          -0.5903110638733836,
          0.599868761822671
         ],
         "xaxis": "x2",
         "y": [
          -0.09460603389983938,
          -1.115161546621085,
          0.552250823286241,
          -0.7055585325246749,
          1.0670013833110146,
          -0.07525731914888965,
          -1.6446033596519718,
          -0.5731132448732882,
          0.28230643408060346,
          -0.6369429176693027,
          -0.463511904581433,
          -0.6818221515715177,
          1.59240552402439,
          -0.2310620264246376,
          -0.35468737820097457,
          1.2691226063805376,
          -1.4841009789615545,
          0.364885132366754,
          0.29974569384933014,
          0.3132572406958177,
          -0.8102636947808791,
          0.30326014383977185,
          -0.21028570150169376,
          0.2614901512140256,
          0.2829084841851137,
          -0.34187122348639937,
          0.6142993959736801,
          -1.0414937499282173,
          0.9659132783487621,
          0.41805635893271176,
          1.06600170275434,
          -0.5663640057412325,
          -0.14857852734621776,
          3.623714617818191,
          -1.3600316145541635,
          0.2567161441480053,
          -0.6611837387514589,
          1.29355716133248,
          -0.19598547591848683,
          0.7998749870418101,
          1.0155298030451088,
          -0.06856500394033782,
          0.5239722030750937,
          -0.9834154296918106,
          -0.21776853784336786,
          -0.24696562933856378,
          -1.0855733141799837,
          -0.9173815950664124,
          -0.44408610344305527,
          -0.6979985385575076,
          -0.8598898351611934,
          1.6047381407356591,
          -0.5121271928381996,
          -0.5690117266214028,
          -1.2928831125482076,
          -0.16234669644829336,
          0.2694659729180265,
          -1.78561152072582,
          -1.428921850440534,
          -0.8621474792297036,
          -0.10637837209491757,
          0.4559792143724122,
          -0.8574353878244705,
          0.3021885994240502,
          -0.6103244159191482,
          -0.13726219349285845,
          0.5166354607657865,
          0.9059694275722422,
          -0.7067201810359846,
          -1.2311046837646813,
          -0.6412688895420384,
          -0.7819574959040753,
          -1.0179952653389717,
          0.1916237565333311,
          -0.6639610916594818,
          -0.15226547568551907,
          1.3306783412941994,
          -0.2567291255971543,
          0.2440121159927055,
          0.808940508913544,
          0.8949476598798622,
          0.7215510656519343,
          0.33975029703787796,
          0.0487793512520937,
          0.014331855573335089,
          0.9586024020595021,
          0.6164197105007017,
          -1.5382301075004485,
          0.2997924069194535,
          0.4659523836493858,
          0.6384592931548604,
          1.5109032777927809,
          1.176181158569553,
          1.9540048439726154,
          -1.2859495924226727,
          -0.887694697363015,
          0.13068821466303016,
          1.212937405174254,
          -0.10810375040123243,
          0.2549416048048139
         ],
         "yaxis": "y2"
        },
        {
         "line": {
          "color": "rgba(128, 128, 128, 1.0)",
          "dash": "solid",
          "shape": "linear",
          "width": 1.3
         },
         "marker": {
          "size": 2,
          "symbol": "circle"
         },
         "mode": "markers",
         "name": "A",
         "text": "",
         "type": "scatter",
         "x": [
          -1.1827259433819777,
          -0.7463632403893589,
          1.5869845464323131,
          -0.48128806221065623,
          0.9647130734900492,
          -0.7115669352452291,
          -1.0558867630210798,
          -0.2112493850785817,
          0.4772684592094632,
          2.8358519847182495,
          3.129758902718336,
          0.07956280211849266,
          -0.1293475877645689,
          -0.4338883834323736,
          -0.7751917229497093,
          1.6753544807720804,
          0.23639000388766174,
          0.272133026585016,
          1.3422980145718197,
          -1.304888284732863,
          -0.5483211764645866,
          -1.9825560293549385,
          -1.634616712877582,
          1.0361956533293408,
          -0.4342165383144139,
          1.0065414084645101,
          1.1468032801127306,
          -0.5744074726064387,
          -1.04240223089339,
          -0.7915491542780841,
          -0.9652702271941871,
          0.5126825622828637,
          2.6632466464508946,
          1.0561211482804482,
          0.020302981333594303,
          0.8354480895071337,
          -0.8885211709747984,
          -0.823672601908323,
          -1.2403864199155994,
          -0.0172080307320625,
          1.3218374125697285,
          -0.33914719355175915,
          -0.18886363017727495,
          0.30316838811918007,
          -0.19700145897041968,
          0.24250320637210218,
          0.5153831263385966,
          -1.7724094970287918,
          0.221158958594906,
          0.5453379784184197,
          0.06393956526193875,
          0.8875741760583279,
          -0.3998610239300832,
          0.12810886137043376,
          0.884935028590192,
          0.8823779002124457,
          -0.7178329808727657,
          -0.028885927432759907,
          -0.7140146818108343,
          -0.016519200276902866,
          -0.06793112502200062,
          0.3485763574855543,
          0.5683892535478055,
          -0.34051252800752524,
          0.8755679471971263,
          0.1626087959861342,
          0.745513301744381,
          0.9277066296072016,
          -0.9719878737923496,
          0.09459262940506379,
          -1.0339392772771134,
          1.044328548546555,
          0.06884956012399289,
          -0.24549946604735245,
          -1.237854928533087,
          1.9665823197071388,
          0.4417726032310142,
          0.8933222020261974,
          1.009407215197556,
          0.42466913090792907,
          -1.480491815949762,
          1.8623027372796663,
          -0.3426790914523096,
          0.6754540063547467,
          -0.2897868251463864,
          -0.8823007739516492,
          -0.1000685974502755,
          -0.3881174876544056,
          -1.5567480443211044,
          1.5869570763967449,
          2.0787655732518737,
          -1.0935145259258487,
          -1.5071386217990124,
          1.0916117015881708,
          -0.1392148614731725,
          -0.6088569300008707,
          0.6118464385144239,
          2.269981383813951,
          -0.07724596673008673,
          0.35405233964649135
         ],
         "xaxis": "x3",
         "y": [
          -0.09460603389983938,
          -1.115161546621085,
          0.552250823286241,
          -0.7055585325246749,
          1.0670013833110146,
          -0.07525731914888965,
          -1.6446033596519718,
          -0.5731132448732882,
          0.28230643408060346,
          -0.6369429176693027,
          -0.463511904581433,
          -0.6818221515715177,
          1.59240552402439,
          -0.2310620264246376,
          -0.35468737820097457,
          1.2691226063805376,
          -1.4841009789615545,
          0.364885132366754,
          0.29974569384933014,
          0.3132572406958177,
          -0.8102636947808791,
          0.30326014383977185,
          -0.21028570150169376,
          0.2614901512140256,
          0.2829084841851137,
          -0.34187122348639937,
          0.6142993959736801,
          -1.0414937499282173,
          0.9659132783487621,
          0.41805635893271176,
          1.06600170275434,
          -0.5663640057412325,
          -0.14857852734621776,
          3.623714617818191,
          -1.3600316145541635,
          0.2567161441480053,
          -0.6611837387514589,
          1.29355716133248,
          -0.19598547591848683,
          0.7998749870418101,
          1.0155298030451088,
          -0.06856500394033782,
          0.5239722030750937,
          -0.9834154296918106,
          -0.21776853784336786,
          -0.24696562933856378,
          -1.0855733141799837,
          -0.9173815950664124,
          -0.44408610344305527,
          -0.6979985385575076,
          -0.8598898351611934,
          1.6047381407356591,
          -0.5121271928381996,
          -0.5690117266214028,
          -1.2928831125482076,
          -0.16234669644829336,
          0.2694659729180265,
          -1.78561152072582,
          -1.428921850440534,
          -0.8621474792297036,
          -0.10637837209491757,
          0.4559792143724122,
          -0.8574353878244705,
          0.3021885994240502,
          -0.6103244159191482,
          -0.13726219349285845,
          0.5166354607657865,
          0.9059694275722422,
          -0.7067201810359846,
          -1.2311046837646813,
          -0.6412688895420384,
          -0.7819574959040753,
          -1.0179952653389717,
          0.1916237565333311,
          -0.6639610916594818,
          -0.15226547568551907,
          1.3306783412941994,
          -0.2567291255971543,
          0.2440121159927055,
          0.808940508913544,
          0.8949476598798622,
          0.7215510656519343,
          0.33975029703787796,
          0.0487793512520937,
          0.014331855573335089,
          0.9586024020595021,
          0.6164197105007017,
          -1.5382301075004485,
          0.2997924069194535,
          0.4659523836493858,
          0.6384592931548604,
          1.5109032777927809,
          1.176181158569553,
          1.9540048439726154,
          -1.2859495924226727,
          -0.887694697363015,
          0.13068821466303016,
          1.212937405174254,
          -0.10810375040123243,
          0.2549416048048139
         ],
         "yaxis": "y3"
        },
        {
         "line": {
          "color": "rgba(128, 128, 128, 1.0)",
          "dash": "solid",
          "shape": "linear",
          "width": 1.3
         },
         "marker": {
          "size": 2,
          "symbol": "circle"
         },
         "mode": "markers",
         "name": "A",
         "text": "",
         "type": "scatter",
         "x": [
          -0.5232076329673341,
          -2.7780278052907583,
          -2.5164355444279165,
          -0.07076084954405218,
          -0.3100665345543423,
          -1.2992831139128915,
          0.2744546137068443,
          -0.6107506952030757,
          -0.9888632734514667,
          1.0063565817729676,
          -0.16107223450937846,
          -0.22858597734118727,
          2.596022569332713,
          0.772721576833007,
          0.11036912256335496,
          1.282797361689481,
          1.2971211264530746,
          1.1850470018585757,
          -0.3340964996760273,
          0.5225290837167507,
          -0.6168344038180612,
          -0.48619041858807,
          2.1436754966424716,
          0.08252280410403706,
          0.5810930347033849,
          -0.3307714374819015,
          -0.6890359819377596,
          -0.7928744719179733,
          0.3527576717318461,
          0.24486514704398085,
          1.0011407785804325,
          0.5157695030425896,
          -0.12886725469469357,
          0.9230963073231013,
          -0.20047626341370794,
          0.1534180254606642,
          0.4041796839315926,
          0.6036913009919193,
          0.2367257984688612,
          0.09599547115473209,
          -1.9352409768325793,
          -0.746214287091547,
          0.34970800394772433,
          0.24768311251201497,
          0.4957424439791478,
          -1.1060228289455452,
          -1.8897068594053286,
          0.556317929379018,
          -1.6018021635578017,
          -0.7546206119428837,
          0.9410103647651131,
          1.4133265919678077,
          -0.3555666027529307,
          -0.4843535119767807,
          1.056911477278011,
          0.36643402090681876,
          -0.284914717660016,
          -0.6488039010770915,
          -0.6488205062793916,
          -1.0205525934448836,
          0.5799492182700319,
          -1.5662148517473167,
          0.6876554200193934,
          0.6127103671010093,
          0.28558580340059847,
          0.007542739703220468,
          -0.3050536113073103,
          0.17331059568382085,
          0.19803643275013189,
          -1.391330074335235,
          -0.3703920654840774,
          0.4292130619487019,
          0.26262710641993153,
          0.47199168684567666,
          0.8085331851901155,
          -0.6068435343537658,
          0.12108355966645976,
          -1.3197245366949333,
          0.852152398626517,
          0.6993596929402611,
          -0.3351098119187117,
          -0.9042658424388572,
          -0.9717270056817701,
          -1.4209981268772078,
          0.034163813703027325,
          -1.331979741355321,
          -1.6563145936278176,
          -0.513279287951007,
          -0.8419144299469731,
          0.044636637948974156,
          -0.21208058030108048,
          1.6326792690744631,
          -1.5292024015123202,
          -0.8611573282896546,
          -0.7279382938870731,
          -1.0883292845657897,
          -1.1564454586538655,
          0.3399786122877439,
          0.7317425241364005,
          1.0798024354545284
         ],
         "xaxis": "x4",
         "y": [
          -0.09460603389983938,
          -1.115161546621085,
          0.552250823286241,
          -0.7055585325246749,
          1.0670013833110146,
          -0.07525731914888965,
          -1.6446033596519718,
          -0.5731132448732882,
          0.28230643408060346,
          -0.6369429176693027,
          -0.463511904581433,
          -0.6818221515715177,
          1.59240552402439,
          -0.2310620264246376,
          -0.35468737820097457,
          1.2691226063805376,
          -1.4841009789615545,
          0.364885132366754,
          0.29974569384933014,
          0.3132572406958177,
          -0.8102636947808791,
          0.30326014383977185,
          -0.21028570150169376,
          0.2614901512140256,
          0.2829084841851137,
          -0.34187122348639937,
          0.6142993959736801,
          -1.0414937499282173,
          0.9659132783487621,
          0.41805635893271176,
          1.06600170275434,
          -0.5663640057412325,
          -0.14857852734621776,
          3.623714617818191,
          -1.3600316145541635,
          0.2567161441480053,
          -0.6611837387514589,
          1.29355716133248,
          -0.19598547591848683,
          0.7998749870418101,
          1.0155298030451088,
          -0.06856500394033782,
          0.5239722030750937,
          -0.9834154296918106,
          -0.21776853784336786,
          -0.24696562933856378,
          -1.0855733141799837,
          -0.9173815950664124,
          -0.44408610344305527,
          -0.6979985385575076,
          -0.8598898351611934,
          1.6047381407356591,
          -0.5121271928381996,
          -0.5690117266214028,
          -1.2928831125482076,
          -0.16234669644829336,
          0.2694659729180265,
          -1.78561152072582,
          -1.428921850440534,
          -0.8621474792297036,
          -0.10637837209491757,
          0.4559792143724122,
          -0.8574353878244705,
          0.3021885994240502,
          -0.6103244159191482,
          -0.13726219349285845,
          0.5166354607657865,
          0.9059694275722422,
          -0.7067201810359846,
          -1.2311046837646813,
          -0.6412688895420384,
          -0.7819574959040753,
          -1.0179952653389717,
          0.1916237565333311,
          -0.6639610916594818,
          -0.15226547568551907,
          1.3306783412941994,
          -0.2567291255971543,
          0.2440121159927055,
          0.808940508913544,
          0.8949476598798622,
          0.7215510656519343,
          0.33975029703787796,
          0.0487793512520937,
          0.014331855573335089,
          0.9586024020595021,
          0.6164197105007017,
          -1.5382301075004485,
          0.2997924069194535,
          0.4659523836493858,
          0.6384592931548604,
          1.5109032777927809,
          1.176181158569553,
          1.9540048439726154,
          -1.2859495924226727,
          -0.887694697363015,
          0.13068821466303016,
          1.212937405174254,
          -0.10810375040123243,
          0.2549416048048139
         ],
         "yaxis": "y4"
        },
        {
         "line": {
          "color": "rgba(128, 128, 128, 1.0)",
          "dash": "solid",
          "shape": "linear",
          "width": 1.3
         },
         "marker": {
          "size": 2,
          "symbol": "circle"
         },
         "mode": "markers",
         "name": "B",
         "text": "",
         "type": "scatter",
         "x": [
          -0.09460603389983938,
          -1.115161546621085,
          0.552250823286241,
          -0.7055585325246749,
          1.0670013833110146,
          -0.07525731914888965,
          -1.6446033596519718,
          -0.5731132448732882,
          0.28230643408060346,
          -0.6369429176693027,
          -0.463511904581433,
          -0.6818221515715177,
          1.59240552402439,
          -0.2310620264246376,
          -0.35468737820097457,
          1.2691226063805376,
          -1.4841009789615545,
          0.364885132366754,
          0.29974569384933014,
          0.3132572406958177,
          -0.8102636947808791,
          0.30326014383977185,
          -0.21028570150169376,
          0.2614901512140256,
          0.2829084841851137,
          -0.34187122348639937,
          0.6142993959736801,
          -1.0414937499282173,
          0.9659132783487621,
          0.41805635893271176,
          1.06600170275434,
          -0.5663640057412325,
          -0.14857852734621776,
          3.623714617818191,
          -1.3600316145541635,
          0.2567161441480053,
          -0.6611837387514589,
          1.29355716133248,
          -0.19598547591848683,
          0.7998749870418101,
          1.0155298030451088,
          -0.06856500394033782,
          0.5239722030750937,
          -0.9834154296918106,
          -0.21776853784336786,
          -0.24696562933856378,
          -1.0855733141799837,
          -0.9173815950664124,
          -0.44408610344305527,
          -0.6979985385575076,
          -0.8598898351611934,
          1.6047381407356591,
          -0.5121271928381996,
          -0.5690117266214028,
          -1.2928831125482076,
          -0.16234669644829336,
          0.2694659729180265,
          -1.78561152072582,
          -1.428921850440534,
          -0.8621474792297036,
          -0.10637837209491757,
          0.4559792143724122,
          -0.8574353878244705,
          0.3021885994240502,
          -0.6103244159191482,
          -0.13726219349285845,
          0.5166354607657865,
          0.9059694275722422,
          -0.7067201810359846,
          -1.2311046837646813,
          -0.6412688895420384,
          -0.7819574959040753,
          -1.0179952653389717,
          0.1916237565333311,
          -0.6639610916594818,
          -0.15226547568551907,
          1.3306783412941994,
          -0.2567291255971543,
          0.2440121159927055,
          0.808940508913544,
          0.8949476598798622,
          0.7215510656519343,
          0.33975029703787796,
          0.0487793512520937,
          0.014331855573335089,
          0.9586024020595021,
          0.6164197105007017,
          -1.5382301075004485,
          0.2997924069194535,
          0.4659523836493858,
          0.6384592931548604,
          1.5109032777927809,
          1.176181158569553,
          1.9540048439726154,
          -1.2859495924226727,
          -0.887694697363015,
          0.13068821466303016,
          1.212937405174254,
          -0.10810375040123243,
          0.2549416048048139
         ],
         "xaxis": "x5",
         "y": [
          0.1081415629462722,
          0.4268245327166299,
          1.5445724980427822,
          0.9749858108183381,
          0.11449114167189642,
          1.4909096828570594,
          -0.5260456895720725,
          -1.3758691637260192,
          1.044161724360801,
          -1.1092315877742995,
          0.9670447984242331,
          -0.49257750966647734,
          1.0083424456629906,
          1.6885392876330236,
          1.0257650564036982,
          2.99075191788488,
          -0.9350489509778263,
          1.3509322989107693,
          0.7327247826693019,
          -1.216688483531076,
          0.439187156007758,
          0.7834858278015342,
          -1.0010346920455842,
          -0.18418277849451004,
          0.6691026962458871,
          -1.4144483849267844,
          0.8692718843241752,
          -0.21714490067334163,
          1.5080736437005582,
          0.21633766008584335,
          0.21540298577400788,
          0.39668945806355743,
          1.6920374198303962,
          2.1291025135898645,
          1.0086829319016535,
          0.6882703768598456,
          0.5260058746129411,
          -0.32403554739037366,
          -2.5808940818911505,
          -0.44918693914966534,
          -1.2867007075492303,
          0.8817648710663066,
          -0.2116089089096702,
          -0.5901077282473927,
          -1.0962507700134656,
          0.12608049280794345,
          0.317036264205109,
          0.7756982105135313,
          0.7909109267769698,
          0.7409657789632829,
          -0.9825901210917485,
          -0.08636936949193734,
          0.10096210691370497,
          -0.2813182291307528,
          -1.0250092240672513,
          -0.360665288454977,
          1.4124426002380253,
          0.2381977331747811,
          -0.752549537439929,
          0.8198761767071212,
          0.2944436999635293,
          -1.4739537040295216,
          0.16679057324504853,
          1.6740543786755937,
          -1.0748604415950138,
          0.7751341167935993,
          0.9539902019500902,
          -0.9918431337061299,
          0.042113280156370794,
          0.35927719801313474,
          -0.8380540062867653,
          1.565365597960983,
          -0.8558934319004765,
          2.0180128424056836,
          0.514647344235371,
          -1.5144668221405355,
          -1.540063547852475,
          -1.1225329538451916,
          0.6634805682965175,
          0.05867190349109249,
          0.14132776451484372,
          -0.42345845862152137,
          0.08108099227504234,
          -0.9921570022559376,
          -0.11472860485217094,
          -0.2871729128066149,
          0.5942010414877332,
          -0.6906728192068669,
          -0.1932952922984659,
          0.3353581241138731,
          -0.710578443380192,
          -0.010508048548534713,
          0.2472535856529788,
          -0.5764328208509977,
          -2.0137544897542825,
          -0.013688338442916483,
          -0.08955780113355191,
          -0.3894832296265267,
          -0.5903110638733836,
          0.599868761822671
         ],
         "yaxis": "y5"
        },
        {
         "histfunc": "count",
         "histnorm": "",
         "marker": {
          "color": "rgba(55, 128, 191, 1.0)",
          "line": {
           "color": "#4D5663",
           "width": 1.3
          }
         },
         "name": "B",
         "nbinsx": 10,
         "opacity": 0.8,
         "orientation": "v",
         "type": "histogram",
         "x": [
          0.1081415629462722,
          0.4268245327166299,
          1.5445724980427822,
          0.9749858108183381,
          0.11449114167189642,
          1.4909096828570594,
          -0.5260456895720725,
          -1.3758691637260192,
          1.044161724360801,
          -1.1092315877742995,
          0.9670447984242331,
          -0.49257750966647734,
          1.0083424456629906,
          1.6885392876330236,
          1.0257650564036982,
          2.99075191788488,
          -0.9350489509778263,
          1.3509322989107693,
          0.7327247826693019,
          -1.216688483531076,
          0.439187156007758,
          0.7834858278015342,
          -1.0010346920455842,
          -0.18418277849451004,
          0.6691026962458871,
          -1.4144483849267844,
          0.8692718843241752,
          -0.21714490067334163,
          1.5080736437005582,
          0.21633766008584335,
          0.21540298577400788,
          0.39668945806355743,
          1.6920374198303962,
          2.1291025135898645,
          1.0086829319016535,
          0.6882703768598456,
          0.5260058746129411,
          -0.32403554739037366,
          -2.5808940818911505,
          -0.44918693914966534,
          -1.2867007075492303,
          0.8817648710663066,
          -0.2116089089096702,
          -0.5901077282473927,
          -1.0962507700134656,
          0.12608049280794345,
          0.317036264205109,
          0.7756982105135313,
          0.7909109267769698,
          0.7409657789632829,
          -0.9825901210917485,
          -0.08636936949193734,
          0.10096210691370497,
          -0.2813182291307528,
          -1.0250092240672513,
          -0.360665288454977,
          1.4124426002380253,
          0.2381977331747811,
          -0.752549537439929,
          0.8198761767071212,
          0.2944436999635293,
          -1.4739537040295216,
          0.16679057324504853,
          1.6740543786755937,
          -1.0748604415950138,
          0.7751341167935993,
          0.9539902019500902,
          -0.9918431337061299,
          0.042113280156370794,
          0.35927719801313474,
          -0.8380540062867653,
          1.565365597960983,
          -0.8558934319004765,
          2.0180128424056836,
          0.514647344235371,
          -1.5144668221405355,
          -1.540063547852475,
          -1.1225329538451916,
          0.6634805682965175,
          0.05867190349109249,
          0.14132776451484372,
          -0.42345845862152137,
          0.08108099227504234,
          -0.9921570022559376,
          -0.11472860485217094,
          -0.2871729128066149,
          0.5942010414877332,
          -0.6906728192068669,
          -0.1932952922984659,
          0.3353581241138731,
          -0.710578443380192,
          -0.010508048548534713,
          0.2472535856529788,
          -0.5764328208509977,
          -2.0137544897542825,
          -0.013688338442916483,
          -0.08955780113355191,
          -0.3894832296265267,
          -0.5903110638733836,
          0.599868761822671
         ],
         "xaxis": "x6",
         "yaxis": "y6"
        },
        {
         "line": {
          "color": "rgba(128, 128, 128, 1.0)",
          "dash": "solid",
          "shape": "linear",
          "width": 1.3
         },
         "marker": {
          "size": 2,
          "symbol": "circle"
         },
         "mode": "markers",
         "name": "B",
         "text": "",
         "type": "scatter",
         "x": [
          -1.1827259433819777,
          -0.7463632403893589,
          1.5869845464323131,
          -0.48128806221065623,
          0.9647130734900492,
          -0.7115669352452291,
          -1.0558867630210798,
          -0.2112493850785817,
          0.4772684592094632,
          2.8358519847182495,
          3.129758902718336,
          0.07956280211849266,
          -0.1293475877645689,
          -0.4338883834323736,
          -0.7751917229497093,
          1.6753544807720804,
          0.23639000388766174,
          0.272133026585016,
          1.3422980145718197,
          -1.304888284732863,
          -0.5483211764645866,
          -1.9825560293549385,
          -1.634616712877582,
          1.0361956533293408,
          -0.4342165383144139,
          1.0065414084645101,
          1.1468032801127306,
          -0.5744074726064387,
          -1.04240223089339,
          -0.7915491542780841,
          -0.9652702271941871,
          0.5126825622828637,
          2.6632466464508946,
          1.0561211482804482,
          0.020302981333594303,
          0.8354480895071337,
          -0.8885211709747984,
          -0.823672601908323,
          -1.2403864199155994,
          -0.0172080307320625,
          1.3218374125697285,
          -0.33914719355175915,
          -0.18886363017727495,
          0.30316838811918007,
          -0.19700145897041968,
          0.24250320637210218,
          0.5153831263385966,
          -1.7724094970287918,
          0.221158958594906,
          0.5453379784184197,
          0.06393956526193875,
          0.8875741760583279,
          -0.3998610239300832,
          0.12810886137043376,
          0.884935028590192,
          0.8823779002124457,
          -0.7178329808727657,
          -0.028885927432759907,
          -0.7140146818108343,
          -0.016519200276902866,
          -0.06793112502200062,
          0.3485763574855543,
          0.5683892535478055,
          -0.34051252800752524,
          0.8755679471971263,
          0.1626087959861342,
          0.745513301744381,
          0.9277066296072016,
          -0.9719878737923496,
          0.09459262940506379,
          -1.0339392772771134,
          1.044328548546555,
          0.06884956012399289,
          -0.24549946604735245,
          -1.237854928533087,
          1.9665823197071388,
          0.4417726032310142,
          0.8933222020261974,
          1.009407215197556,
          0.42466913090792907,
          -1.480491815949762,
          1.8623027372796663,
          -0.3426790914523096,
          0.6754540063547467,
          -0.2897868251463864,
          -0.8823007739516492,
          -0.1000685974502755,
          -0.3881174876544056,
          -1.5567480443211044,
          1.5869570763967449,
          2.0787655732518737,
          -1.0935145259258487,
          -1.5071386217990124,
          1.0916117015881708,
          -0.1392148614731725,
          -0.6088569300008707,
          0.6118464385144239,
          2.269981383813951,
          -0.07724596673008673,
          0.35405233964649135
         ],
         "xaxis": "x7",
         "y": [
          0.1081415629462722,
          0.4268245327166299,
          1.5445724980427822,
          0.9749858108183381,
          0.11449114167189642,
          1.4909096828570594,
          -0.5260456895720725,
          -1.3758691637260192,
          1.044161724360801,
          -1.1092315877742995,
          0.9670447984242331,
          -0.49257750966647734,
          1.0083424456629906,
          1.6885392876330236,
          1.0257650564036982,
          2.99075191788488,
          -0.9350489509778263,
          1.3509322989107693,
          0.7327247826693019,
          -1.216688483531076,
          0.439187156007758,
          0.7834858278015342,
          -1.0010346920455842,
          -0.18418277849451004,
          0.6691026962458871,
          -1.4144483849267844,
          0.8692718843241752,
          -0.21714490067334163,
          1.5080736437005582,
          0.21633766008584335,
          0.21540298577400788,
          0.39668945806355743,
          1.6920374198303962,
          2.1291025135898645,
          1.0086829319016535,
          0.6882703768598456,
          0.5260058746129411,
          -0.32403554739037366,
          -2.5808940818911505,
          -0.44918693914966534,
          -1.2867007075492303,
          0.8817648710663066,
          -0.2116089089096702,
          -0.5901077282473927,
          -1.0962507700134656,
          0.12608049280794345,
          0.317036264205109,
          0.7756982105135313,
          0.7909109267769698,
          0.7409657789632829,
          -0.9825901210917485,
          -0.08636936949193734,
          0.10096210691370497,
          -0.2813182291307528,
          -1.0250092240672513,
          -0.360665288454977,
          1.4124426002380253,
          0.2381977331747811,
          -0.752549537439929,
          0.8198761767071212,
          0.2944436999635293,
          -1.4739537040295216,
          0.16679057324504853,
          1.6740543786755937,
          -1.0748604415950138,
          0.7751341167935993,
          0.9539902019500902,
          -0.9918431337061299,
          0.042113280156370794,
          0.35927719801313474,
          -0.8380540062867653,
          1.565365597960983,
          -0.8558934319004765,
          2.0180128424056836,
          0.514647344235371,
          -1.5144668221405355,
          -1.540063547852475,
          -1.1225329538451916,
          0.6634805682965175,
          0.05867190349109249,
          0.14132776451484372,
          -0.42345845862152137,
          0.08108099227504234,
          -0.9921570022559376,
          -0.11472860485217094,
          -0.2871729128066149,
          0.5942010414877332,
          -0.6906728192068669,
          -0.1932952922984659,
          0.3353581241138731,
          -0.710578443380192,
          -0.010508048548534713,
          0.2472535856529788,
          -0.5764328208509977,
          -2.0137544897542825,
          -0.013688338442916483,
          -0.08955780113355191,
          -0.3894832296265267,
          -0.5903110638733836,
          0.599868761822671
         ],
         "yaxis": "y7"
        },
        {
         "line": {
          "color": "rgba(128, 128, 128, 1.0)",
          "dash": "solid",
          "shape": "linear",
          "width": 1.3
         },
         "marker": {
          "size": 2,
          "symbol": "circle"
         },
         "mode": "markers",
         "name": "B",
         "text": "",
         "type": "scatter",
         "x": [
          -0.5232076329673341,
          -2.7780278052907583,
          -2.5164355444279165,
          -0.07076084954405218,
          -0.3100665345543423,
          -1.2992831139128915,
          0.2744546137068443,
          -0.6107506952030757,
          -0.9888632734514667,
          1.0063565817729676,
          -0.16107223450937846,
          -0.22858597734118727,
          2.596022569332713,
          0.772721576833007,
          0.11036912256335496,
          1.282797361689481,
          1.2971211264530746,
          1.1850470018585757,
          -0.3340964996760273,
          0.5225290837167507,
          -0.6168344038180612,
          -0.48619041858807,
          2.1436754966424716,
          0.08252280410403706,
          0.5810930347033849,
          -0.3307714374819015,
          -0.6890359819377596,
          -0.7928744719179733,
          0.3527576717318461,
          0.24486514704398085,
          1.0011407785804325,
          0.5157695030425896,
          -0.12886725469469357,
          0.9230963073231013,
          -0.20047626341370794,
          0.1534180254606642,
          0.4041796839315926,
          0.6036913009919193,
          0.2367257984688612,
          0.09599547115473209,
          -1.9352409768325793,
          -0.746214287091547,
          0.34970800394772433,
          0.24768311251201497,
          0.4957424439791478,
          -1.1060228289455452,
          -1.8897068594053286,
          0.556317929379018,
          -1.6018021635578017,
          -0.7546206119428837,
          0.9410103647651131,
          1.4133265919678077,
          -0.3555666027529307,
          -0.4843535119767807,
          1.056911477278011,
          0.36643402090681876,
          -0.284914717660016,
          -0.6488039010770915,
          -0.6488205062793916,
          -1.0205525934448836,
          0.5799492182700319,
          -1.5662148517473167,
          0.6876554200193934,
          0.6127103671010093,
          0.28558580340059847,
          0.007542739703220468,
          -0.3050536113073103,
          0.17331059568382085,
          0.19803643275013189,
          -1.391330074335235,
          -0.3703920654840774,
          0.4292130619487019,
          0.26262710641993153,
          0.47199168684567666,
          0.8085331851901155,
          -0.6068435343537658,
          0.12108355966645976,
          -1.3197245366949333,
          0.852152398626517,
          0.6993596929402611,
          -0.3351098119187117,
          -0.9042658424388572,
          -0.9717270056817701,
          -1.4209981268772078,
          0.034163813703027325,
          -1.331979741355321,
          -1.6563145936278176,
          -0.513279287951007,
          -0.8419144299469731,
          0.044636637948974156,
          -0.21208058030108048,
          1.6326792690744631,
          -1.5292024015123202,
          -0.8611573282896546,
          -0.7279382938870731,
          -1.0883292845657897,
          -1.1564454586538655,
          0.3399786122877439,
          0.7317425241364005,
          1.0798024354545284
         ],
         "xaxis": "x8",
         "y": [
          0.1081415629462722,
          0.4268245327166299,
          1.5445724980427822,
          0.9749858108183381,
          0.11449114167189642,
          1.4909096828570594,
          -0.5260456895720725,
          -1.3758691637260192,
          1.044161724360801,
          -1.1092315877742995,
          0.9670447984242331,
          -0.49257750966647734,
          1.0083424456629906,
          1.6885392876330236,
          1.0257650564036982,
          2.99075191788488,
          -0.9350489509778263,
          1.3509322989107693,
          0.7327247826693019,
          -1.216688483531076,
          0.439187156007758,
          0.7834858278015342,
          -1.0010346920455842,
          -0.18418277849451004,
          0.6691026962458871,
          -1.4144483849267844,
          0.8692718843241752,
          -0.21714490067334163,
          1.5080736437005582,
          0.21633766008584335,
          0.21540298577400788,
          0.39668945806355743,
          1.6920374198303962,
          2.1291025135898645,
          1.0086829319016535,
          0.6882703768598456,
          0.5260058746129411,
          -0.32403554739037366,
          -2.5808940818911505,
          -0.44918693914966534,
          -1.2867007075492303,
          0.8817648710663066,
          -0.2116089089096702,
          -0.5901077282473927,
          -1.0962507700134656,
          0.12608049280794345,
          0.317036264205109,
          0.7756982105135313,
          0.7909109267769698,
          0.7409657789632829,
          -0.9825901210917485,
          -0.08636936949193734,
          0.10096210691370497,
          -0.2813182291307528,
          -1.0250092240672513,
          -0.360665288454977,
          1.4124426002380253,
          0.2381977331747811,
          -0.752549537439929,
          0.8198761767071212,
          0.2944436999635293,
          -1.4739537040295216,
          0.16679057324504853,
          1.6740543786755937,
          -1.0748604415950138,
          0.7751341167935993,
          0.9539902019500902,
          -0.9918431337061299,
          0.042113280156370794,
          0.35927719801313474,
          -0.8380540062867653,
          1.565365597960983,
          -0.8558934319004765,
          2.0180128424056836,
          0.514647344235371,
          -1.5144668221405355,
          -1.540063547852475,
          -1.1225329538451916,
          0.6634805682965175,
          0.05867190349109249,
          0.14132776451484372,
          -0.42345845862152137,
          0.08108099227504234,
          -0.9921570022559376,
          -0.11472860485217094,
          -0.2871729128066149,
          0.5942010414877332,
          -0.6906728192068669,
          -0.1932952922984659,
          0.3353581241138731,
          -0.710578443380192,
          -0.010508048548534713,
          0.2472535856529788,
          -0.5764328208509977,
          -2.0137544897542825,
          -0.013688338442916483,
          -0.08955780113355191,
          -0.3894832296265267,
          -0.5903110638733836,
          0.599868761822671
         ],
         "yaxis": "y8"
        },
        {
         "line": {
          "color": "rgba(128, 128, 128, 1.0)",
          "dash": "solid",
          "shape": "linear",
          "width": 1.3
         },
         "marker": {
          "size": 2,
          "symbol": "circle"
         },
         "mode": "markers",
         "name": "C",
         "text": "",
         "type": "scatter",
         "x": [
          -0.09460603389983938,
          -1.115161546621085,
          0.552250823286241,
          -0.7055585325246749,
          1.0670013833110146,
          -0.07525731914888965,
          -1.6446033596519718,
          -0.5731132448732882,
          0.28230643408060346,
          -0.6369429176693027,
          -0.463511904581433,
          -0.6818221515715177,
          1.59240552402439,
          -0.2310620264246376,
          -0.35468737820097457,
          1.2691226063805376,
          -1.4841009789615545,
          0.364885132366754,
          0.29974569384933014,
          0.3132572406958177,
          -0.8102636947808791,
          0.30326014383977185,
          -0.21028570150169376,
          0.2614901512140256,
          0.2829084841851137,
          -0.34187122348639937,
          0.6142993959736801,
          -1.0414937499282173,
          0.9659132783487621,
          0.41805635893271176,
          1.06600170275434,
          -0.5663640057412325,
          -0.14857852734621776,
          3.623714617818191,
          -1.3600316145541635,
          0.2567161441480053,
          -0.6611837387514589,
          1.29355716133248,
          -0.19598547591848683,
          0.7998749870418101,
          1.0155298030451088,
          -0.06856500394033782,
          0.5239722030750937,
          -0.9834154296918106,
          -0.21776853784336786,
          -0.24696562933856378,
          -1.0855733141799837,
          -0.9173815950664124,
          -0.44408610344305527,
          -0.6979985385575076,
          -0.8598898351611934,
          1.6047381407356591,
          -0.5121271928381996,
          -0.5690117266214028,
          -1.2928831125482076,
          -0.16234669644829336,
          0.2694659729180265,
          -1.78561152072582,
          -1.428921850440534,
          -0.8621474792297036,
          -0.10637837209491757,
          0.4559792143724122,
          -0.8574353878244705,
          0.3021885994240502,
          -0.6103244159191482,
          -0.13726219349285845,
          0.5166354607657865,
          0.9059694275722422,
          -0.7067201810359846,
          -1.2311046837646813,
          -0.6412688895420384,
          -0.7819574959040753,
          -1.0179952653389717,
          0.1916237565333311,
          -0.6639610916594818,
          -0.15226547568551907,
          1.3306783412941994,
          -0.2567291255971543,
          0.2440121159927055,
          0.808940508913544,
          0.8949476598798622,
          0.7215510656519343,
          0.33975029703787796,
          0.0487793512520937,
          0.014331855573335089,
          0.9586024020595021,
          0.6164197105007017,
          -1.5382301075004485,
          0.2997924069194535,
          0.4659523836493858,
          0.6384592931548604,
          1.5109032777927809,
          1.176181158569553,
          1.9540048439726154,
          -1.2859495924226727,
          -0.887694697363015,
          0.13068821466303016,
          1.212937405174254,
          -0.10810375040123243,
          0.2549416048048139
         ],
         "xaxis": "x9",
         "y": [
          -1.1827259433819777,
          -0.7463632403893589,
          1.5869845464323131,
          -0.48128806221065623,
          0.9647130734900492,
          -0.7115669352452291,
          -1.0558867630210798,
          -0.2112493850785817,
          0.4772684592094632,
          2.8358519847182495,
          3.129758902718336,
          0.07956280211849266,
          -0.1293475877645689,
          -0.4338883834323736,
          -0.7751917229497093,
          1.6753544807720804,
          0.23639000388766174,
          0.272133026585016,
          1.3422980145718197,
          -1.304888284732863,
          -0.5483211764645866,
          -1.9825560293549385,
          -1.634616712877582,
          1.0361956533293408,
          -0.4342165383144139,
          1.0065414084645101,
          1.1468032801127306,
          -0.5744074726064387,
          -1.04240223089339,
          -0.7915491542780841,
          -0.9652702271941871,
          0.5126825622828637,
          2.6632466464508946,
          1.0561211482804482,
          0.020302981333594303,
          0.8354480895071337,
          -0.8885211709747984,
          -0.823672601908323,
          -1.2403864199155994,
          -0.0172080307320625,
          1.3218374125697285,
          -0.33914719355175915,
          -0.18886363017727495,
          0.30316838811918007,
          -0.19700145897041968,
          0.24250320637210218,
          0.5153831263385966,
          -1.7724094970287918,
          0.221158958594906,
          0.5453379784184197,
          0.06393956526193875,
          0.8875741760583279,
          -0.3998610239300832,
          0.12810886137043376,
          0.884935028590192,
          0.8823779002124457,
          -0.7178329808727657,
          -0.028885927432759907,
          -0.7140146818108343,
          -0.016519200276902866,
          -0.06793112502200062,
          0.3485763574855543,
          0.5683892535478055,
          -0.34051252800752524,
          0.8755679471971263,
          0.1626087959861342,
          0.745513301744381,
          0.9277066296072016,
          -0.9719878737923496,
          0.09459262940506379,
          -1.0339392772771134,
          1.044328548546555,
          0.06884956012399289,
          -0.24549946604735245,
          -1.237854928533087,
          1.9665823197071388,
          0.4417726032310142,
          0.8933222020261974,
          1.009407215197556,
          0.42466913090792907,
          -1.480491815949762,
          1.8623027372796663,
          -0.3426790914523096,
          0.6754540063547467,
          -0.2897868251463864,
          -0.8823007739516492,
          -0.1000685974502755,
          -0.3881174876544056,
          -1.5567480443211044,
          1.5869570763967449,
          2.0787655732518737,
          -1.0935145259258487,
          -1.5071386217990124,
          1.0916117015881708,
          -0.1392148614731725,
          -0.6088569300008707,
          0.6118464385144239,
          2.269981383813951,
          -0.07724596673008673,
          0.35405233964649135
         ],
         "yaxis": "y9"
        },
        {
         "line": {
          "color": "rgba(128, 128, 128, 1.0)",
          "dash": "solid",
          "shape": "linear",
          "width": 1.3
         },
         "marker": {
          "size": 2,
          "symbol": "circle"
         },
         "mode": "markers",
         "name": "C",
         "text": "",
         "type": "scatter",
         "x": [
          0.1081415629462722,
          0.4268245327166299,
          1.5445724980427822,
          0.9749858108183381,
          0.11449114167189642,
          1.4909096828570594,
          -0.5260456895720725,
          -1.3758691637260192,
          1.044161724360801,
          -1.1092315877742995,
          0.9670447984242331,
          -0.49257750966647734,
          1.0083424456629906,
          1.6885392876330236,
          1.0257650564036982,
          2.99075191788488,
          -0.9350489509778263,
          1.3509322989107693,
          0.7327247826693019,
          -1.216688483531076,
          0.439187156007758,
          0.7834858278015342,
          -1.0010346920455842,
          -0.18418277849451004,
          0.6691026962458871,
          -1.4144483849267844,
          0.8692718843241752,
          -0.21714490067334163,
          1.5080736437005582,
          0.21633766008584335,
          0.21540298577400788,
          0.39668945806355743,
          1.6920374198303962,
          2.1291025135898645,
          1.0086829319016535,
          0.6882703768598456,
          0.5260058746129411,
          -0.32403554739037366,
          -2.5808940818911505,
          -0.44918693914966534,
          -1.2867007075492303,
          0.8817648710663066,
          -0.2116089089096702,
          -0.5901077282473927,
          -1.0962507700134656,
          0.12608049280794345,
          0.317036264205109,
          0.7756982105135313,
          0.7909109267769698,
          0.7409657789632829,
          -0.9825901210917485,
          -0.08636936949193734,
          0.10096210691370497,
          -0.2813182291307528,
          -1.0250092240672513,
          -0.360665288454977,
          1.4124426002380253,
          0.2381977331747811,
          -0.752549537439929,
          0.8198761767071212,
          0.2944436999635293,
          -1.4739537040295216,
          0.16679057324504853,
          1.6740543786755937,
          -1.0748604415950138,
          0.7751341167935993,
          0.9539902019500902,
          -0.9918431337061299,
          0.042113280156370794,
          0.35927719801313474,
          -0.8380540062867653,
          1.565365597960983,
          -0.8558934319004765,
          2.0180128424056836,
          0.514647344235371,
          -1.5144668221405355,
          -1.540063547852475,
          -1.1225329538451916,
          0.6634805682965175,
          0.05867190349109249,
          0.14132776451484372,
          -0.42345845862152137,
          0.08108099227504234,
          -0.9921570022559376,
          -0.11472860485217094,
          -0.2871729128066149,
          0.5942010414877332,
          -0.6906728192068669,
          -0.1932952922984659,
          0.3353581241138731,
          -0.710578443380192,
          -0.010508048548534713,
          0.2472535856529788,
          -0.5764328208509977,
          -2.0137544897542825,
          -0.013688338442916483,
          -0.08955780113355191,
          -0.3894832296265267,
          -0.5903110638733836,
          0.599868761822671
         ],
         "xaxis": "x10",
         "y": [
          -1.1827259433819777,
          -0.7463632403893589,
          1.5869845464323131,
          -0.48128806221065623,
          0.9647130734900492,
          -0.7115669352452291,
          -1.0558867630210798,
          -0.2112493850785817,
          0.4772684592094632,
          2.8358519847182495,
          3.129758902718336,
          0.07956280211849266,
          -0.1293475877645689,
          -0.4338883834323736,
          -0.7751917229497093,
          1.6753544807720804,
          0.23639000388766174,
          0.272133026585016,
          1.3422980145718197,
          -1.304888284732863,
          -0.5483211764645866,
          -1.9825560293549385,
          -1.634616712877582,
          1.0361956533293408,
          -0.4342165383144139,
          1.0065414084645101,
          1.1468032801127306,
          -0.5744074726064387,
          -1.04240223089339,
          -0.7915491542780841,
          -0.9652702271941871,
          0.5126825622828637,
          2.6632466464508946,
          1.0561211482804482,
          0.020302981333594303,
          0.8354480895071337,
          -0.8885211709747984,
          -0.823672601908323,
          -1.2403864199155994,
          -0.0172080307320625,
          1.3218374125697285,
          -0.33914719355175915,
          -0.18886363017727495,
          0.30316838811918007,
          -0.19700145897041968,
          0.24250320637210218,
          0.5153831263385966,
          -1.7724094970287918,
          0.221158958594906,
          0.5453379784184197,
          0.06393956526193875,
          0.8875741760583279,
          -0.3998610239300832,
          0.12810886137043376,
          0.884935028590192,
          0.8823779002124457,
          -0.7178329808727657,
          -0.028885927432759907,
          -0.7140146818108343,
          -0.016519200276902866,
          -0.06793112502200062,
          0.3485763574855543,
          0.5683892535478055,
          -0.34051252800752524,
          0.8755679471971263,
          0.1626087959861342,
          0.745513301744381,
          0.9277066296072016,
          -0.9719878737923496,
          0.09459262940506379,
          -1.0339392772771134,
          1.044328548546555,
          0.06884956012399289,
          -0.24549946604735245,
          -1.237854928533087,
          1.9665823197071388,
          0.4417726032310142,
          0.8933222020261974,
          1.009407215197556,
          0.42466913090792907,
          -1.480491815949762,
          1.8623027372796663,
          -0.3426790914523096,
          0.6754540063547467,
          -0.2897868251463864,
          -0.8823007739516492,
          -0.1000685974502755,
          -0.3881174876544056,
          -1.5567480443211044,
          1.5869570763967449,
          2.0787655732518737,
          -1.0935145259258487,
          -1.5071386217990124,
          1.0916117015881708,
          -0.1392148614731725,
          -0.6088569300008707,
          0.6118464385144239,
          2.269981383813951,
          -0.07724596673008673,
          0.35405233964649135
         ],
         "yaxis": "y10"
        },
        {
         "histfunc": "count",
         "histnorm": "",
         "marker": {
          "color": "rgba(50, 171, 96, 1.0)",
          "line": {
           "color": "#4D5663",
           "width": 1.3
          }
         },
         "name": "C",
         "nbinsx": 10,
         "opacity": 0.8,
         "orientation": "v",
         "type": "histogram",
         "x": [
          -1.1827259433819777,
          -0.7463632403893589,
          1.5869845464323131,
          -0.48128806221065623,
          0.9647130734900492,
          -0.7115669352452291,
          -1.0558867630210798,
          -0.2112493850785817,
          0.4772684592094632,
          2.8358519847182495,
          3.129758902718336,
          0.07956280211849266,
          -0.1293475877645689,
          -0.4338883834323736,
          -0.7751917229497093,
          1.6753544807720804,
          0.23639000388766174,
          0.272133026585016,
          1.3422980145718197,
          -1.304888284732863,
          -0.5483211764645866,
          -1.9825560293549385,
          -1.634616712877582,
          1.0361956533293408,
          -0.4342165383144139,
          1.0065414084645101,
          1.1468032801127306,
          -0.5744074726064387,
          -1.04240223089339,
          -0.7915491542780841,
          -0.9652702271941871,
          0.5126825622828637,
          2.6632466464508946,
          1.0561211482804482,
          0.020302981333594303,
          0.8354480895071337,
          -0.8885211709747984,
          -0.823672601908323,
          -1.2403864199155994,
          -0.0172080307320625,
          1.3218374125697285,
          -0.33914719355175915,
          -0.18886363017727495,
          0.30316838811918007,
          -0.19700145897041968,
          0.24250320637210218,
          0.5153831263385966,
          -1.7724094970287918,
          0.221158958594906,
          0.5453379784184197,
          0.06393956526193875,
          0.8875741760583279,
          -0.3998610239300832,
          0.12810886137043376,
          0.884935028590192,
          0.8823779002124457,
          -0.7178329808727657,
          -0.028885927432759907,
          -0.7140146818108343,
          -0.016519200276902866,
          -0.06793112502200062,
          0.3485763574855543,
          0.5683892535478055,
          -0.34051252800752524,
          0.8755679471971263,
          0.1626087959861342,
          0.745513301744381,
          0.9277066296072016,
          -0.9719878737923496,
          0.09459262940506379,
          -1.0339392772771134,
          1.044328548546555,
          0.06884956012399289,
          -0.24549946604735245,
          -1.237854928533087,
          1.9665823197071388,
          0.4417726032310142,
          0.8933222020261974,
          1.009407215197556,
          0.42466913090792907,
          -1.480491815949762,
          1.8623027372796663,
          -0.3426790914523096,
          0.6754540063547467,
          -0.2897868251463864,
          -0.8823007739516492,
          -0.1000685974502755,
          -0.3881174876544056,
          -1.5567480443211044,
          1.5869570763967449,
          2.0787655732518737,
          -1.0935145259258487,
          -1.5071386217990124,
          1.0916117015881708,
          -0.1392148614731725,
          -0.6088569300008707,
          0.6118464385144239,
          2.269981383813951,
          -0.07724596673008673,
          0.35405233964649135
         ],
         "xaxis": "x11",
         "yaxis": "y11"
        },
        {
         "line": {
          "color": "rgba(128, 128, 128, 1.0)",
          "dash": "solid",
          "shape": "linear",
          "width": 1.3
         },
         "marker": {
          "size": 2,
          "symbol": "circle"
         },
         "mode": "markers",
         "name": "C",
         "text": "",
         "type": "scatter",
         "x": [
          -0.5232076329673341,
          -2.7780278052907583,
          -2.5164355444279165,
          -0.07076084954405218,
          -0.3100665345543423,
          -1.2992831139128915,
          0.2744546137068443,
          -0.6107506952030757,
          -0.9888632734514667,
          1.0063565817729676,
          -0.16107223450937846,
          -0.22858597734118727,
          2.596022569332713,
          0.772721576833007,
          0.11036912256335496,
          1.282797361689481,
          1.2971211264530746,
          1.1850470018585757,
          -0.3340964996760273,
          0.5225290837167507,
          -0.6168344038180612,
          -0.48619041858807,
          2.1436754966424716,
          0.08252280410403706,
          0.5810930347033849,
          -0.3307714374819015,
          -0.6890359819377596,
          -0.7928744719179733,
          0.3527576717318461,
          0.24486514704398085,
          1.0011407785804325,
          0.5157695030425896,
          -0.12886725469469357,
          0.9230963073231013,
          -0.20047626341370794,
          0.1534180254606642,
          0.4041796839315926,
          0.6036913009919193,
          0.2367257984688612,
          0.09599547115473209,
          -1.9352409768325793,
          -0.746214287091547,
          0.34970800394772433,
          0.24768311251201497,
          0.4957424439791478,
          -1.1060228289455452,
          -1.8897068594053286,
          0.556317929379018,
          -1.6018021635578017,
          -0.7546206119428837,
          0.9410103647651131,
          1.4133265919678077,
          -0.3555666027529307,
          -0.4843535119767807,
          1.056911477278011,
          0.36643402090681876,
          -0.284914717660016,
          -0.6488039010770915,
          -0.6488205062793916,
          -1.0205525934448836,
          0.5799492182700319,
          -1.5662148517473167,
          0.6876554200193934,
          0.6127103671010093,
          0.28558580340059847,
          0.007542739703220468,
          -0.3050536113073103,
          0.17331059568382085,
          0.19803643275013189,
          -1.391330074335235,
          -0.3703920654840774,
          0.4292130619487019,
          0.26262710641993153,
          0.47199168684567666,
          0.8085331851901155,
          -0.6068435343537658,
          0.12108355966645976,
          -1.3197245366949333,
          0.852152398626517,
          0.6993596929402611,
          -0.3351098119187117,
          -0.9042658424388572,
          -0.9717270056817701,
          -1.4209981268772078,
          0.034163813703027325,
          -1.331979741355321,
          -1.6563145936278176,
          -0.513279287951007,
          -0.8419144299469731,
          0.044636637948974156,
          -0.21208058030108048,
          1.6326792690744631,
          -1.5292024015123202,
          -0.8611573282896546,
          -0.7279382938870731,
          -1.0883292845657897,
          -1.1564454586538655,
          0.3399786122877439,
          0.7317425241364005,
          1.0798024354545284
         ],
         "xaxis": "x12",
         "y": [
          -1.1827259433819777,
          -0.7463632403893589,
          1.5869845464323131,
          -0.48128806221065623,
          0.9647130734900492,
          -0.7115669352452291,
          -1.0558867630210798,
          -0.2112493850785817,
          0.4772684592094632,
          2.8358519847182495,
          3.129758902718336,
          0.07956280211849266,
          -0.1293475877645689,
          -0.4338883834323736,
          -0.7751917229497093,
          1.6753544807720804,
          0.23639000388766174,
          0.272133026585016,
          1.3422980145718197,
          -1.304888284732863,
          -0.5483211764645866,
          -1.9825560293549385,
          -1.634616712877582,
          1.0361956533293408,
          -0.4342165383144139,
          1.0065414084645101,
          1.1468032801127306,
          -0.5744074726064387,
          -1.04240223089339,
          -0.7915491542780841,
          -0.9652702271941871,
          0.5126825622828637,
          2.6632466464508946,
          1.0561211482804482,
          0.020302981333594303,
          0.8354480895071337,
          -0.8885211709747984,
          -0.823672601908323,
          -1.2403864199155994,
          -0.0172080307320625,
          1.3218374125697285,
          -0.33914719355175915,
          -0.18886363017727495,
          0.30316838811918007,
          -0.19700145897041968,
          0.24250320637210218,
          0.5153831263385966,
          -1.7724094970287918,
          0.221158958594906,
          0.5453379784184197,
          0.06393956526193875,
          0.8875741760583279,
          -0.3998610239300832,
          0.12810886137043376,
          0.884935028590192,
          0.8823779002124457,
          -0.7178329808727657,
          -0.028885927432759907,
          -0.7140146818108343,
          -0.016519200276902866,
          -0.06793112502200062,
          0.3485763574855543,
          0.5683892535478055,
          -0.34051252800752524,
          0.8755679471971263,
          0.1626087959861342,
          0.745513301744381,
          0.9277066296072016,
          -0.9719878737923496,
          0.09459262940506379,
          -1.0339392772771134,
          1.044328548546555,
          0.06884956012399289,
          -0.24549946604735245,
          -1.237854928533087,
          1.9665823197071388,
          0.4417726032310142,
          0.8933222020261974,
          1.009407215197556,
          0.42466913090792907,
          -1.480491815949762,
          1.8623027372796663,
          -0.3426790914523096,
          0.6754540063547467,
          -0.2897868251463864,
          -0.8823007739516492,
          -0.1000685974502755,
          -0.3881174876544056,
          -1.5567480443211044,
          1.5869570763967449,
          2.0787655732518737,
          -1.0935145259258487,
          -1.5071386217990124,
          1.0916117015881708,
          -0.1392148614731725,
          -0.6088569300008707,
          0.6118464385144239,
          2.269981383813951,
          -0.07724596673008673,
          0.35405233964649135
         ],
         "yaxis": "y12"
        },
        {
         "line": {
          "color": "rgba(128, 128, 128, 1.0)",
          "dash": "solid",
          "shape": "linear",
          "width": 1.3
         },
         "marker": {
          "size": 2,
          "symbol": "circle"
         },
         "mode": "markers",
         "name": "D",
         "text": "",
         "type": "scatter",
         "x": [
          -0.09460603389983938,
          -1.115161546621085,
          0.552250823286241,
          -0.7055585325246749,
          1.0670013833110146,
          -0.07525731914888965,
          -1.6446033596519718,
          -0.5731132448732882,
          0.28230643408060346,
          -0.6369429176693027,
          -0.463511904581433,
          -0.6818221515715177,
          1.59240552402439,
          -0.2310620264246376,
          -0.35468737820097457,
          1.2691226063805376,
          -1.4841009789615545,
          0.364885132366754,
          0.29974569384933014,
          0.3132572406958177,
          -0.8102636947808791,
          0.30326014383977185,
          -0.21028570150169376,
          0.2614901512140256,
          0.2829084841851137,
          -0.34187122348639937,
          0.6142993959736801,
          -1.0414937499282173,
          0.9659132783487621,
          0.41805635893271176,
          1.06600170275434,
          -0.5663640057412325,
          -0.14857852734621776,
          3.623714617818191,
          -1.3600316145541635,
          0.2567161441480053,
          -0.6611837387514589,
          1.29355716133248,
          -0.19598547591848683,
          0.7998749870418101,
          1.0155298030451088,
          -0.06856500394033782,
          0.5239722030750937,
          -0.9834154296918106,
          -0.21776853784336786,
          -0.24696562933856378,
          -1.0855733141799837,
          -0.9173815950664124,
          -0.44408610344305527,
          -0.6979985385575076,
          -0.8598898351611934,
          1.6047381407356591,
          -0.5121271928381996,
          -0.5690117266214028,
          -1.2928831125482076,
          -0.16234669644829336,
          0.2694659729180265,
          -1.78561152072582,
          -1.428921850440534,
          -0.8621474792297036,
          -0.10637837209491757,
          0.4559792143724122,
          -0.8574353878244705,
          0.3021885994240502,
          -0.6103244159191482,
          -0.13726219349285845,
          0.5166354607657865,
          0.9059694275722422,
          -0.7067201810359846,
          -1.2311046837646813,
          -0.6412688895420384,
          -0.7819574959040753,
          -1.0179952653389717,
          0.1916237565333311,
          -0.6639610916594818,
          -0.15226547568551907,
          1.3306783412941994,
          -0.2567291255971543,
          0.2440121159927055,
          0.808940508913544,
          0.8949476598798622,
          0.7215510656519343,
          0.33975029703787796,
          0.0487793512520937,
          0.014331855573335089,
          0.9586024020595021,
          0.6164197105007017,
          -1.5382301075004485,
          0.2997924069194535,
          0.4659523836493858,
          0.6384592931548604,
          1.5109032777927809,
          1.176181158569553,
          1.9540048439726154,
          -1.2859495924226727,
          -0.887694697363015,
          0.13068821466303016,
          1.212937405174254,
          -0.10810375040123243,
          0.2549416048048139
         ],
         "xaxis": "x13",
         "y": [
          -0.5232076329673341,
          -2.7780278052907583,
          -2.5164355444279165,
          -0.07076084954405218,
          -0.3100665345543423,
          -1.2992831139128915,
          0.2744546137068443,
          -0.6107506952030757,
          -0.9888632734514667,
          1.0063565817729676,
          -0.16107223450937846,
          -0.22858597734118727,
          2.596022569332713,
          0.772721576833007,
          0.11036912256335496,
          1.282797361689481,
          1.2971211264530746,
          1.1850470018585757,
          -0.3340964996760273,
          0.5225290837167507,
          -0.6168344038180612,
          -0.48619041858807,
          2.1436754966424716,
          0.08252280410403706,
          0.5810930347033849,
          -0.3307714374819015,
          -0.6890359819377596,
          -0.7928744719179733,
          0.3527576717318461,
          0.24486514704398085,
          1.0011407785804325,
          0.5157695030425896,
          -0.12886725469469357,
          0.9230963073231013,
          -0.20047626341370794,
          0.1534180254606642,
          0.4041796839315926,
          0.6036913009919193,
          0.2367257984688612,
          0.09599547115473209,
          -1.9352409768325793,
          -0.746214287091547,
          0.34970800394772433,
          0.24768311251201497,
          0.4957424439791478,
          -1.1060228289455452,
          -1.8897068594053286,
          0.556317929379018,
          -1.6018021635578017,
          -0.7546206119428837,
          0.9410103647651131,
          1.4133265919678077,
          -0.3555666027529307,
          -0.4843535119767807,
          1.056911477278011,
          0.36643402090681876,
          -0.284914717660016,
          -0.6488039010770915,
          -0.6488205062793916,
          -1.0205525934448836,
          0.5799492182700319,
          -1.5662148517473167,
          0.6876554200193934,
          0.6127103671010093,
          0.28558580340059847,
          0.007542739703220468,
          -0.3050536113073103,
          0.17331059568382085,
          0.19803643275013189,
          -1.391330074335235,
          -0.3703920654840774,
          0.4292130619487019,
          0.26262710641993153,
          0.47199168684567666,
          0.8085331851901155,
          -0.6068435343537658,
          0.12108355966645976,
          -1.3197245366949333,
          0.852152398626517,
          0.6993596929402611,
          -0.3351098119187117,
          -0.9042658424388572,
          -0.9717270056817701,
          -1.4209981268772078,
          0.034163813703027325,
          -1.331979741355321,
          -1.6563145936278176,
          -0.513279287951007,
          -0.8419144299469731,
          0.044636637948974156,
          -0.21208058030108048,
          1.6326792690744631,
          -1.5292024015123202,
          -0.8611573282896546,
          -0.7279382938870731,
          -1.0883292845657897,
          -1.1564454586538655,
          0.3399786122877439,
          0.7317425241364005,
          1.0798024354545284
         ],
         "yaxis": "y13"
        },
        {
         "line": {
          "color": "rgba(128, 128, 128, 1.0)",
          "dash": "solid",
          "shape": "linear",
          "width": 1.3
         },
         "marker": {
          "size": 2,
          "symbol": "circle"
         },
         "mode": "markers",
         "name": "D",
         "text": "",
         "type": "scatter",
         "x": [
          0.1081415629462722,
          0.4268245327166299,
          1.5445724980427822,
          0.9749858108183381,
          0.11449114167189642,
          1.4909096828570594,
          -0.5260456895720725,
          -1.3758691637260192,
          1.044161724360801,
          -1.1092315877742995,
          0.9670447984242331,
          -0.49257750966647734,
          1.0083424456629906,
          1.6885392876330236,
          1.0257650564036982,
          2.99075191788488,
          -0.9350489509778263,
          1.3509322989107693,
          0.7327247826693019,
          -1.216688483531076,
          0.439187156007758,
          0.7834858278015342,
          -1.0010346920455842,
          -0.18418277849451004,
          0.6691026962458871,
          -1.4144483849267844,
          0.8692718843241752,
          -0.21714490067334163,
          1.5080736437005582,
          0.21633766008584335,
          0.21540298577400788,
          0.39668945806355743,
          1.6920374198303962,
          2.1291025135898645,
          1.0086829319016535,
          0.6882703768598456,
          0.5260058746129411,
          -0.32403554739037366,
          -2.5808940818911505,
          -0.44918693914966534,
          -1.2867007075492303,
          0.8817648710663066,
          -0.2116089089096702,
          -0.5901077282473927,
          -1.0962507700134656,
          0.12608049280794345,
          0.317036264205109,
          0.7756982105135313,
          0.7909109267769698,
          0.7409657789632829,
          -0.9825901210917485,
          -0.08636936949193734,
          0.10096210691370497,
          -0.2813182291307528,
          -1.0250092240672513,
          -0.360665288454977,
          1.4124426002380253,
          0.2381977331747811,
          -0.752549537439929,
          0.8198761767071212,
          0.2944436999635293,
          -1.4739537040295216,
          0.16679057324504853,
          1.6740543786755937,
          -1.0748604415950138,
          0.7751341167935993,
          0.9539902019500902,
          -0.9918431337061299,
          0.042113280156370794,
          0.35927719801313474,
          -0.8380540062867653,
          1.565365597960983,
          -0.8558934319004765,
          2.0180128424056836,
          0.514647344235371,
          -1.5144668221405355,
          -1.540063547852475,
          -1.1225329538451916,
          0.6634805682965175,
          0.05867190349109249,
          0.14132776451484372,
          -0.42345845862152137,
          0.08108099227504234,
          -0.9921570022559376,
          -0.11472860485217094,
          -0.2871729128066149,
          0.5942010414877332,
          -0.6906728192068669,
          -0.1932952922984659,
          0.3353581241138731,
          -0.710578443380192,
          -0.010508048548534713,
          0.2472535856529788,
          -0.5764328208509977,
          -2.0137544897542825,
          -0.013688338442916483,
          -0.08955780113355191,
          -0.3894832296265267,
          -0.5903110638733836,
          0.599868761822671
         ],
         "xaxis": "x14",
         "y": [
          -0.5232076329673341,
          -2.7780278052907583,
          -2.5164355444279165,
          -0.07076084954405218,
          -0.3100665345543423,
          -1.2992831139128915,
          0.2744546137068443,
          -0.6107506952030757,
          -0.9888632734514667,
          1.0063565817729676,
          -0.16107223450937846,
          -0.22858597734118727,
          2.596022569332713,
          0.772721576833007,
          0.11036912256335496,
          1.282797361689481,
          1.2971211264530746,
          1.1850470018585757,
          -0.3340964996760273,
          0.5225290837167507,
          -0.6168344038180612,
          -0.48619041858807,
          2.1436754966424716,
          0.08252280410403706,
          0.5810930347033849,
          -0.3307714374819015,
          -0.6890359819377596,
          -0.7928744719179733,
          0.3527576717318461,
          0.24486514704398085,
          1.0011407785804325,
          0.5157695030425896,
          -0.12886725469469357,
          0.9230963073231013,
          -0.20047626341370794,
          0.1534180254606642,
          0.4041796839315926,
          0.6036913009919193,
          0.2367257984688612,
          0.09599547115473209,
          -1.9352409768325793,
          -0.746214287091547,
          0.34970800394772433,
          0.24768311251201497,
          0.4957424439791478,
          -1.1060228289455452,
          -1.8897068594053286,
          0.556317929379018,
          -1.6018021635578017,
          -0.7546206119428837,
          0.9410103647651131,
          1.4133265919678077,
          -0.3555666027529307,
          -0.4843535119767807,
          1.056911477278011,
          0.36643402090681876,
          -0.284914717660016,
          -0.6488039010770915,
          -0.6488205062793916,
          -1.0205525934448836,
          0.5799492182700319,
          -1.5662148517473167,
          0.6876554200193934,
          0.6127103671010093,
          0.28558580340059847,
          0.007542739703220468,
          -0.3050536113073103,
          0.17331059568382085,
          0.19803643275013189,
          -1.391330074335235,
          -0.3703920654840774,
          0.4292130619487019,
          0.26262710641993153,
          0.47199168684567666,
          0.8085331851901155,
          -0.6068435343537658,
          0.12108355966645976,
          -1.3197245366949333,
          0.852152398626517,
          0.6993596929402611,
          -0.3351098119187117,
          -0.9042658424388572,
          -0.9717270056817701,
          -1.4209981268772078,
          0.034163813703027325,
          -1.331979741355321,
          -1.6563145936278176,
          -0.513279287951007,
          -0.8419144299469731,
          0.044636637948974156,
          -0.21208058030108048,
          1.6326792690744631,
          -1.5292024015123202,
          -0.8611573282896546,
          -0.7279382938870731,
          -1.0883292845657897,
          -1.1564454586538655,
          0.3399786122877439,
          0.7317425241364005,
          1.0798024354545284
         ],
         "yaxis": "y14"
        },
        {
         "line": {
          "color": "rgba(128, 128, 128, 1.0)",
          "dash": "solid",
          "shape": "linear",
          "width": 1.3
         },
         "marker": {
          "size": 2,
          "symbol": "circle"
         },
         "mode": "markers",
         "name": "D",
         "text": "",
         "type": "scatter",
         "x": [
          -1.1827259433819777,
          -0.7463632403893589,
          1.5869845464323131,
          -0.48128806221065623,
          0.9647130734900492,
          -0.7115669352452291,
          -1.0558867630210798,
          -0.2112493850785817,
          0.4772684592094632,
          2.8358519847182495,
          3.129758902718336,
          0.07956280211849266,
          -0.1293475877645689,
          -0.4338883834323736,
          -0.7751917229497093,
          1.6753544807720804,
          0.23639000388766174,
          0.272133026585016,
          1.3422980145718197,
          -1.304888284732863,
          -0.5483211764645866,
          -1.9825560293549385,
          -1.634616712877582,
          1.0361956533293408,
          -0.4342165383144139,
          1.0065414084645101,
          1.1468032801127306,
          -0.5744074726064387,
          -1.04240223089339,
          -0.7915491542780841,
          -0.9652702271941871,
          0.5126825622828637,
          2.6632466464508946,
          1.0561211482804482,
          0.020302981333594303,
          0.8354480895071337,
          -0.8885211709747984,
          -0.823672601908323,
          -1.2403864199155994,
          -0.0172080307320625,
          1.3218374125697285,
          -0.33914719355175915,
          -0.18886363017727495,
          0.30316838811918007,
          -0.19700145897041968,
          0.24250320637210218,
          0.5153831263385966,
          -1.7724094970287918,
          0.221158958594906,
          0.5453379784184197,
          0.06393956526193875,
          0.8875741760583279,
          -0.3998610239300832,
          0.12810886137043376,
          0.884935028590192,
          0.8823779002124457,
          -0.7178329808727657,
          -0.028885927432759907,
          -0.7140146818108343,
          -0.016519200276902866,
          -0.06793112502200062,
          0.3485763574855543,
          0.5683892535478055,
          -0.34051252800752524,
          0.8755679471971263,
          0.1626087959861342,
          0.745513301744381,
          0.9277066296072016,
          -0.9719878737923496,
          0.09459262940506379,
          -1.0339392772771134,
          1.044328548546555,
          0.06884956012399289,
          -0.24549946604735245,
          -1.237854928533087,
          1.9665823197071388,
          0.4417726032310142,
          0.8933222020261974,
          1.009407215197556,
          0.42466913090792907,
          -1.480491815949762,
          1.8623027372796663,
          -0.3426790914523096,
          0.6754540063547467,
          -0.2897868251463864,
          -0.8823007739516492,
          -0.1000685974502755,
          -0.3881174876544056,
          -1.5567480443211044,
          1.5869570763967449,
          2.0787655732518737,
          -1.0935145259258487,
          -1.5071386217990124,
          1.0916117015881708,
          -0.1392148614731725,
          -0.6088569300008707,
          0.6118464385144239,
          2.269981383813951,
          -0.07724596673008673,
          0.35405233964649135
         ],
         "xaxis": "x15",
         "y": [
          -0.5232076329673341,
          -2.7780278052907583,
          -2.5164355444279165,
          -0.07076084954405218,
          -0.3100665345543423,
          -1.2992831139128915,
          0.2744546137068443,
          -0.6107506952030757,
          -0.9888632734514667,
          1.0063565817729676,
          -0.16107223450937846,
          -0.22858597734118727,
          2.596022569332713,
          0.772721576833007,
          0.11036912256335496,
          1.282797361689481,
          1.2971211264530746,
          1.1850470018585757,
          -0.3340964996760273,
          0.5225290837167507,
          -0.6168344038180612,
          -0.48619041858807,
          2.1436754966424716,
          0.08252280410403706,
          0.5810930347033849,
          -0.3307714374819015,
          -0.6890359819377596,
          -0.7928744719179733,
          0.3527576717318461,
          0.24486514704398085,
          1.0011407785804325,
          0.5157695030425896,
          -0.12886725469469357,
          0.9230963073231013,
          -0.20047626341370794,
          0.1534180254606642,
          0.4041796839315926,
          0.6036913009919193,
          0.2367257984688612,
          0.09599547115473209,
          -1.9352409768325793,
          -0.746214287091547,
          0.34970800394772433,
          0.24768311251201497,
          0.4957424439791478,
          -1.1060228289455452,
          -1.8897068594053286,
          0.556317929379018,
          -1.6018021635578017,
          -0.7546206119428837,
          0.9410103647651131,
          1.4133265919678077,
          -0.3555666027529307,
          -0.4843535119767807,
          1.056911477278011,
          0.36643402090681876,
          -0.284914717660016,
          -0.6488039010770915,
          -0.6488205062793916,
          -1.0205525934448836,
          0.5799492182700319,
          -1.5662148517473167,
          0.6876554200193934,
          0.6127103671010093,
          0.28558580340059847,
          0.007542739703220468,
          -0.3050536113073103,
          0.17331059568382085,
          0.19803643275013189,
          -1.391330074335235,
          -0.3703920654840774,
          0.4292130619487019,
          0.26262710641993153,
          0.47199168684567666,
          0.8085331851901155,
          -0.6068435343537658,
          0.12108355966645976,
          -1.3197245366949333,
          0.852152398626517,
          0.6993596929402611,
          -0.3351098119187117,
          -0.9042658424388572,
          -0.9717270056817701,
          -1.4209981268772078,
          0.034163813703027325,
          -1.331979741355321,
          -1.6563145936278176,
          -0.513279287951007,
          -0.8419144299469731,
          0.044636637948974156,
          -0.21208058030108048,
          1.6326792690744631,
          -1.5292024015123202,
          -0.8611573282896546,
          -0.7279382938870731,
          -1.0883292845657897,
          -1.1564454586538655,
          0.3399786122877439,
          0.7317425241364005,
          1.0798024354545284
         ],
         "yaxis": "y15"
        },
        {
         "histfunc": "count",
         "histnorm": "",
         "marker": {
          "color": "rgba(128, 0, 128, 1.0)",
          "line": {
           "color": "#4D5663",
           "width": 1.3
          }
         },
         "name": "D",
         "nbinsx": 10,
         "opacity": 0.8,
         "orientation": "v",
         "type": "histogram",
         "x": [
          -0.5232076329673341,
          -2.7780278052907583,
          -2.5164355444279165,
          -0.07076084954405218,
          -0.3100665345543423,
          -1.2992831139128915,
          0.2744546137068443,
          -0.6107506952030757,
          -0.9888632734514667,
          1.0063565817729676,
          -0.16107223450937846,
          -0.22858597734118727,
          2.596022569332713,
          0.772721576833007,
          0.11036912256335496,
          1.282797361689481,
          1.2971211264530746,
          1.1850470018585757,
          -0.3340964996760273,
          0.5225290837167507,
          -0.6168344038180612,
          -0.48619041858807,
          2.1436754966424716,
          0.08252280410403706,
          0.5810930347033849,
          -0.3307714374819015,
          -0.6890359819377596,
          -0.7928744719179733,
          0.3527576717318461,
          0.24486514704398085,
          1.0011407785804325,
          0.5157695030425896,
          -0.12886725469469357,
          0.9230963073231013,
          -0.20047626341370794,
          0.1534180254606642,
          0.4041796839315926,
          0.6036913009919193,
          0.2367257984688612,
          0.09599547115473209,
          -1.9352409768325793,
          -0.746214287091547,
          0.34970800394772433,
          0.24768311251201497,
          0.4957424439791478,
          -1.1060228289455452,
          -1.8897068594053286,
          0.556317929379018,
          -1.6018021635578017,
          -0.7546206119428837,
          0.9410103647651131,
          1.4133265919678077,
          -0.3555666027529307,
          -0.4843535119767807,
          1.056911477278011,
          0.36643402090681876,
          -0.284914717660016,
          -0.6488039010770915,
          -0.6488205062793916,
          -1.0205525934448836,
          0.5799492182700319,
          -1.5662148517473167,
          0.6876554200193934,
          0.6127103671010093,
          0.28558580340059847,
          0.007542739703220468,
          -0.3050536113073103,
          0.17331059568382085,
          0.19803643275013189,
          -1.391330074335235,
          -0.3703920654840774,
          0.4292130619487019,
          0.26262710641993153,
          0.47199168684567666,
          0.8085331851901155,
          -0.6068435343537658,
          0.12108355966645976,
          -1.3197245366949333,
          0.852152398626517,
          0.6993596929402611,
          -0.3351098119187117,
          -0.9042658424388572,
          -0.9717270056817701,
          -1.4209981268772078,
          0.034163813703027325,
          -1.331979741355321,
          -1.6563145936278176,
          -0.513279287951007,
          -0.8419144299469731,
          0.044636637948974156,
          -0.21208058030108048,
          1.6326792690744631,
          -1.5292024015123202,
          -0.8611573282896546,
          -0.7279382938870731,
          -1.0883292845657897,
          -1.1564454586538655,
          0.3399786122877439,
          0.7317425241364005,
          1.0798024354545284
         ],
         "xaxis": "x16",
         "yaxis": "y16"
        }
       ],
       "layout": {
        "bargap": 0.02,
        "legend": {
         "bgcolor": "#F5F6F9",
         "font": {
          "color": "#4D5663"
         }
        },
        "paper_bgcolor": "#F5F6F9",
        "plot_bgcolor": "#F5F6F9",
        "showlegend": false,
        "template": {
         "data": {
          "bar": [
           {
            "error_x": {
             "color": "#2a3f5f"
            },
            "error_y": {
             "color": "#2a3f5f"
            },
            "marker": {
             "line": {
              "color": "#E5ECF6",
              "width": 0.5
             }
            },
            "type": "bar"
           }
          ],
          "barpolar": [
           {
            "marker": {
             "line": {
              "color": "#E5ECF6",
              "width": 0.5
             }
            },
            "type": "barpolar"
           }
          ],
          "carpet": [
           {
            "aaxis": {
             "endlinecolor": "#2a3f5f",
             "gridcolor": "white",
             "linecolor": "white",
             "minorgridcolor": "white",
             "startlinecolor": "#2a3f5f"
            },
            "baxis": {
             "endlinecolor": "#2a3f5f",
             "gridcolor": "white",
             "linecolor": "white",
             "minorgridcolor": "white",
             "startlinecolor": "#2a3f5f"
            },
            "type": "carpet"
           }
          ],
          "choropleth": [
           {
            "colorbar": {
             "outlinewidth": 0,
             "ticks": ""
            },
            "type": "choropleth"
           }
          ],
          "contour": [
           {
            "colorbar": {
             "outlinewidth": 0,
             "ticks": ""
            },
            "colorscale": [
             [
              0,
              "#0d0887"
             ],
             [
              0.1111111111111111,
              "#46039f"
             ],
             [
              0.2222222222222222,
              "#7201a8"
             ],
             [
              0.3333333333333333,
              "#9c179e"
             ],
             [
              0.4444444444444444,
              "#bd3786"
             ],
             [
              0.5555555555555556,
              "#d8576b"
             ],
             [
              0.6666666666666666,
              "#ed7953"
             ],
             [
              0.7777777777777778,
              "#fb9f3a"
             ],
             [
              0.8888888888888888,
              "#fdca26"
             ],
             [
              1,
              "#f0f921"
             ]
            ],
            "type": "contour"
           }
          ],
          "contourcarpet": [
           {
            "colorbar": {
             "outlinewidth": 0,
             "ticks": ""
            },
            "type": "contourcarpet"
           }
          ],
          "heatmap": [
           {
            "colorbar": {
             "outlinewidth": 0,
             "ticks": ""
            },
            "colorscale": [
             [
              0,
              "#0d0887"
             ],
             [
              0.1111111111111111,
              "#46039f"
             ],
             [
              0.2222222222222222,
              "#7201a8"
             ],
             [
              0.3333333333333333,
              "#9c179e"
             ],
             [
              0.4444444444444444,
              "#bd3786"
             ],
             [
              0.5555555555555556,
              "#d8576b"
             ],
             [
              0.6666666666666666,
              "#ed7953"
             ],
             [
              0.7777777777777778,
              "#fb9f3a"
             ],
             [
              0.8888888888888888,
              "#fdca26"
             ],
             [
              1,
              "#f0f921"
             ]
            ],
            "type": "heatmap"
           }
          ],
          "heatmapgl": [
           {
            "colorbar": {
             "outlinewidth": 0,
             "ticks": ""
            },
            "colorscale": [
             [
              0,
              "#0d0887"
             ],
             [
              0.1111111111111111,
              "#46039f"
             ],
             [
              0.2222222222222222,
              "#7201a8"
             ],
             [
              0.3333333333333333,
              "#9c179e"
             ],
             [
              0.4444444444444444,
              "#bd3786"
             ],
             [
              0.5555555555555556,
              "#d8576b"
             ],
             [
              0.6666666666666666,
              "#ed7953"
             ],
             [
              0.7777777777777778,
              "#fb9f3a"
             ],
             [
              0.8888888888888888,
              "#fdca26"
             ],
             [
              1,
              "#f0f921"
             ]
            ],
            "type": "heatmapgl"
           }
          ],
          "histogram": [
           {
            "marker": {
             "colorbar": {
              "outlinewidth": 0,
              "ticks": ""
             }
            },
            "type": "histogram"
           }
          ],
          "histogram2d": [
           {
            "colorbar": {
             "outlinewidth": 0,
             "ticks": ""
            },
            "colorscale": [
             [
              0,
              "#0d0887"
             ],
             [
              0.1111111111111111,
              "#46039f"
             ],
             [
              0.2222222222222222,
              "#7201a8"
             ],
             [
              0.3333333333333333,
              "#9c179e"
             ],
             [
              0.4444444444444444,
              "#bd3786"
             ],
             [
              0.5555555555555556,
              "#d8576b"
             ],
             [
              0.6666666666666666,
              "#ed7953"
             ],
             [
              0.7777777777777778,
              "#fb9f3a"
             ],
             [
              0.8888888888888888,
              "#fdca26"
             ],
             [
              1,
              "#f0f921"
             ]
            ],
            "type": "histogram2d"
           }
          ],
          "histogram2dcontour": [
           {
            "colorbar": {
             "outlinewidth": 0,
             "ticks": ""
            },
            "colorscale": [
             [
              0,
              "#0d0887"
             ],
             [
              0.1111111111111111,
              "#46039f"
             ],
             [
              0.2222222222222222,
              "#7201a8"
             ],
             [
              0.3333333333333333,
              "#9c179e"
             ],
             [
              0.4444444444444444,
              "#bd3786"
             ],
             [
              0.5555555555555556,
              "#d8576b"
             ],
             [
              0.6666666666666666,
              "#ed7953"
             ],
             [
              0.7777777777777778,
              "#fb9f3a"
             ],
             [
              0.8888888888888888,
              "#fdca26"
             ],
             [
              1,
              "#f0f921"
             ]
            ],
            "type": "histogram2dcontour"
           }
          ],
          "mesh3d": [
           {
            "colorbar": {
             "outlinewidth": 0,
             "ticks": ""
            },
            "type": "mesh3d"
           }
          ],
          "parcoords": [
           {
            "line": {
             "colorbar": {
              "outlinewidth": 0,
              "ticks": ""
             }
            },
            "type": "parcoords"
           }
          ],
          "pie": [
           {
            "automargin": true,
            "type": "pie"
           }
          ],
          "scatter": [
           {
            "marker": {
             "colorbar": {
              "outlinewidth": 0,
              "ticks": ""
             }
            },
            "type": "scatter"
           }
          ],
          "scatter3d": [
           {
            "line": {
             "colorbar": {
              "outlinewidth": 0,
              "ticks": ""
             }
            },
            "marker": {
             "colorbar": {
              "outlinewidth": 0,
              "ticks": ""
             }
            },
            "type": "scatter3d"
           }
          ],
          "scattercarpet": [
           {
            "marker": {
             "colorbar": {
              "outlinewidth": 0,
              "ticks": ""
             }
            },
            "type": "scattercarpet"
           }
          ],
          "scattergeo": [
           {
            "marker": {
             "colorbar": {
              "outlinewidth": 0,
              "ticks": ""
             }
            },
            "type": "scattergeo"
           }
          ],
          "scattergl": [
           {
            "marker": {
             "colorbar": {
              "outlinewidth": 0,
              "ticks": ""
             }
            },
            "type": "scattergl"
           }
          ],
          "scattermapbox": [
           {
            "marker": {
             "colorbar": {
              "outlinewidth": 0,
              "ticks": ""
             }
            },
            "type": "scattermapbox"
           }
          ],
          "scatterpolar": [
           {
            "marker": {
             "colorbar": {
              "outlinewidth": 0,
              "ticks": ""
             }
            },
            "type": "scatterpolar"
           }
          ],
          "scatterpolargl": [
           {
            "marker": {
             "colorbar": {
              "outlinewidth": 0,
              "ticks": ""
             }
            },
            "type": "scatterpolargl"
           }
          ],
          "scatterternary": [
           {
            "marker": {
             "colorbar": {
              "outlinewidth": 0,
              "ticks": ""
             }
            },
            "type": "scatterternary"
           }
          ],
          "surface": [
           {
            "colorbar": {
             "outlinewidth": 0,
             "ticks": ""
            },
            "colorscale": [
             [
              0,
              "#0d0887"
             ],
             [
              0.1111111111111111,
              "#46039f"
             ],
             [
              0.2222222222222222,
              "#7201a8"
             ],
             [
              0.3333333333333333,
              "#9c179e"
             ],
             [
              0.4444444444444444,
              "#bd3786"
             ],
             [
              0.5555555555555556,
              "#d8576b"
             ],
             [
              0.6666666666666666,
              "#ed7953"
             ],
             [
              0.7777777777777778,
              "#fb9f3a"
             ],
             [
              0.8888888888888888,
              "#fdca26"
             ],
             [
              1,
              "#f0f921"
             ]
            ],
            "type": "surface"
           }
          ],
          "table": [
           {
            "cells": {
             "fill": {
              "color": "#EBF0F8"
             },
             "line": {
              "color": "white"
             }
            },
            "header": {
             "fill": {
              "color": "#C8D4E3"
             },
             "line": {
              "color": "white"
             }
            },
            "type": "table"
           }
          ]
         },
         "layout": {
          "annotationdefaults": {
           "arrowcolor": "#2a3f5f",
           "arrowhead": 0,
           "arrowwidth": 1
          },
          "coloraxis": {
           "colorbar": {
            "outlinewidth": 0,
            "ticks": ""
           }
          },
          "colorscale": {
           "diverging": [
            [
             0,
             "#8e0152"
            ],
            [
             0.1,
             "#c51b7d"
            ],
            [
             0.2,
             "#de77ae"
            ],
            [
             0.3,
             "#f1b6da"
            ],
            [
             0.4,
             "#fde0ef"
            ],
            [
             0.5,
             "#f7f7f7"
            ],
            [
             0.6,
             "#e6f5d0"
            ],
            [
             0.7,
             "#b8e186"
            ],
            [
             0.8,
             "#7fbc41"
            ],
            [
             0.9,
             "#4d9221"
            ],
            [
             1,
             "#276419"
            ]
           ],
           "sequential": [
            [
             0,
             "#0d0887"
            ],
            [
             0.1111111111111111,
             "#46039f"
            ],
            [
             0.2222222222222222,
             "#7201a8"
            ],
            [
             0.3333333333333333,
             "#9c179e"
            ],
            [
             0.4444444444444444,
             "#bd3786"
            ],
            [
             0.5555555555555556,
             "#d8576b"
            ],
            [
             0.6666666666666666,
             "#ed7953"
            ],
            [
             0.7777777777777778,
             "#fb9f3a"
            ],
            [
             0.8888888888888888,
             "#fdca26"
            ],
            [
             1,
             "#f0f921"
            ]
           ],
           "sequentialminus": [
            [
             0,
             "#0d0887"
            ],
            [
             0.1111111111111111,
             "#46039f"
            ],
            [
             0.2222222222222222,
             "#7201a8"
            ],
            [
             0.3333333333333333,
             "#9c179e"
            ],
            [
             0.4444444444444444,
             "#bd3786"
            ],
            [
             0.5555555555555556,
             "#d8576b"
            ],
            [
             0.6666666666666666,
             "#ed7953"
            ],
            [
             0.7777777777777778,
             "#fb9f3a"
            ],
            [
             0.8888888888888888,
             "#fdca26"
            ],
            [
             1,
             "#f0f921"
            ]
           ]
          },
          "colorway": [
           "#636efa",
           "#EF553B",
           "#00cc96",
           "#ab63fa",
           "#FFA15A",
           "#19d3f3",
           "#FF6692",
           "#B6E880",
           "#FF97FF",
           "#FECB52"
          ],
          "font": {
           "color": "#2a3f5f"
          },
          "geo": {
           "bgcolor": "white",
           "lakecolor": "white",
           "landcolor": "#E5ECF6",
           "showlakes": true,
           "showland": true,
           "subunitcolor": "white"
          },
          "hoverlabel": {
           "align": "left"
          },
          "hovermode": "closest",
          "mapbox": {
           "style": "light"
          },
          "paper_bgcolor": "white",
          "plot_bgcolor": "#E5ECF6",
          "polar": {
           "angularaxis": {
            "gridcolor": "white",
            "linecolor": "white",
            "ticks": ""
           },
           "bgcolor": "#E5ECF6",
           "radialaxis": {
            "gridcolor": "white",
            "linecolor": "white",
            "ticks": ""
           }
          },
          "scene": {
           "xaxis": {
            "backgroundcolor": "#E5ECF6",
            "gridcolor": "white",
            "gridwidth": 2,
            "linecolor": "white",
            "showbackground": true,
            "ticks": "",
            "zerolinecolor": "white"
           },
           "yaxis": {
            "backgroundcolor": "#E5ECF6",
            "gridcolor": "white",
            "gridwidth": 2,
            "linecolor": "white",
            "showbackground": true,
            "ticks": "",
            "zerolinecolor": "white"
           },
           "zaxis": {
            "backgroundcolor": "#E5ECF6",
            "gridcolor": "white",
            "gridwidth": 2,
            "linecolor": "white",
            "showbackground": true,
            "ticks": "",
            "zerolinecolor": "white"
           }
          },
          "shapedefaults": {
           "line": {
            "color": "#2a3f5f"
           }
          },
          "ternary": {
           "aaxis": {
            "gridcolor": "white",
            "linecolor": "white",
            "ticks": ""
           },
           "baxis": {
            "gridcolor": "white",
            "linecolor": "white",
            "ticks": ""
           },
           "bgcolor": "#E5ECF6",
           "caxis": {
            "gridcolor": "white",
            "linecolor": "white",
            "ticks": ""
           }
          },
          "title": {
           "x": 0.05
          },
          "xaxis": {
           "automargin": true,
           "gridcolor": "white",
           "linecolor": "white",
           "ticks": "",
           "title": {
            "standoff": 15
           },
           "zerolinecolor": "white",
           "zerolinewidth": 2
          },
          "yaxis": {
           "automargin": true,
           "gridcolor": "white",
           "linecolor": "white",
           "ticks": "",
           "title": {
            "standoff": 15
           },
           "zerolinecolor": "white",
           "zerolinewidth": 2
          }
         }
        },
        "title": {
         "font": {
          "color": "#4D5663"
         }
        },
        "xaxis": {
         "anchor": "y",
         "domain": [
          0,
          0.2125
         ],
         "gridcolor": "#E1E5ED",
         "showgrid": false,
         "tickfont": {
          "color": "#4D5663"
         },
         "title": {
          "font": {
           "color": "#4D5663"
          },
          "text": ""
         },
         "zerolinecolor": "#E1E5ED"
        },
        "xaxis10": {
         "anchor": "y10",
         "domain": [
          0.2625,
          0.475
         ],
         "gridcolor": "#E1E5ED",
         "showgrid": false,
         "tickfont": {
          "color": "#4D5663"
         },
         "title": {
          "font": {
           "color": "#4D5663"
          },
          "text": ""
         },
         "zerolinecolor": "#E1E5ED"
        },
        "xaxis11": {
         "anchor": "y11",
         "domain": [
          0.525,
          0.7375
         ],
         "gridcolor": "#E1E5ED",
         "showgrid": false,
         "tickfont": {
          "color": "#4D5663"
         },
         "title": {
          "font": {
           "color": "#4D5663"
          },
          "text": ""
         },
         "zerolinecolor": "#E1E5ED"
        },
        "xaxis12": {
         "anchor": "y12",
         "domain": [
          0.7875,
          1
         ],
         "gridcolor": "#E1E5ED",
         "showgrid": false,
         "tickfont": {
          "color": "#4D5663"
         },
         "title": {
          "font": {
           "color": "#4D5663"
          },
          "text": ""
         },
         "zerolinecolor": "#E1E5ED"
        },
        "xaxis13": {
         "anchor": "y13",
         "domain": [
          0,
          0.2125
         ],
         "gridcolor": "#E1E5ED",
         "showgrid": false,
         "tickfont": {
          "color": "#4D5663"
         },
         "title": {
          "font": {
           "color": "#4D5663"
          },
          "text": ""
         },
         "zerolinecolor": "#E1E5ED"
        },
        "xaxis14": {
         "anchor": "y14",
         "domain": [
          0.2625,
          0.475
         ],
         "gridcolor": "#E1E5ED",
         "showgrid": false,
         "tickfont": {
          "color": "#4D5663"
         },
         "title": {
          "font": {
           "color": "#4D5663"
          },
          "text": ""
         },
         "zerolinecolor": "#E1E5ED"
        },
        "xaxis15": {
         "anchor": "y15",
         "domain": [
          0.525,
          0.7375
         ],
         "gridcolor": "#E1E5ED",
         "showgrid": false,
         "tickfont": {
          "color": "#4D5663"
         },
         "title": {
          "font": {
           "color": "#4D5663"
          },
          "text": ""
         },
         "zerolinecolor": "#E1E5ED"
        },
        "xaxis16": {
         "anchor": "y16",
         "domain": [
          0.7875,
          1
         ],
         "gridcolor": "#E1E5ED",
         "showgrid": false,
         "tickfont": {
          "color": "#4D5663"
         },
         "title": {
          "font": {
           "color": "#4D5663"
          },
          "text": ""
         },
         "zerolinecolor": "#E1E5ED"
        },
        "xaxis2": {
         "anchor": "y2",
         "domain": [
          0.2625,
          0.475
         ],
         "gridcolor": "#E1E5ED",
         "showgrid": false,
         "tickfont": {
          "color": "#4D5663"
         },
         "title": {
          "font": {
           "color": "#4D5663"
          },
          "text": ""
         },
         "zerolinecolor": "#E1E5ED"
        },
        "xaxis3": {
         "anchor": "y3",
         "domain": [
          0.525,
          0.7375
         ],
         "gridcolor": "#E1E5ED",
         "showgrid": false,
         "tickfont": {
          "color": "#4D5663"
         },
         "title": {
          "font": {
           "color": "#4D5663"
          },
          "text": ""
         },
         "zerolinecolor": "#E1E5ED"
        },
        "xaxis4": {
         "anchor": "y4",
         "domain": [
          0.7875,
          1
         ],
         "gridcolor": "#E1E5ED",
         "showgrid": false,
         "tickfont": {
          "color": "#4D5663"
         },
         "title": {
          "font": {
           "color": "#4D5663"
          },
          "text": ""
         },
         "zerolinecolor": "#E1E5ED"
        },
        "xaxis5": {
         "anchor": "y5",
         "domain": [
          0,
          0.2125
         ],
         "gridcolor": "#E1E5ED",
         "showgrid": false,
         "tickfont": {
          "color": "#4D5663"
         },
         "title": {
          "font": {
           "color": "#4D5663"
          },
          "text": ""
         },
         "zerolinecolor": "#E1E5ED"
        },
        "xaxis6": {
         "anchor": "y6",
         "domain": [
          0.2625,
          0.475
         ],
         "gridcolor": "#E1E5ED",
         "showgrid": false,
         "tickfont": {
          "color": "#4D5663"
         },
         "title": {
          "font": {
           "color": "#4D5663"
          },
          "text": ""
         },
         "zerolinecolor": "#E1E5ED"
        },
        "xaxis7": {
         "anchor": "y7",
         "domain": [
          0.525,
          0.7375
         ],
         "gridcolor": "#E1E5ED",
         "showgrid": false,
         "tickfont": {
          "color": "#4D5663"
         },
         "title": {
          "font": {
           "color": "#4D5663"
          },
          "text": ""
         },
         "zerolinecolor": "#E1E5ED"
        },
        "xaxis8": {
         "anchor": "y8",
         "domain": [
          0.7875,
          1
         ],
         "gridcolor": "#E1E5ED",
         "showgrid": false,
         "tickfont": {
          "color": "#4D5663"
         },
         "title": {
          "font": {
           "color": "#4D5663"
          },
          "text": ""
         },
         "zerolinecolor": "#E1E5ED"
        },
        "xaxis9": {
         "anchor": "y9",
         "domain": [
          0,
          0.2125
         ],
         "gridcolor": "#E1E5ED",
         "showgrid": false,
         "tickfont": {
          "color": "#4D5663"
         },
         "title": {
          "font": {
           "color": "#4D5663"
          },
          "text": ""
         },
         "zerolinecolor": "#E1E5ED"
        },
        "yaxis": {
         "anchor": "x",
         "domain": [
          0.8025,
          1
         ],
         "gridcolor": "#E1E5ED",
         "showgrid": false,
         "tickfont": {
          "color": "#4D5663"
         },
         "title": {
          "font": {
           "color": "#4D5663"
          },
          "text": ""
         },
         "zerolinecolor": "#E1E5ED"
        },
        "yaxis10": {
         "anchor": "x10",
         "domain": [
          0.2675,
          0.465
         ],
         "gridcolor": "#E1E5ED",
         "showgrid": false,
         "tickfont": {
          "color": "#4D5663"
         },
         "title": {
          "font": {
           "color": "#4D5663"
          },
          "text": ""
         },
         "zerolinecolor": "#E1E5ED"
        },
        "yaxis11": {
         "anchor": "x11",
         "domain": [
          0.2675,
          0.465
         ],
         "gridcolor": "#E1E5ED",
         "showgrid": false,
         "tickfont": {
          "color": "#4D5663"
         },
         "title": {
          "font": {
           "color": "#4D5663"
          },
          "text": ""
         },
         "zerolinecolor": "#E1E5ED"
        },
        "yaxis12": {
         "anchor": "x12",
         "domain": [
          0.2675,
          0.465
         ],
         "gridcolor": "#E1E5ED",
         "showgrid": false,
         "tickfont": {
          "color": "#4D5663"
         },
         "title": {
          "font": {
           "color": "#4D5663"
          },
          "text": ""
         },
         "zerolinecolor": "#E1E5ED"
        },
        "yaxis13": {
         "anchor": "x13",
         "domain": [
          0,
          0.1975
         ],
         "gridcolor": "#E1E5ED",
         "showgrid": false,
         "tickfont": {
          "color": "#4D5663"
         },
         "title": {
          "font": {
           "color": "#4D5663"
          },
          "text": ""
         },
         "zerolinecolor": "#E1E5ED"
        },
        "yaxis14": {
         "anchor": "x14",
         "domain": [
          0,
          0.1975
         ],
         "gridcolor": "#E1E5ED",
         "showgrid": false,
         "tickfont": {
          "color": "#4D5663"
         },
         "title": {
          "font": {
           "color": "#4D5663"
          },
          "text": ""
         },
         "zerolinecolor": "#E1E5ED"
        },
        "yaxis15": {
         "anchor": "x15",
         "domain": [
          0,
          0.1975
         ],
         "gridcolor": "#E1E5ED",
         "showgrid": false,
         "tickfont": {
          "color": "#4D5663"
         },
         "title": {
          "font": {
           "color": "#4D5663"
          },
          "text": ""
         },
         "zerolinecolor": "#E1E5ED"
        },
        "yaxis16": {
         "anchor": "x16",
         "domain": [
          0,
          0.1975
         ],
         "gridcolor": "#E1E5ED",
         "showgrid": false,
         "tickfont": {
          "color": "#4D5663"
         },
         "title": {
          "font": {
           "color": "#4D5663"
          },
          "text": ""
         },
         "zerolinecolor": "#E1E5ED"
        },
        "yaxis2": {
         "anchor": "x2",
         "domain": [
          0.8025,
          1
         ],
         "gridcolor": "#E1E5ED",
         "showgrid": false,
         "tickfont": {
          "color": "#4D5663"
         },
         "title": {
          "font": {
           "color": "#4D5663"
          },
          "text": ""
         },
         "zerolinecolor": "#E1E5ED"
        },
        "yaxis3": {
         "anchor": "x3",
         "domain": [
          0.8025,
          1
         ],
         "gridcolor": "#E1E5ED",
         "showgrid": false,
         "tickfont": {
          "color": "#4D5663"
         },
         "title": {
          "font": {
           "color": "#4D5663"
          },
          "text": ""
         },
         "zerolinecolor": "#E1E5ED"
        },
        "yaxis4": {
         "anchor": "x4",
         "domain": [
          0.8025,
          1
         ],
         "gridcolor": "#E1E5ED",
         "showgrid": false,
         "tickfont": {
          "color": "#4D5663"
         },
         "title": {
          "font": {
           "color": "#4D5663"
          },
          "text": ""
         },
         "zerolinecolor": "#E1E5ED"
        },
        "yaxis5": {
         "anchor": "x5",
         "domain": [
          0.535,
          0.7325
         ],
         "gridcolor": "#E1E5ED",
         "showgrid": false,
         "tickfont": {
          "color": "#4D5663"
         },
         "title": {
          "font": {
           "color": "#4D5663"
          },
          "text": ""
         },
         "zerolinecolor": "#E1E5ED"
        },
        "yaxis6": {
         "anchor": "x6",
         "domain": [
          0.535,
          0.7325
         ],
         "gridcolor": "#E1E5ED",
         "showgrid": false,
         "tickfont": {
          "color": "#4D5663"
         },
         "title": {
          "font": {
           "color": "#4D5663"
          },
          "text": ""
         },
         "zerolinecolor": "#E1E5ED"
        },
        "yaxis7": {
         "anchor": "x7",
         "domain": [
          0.535,
          0.7325
         ],
         "gridcolor": "#E1E5ED",
         "showgrid": false,
         "tickfont": {
          "color": "#4D5663"
         },
         "title": {
          "font": {
           "color": "#4D5663"
          },
          "text": ""
         },
         "zerolinecolor": "#E1E5ED"
        },
        "yaxis8": {
         "anchor": "x8",
         "domain": [
          0.535,
          0.7325
         ],
         "gridcolor": "#E1E5ED",
         "showgrid": false,
         "tickfont": {
          "color": "#4D5663"
         },
         "title": {
          "font": {
           "color": "#4D5663"
          },
          "text": ""
         },
         "zerolinecolor": "#E1E5ED"
        },
        "yaxis9": {
         "anchor": "x9",
         "domain": [
          0.2675,
          0.465
         ],
         "gridcolor": "#E1E5ED",
         "showgrid": false,
         "tickfont": {
          "color": "#4D5663"
         },
         "title": {
          "font": {
           "color": "#4D5663"
          },
          "text": ""
         },
         "zerolinecolor": "#E1E5ED"
        }
       }
      },
      "text/html": [
       "<div>\n",
       "        \n",
       "        \n",
       "            <div id=\"a271ca8f-1e31-442f-8292-8d2834dea039\" class=\"plotly-graph-div\" style=\"height:525px; width:100%;\"></div>\n",
       "            <script type=\"text/javascript\">\n",
       "                require([\"plotly\"], function(Plotly) {\n",
       "                    window.PLOTLYENV=window.PLOTLYENV || {};\n",
       "                    window.PLOTLYENV.BASE_URL='https://plot.ly';\n",
       "                    \n",
       "                if (document.getElementById(\"a271ca8f-1e31-442f-8292-8d2834dea039\")) {\n",
       "                    Plotly.newPlot(\n",
       "                        'a271ca8f-1e31-442f-8292-8d2834dea039',\n",
       "                        [{\"histfunc\": \"count\", \"histnorm\": \"\", \"marker\": {\"color\": \"rgba(255, 153, 51, 1.0)\", \"line\": {\"color\": \"#4D5663\", \"width\": 1.3}}, \"name\": \"A\", \"nbinsx\": 10, \"opacity\": 0.8, \"orientation\": \"v\", \"type\": \"histogram\", \"x\": [-0.09460603389983938, -1.115161546621085, 0.552250823286241, -0.7055585325246749, 1.0670013833110146, -0.07525731914888965, -1.6446033596519718, -0.5731132448732882, 0.28230643408060346, -0.6369429176693027, -0.463511904581433, -0.6818221515715177, 1.59240552402439, -0.2310620264246376, -0.35468737820097457, 1.2691226063805376, -1.4841009789615545, 0.364885132366754, 0.29974569384933014, 0.3132572406958177, -0.8102636947808791, 0.30326014383977185, -0.21028570150169376, 0.2614901512140256, 0.2829084841851137, -0.34187122348639937, 0.6142993959736801, -1.0414937499282173, 0.9659132783487621, 0.41805635893271176, 1.06600170275434, -0.5663640057412325, -0.14857852734621776, 3.623714617818191, -1.3600316145541635, 0.2567161441480053, -0.6611837387514589, 1.29355716133248, -0.19598547591848683, 0.7998749870418101, 1.0155298030451088, -0.06856500394033782, 0.5239722030750937, -0.9834154296918106, -0.21776853784336786, -0.24696562933856378, -1.0855733141799837, -0.9173815950664124, -0.44408610344305527, -0.6979985385575076, -0.8598898351611934, 1.6047381407356591, -0.5121271928381996, -0.5690117266214028, -1.2928831125482076, -0.16234669644829336, 0.2694659729180265, -1.78561152072582, -1.428921850440534, -0.8621474792297036, -0.10637837209491757, 0.4559792143724122, -0.8574353878244705, 0.3021885994240502, -0.6103244159191482, -0.13726219349285845, 0.5166354607657865, 0.9059694275722422, -0.7067201810359846, -1.2311046837646813, -0.6412688895420384, -0.7819574959040753, -1.0179952653389717, 0.1916237565333311, -0.6639610916594818, -0.15226547568551907, 1.3306783412941994, -0.2567291255971543, 0.2440121159927055, 0.808940508913544, 0.8949476598798622, 0.7215510656519343, 0.33975029703787796, 0.0487793512520937, 0.014331855573335089, 0.9586024020595021, 0.6164197105007017, -1.5382301075004485, 0.2997924069194535, 0.4659523836493858, 0.6384592931548604, 1.5109032777927809, 1.176181158569553, 1.9540048439726154, -1.2859495924226727, -0.887694697363015, 0.13068821466303016, 1.212937405174254, -0.10810375040123243, 0.2549416048048139], \"xaxis\": \"x\", \"yaxis\": \"y\"}, {\"line\": {\"color\": \"rgba(128, 128, 128, 1.0)\", \"dash\": \"solid\", \"shape\": \"linear\", \"width\": 1.3}, \"marker\": {\"size\": 2, \"symbol\": \"circle\"}, \"mode\": \"markers\", \"name\": \"A\", \"text\": \"\", \"type\": \"scatter\", \"x\": [0.1081415629462722, 0.4268245327166299, 1.5445724980427822, 0.9749858108183381, 0.11449114167189642, 1.4909096828570594, -0.5260456895720725, -1.3758691637260192, 1.044161724360801, -1.1092315877742995, 0.9670447984242331, -0.49257750966647734, 1.0083424456629906, 1.6885392876330236, 1.0257650564036982, 2.99075191788488, -0.9350489509778263, 1.3509322989107693, 0.7327247826693019, -1.216688483531076, 0.439187156007758, 0.7834858278015342, -1.0010346920455842, -0.18418277849451004, 0.6691026962458871, -1.4144483849267844, 0.8692718843241752, -0.21714490067334163, 1.5080736437005582, 0.21633766008584335, 0.21540298577400788, 0.39668945806355743, 1.6920374198303962, 2.1291025135898645, 1.0086829319016535, 0.6882703768598456, 0.5260058746129411, -0.32403554739037366, -2.5808940818911505, -0.44918693914966534, -1.2867007075492303, 0.8817648710663066, -0.2116089089096702, -0.5901077282473927, -1.0962507700134656, 0.12608049280794345, 0.317036264205109, 0.7756982105135313, 0.7909109267769698, 0.7409657789632829, -0.9825901210917485, -0.08636936949193734, 0.10096210691370497, -0.2813182291307528, -1.0250092240672513, -0.360665288454977, 1.4124426002380253, 0.2381977331747811, -0.752549537439929, 0.8198761767071212, 0.2944436999635293, -1.4739537040295216, 0.16679057324504853, 1.6740543786755937, -1.0748604415950138, 0.7751341167935993, 0.9539902019500902, -0.9918431337061299, 0.042113280156370794, 0.35927719801313474, -0.8380540062867653, 1.565365597960983, -0.8558934319004765, 2.0180128424056836, 0.514647344235371, -1.5144668221405355, -1.540063547852475, -1.1225329538451916, 0.6634805682965175, 0.05867190349109249, 0.14132776451484372, -0.42345845862152137, 0.08108099227504234, -0.9921570022559376, -0.11472860485217094, -0.2871729128066149, 0.5942010414877332, -0.6906728192068669, -0.1932952922984659, 0.3353581241138731, -0.710578443380192, -0.010508048548534713, 0.2472535856529788, -0.5764328208509977, -2.0137544897542825, -0.013688338442916483, -0.08955780113355191, -0.3894832296265267, -0.5903110638733836, 0.599868761822671], \"xaxis\": \"x2\", \"y\": [-0.09460603389983938, -1.115161546621085, 0.552250823286241, -0.7055585325246749, 1.0670013833110146, -0.07525731914888965, -1.6446033596519718, -0.5731132448732882, 0.28230643408060346, -0.6369429176693027, -0.463511904581433, -0.6818221515715177, 1.59240552402439, -0.2310620264246376, -0.35468737820097457, 1.2691226063805376, -1.4841009789615545, 0.364885132366754, 0.29974569384933014, 0.3132572406958177, -0.8102636947808791, 0.30326014383977185, -0.21028570150169376, 0.2614901512140256, 0.2829084841851137, -0.34187122348639937, 0.6142993959736801, -1.0414937499282173, 0.9659132783487621, 0.41805635893271176, 1.06600170275434, -0.5663640057412325, -0.14857852734621776, 3.623714617818191, -1.3600316145541635, 0.2567161441480053, -0.6611837387514589, 1.29355716133248, -0.19598547591848683, 0.7998749870418101, 1.0155298030451088, -0.06856500394033782, 0.5239722030750937, -0.9834154296918106, -0.21776853784336786, -0.24696562933856378, -1.0855733141799837, -0.9173815950664124, -0.44408610344305527, -0.6979985385575076, -0.8598898351611934, 1.6047381407356591, -0.5121271928381996, -0.5690117266214028, -1.2928831125482076, -0.16234669644829336, 0.2694659729180265, -1.78561152072582, -1.428921850440534, -0.8621474792297036, -0.10637837209491757, 0.4559792143724122, -0.8574353878244705, 0.3021885994240502, -0.6103244159191482, -0.13726219349285845, 0.5166354607657865, 0.9059694275722422, -0.7067201810359846, -1.2311046837646813, -0.6412688895420384, -0.7819574959040753, -1.0179952653389717, 0.1916237565333311, -0.6639610916594818, -0.15226547568551907, 1.3306783412941994, -0.2567291255971543, 0.2440121159927055, 0.808940508913544, 0.8949476598798622, 0.7215510656519343, 0.33975029703787796, 0.0487793512520937, 0.014331855573335089, 0.9586024020595021, 0.6164197105007017, -1.5382301075004485, 0.2997924069194535, 0.4659523836493858, 0.6384592931548604, 1.5109032777927809, 1.176181158569553, 1.9540048439726154, -1.2859495924226727, -0.887694697363015, 0.13068821466303016, 1.212937405174254, -0.10810375040123243, 0.2549416048048139], \"yaxis\": \"y2\"}, {\"line\": {\"color\": \"rgba(128, 128, 128, 1.0)\", \"dash\": \"solid\", \"shape\": \"linear\", \"width\": 1.3}, \"marker\": {\"size\": 2, \"symbol\": \"circle\"}, \"mode\": \"markers\", \"name\": \"A\", \"text\": \"\", \"type\": \"scatter\", \"x\": [-1.1827259433819777, -0.7463632403893589, 1.5869845464323131, -0.48128806221065623, 0.9647130734900492, -0.7115669352452291, -1.0558867630210798, -0.2112493850785817, 0.4772684592094632, 2.8358519847182495, 3.129758902718336, 0.07956280211849266, -0.1293475877645689, -0.4338883834323736, -0.7751917229497093, 1.6753544807720804, 0.23639000388766174, 0.272133026585016, 1.3422980145718197, -1.304888284732863, -0.5483211764645866, -1.9825560293549385, -1.634616712877582, 1.0361956533293408, -0.4342165383144139, 1.0065414084645101, 1.1468032801127306, -0.5744074726064387, -1.04240223089339, -0.7915491542780841, -0.9652702271941871, 0.5126825622828637, 2.6632466464508946, 1.0561211482804482, 0.020302981333594303, 0.8354480895071337, -0.8885211709747984, -0.823672601908323, -1.2403864199155994, -0.0172080307320625, 1.3218374125697285, -0.33914719355175915, -0.18886363017727495, 0.30316838811918007, -0.19700145897041968, 0.24250320637210218, 0.5153831263385966, -1.7724094970287918, 0.221158958594906, 0.5453379784184197, 0.06393956526193875, 0.8875741760583279, -0.3998610239300832, 0.12810886137043376, 0.884935028590192, 0.8823779002124457, -0.7178329808727657, -0.028885927432759907, -0.7140146818108343, -0.016519200276902866, -0.06793112502200062, 0.3485763574855543, 0.5683892535478055, -0.34051252800752524, 0.8755679471971263, 0.1626087959861342, 0.745513301744381, 0.9277066296072016, -0.9719878737923496, 0.09459262940506379, -1.0339392772771134, 1.044328548546555, 0.06884956012399289, -0.24549946604735245, -1.237854928533087, 1.9665823197071388, 0.4417726032310142, 0.8933222020261974, 1.009407215197556, 0.42466913090792907, -1.480491815949762, 1.8623027372796663, -0.3426790914523096, 0.6754540063547467, -0.2897868251463864, -0.8823007739516492, -0.1000685974502755, -0.3881174876544056, -1.5567480443211044, 1.5869570763967449, 2.0787655732518737, -1.0935145259258487, -1.5071386217990124, 1.0916117015881708, -0.1392148614731725, -0.6088569300008707, 0.6118464385144239, 2.269981383813951, -0.07724596673008673, 0.35405233964649135], \"xaxis\": \"x3\", \"y\": [-0.09460603389983938, -1.115161546621085, 0.552250823286241, -0.7055585325246749, 1.0670013833110146, -0.07525731914888965, -1.6446033596519718, -0.5731132448732882, 0.28230643408060346, -0.6369429176693027, -0.463511904581433, -0.6818221515715177, 1.59240552402439, -0.2310620264246376, -0.35468737820097457, 1.2691226063805376, -1.4841009789615545, 0.364885132366754, 0.29974569384933014, 0.3132572406958177, -0.8102636947808791, 0.30326014383977185, -0.21028570150169376, 0.2614901512140256, 0.2829084841851137, -0.34187122348639937, 0.6142993959736801, -1.0414937499282173, 0.9659132783487621, 0.41805635893271176, 1.06600170275434, -0.5663640057412325, -0.14857852734621776, 3.623714617818191, -1.3600316145541635, 0.2567161441480053, -0.6611837387514589, 1.29355716133248, -0.19598547591848683, 0.7998749870418101, 1.0155298030451088, -0.06856500394033782, 0.5239722030750937, -0.9834154296918106, -0.21776853784336786, -0.24696562933856378, -1.0855733141799837, -0.9173815950664124, -0.44408610344305527, -0.6979985385575076, -0.8598898351611934, 1.6047381407356591, -0.5121271928381996, -0.5690117266214028, -1.2928831125482076, -0.16234669644829336, 0.2694659729180265, -1.78561152072582, -1.428921850440534, -0.8621474792297036, -0.10637837209491757, 0.4559792143724122, -0.8574353878244705, 0.3021885994240502, -0.6103244159191482, -0.13726219349285845, 0.5166354607657865, 0.9059694275722422, -0.7067201810359846, -1.2311046837646813, -0.6412688895420384, -0.7819574959040753, -1.0179952653389717, 0.1916237565333311, -0.6639610916594818, -0.15226547568551907, 1.3306783412941994, -0.2567291255971543, 0.2440121159927055, 0.808940508913544, 0.8949476598798622, 0.7215510656519343, 0.33975029703787796, 0.0487793512520937, 0.014331855573335089, 0.9586024020595021, 0.6164197105007017, -1.5382301075004485, 0.2997924069194535, 0.4659523836493858, 0.6384592931548604, 1.5109032777927809, 1.176181158569553, 1.9540048439726154, -1.2859495924226727, -0.887694697363015, 0.13068821466303016, 1.212937405174254, -0.10810375040123243, 0.2549416048048139], \"yaxis\": \"y3\"}, {\"line\": {\"color\": \"rgba(128, 128, 128, 1.0)\", \"dash\": \"solid\", \"shape\": \"linear\", \"width\": 1.3}, \"marker\": {\"size\": 2, \"symbol\": \"circle\"}, \"mode\": \"markers\", \"name\": \"A\", \"text\": \"\", \"type\": \"scatter\", \"x\": [-0.5232076329673341, -2.7780278052907583, -2.5164355444279165, -0.07076084954405218, -0.3100665345543423, -1.2992831139128915, 0.2744546137068443, -0.6107506952030757, -0.9888632734514667, 1.0063565817729676, -0.16107223450937846, -0.22858597734118727, 2.596022569332713, 0.772721576833007, 0.11036912256335496, 1.282797361689481, 1.2971211264530746, 1.1850470018585757, -0.3340964996760273, 0.5225290837167507, -0.6168344038180612, -0.48619041858807, 2.1436754966424716, 0.08252280410403706, 0.5810930347033849, -0.3307714374819015, -0.6890359819377596, -0.7928744719179733, 0.3527576717318461, 0.24486514704398085, 1.0011407785804325, 0.5157695030425896, -0.12886725469469357, 0.9230963073231013, -0.20047626341370794, 0.1534180254606642, 0.4041796839315926, 0.6036913009919193, 0.2367257984688612, 0.09599547115473209, -1.9352409768325793, -0.746214287091547, 0.34970800394772433, 0.24768311251201497, 0.4957424439791478, -1.1060228289455452, -1.8897068594053286, 0.556317929379018, -1.6018021635578017, -0.7546206119428837, 0.9410103647651131, 1.4133265919678077, -0.3555666027529307, -0.4843535119767807, 1.056911477278011, 0.36643402090681876, -0.284914717660016, -0.6488039010770915, -0.6488205062793916, -1.0205525934448836, 0.5799492182700319, -1.5662148517473167, 0.6876554200193934, 0.6127103671010093, 0.28558580340059847, 0.007542739703220468, -0.3050536113073103, 0.17331059568382085, 0.19803643275013189, -1.391330074335235, -0.3703920654840774, 0.4292130619487019, 0.26262710641993153, 0.47199168684567666, 0.8085331851901155, -0.6068435343537658, 0.12108355966645976, -1.3197245366949333, 0.852152398626517, 0.6993596929402611, -0.3351098119187117, -0.9042658424388572, -0.9717270056817701, -1.4209981268772078, 0.034163813703027325, -1.331979741355321, -1.6563145936278176, -0.513279287951007, -0.8419144299469731, 0.044636637948974156, -0.21208058030108048, 1.6326792690744631, -1.5292024015123202, -0.8611573282896546, -0.7279382938870731, -1.0883292845657897, -1.1564454586538655, 0.3399786122877439, 0.7317425241364005, 1.0798024354545284], \"xaxis\": \"x4\", \"y\": [-0.09460603389983938, -1.115161546621085, 0.552250823286241, -0.7055585325246749, 1.0670013833110146, -0.07525731914888965, -1.6446033596519718, -0.5731132448732882, 0.28230643408060346, -0.6369429176693027, -0.463511904581433, -0.6818221515715177, 1.59240552402439, -0.2310620264246376, -0.35468737820097457, 1.2691226063805376, -1.4841009789615545, 0.364885132366754, 0.29974569384933014, 0.3132572406958177, -0.8102636947808791, 0.30326014383977185, -0.21028570150169376, 0.2614901512140256, 0.2829084841851137, -0.34187122348639937, 0.6142993959736801, -1.0414937499282173, 0.9659132783487621, 0.41805635893271176, 1.06600170275434, -0.5663640057412325, -0.14857852734621776, 3.623714617818191, -1.3600316145541635, 0.2567161441480053, -0.6611837387514589, 1.29355716133248, -0.19598547591848683, 0.7998749870418101, 1.0155298030451088, -0.06856500394033782, 0.5239722030750937, -0.9834154296918106, -0.21776853784336786, -0.24696562933856378, -1.0855733141799837, -0.9173815950664124, -0.44408610344305527, -0.6979985385575076, -0.8598898351611934, 1.6047381407356591, -0.5121271928381996, -0.5690117266214028, -1.2928831125482076, -0.16234669644829336, 0.2694659729180265, -1.78561152072582, -1.428921850440534, -0.8621474792297036, -0.10637837209491757, 0.4559792143724122, -0.8574353878244705, 0.3021885994240502, -0.6103244159191482, -0.13726219349285845, 0.5166354607657865, 0.9059694275722422, -0.7067201810359846, -1.2311046837646813, -0.6412688895420384, -0.7819574959040753, -1.0179952653389717, 0.1916237565333311, -0.6639610916594818, -0.15226547568551907, 1.3306783412941994, -0.2567291255971543, 0.2440121159927055, 0.808940508913544, 0.8949476598798622, 0.7215510656519343, 0.33975029703787796, 0.0487793512520937, 0.014331855573335089, 0.9586024020595021, 0.6164197105007017, -1.5382301075004485, 0.2997924069194535, 0.4659523836493858, 0.6384592931548604, 1.5109032777927809, 1.176181158569553, 1.9540048439726154, -1.2859495924226727, -0.887694697363015, 0.13068821466303016, 1.212937405174254, -0.10810375040123243, 0.2549416048048139], \"yaxis\": \"y4\"}, {\"line\": {\"color\": \"rgba(128, 128, 128, 1.0)\", \"dash\": \"solid\", \"shape\": \"linear\", \"width\": 1.3}, \"marker\": {\"size\": 2, \"symbol\": \"circle\"}, \"mode\": \"markers\", \"name\": \"B\", \"text\": \"\", \"type\": \"scatter\", \"x\": [-0.09460603389983938, -1.115161546621085, 0.552250823286241, -0.7055585325246749, 1.0670013833110146, -0.07525731914888965, -1.6446033596519718, -0.5731132448732882, 0.28230643408060346, -0.6369429176693027, -0.463511904581433, -0.6818221515715177, 1.59240552402439, -0.2310620264246376, -0.35468737820097457, 1.2691226063805376, -1.4841009789615545, 0.364885132366754, 0.29974569384933014, 0.3132572406958177, -0.8102636947808791, 0.30326014383977185, -0.21028570150169376, 0.2614901512140256, 0.2829084841851137, -0.34187122348639937, 0.6142993959736801, -1.0414937499282173, 0.9659132783487621, 0.41805635893271176, 1.06600170275434, -0.5663640057412325, -0.14857852734621776, 3.623714617818191, -1.3600316145541635, 0.2567161441480053, -0.6611837387514589, 1.29355716133248, -0.19598547591848683, 0.7998749870418101, 1.0155298030451088, -0.06856500394033782, 0.5239722030750937, -0.9834154296918106, -0.21776853784336786, -0.24696562933856378, -1.0855733141799837, -0.9173815950664124, -0.44408610344305527, -0.6979985385575076, -0.8598898351611934, 1.6047381407356591, -0.5121271928381996, -0.5690117266214028, -1.2928831125482076, -0.16234669644829336, 0.2694659729180265, -1.78561152072582, -1.428921850440534, -0.8621474792297036, -0.10637837209491757, 0.4559792143724122, -0.8574353878244705, 0.3021885994240502, -0.6103244159191482, -0.13726219349285845, 0.5166354607657865, 0.9059694275722422, -0.7067201810359846, -1.2311046837646813, -0.6412688895420384, -0.7819574959040753, -1.0179952653389717, 0.1916237565333311, -0.6639610916594818, -0.15226547568551907, 1.3306783412941994, -0.2567291255971543, 0.2440121159927055, 0.808940508913544, 0.8949476598798622, 0.7215510656519343, 0.33975029703787796, 0.0487793512520937, 0.014331855573335089, 0.9586024020595021, 0.6164197105007017, -1.5382301075004485, 0.2997924069194535, 0.4659523836493858, 0.6384592931548604, 1.5109032777927809, 1.176181158569553, 1.9540048439726154, -1.2859495924226727, -0.887694697363015, 0.13068821466303016, 1.212937405174254, -0.10810375040123243, 0.2549416048048139], \"xaxis\": \"x5\", \"y\": [0.1081415629462722, 0.4268245327166299, 1.5445724980427822, 0.9749858108183381, 0.11449114167189642, 1.4909096828570594, -0.5260456895720725, -1.3758691637260192, 1.044161724360801, -1.1092315877742995, 0.9670447984242331, -0.49257750966647734, 1.0083424456629906, 1.6885392876330236, 1.0257650564036982, 2.99075191788488, -0.9350489509778263, 1.3509322989107693, 0.7327247826693019, -1.216688483531076, 0.439187156007758, 0.7834858278015342, -1.0010346920455842, -0.18418277849451004, 0.6691026962458871, -1.4144483849267844, 0.8692718843241752, -0.21714490067334163, 1.5080736437005582, 0.21633766008584335, 0.21540298577400788, 0.39668945806355743, 1.6920374198303962, 2.1291025135898645, 1.0086829319016535, 0.6882703768598456, 0.5260058746129411, -0.32403554739037366, -2.5808940818911505, -0.44918693914966534, -1.2867007075492303, 0.8817648710663066, -0.2116089089096702, -0.5901077282473927, -1.0962507700134656, 0.12608049280794345, 0.317036264205109, 0.7756982105135313, 0.7909109267769698, 0.7409657789632829, -0.9825901210917485, -0.08636936949193734, 0.10096210691370497, -0.2813182291307528, -1.0250092240672513, -0.360665288454977, 1.4124426002380253, 0.2381977331747811, -0.752549537439929, 0.8198761767071212, 0.2944436999635293, -1.4739537040295216, 0.16679057324504853, 1.6740543786755937, -1.0748604415950138, 0.7751341167935993, 0.9539902019500902, -0.9918431337061299, 0.042113280156370794, 0.35927719801313474, -0.8380540062867653, 1.565365597960983, -0.8558934319004765, 2.0180128424056836, 0.514647344235371, -1.5144668221405355, -1.540063547852475, -1.1225329538451916, 0.6634805682965175, 0.05867190349109249, 0.14132776451484372, -0.42345845862152137, 0.08108099227504234, -0.9921570022559376, -0.11472860485217094, -0.2871729128066149, 0.5942010414877332, -0.6906728192068669, -0.1932952922984659, 0.3353581241138731, -0.710578443380192, -0.010508048548534713, 0.2472535856529788, -0.5764328208509977, -2.0137544897542825, -0.013688338442916483, -0.08955780113355191, -0.3894832296265267, -0.5903110638733836, 0.599868761822671], \"yaxis\": \"y5\"}, {\"histfunc\": \"count\", \"histnorm\": \"\", \"marker\": {\"color\": \"rgba(55, 128, 191, 1.0)\", \"line\": {\"color\": \"#4D5663\", \"width\": 1.3}}, \"name\": \"B\", \"nbinsx\": 10, \"opacity\": 0.8, \"orientation\": \"v\", \"type\": \"histogram\", \"x\": [0.1081415629462722, 0.4268245327166299, 1.5445724980427822, 0.9749858108183381, 0.11449114167189642, 1.4909096828570594, -0.5260456895720725, -1.3758691637260192, 1.044161724360801, -1.1092315877742995, 0.9670447984242331, -0.49257750966647734, 1.0083424456629906, 1.6885392876330236, 1.0257650564036982, 2.99075191788488, -0.9350489509778263, 1.3509322989107693, 0.7327247826693019, -1.216688483531076, 0.439187156007758, 0.7834858278015342, -1.0010346920455842, -0.18418277849451004, 0.6691026962458871, -1.4144483849267844, 0.8692718843241752, -0.21714490067334163, 1.5080736437005582, 0.21633766008584335, 0.21540298577400788, 0.39668945806355743, 1.6920374198303962, 2.1291025135898645, 1.0086829319016535, 0.6882703768598456, 0.5260058746129411, -0.32403554739037366, -2.5808940818911505, -0.44918693914966534, -1.2867007075492303, 0.8817648710663066, -0.2116089089096702, -0.5901077282473927, -1.0962507700134656, 0.12608049280794345, 0.317036264205109, 0.7756982105135313, 0.7909109267769698, 0.7409657789632829, -0.9825901210917485, -0.08636936949193734, 0.10096210691370497, -0.2813182291307528, -1.0250092240672513, -0.360665288454977, 1.4124426002380253, 0.2381977331747811, -0.752549537439929, 0.8198761767071212, 0.2944436999635293, -1.4739537040295216, 0.16679057324504853, 1.6740543786755937, -1.0748604415950138, 0.7751341167935993, 0.9539902019500902, -0.9918431337061299, 0.042113280156370794, 0.35927719801313474, -0.8380540062867653, 1.565365597960983, -0.8558934319004765, 2.0180128424056836, 0.514647344235371, -1.5144668221405355, -1.540063547852475, -1.1225329538451916, 0.6634805682965175, 0.05867190349109249, 0.14132776451484372, -0.42345845862152137, 0.08108099227504234, -0.9921570022559376, -0.11472860485217094, -0.2871729128066149, 0.5942010414877332, -0.6906728192068669, -0.1932952922984659, 0.3353581241138731, -0.710578443380192, -0.010508048548534713, 0.2472535856529788, -0.5764328208509977, -2.0137544897542825, -0.013688338442916483, -0.08955780113355191, -0.3894832296265267, -0.5903110638733836, 0.599868761822671], \"xaxis\": \"x6\", \"yaxis\": \"y6\"}, {\"line\": {\"color\": \"rgba(128, 128, 128, 1.0)\", \"dash\": \"solid\", \"shape\": \"linear\", \"width\": 1.3}, \"marker\": {\"size\": 2, \"symbol\": \"circle\"}, \"mode\": \"markers\", \"name\": \"B\", \"text\": \"\", \"type\": \"scatter\", \"x\": [-1.1827259433819777, -0.7463632403893589, 1.5869845464323131, -0.48128806221065623, 0.9647130734900492, -0.7115669352452291, -1.0558867630210798, -0.2112493850785817, 0.4772684592094632, 2.8358519847182495, 3.129758902718336, 0.07956280211849266, -0.1293475877645689, -0.4338883834323736, -0.7751917229497093, 1.6753544807720804, 0.23639000388766174, 0.272133026585016, 1.3422980145718197, -1.304888284732863, -0.5483211764645866, -1.9825560293549385, -1.634616712877582, 1.0361956533293408, -0.4342165383144139, 1.0065414084645101, 1.1468032801127306, -0.5744074726064387, -1.04240223089339, -0.7915491542780841, -0.9652702271941871, 0.5126825622828637, 2.6632466464508946, 1.0561211482804482, 0.020302981333594303, 0.8354480895071337, -0.8885211709747984, -0.823672601908323, -1.2403864199155994, -0.0172080307320625, 1.3218374125697285, -0.33914719355175915, -0.18886363017727495, 0.30316838811918007, -0.19700145897041968, 0.24250320637210218, 0.5153831263385966, -1.7724094970287918, 0.221158958594906, 0.5453379784184197, 0.06393956526193875, 0.8875741760583279, -0.3998610239300832, 0.12810886137043376, 0.884935028590192, 0.8823779002124457, -0.7178329808727657, -0.028885927432759907, -0.7140146818108343, -0.016519200276902866, -0.06793112502200062, 0.3485763574855543, 0.5683892535478055, -0.34051252800752524, 0.8755679471971263, 0.1626087959861342, 0.745513301744381, 0.9277066296072016, -0.9719878737923496, 0.09459262940506379, -1.0339392772771134, 1.044328548546555, 0.06884956012399289, -0.24549946604735245, -1.237854928533087, 1.9665823197071388, 0.4417726032310142, 0.8933222020261974, 1.009407215197556, 0.42466913090792907, -1.480491815949762, 1.8623027372796663, -0.3426790914523096, 0.6754540063547467, -0.2897868251463864, -0.8823007739516492, -0.1000685974502755, -0.3881174876544056, -1.5567480443211044, 1.5869570763967449, 2.0787655732518737, -1.0935145259258487, -1.5071386217990124, 1.0916117015881708, -0.1392148614731725, -0.6088569300008707, 0.6118464385144239, 2.269981383813951, -0.07724596673008673, 0.35405233964649135], \"xaxis\": \"x7\", \"y\": [0.1081415629462722, 0.4268245327166299, 1.5445724980427822, 0.9749858108183381, 0.11449114167189642, 1.4909096828570594, -0.5260456895720725, -1.3758691637260192, 1.044161724360801, -1.1092315877742995, 0.9670447984242331, -0.49257750966647734, 1.0083424456629906, 1.6885392876330236, 1.0257650564036982, 2.99075191788488, -0.9350489509778263, 1.3509322989107693, 0.7327247826693019, -1.216688483531076, 0.439187156007758, 0.7834858278015342, -1.0010346920455842, -0.18418277849451004, 0.6691026962458871, -1.4144483849267844, 0.8692718843241752, -0.21714490067334163, 1.5080736437005582, 0.21633766008584335, 0.21540298577400788, 0.39668945806355743, 1.6920374198303962, 2.1291025135898645, 1.0086829319016535, 0.6882703768598456, 0.5260058746129411, -0.32403554739037366, -2.5808940818911505, -0.44918693914966534, -1.2867007075492303, 0.8817648710663066, -0.2116089089096702, -0.5901077282473927, -1.0962507700134656, 0.12608049280794345, 0.317036264205109, 0.7756982105135313, 0.7909109267769698, 0.7409657789632829, -0.9825901210917485, -0.08636936949193734, 0.10096210691370497, -0.2813182291307528, -1.0250092240672513, -0.360665288454977, 1.4124426002380253, 0.2381977331747811, -0.752549537439929, 0.8198761767071212, 0.2944436999635293, -1.4739537040295216, 0.16679057324504853, 1.6740543786755937, -1.0748604415950138, 0.7751341167935993, 0.9539902019500902, -0.9918431337061299, 0.042113280156370794, 0.35927719801313474, -0.8380540062867653, 1.565365597960983, -0.8558934319004765, 2.0180128424056836, 0.514647344235371, -1.5144668221405355, -1.540063547852475, -1.1225329538451916, 0.6634805682965175, 0.05867190349109249, 0.14132776451484372, -0.42345845862152137, 0.08108099227504234, -0.9921570022559376, -0.11472860485217094, -0.2871729128066149, 0.5942010414877332, -0.6906728192068669, -0.1932952922984659, 0.3353581241138731, -0.710578443380192, -0.010508048548534713, 0.2472535856529788, -0.5764328208509977, -2.0137544897542825, -0.013688338442916483, -0.08955780113355191, -0.3894832296265267, -0.5903110638733836, 0.599868761822671], \"yaxis\": \"y7\"}, {\"line\": {\"color\": \"rgba(128, 128, 128, 1.0)\", \"dash\": \"solid\", \"shape\": \"linear\", \"width\": 1.3}, \"marker\": {\"size\": 2, \"symbol\": \"circle\"}, \"mode\": \"markers\", \"name\": \"B\", \"text\": \"\", \"type\": \"scatter\", \"x\": [-0.5232076329673341, -2.7780278052907583, -2.5164355444279165, -0.07076084954405218, -0.3100665345543423, -1.2992831139128915, 0.2744546137068443, -0.6107506952030757, -0.9888632734514667, 1.0063565817729676, -0.16107223450937846, -0.22858597734118727, 2.596022569332713, 0.772721576833007, 0.11036912256335496, 1.282797361689481, 1.2971211264530746, 1.1850470018585757, -0.3340964996760273, 0.5225290837167507, -0.6168344038180612, -0.48619041858807, 2.1436754966424716, 0.08252280410403706, 0.5810930347033849, -0.3307714374819015, -0.6890359819377596, -0.7928744719179733, 0.3527576717318461, 0.24486514704398085, 1.0011407785804325, 0.5157695030425896, -0.12886725469469357, 0.9230963073231013, -0.20047626341370794, 0.1534180254606642, 0.4041796839315926, 0.6036913009919193, 0.2367257984688612, 0.09599547115473209, -1.9352409768325793, -0.746214287091547, 0.34970800394772433, 0.24768311251201497, 0.4957424439791478, -1.1060228289455452, -1.8897068594053286, 0.556317929379018, -1.6018021635578017, -0.7546206119428837, 0.9410103647651131, 1.4133265919678077, -0.3555666027529307, -0.4843535119767807, 1.056911477278011, 0.36643402090681876, -0.284914717660016, -0.6488039010770915, -0.6488205062793916, -1.0205525934448836, 0.5799492182700319, -1.5662148517473167, 0.6876554200193934, 0.6127103671010093, 0.28558580340059847, 0.007542739703220468, -0.3050536113073103, 0.17331059568382085, 0.19803643275013189, -1.391330074335235, -0.3703920654840774, 0.4292130619487019, 0.26262710641993153, 0.47199168684567666, 0.8085331851901155, -0.6068435343537658, 0.12108355966645976, -1.3197245366949333, 0.852152398626517, 0.6993596929402611, -0.3351098119187117, -0.9042658424388572, -0.9717270056817701, -1.4209981268772078, 0.034163813703027325, -1.331979741355321, -1.6563145936278176, -0.513279287951007, -0.8419144299469731, 0.044636637948974156, -0.21208058030108048, 1.6326792690744631, -1.5292024015123202, -0.8611573282896546, -0.7279382938870731, -1.0883292845657897, -1.1564454586538655, 0.3399786122877439, 0.7317425241364005, 1.0798024354545284], \"xaxis\": \"x8\", \"y\": [0.1081415629462722, 0.4268245327166299, 1.5445724980427822, 0.9749858108183381, 0.11449114167189642, 1.4909096828570594, -0.5260456895720725, -1.3758691637260192, 1.044161724360801, -1.1092315877742995, 0.9670447984242331, -0.49257750966647734, 1.0083424456629906, 1.6885392876330236, 1.0257650564036982, 2.99075191788488, -0.9350489509778263, 1.3509322989107693, 0.7327247826693019, -1.216688483531076, 0.439187156007758, 0.7834858278015342, -1.0010346920455842, -0.18418277849451004, 0.6691026962458871, -1.4144483849267844, 0.8692718843241752, -0.21714490067334163, 1.5080736437005582, 0.21633766008584335, 0.21540298577400788, 0.39668945806355743, 1.6920374198303962, 2.1291025135898645, 1.0086829319016535, 0.6882703768598456, 0.5260058746129411, -0.32403554739037366, -2.5808940818911505, -0.44918693914966534, -1.2867007075492303, 0.8817648710663066, -0.2116089089096702, -0.5901077282473927, -1.0962507700134656, 0.12608049280794345, 0.317036264205109, 0.7756982105135313, 0.7909109267769698, 0.7409657789632829, -0.9825901210917485, -0.08636936949193734, 0.10096210691370497, -0.2813182291307528, -1.0250092240672513, -0.360665288454977, 1.4124426002380253, 0.2381977331747811, -0.752549537439929, 0.8198761767071212, 0.2944436999635293, -1.4739537040295216, 0.16679057324504853, 1.6740543786755937, -1.0748604415950138, 0.7751341167935993, 0.9539902019500902, -0.9918431337061299, 0.042113280156370794, 0.35927719801313474, -0.8380540062867653, 1.565365597960983, -0.8558934319004765, 2.0180128424056836, 0.514647344235371, -1.5144668221405355, -1.540063547852475, -1.1225329538451916, 0.6634805682965175, 0.05867190349109249, 0.14132776451484372, -0.42345845862152137, 0.08108099227504234, -0.9921570022559376, -0.11472860485217094, -0.2871729128066149, 0.5942010414877332, -0.6906728192068669, -0.1932952922984659, 0.3353581241138731, -0.710578443380192, -0.010508048548534713, 0.2472535856529788, -0.5764328208509977, -2.0137544897542825, -0.013688338442916483, -0.08955780113355191, -0.3894832296265267, -0.5903110638733836, 0.599868761822671], \"yaxis\": \"y8\"}, {\"line\": {\"color\": \"rgba(128, 128, 128, 1.0)\", \"dash\": \"solid\", \"shape\": \"linear\", \"width\": 1.3}, \"marker\": {\"size\": 2, \"symbol\": \"circle\"}, \"mode\": \"markers\", \"name\": \"C\", \"text\": \"\", \"type\": \"scatter\", \"x\": [-0.09460603389983938, -1.115161546621085, 0.552250823286241, -0.7055585325246749, 1.0670013833110146, -0.07525731914888965, -1.6446033596519718, -0.5731132448732882, 0.28230643408060346, -0.6369429176693027, -0.463511904581433, -0.6818221515715177, 1.59240552402439, -0.2310620264246376, -0.35468737820097457, 1.2691226063805376, -1.4841009789615545, 0.364885132366754, 0.29974569384933014, 0.3132572406958177, -0.8102636947808791, 0.30326014383977185, -0.21028570150169376, 0.2614901512140256, 0.2829084841851137, -0.34187122348639937, 0.6142993959736801, -1.0414937499282173, 0.9659132783487621, 0.41805635893271176, 1.06600170275434, -0.5663640057412325, -0.14857852734621776, 3.623714617818191, -1.3600316145541635, 0.2567161441480053, -0.6611837387514589, 1.29355716133248, -0.19598547591848683, 0.7998749870418101, 1.0155298030451088, -0.06856500394033782, 0.5239722030750937, -0.9834154296918106, -0.21776853784336786, -0.24696562933856378, -1.0855733141799837, -0.9173815950664124, -0.44408610344305527, -0.6979985385575076, -0.8598898351611934, 1.6047381407356591, -0.5121271928381996, -0.5690117266214028, -1.2928831125482076, -0.16234669644829336, 0.2694659729180265, -1.78561152072582, -1.428921850440534, -0.8621474792297036, -0.10637837209491757, 0.4559792143724122, -0.8574353878244705, 0.3021885994240502, -0.6103244159191482, -0.13726219349285845, 0.5166354607657865, 0.9059694275722422, -0.7067201810359846, -1.2311046837646813, -0.6412688895420384, -0.7819574959040753, -1.0179952653389717, 0.1916237565333311, -0.6639610916594818, -0.15226547568551907, 1.3306783412941994, -0.2567291255971543, 0.2440121159927055, 0.808940508913544, 0.8949476598798622, 0.7215510656519343, 0.33975029703787796, 0.0487793512520937, 0.014331855573335089, 0.9586024020595021, 0.6164197105007017, -1.5382301075004485, 0.2997924069194535, 0.4659523836493858, 0.6384592931548604, 1.5109032777927809, 1.176181158569553, 1.9540048439726154, -1.2859495924226727, -0.887694697363015, 0.13068821466303016, 1.212937405174254, -0.10810375040123243, 0.2549416048048139], \"xaxis\": \"x9\", \"y\": [-1.1827259433819777, -0.7463632403893589, 1.5869845464323131, -0.48128806221065623, 0.9647130734900492, -0.7115669352452291, -1.0558867630210798, -0.2112493850785817, 0.4772684592094632, 2.8358519847182495, 3.129758902718336, 0.07956280211849266, -0.1293475877645689, -0.4338883834323736, -0.7751917229497093, 1.6753544807720804, 0.23639000388766174, 0.272133026585016, 1.3422980145718197, -1.304888284732863, -0.5483211764645866, -1.9825560293549385, -1.634616712877582, 1.0361956533293408, -0.4342165383144139, 1.0065414084645101, 1.1468032801127306, -0.5744074726064387, -1.04240223089339, -0.7915491542780841, -0.9652702271941871, 0.5126825622828637, 2.6632466464508946, 1.0561211482804482, 0.020302981333594303, 0.8354480895071337, -0.8885211709747984, -0.823672601908323, -1.2403864199155994, -0.0172080307320625, 1.3218374125697285, -0.33914719355175915, -0.18886363017727495, 0.30316838811918007, -0.19700145897041968, 0.24250320637210218, 0.5153831263385966, -1.7724094970287918, 0.221158958594906, 0.5453379784184197, 0.06393956526193875, 0.8875741760583279, -0.3998610239300832, 0.12810886137043376, 0.884935028590192, 0.8823779002124457, -0.7178329808727657, -0.028885927432759907, -0.7140146818108343, -0.016519200276902866, -0.06793112502200062, 0.3485763574855543, 0.5683892535478055, -0.34051252800752524, 0.8755679471971263, 0.1626087959861342, 0.745513301744381, 0.9277066296072016, -0.9719878737923496, 0.09459262940506379, -1.0339392772771134, 1.044328548546555, 0.06884956012399289, -0.24549946604735245, -1.237854928533087, 1.9665823197071388, 0.4417726032310142, 0.8933222020261974, 1.009407215197556, 0.42466913090792907, -1.480491815949762, 1.8623027372796663, -0.3426790914523096, 0.6754540063547467, -0.2897868251463864, -0.8823007739516492, -0.1000685974502755, -0.3881174876544056, -1.5567480443211044, 1.5869570763967449, 2.0787655732518737, -1.0935145259258487, -1.5071386217990124, 1.0916117015881708, -0.1392148614731725, -0.6088569300008707, 0.6118464385144239, 2.269981383813951, -0.07724596673008673, 0.35405233964649135], \"yaxis\": \"y9\"}, {\"line\": {\"color\": \"rgba(128, 128, 128, 1.0)\", \"dash\": \"solid\", \"shape\": \"linear\", \"width\": 1.3}, \"marker\": {\"size\": 2, \"symbol\": \"circle\"}, \"mode\": \"markers\", \"name\": \"C\", \"text\": \"\", \"type\": \"scatter\", \"x\": [0.1081415629462722, 0.4268245327166299, 1.5445724980427822, 0.9749858108183381, 0.11449114167189642, 1.4909096828570594, -0.5260456895720725, -1.3758691637260192, 1.044161724360801, -1.1092315877742995, 0.9670447984242331, -0.49257750966647734, 1.0083424456629906, 1.6885392876330236, 1.0257650564036982, 2.99075191788488, -0.9350489509778263, 1.3509322989107693, 0.7327247826693019, -1.216688483531076, 0.439187156007758, 0.7834858278015342, -1.0010346920455842, -0.18418277849451004, 0.6691026962458871, -1.4144483849267844, 0.8692718843241752, -0.21714490067334163, 1.5080736437005582, 0.21633766008584335, 0.21540298577400788, 0.39668945806355743, 1.6920374198303962, 2.1291025135898645, 1.0086829319016535, 0.6882703768598456, 0.5260058746129411, -0.32403554739037366, -2.5808940818911505, -0.44918693914966534, -1.2867007075492303, 0.8817648710663066, -0.2116089089096702, -0.5901077282473927, -1.0962507700134656, 0.12608049280794345, 0.317036264205109, 0.7756982105135313, 0.7909109267769698, 0.7409657789632829, -0.9825901210917485, -0.08636936949193734, 0.10096210691370497, -0.2813182291307528, -1.0250092240672513, -0.360665288454977, 1.4124426002380253, 0.2381977331747811, -0.752549537439929, 0.8198761767071212, 0.2944436999635293, -1.4739537040295216, 0.16679057324504853, 1.6740543786755937, -1.0748604415950138, 0.7751341167935993, 0.9539902019500902, -0.9918431337061299, 0.042113280156370794, 0.35927719801313474, -0.8380540062867653, 1.565365597960983, -0.8558934319004765, 2.0180128424056836, 0.514647344235371, -1.5144668221405355, -1.540063547852475, -1.1225329538451916, 0.6634805682965175, 0.05867190349109249, 0.14132776451484372, -0.42345845862152137, 0.08108099227504234, -0.9921570022559376, -0.11472860485217094, -0.2871729128066149, 0.5942010414877332, -0.6906728192068669, -0.1932952922984659, 0.3353581241138731, -0.710578443380192, -0.010508048548534713, 0.2472535856529788, -0.5764328208509977, -2.0137544897542825, -0.013688338442916483, -0.08955780113355191, -0.3894832296265267, -0.5903110638733836, 0.599868761822671], \"xaxis\": \"x10\", \"y\": [-1.1827259433819777, -0.7463632403893589, 1.5869845464323131, -0.48128806221065623, 0.9647130734900492, -0.7115669352452291, -1.0558867630210798, -0.2112493850785817, 0.4772684592094632, 2.8358519847182495, 3.129758902718336, 0.07956280211849266, -0.1293475877645689, -0.4338883834323736, -0.7751917229497093, 1.6753544807720804, 0.23639000388766174, 0.272133026585016, 1.3422980145718197, -1.304888284732863, -0.5483211764645866, -1.9825560293549385, -1.634616712877582, 1.0361956533293408, -0.4342165383144139, 1.0065414084645101, 1.1468032801127306, -0.5744074726064387, -1.04240223089339, -0.7915491542780841, -0.9652702271941871, 0.5126825622828637, 2.6632466464508946, 1.0561211482804482, 0.020302981333594303, 0.8354480895071337, -0.8885211709747984, -0.823672601908323, -1.2403864199155994, -0.0172080307320625, 1.3218374125697285, -0.33914719355175915, -0.18886363017727495, 0.30316838811918007, -0.19700145897041968, 0.24250320637210218, 0.5153831263385966, -1.7724094970287918, 0.221158958594906, 0.5453379784184197, 0.06393956526193875, 0.8875741760583279, -0.3998610239300832, 0.12810886137043376, 0.884935028590192, 0.8823779002124457, -0.7178329808727657, -0.028885927432759907, -0.7140146818108343, -0.016519200276902866, -0.06793112502200062, 0.3485763574855543, 0.5683892535478055, -0.34051252800752524, 0.8755679471971263, 0.1626087959861342, 0.745513301744381, 0.9277066296072016, -0.9719878737923496, 0.09459262940506379, -1.0339392772771134, 1.044328548546555, 0.06884956012399289, -0.24549946604735245, -1.237854928533087, 1.9665823197071388, 0.4417726032310142, 0.8933222020261974, 1.009407215197556, 0.42466913090792907, -1.480491815949762, 1.8623027372796663, -0.3426790914523096, 0.6754540063547467, -0.2897868251463864, -0.8823007739516492, -0.1000685974502755, -0.3881174876544056, -1.5567480443211044, 1.5869570763967449, 2.0787655732518737, -1.0935145259258487, -1.5071386217990124, 1.0916117015881708, -0.1392148614731725, -0.6088569300008707, 0.6118464385144239, 2.269981383813951, -0.07724596673008673, 0.35405233964649135], \"yaxis\": \"y10\"}, {\"histfunc\": \"count\", \"histnorm\": \"\", \"marker\": {\"color\": \"rgba(50, 171, 96, 1.0)\", \"line\": {\"color\": \"#4D5663\", \"width\": 1.3}}, \"name\": \"C\", \"nbinsx\": 10, \"opacity\": 0.8, \"orientation\": \"v\", \"type\": \"histogram\", \"x\": [-1.1827259433819777, -0.7463632403893589, 1.5869845464323131, -0.48128806221065623, 0.9647130734900492, -0.7115669352452291, -1.0558867630210798, -0.2112493850785817, 0.4772684592094632, 2.8358519847182495, 3.129758902718336, 0.07956280211849266, -0.1293475877645689, -0.4338883834323736, -0.7751917229497093, 1.6753544807720804, 0.23639000388766174, 0.272133026585016, 1.3422980145718197, -1.304888284732863, -0.5483211764645866, -1.9825560293549385, -1.634616712877582, 1.0361956533293408, -0.4342165383144139, 1.0065414084645101, 1.1468032801127306, -0.5744074726064387, -1.04240223089339, -0.7915491542780841, -0.9652702271941871, 0.5126825622828637, 2.6632466464508946, 1.0561211482804482, 0.020302981333594303, 0.8354480895071337, -0.8885211709747984, -0.823672601908323, -1.2403864199155994, -0.0172080307320625, 1.3218374125697285, -0.33914719355175915, -0.18886363017727495, 0.30316838811918007, -0.19700145897041968, 0.24250320637210218, 0.5153831263385966, -1.7724094970287918, 0.221158958594906, 0.5453379784184197, 0.06393956526193875, 0.8875741760583279, -0.3998610239300832, 0.12810886137043376, 0.884935028590192, 0.8823779002124457, -0.7178329808727657, -0.028885927432759907, -0.7140146818108343, -0.016519200276902866, -0.06793112502200062, 0.3485763574855543, 0.5683892535478055, -0.34051252800752524, 0.8755679471971263, 0.1626087959861342, 0.745513301744381, 0.9277066296072016, -0.9719878737923496, 0.09459262940506379, -1.0339392772771134, 1.044328548546555, 0.06884956012399289, -0.24549946604735245, -1.237854928533087, 1.9665823197071388, 0.4417726032310142, 0.8933222020261974, 1.009407215197556, 0.42466913090792907, -1.480491815949762, 1.8623027372796663, -0.3426790914523096, 0.6754540063547467, -0.2897868251463864, -0.8823007739516492, -0.1000685974502755, -0.3881174876544056, -1.5567480443211044, 1.5869570763967449, 2.0787655732518737, -1.0935145259258487, -1.5071386217990124, 1.0916117015881708, -0.1392148614731725, -0.6088569300008707, 0.6118464385144239, 2.269981383813951, -0.07724596673008673, 0.35405233964649135], \"xaxis\": \"x11\", \"yaxis\": \"y11\"}, {\"line\": {\"color\": \"rgba(128, 128, 128, 1.0)\", \"dash\": \"solid\", \"shape\": \"linear\", \"width\": 1.3}, \"marker\": {\"size\": 2, \"symbol\": \"circle\"}, \"mode\": \"markers\", \"name\": \"C\", \"text\": \"\", \"type\": \"scatter\", \"x\": [-0.5232076329673341, -2.7780278052907583, -2.5164355444279165, -0.07076084954405218, -0.3100665345543423, -1.2992831139128915, 0.2744546137068443, -0.6107506952030757, -0.9888632734514667, 1.0063565817729676, -0.16107223450937846, -0.22858597734118727, 2.596022569332713, 0.772721576833007, 0.11036912256335496, 1.282797361689481, 1.2971211264530746, 1.1850470018585757, -0.3340964996760273, 0.5225290837167507, -0.6168344038180612, -0.48619041858807, 2.1436754966424716, 0.08252280410403706, 0.5810930347033849, -0.3307714374819015, -0.6890359819377596, -0.7928744719179733, 0.3527576717318461, 0.24486514704398085, 1.0011407785804325, 0.5157695030425896, -0.12886725469469357, 0.9230963073231013, -0.20047626341370794, 0.1534180254606642, 0.4041796839315926, 0.6036913009919193, 0.2367257984688612, 0.09599547115473209, -1.9352409768325793, -0.746214287091547, 0.34970800394772433, 0.24768311251201497, 0.4957424439791478, -1.1060228289455452, -1.8897068594053286, 0.556317929379018, -1.6018021635578017, -0.7546206119428837, 0.9410103647651131, 1.4133265919678077, -0.3555666027529307, -0.4843535119767807, 1.056911477278011, 0.36643402090681876, -0.284914717660016, -0.6488039010770915, -0.6488205062793916, -1.0205525934448836, 0.5799492182700319, -1.5662148517473167, 0.6876554200193934, 0.6127103671010093, 0.28558580340059847, 0.007542739703220468, -0.3050536113073103, 0.17331059568382085, 0.19803643275013189, -1.391330074335235, -0.3703920654840774, 0.4292130619487019, 0.26262710641993153, 0.47199168684567666, 0.8085331851901155, -0.6068435343537658, 0.12108355966645976, -1.3197245366949333, 0.852152398626517, 0.6993596929402611, -0.3351098119187117, -0.9042658424388572, -0.9717270056817701, -1.4209981268772078, 0.034163813703027325, -1.331979741355321, -1.6563145936278176, -0.513279287951007, -0.8419144299469731, 0.044636637948974156, -0.21208058030108048, 1.6326792690744631, -1.5292024015123202, -0.8611573282896546, -0.7279382938870731, -1.0883292845657897, -1.1564454586538655, 0.3399786122877439, 0.7317425241364005, 1.0798024354545284], \"xaxis\": \"x12\", \"y\": [-1.1827259433819777, -0.7463632403893589, 1.5869845464323131, -0.48128806221065623, 0.9647130734900492, -0.7115669352452291, -1.0558867630210798, -0.2112493850785817, 0.4772684592094632, 2.8358519847182495, 3.129758902718336, 0.07956280211849266, -0.1293475877645689, -0.4338883834323736, -0.7751917229497093, 1.6753544807720804, 0.23639000388766174, 0.272133026585016, 1.3422980145718197, -1.304888284732863, -0.5483211764645866, -1.9825560293549385, -1.634616712877582, 1.0361956533293408, -0.4342165383144139, 1.0065414084645101, 1.1468032801127306, -0.5744074726064387, -1.04240223089339, -0.7915491542780841, -0.9652702271941871, 0.5126825622828637, 2.6632466464508946, 1.0561211482804482, 0.020302981333594303, 0.8354480895071337, -0.8885211709747984, -0.823672601908323, -1.2403864199155994, -0.0172080307320625, 1.3218374125697285, -0.33914719355175915, -0.18886363017727495, 0.30316838811918007, -0.19700145897041968, 0.24250320637210218, 0.5153831263385966, -1.7724094970287918, 0.221158958594906, 0.5453379784184197, 0.06393956526193875, 0.8875741760583279, -0.3998610239300832, 0.12810886137043376, 0.884935028590192, 0.8823779002124457, -0.7178329808727657, -0.028885927432759907, -0.7140146818108343, -0.016519200276902866, -0.06793112502200062, 0.3485763574855543, 0.5683892535478055, -0.34051252800752524, 0.8755679471971263, 0.1626087959861342, 0.745513301744381, 0.9277066296072016, -0.9719878737923496, 0.09459262940506379, -1.0339392772771134, 1.044328548546555, 0.06884956012399289, -0.24549946604735245, -1.237854928533087, 1.9665823197071388, 0.4417726032310142, 0.8933222020261974, 1.009407215197556, 0.42466913090792907, -1.480491815949762, 1.8623027372796663, -0.3426790914523096, 0.6754540063547467, -0.2897868251463864, -0.8823007739516492, -0.1000685974502755, -0.3881174876544056, -1.5567480443211044, 1.5869570763967449, 2.0787655732518737, -1.0935145259258487, -1.5071386217990124, 1.0916117015881708, -0.1392148614731725, -0.6088569300008707, 0.6118464385144239, 2.269981383813951, -0.07724596673008673, 0.35405233964649135], \"yaxis\": \"y12\"}, {\"line\": {\"color\": \"rgba(128, 128, 128, 1.0)\", \"dash\": \"solid\", \"shape\": \"linear\", \"width\": 1.3}, \"marker\": {\"size\": 2, \"symbol\": \"circle\"}, \"mode\": \"markers\", \"name\": \"D\", \"text\": \"\", \"type\": \"scatter\", \"x\": [-0.09460603389983938, -1.115161546621085, 0.552250823286241, -0.7055585325246749, 1.0670013833110146, -0.07525731914888965, -1.6446033596519718, -0.5731132448732882, 0.28230643408060346, -0.6369429176693027, -0.463511904581433, -0.6818221515715177, 1.59240552402439, -0.2310620264246376, -0.35468737820097457, 1.2691226063805376, -1.4841009789615545, 0.364885132366754, 0.29974569384933014, 0.3132572406958177, -0.8102636947808791, 0.30326014383977185, -0.21028570150169376, 0.2614901512140256, 0.2829084841851137, -0.34187122348639937, 0.6142993959736801, -1.0414937499282173, 0.9659132783487621, 0.41805635893271176, 1.06600170275434, -0.5663640057412325, -0.14857852734621776, 3.623714617818191, -1.3600316145541635, 0.2567161441480053, -0.6611837387514589, 1.29355716133248, -0.19598547591848683, 0.7998749870418101, 1.0155298030451088, -0.06856500394033782, 0.5239722030750937, -0.9834154296918106, -0.21776853784336786, -0.24696562933856378, -1.0855733141799837, -0.9173815950664124, -0.44408610344305527, -0.6979985385575076, -0.8598898351611934, 1.6047381407356591, -0.5121271928381996, -0.5690117266214028, -1.2928831125482076, -0.16234669644829336, 0.2694659729180265, -1.78561152072582, -1.428921850440534, -0.8621474792297036, -0.10637837209491757, 0.4559792143724122, -0.8574353878244705, 0.3021885994240502, -0.6103244159191482, -0.13726219349285845, 0.5166354607657865, 0.9059694275722422, -0.7067201810359846, -1.2311046837646813, -0.6412688895420384, -0.7819574959040753, -1.0179952653389717, 0.1916237565333311, -0.6639610916594818, -0.15226547568551907, 1.3306783412941994, -0.2567291255971543, 0.2440121159927055, 0.808940508913544, 0.8949476598798622, 0.7215510656519343, 0.33975029703787796, 0.0487793512520937, 0.014331855573335089, 0.9586024020595021, 0.6164197105007017, -1.5382301075004485, 0.2997924069194535, 0.4659523836493858, 0.6384592931548604, 1.5109032777927809, 1.176181158569553, 1.9540048439726154, -1.2859495924226727, -0.887694697363015, 0.13068821466303016, 1.212937405174254, -0.10810375040123243, 0.2549416048048139], \"xaxis\": \"x13\", \"y\": [-0.5232076329673341, -2.7780278052907583, -2.5164355444279165, -0.07076084954405218, -0.3100665345543423, -1.2992831139128915, 0.2744546137068443, -0.6107506952030757, -0.9888632734514667, 1.0063565817729676, -0.16107223450937846, -0.22858597734118727, 2.596022569332713, 0.772721576833007, 0.11036912256335496, 1.282797361689481, 1.2971211264530746, 1.1850470018585757, -0.3340964996760273, 0.5225290837167507, -0.6168344038180612, -0.48619041858807, 2.1436754966424716, 0.08252280410403706, 0.5810930347033849, -0.3307714374819015, -0.6890359819377596, -0.7928744719179733, 0.3527576717318461, 0.24486514704398085, 1.0011407785804325, 0.5157695030425896, -0.12886725469469357, 0.9230963073231013, -0.20047626341370794, 0.1534180254606642, 0.4041796839315926, 0.6036913009919193, 0.2367257984688612, 0.09599547115473209, -1.9352409768325793, -0.746214287091547, 0.34970800394772433, 0.24768311251201497, 0.4957424439791478, -1.1060228289455452, -1.8897068594053286, 0.556317929379018, -1.6018021635578017, -0.7546206119428837, 0.9410103647651131, 1.4133265919678077, -0.3555666027529307, -0.4843535119767807, 1.056911477278011, 0.36643402090681876, -0.284914717660016, -0.6488039010770915, -0.6488205062793916, -1.0205525934448836, 0.5799492182700319, -1.5662148517473167, 0.6876554200193934, 0.6127103671010093, 0.28558580340059847, 0.007542739703220468, -0.3050536113073103, 0.17331059568382085, 0.19803643275013189, -1.391330074335235, -0.3703920654840774, 0.4292130619487019, 0.26262710641993153, 0.47199168684567666, 0.8085331851901155, -0.6068435343537658, 0.12108355966645976, -1.3197245366949333, 0.852152398626517, 0.6993596929402611, -0.3351098119187117, -0.9042658424388572, -0.9717270056817701, -1.4209981268772078, 0.034163813703027325, -1.331979741355321, -1.6563145936278176, -0.513279287951007, -0.8419144299469731, 0.044636637948974156, -0.21208058030108048, 1.6326792690744631, -1.5292024015123202, -0.8611573282896546, -0.7279382938870731, -1.0883292845657897, -1.1564454586538655, 0.3399786122877439, 0.7317425241364005, 1.0798024354545284], \"yaxis\": \"y13\"}, {\"line\": {\"color\": \"rgba(128, 128, 128, 1.0)\", \"dash\": \"solid\", \"shape\": \"linear\", \"width\": 1.3}, \"marker\": {\"size\": 2, \"symbol\": \"circle\"}, \"mode\": \"markers\", \"name\": \"D\", \"text\": \"\", \"type\": \"scatter\", \"x\": [0.1081415629462722, 0.4268245327166299, 1.5445724980427822, 0.9749858108183381, 0.11449114167189642, 1.4909096828570594, -0.5260456895720725, -1.3758691637260192, 1.044161724360801, -1.1092315877742995, 0.9670447984242331, -0.49257750966647734, 1.0083424456629906, 1.6885392876330236, 1.0257650564036982, 2.99075191788488, -0.9350489509778263, 1.3509322989107693, 0.7327247826693019, -1.216688483531076, 0.439187156007758, 0.7834858278015342, -1.0010346920455842, -0.18418277849451004, 0.6691026962458871, -1.4144483849267844, 0.8692718843241752, -0.21714490067334163, 1.5080736437005582, 0.21633766008584335, 0.21540298577400788, 0.39668945806355743, 1.6920374198303962, 2.1291025135898645, 1.0086829319016535, 0.6882703768598456, 0.5260058746129411, -0.32403554739037366, -2.5808940818911505, -0.44918693914966534, -1.2867007075492303, 0.8817648710663066, -0.2116089089096702, -0.5901077282473927, -1.0962507700134656, 0.12608049280794345, 0.317036264205109, 0.7756982105135313, 0.7909109267769698, 0.7409657789632829, -0.9825901210917485, -0.08636936949193734, 0.10096210691370497, -0.2813182291307528, -1.0250092240672513, -0.360665288454977, 1.4124426002380253, 0.2381977331747811, -0.752549537439929, 0.8198761767071212, 0.2944436999635293, -1.4739537040295216, 0.16679057324504853, 1.6740543786755937, -1.0748604415950138, 0.7751341167935993, 0.9539902019500902, -0.9918431337061299, 0.042113280156370794, 0.35927719801313474, -0.8380540062867653, 1.565365597960983, -0.8558934319004765, 2.0180128424056836, 0.514647344235371, -1.5144668221405355, -1.540063547852475, -1.1225329538451916, 0.6634805682965175, 0.05867190349109249, 0.14132776451484372, -0.42345845862152137, 0.08108099227504234, -0.9921570022559376, -0.11472860485217094, -0.2871729128066149, 0.5942010414877332, -0.6906728192068669, -0.1932952922984659, 0.3353581241138731, -0.710578443380192, -0.010508048548534713, 0.2472535856529788, -0.5764328208509977, -2.0137544897542825, -0.013688338442916483, -0.08955780113355191, -0.3894832296265267, -0.5903110638733836, 0.599868761822671], \"xaxis\": \"x14\", \"y\": [-0.5232076329673341, -2.7780278052907583, -2.5164355444279165, -0.07076084954405218, -0.3100665345543423, -1.2992831139128915, 0.2744546137068443, -0.6107506952030757, -0.9888632734514667, 1.0063565817729676, -0.16107223450937846, -0.22858597734118727, 2.596022569332713, 0.772721576833007, 0.11036912256335496, 1.282797361689481, 1.2971211264530746, 1.1850470018585757, -0.3340964996760273, 0.5225290837167507, -0.6168344038180612, -0.48619041858807, 2.1436754966424716, 0.08252280410403706, 0.5810930347033849, -0.3307714374819015, -0.6890359819377596, -0.7928744719179733, 0.3527576717318461, 0.24486514704398085, 1.0011407785804325, 0.5157695030425896, -0.12886725469469357, 0.9230963073231013, -0.20047626341370794, 0.1534180254606642, 0.4041796839315926, 0.6036913009919193, 0.2367257984688612, 0.09599547115473209, -1.9352409768325793, -0.746214287091547, 0.34970800394772433, 0.24768311251201497, 0.4957424439791478, -1.1060228289455452, -1.8897068594053286, 0.556317929379018, -1.6018021635578017, -0.7546206119428837, 0.9410103647651131, 1.4133265919678077, -0.3555666027529307, -0.4843535119767807, 1.056911477278011, 0.36643402090681876, -0.284914717660016, -0.6488039010770915, -0.6488205062793916, -1.0205525934448836, 0.5799492182700319, -1.5662148517473167, 0.6876554200193934, 0.6127103671010093, 0.28558580340059847, 0.007542739703220468, -0.3050536113073103, 0.17331059568382085, 0.19803643275013189, -1.391330074335235, -0.3703920654840774, 0.4292130619487019, 0.26262710641993153, 0.47199168684567666, 0.8085331851901155, -0.6068435343537658, 0.12108355966645976, -1.3197245366949333, 0.852152398626517, 0.6993596929402611, -0.3351098119187117, -0.9042658424388572, -0.9717270056817701, -1.4209981268772078, 0.034163813703027325, -1.331979741355321, -1.6563145936278176, -0.513279287951007, -0.8419144299469731, 0.044636637948974156, -0.21208058030108048, 1.6326792690744631, -1.5292024015123202, -0.8611573282896546, -0.7279382938870731, -1.0883292845657897, -1.1564454586538655, 0.3399786122877439, 0.7317425241364005, 1.0798024354545284], \"yaxis\": \"y14\"}, {\"line\": {\"color\": \"rgba(128, 128, 128, 1.0)\", \"dash\": \"solid\", \"shape\": \"linear\", \"width\": 1.3}, \"marker\": {\"size\": 2, \"symbol\": \"circle\"}, \"mode\": \"markers\", \"name\": \"D\", \"text\": \"\", \"type\": \"scatter\", \"x\": [-1.1827259433819777, -0.7463632403893589, 1.5869845464323131, -0.48128806221065623, 0.9647130734900492, -0.7115669352452291, -1.0558867630210798, -0.2112493850785817, 0.4772684592094632, 2.8358519847182495, 3.129758902718336, 0.07956280211849266, -0.1293475877645689, -0.4338883834323736, -0.7751917229497093, 1.6753544807720804, 0.23639000388766174, 0.272133026585016, 1.3422980145718197, -1.304888284732863, -0.5483211764645866, -1.9825560293549385, -1.634616712877582, 1.0361956533293408, -0.4342165383144139, 1.0065414084645101, 1.1468032801127306, -0.5744074726064387, -1.04240223089339, -0.7915491542780841, -0.9652702271941871, 0.5126825622828637, 2.6632466464508946, 1.0561211482804482, 0.020302981333594303, 0.8354480895071337, -0.8885211709747984, -0.823672601908323, -1.2403864199155994, -0.0172080307320625, 1.3218374125697285, -0.33914719355175915, -0.18886363017727495, 0.30316838811918007, -0.19700145897041968, 0.24250320637210218, 0.5153831263385966, -1.7724094970287918, 0.221158958594906, 0.5453379784184197, 0.06393956526193875, 0.8875741760583279, -0.3998610239300832, 0.12810886137043376, 0.884935028590192, 0.8823779002124457, -0.7178329808727657, -0.028885927432759907, -0.7140146818108343, -0.016519200276902866, -0.06793112502200062, 0.3485763574855543, 0.5683892535478055, -0.34051252800752524, 0.8755679471971263, 0.1626087959861342, 0.745513301744381, 0.9277066296072016, -0.9719878737923496, 0.09459262940506379, -1.0339392772771134, 1.044328548546555, 0.06884956012399289, -0.24549946604735245, -1.237854928533087, 1.9665823197071388, 0.4417726032310142, 0.8933222020261974, 1.009407215197556, 0.42466913090792907, -1.480491815949762, 1.8623027372796663, -0.3426790914523096, 0.6754540063547467, -0.2897868251463864, -0.8823007739516492, -0.1000685974502755, -0.3881174876544056, -1.5567480443211044, 1.5869570763967449, 2.0787655732518737, -1.0935145259258487, -1.5071386217990124, 1.0916117015881708, -0.1392148614731725, -0.6088569300008707, 0.6118464385144239, 2.269981383813951, -0.07724596673008673, 0.35405233964649135], \"xaxis\": \"x15\", \"y\": [-0.5232076329673341, -2.7780278052907583, -2.5164355444279165, -0.07076084954405218, -0.3100665345543423, -1.2992831139128915, 0.2744546137068443, -0.6107506952030757, -0.9888632734514667, 1.0063565817729676, -0.16107223450937846, -0.22858597734118727, 2.596022569332713, 0.772721576833007, 0.11036912256335496, 1.282797361689481, 1.2971211264530746, 1.1850470018585757, -0.3340964996760273, 0.5225290837167507, -0.6168344038180612, -0.48619041858807, 2.1436754966424716, 0.08252280410403706, 0.5810930347033849, -0.3307714374819015, -0.6890359819377596, -0.7928744719179733, 0.3527576717318461, 0.24486514704398085, 1.0011407785804325, 0.5157695030425896, -0.12886725469469357, 0.9230963073231013, -0.20047626341370794, 0.1534180254606642, 0.4041796839315926, 0.6036913009919193, 0.2367257984688612, 0.09599547115473209, -1.9352409768325793, -0.746214287091547, 0.34970800394772433, 0.24768311251201497, 0.4957424439791478, -1.1060228289455452, -1.8897068594053286, 0.556317929379018, -1.6018021635578017, -0.7546206119428837, 0.9410103647651131, 1.4133265919678077, -0.3555666027529307, -0.4843535119767807, 1.056911477278011, 0.36643402090681876, -0.284914717660016, -0.6488039010770915, -0.6488205062793916, -1.0205525934448836, 0.5799492182700319, -1.5662148517473167, 0.6876554200193934, 0.6127103671010093, 0.28558580340059847, 0.007542739703220468, -0.3050536113073103, 0.17331059568382085, 0.19803643275013189, -1.391330074335235, -0.3703920654840774, 0.4292130619487019, 0.26262710641993153, 0.47199168684567666, 0.8085331851901155, -0.6068435343537658, 0.12108355966645976, -1.3197245366949333, 0.852152398626517, 0.6993596929402611, -0.3351098119187117, -0.9042658424388572, -0.9717270056817701, -1.4209981268772078, 0.034163813703027325, -1.331979741355321, -1.6563145936278176, -0.513279287951007, -0.8419144299469731, 0.044636637948974156, -0.21208058030108048, 1.6326792690744631, -1.5292024015123202, -0.8611573282896546, -0.7279382938870731, -1.0883292845657897, -1.1564454586538655, 0.3399786122877439, 0.7317425241364005, 1.0798024354545284], \"yaxis\": \"y15\"}, {\"histfunc\": \"count\", \"histnorm\": \"\", \"marker\": {\"color\": \"rgba(128, 0, 128, 1.0)\", \"line\": {\"color\": \"#4D5663\", \"width\": 1.3}}, \"name\": \"D\", \"nbinsx\": 10, \"opacity\": 0.8, \"orientation\": \"v\", \"type\": \"histogram\", \"x\": [-0.5232076329673341, -2.7780278052907583, -2.5164355444279165, -0.07076084954405218, -0.3100665345543423, -1.2992831139128915, 0.2744546137068443, -0.6107506952030757, -0.9888632734514667, 1.0063565817729676, -0.16107223450937846, -0.22858597734118727, 2.596022569332713, 0.772721576833007, 0.11036912256335496, 1.282797361689481, 1.2971211264530746, 1.1850470018585757, -0.3340964996760273, 0.5225290837167507, -0.6168344038180612, -0.48619041858807, 2.1436754966424716, 0.08252280410403706, 0.5810930347033849, -0.3307714374819015, -0.6890359819377596, -0.7928744719179733, 0.3527576717318461, 0.24486514704398085, 1.0011407785804325, 0.5157695030425896, -0.12886725469469357, 0.9230963073231013, -0.20047626341370794, 0.1534180254606642, 0.4041796839315926, 0.6036913009919193, 0.2367257984688612, 0.09599547115473209, -1.9352409768325793, -0.746214287091547, 0.34970800394772433, 0.24768311251201497, 0.4957424439791478, -1.1060228289455452, -1.8897068594053286, 0.556317929379018, -1.6018021635578017, -0.7546206119428837, 0.9410103647651131, 1.4133265919678077, -0.3555666027529307, -0.4843535119767807, 1.056911477278011, 0.36643402090681876, -0.284914717660016, -0.6488039010770915, -0.6488205062793916, -1.0205525934448836, 0.5799492182700319, -1.5662148517473167, 0.6876554200193934, 0.6127103671010093, 0.28558580340059847, 0.007542739703220468, -0.3050536113073103, 0.17331059568382085, 0.19803643275013189, -1.391330074335235, -0.3703920654840774, 0.4292130619487019, 0.26262710641993153, 0.47199168684567666, 0.8085331851901155, -0.6068435343537658, 0.12108355966645976, -1.3197245366949333, 0.852152398626517, 0.6993596929402611, -0.3351098119187117, -0.9042658424388572, -0.9717270056817701, -1.4209981268772078, 0.034163813703027325, -1.331979741355321, -1.6563145936278176, -0.513279287951007, -0.8419144299469731, 0.044636637948974156, -0.21208058030108048, 1.6326792690744631, -1.5292024015123202, -0.8611573282896546, -0.7279382938870731, -1.0883292845657897, -1.1564454586538655, 0.3399786122877439, 0.7317425241364005, 1.0798024354545284], \"xaxis\": \"x16\", \"yaxis\": \"y16\"}],\n",
       "                        {\"bargap\": 0.02, \"legend\": {\"bgcolor\": \"#F5F6F9\", \"font\": {\"color\": \"#4D5663\"}}, \"paper_bgcolor\": \"#F5F6F9\", \"plot_bgcolor\": \"#F5F6F9\", \"showlegend\": false, \"template\": {\"data\": {\"bar\": [{\"error_x\": {\"color\": \"#2a3f5f\"}, \"error_y\": {\"color\": \"#2a3f5f\"}, \"marker\": {\"line\": {\"color\": \"#E5ECF6\", \"width\": 0.5}}, \"type\": \"bar\"}], \"barpolar\": [{\"marker\": {\"line\": {\"color\": \"#E5ECF6\", \"width\": 0.5}}, \"type\": \"barpolar\"}], \"carpet\": [{\"aaxis\": {\"endlinecolor\": \"#2a3f5f\", \"gridcolor\": \"white\", \"linecolor\": \"white\", \"minorgridcolor\": \"white\", \"startlinecolor\": \"#2a3f5f\"}, \"baxis\": {\"endlinecolor\": \"#2a3f5f\", \"gridcolor\": \"white\", \"linecolor\": \"white\", \"minorgridcolor\": \"white\", \"startlinecolor\": \"#2a3f5f\"}, \"type\": \"carpet\"}], \"choropleth\": [{\"colorbar\": {\"outlinewidth\": 0, \"ticks\": \"\"}, \"type\": \"choropleth\"}], \"contour\": [{\"colorbar\": {\"outlinewidth\": 0, \"ticks\": \"\"}, \"colorscale\": [[0.0, \"#0d0887\"], [0.1111111111111111, \"#46039f\"], [0.2222222222222222, \"#7201a8\"], [0.3333333333333333, \"#9c179e\"], [0.4444444444444444, \"#bd3786\"], [0.5555555555555556, \"#d8576b\"], [0.6666666666666666, \"#ed7953\"], [0.7777777777777778, \"#fb9f3a\"], [0.8888888888888888, \"#fdca26\"], [1.0, \"#f0f921\"]], \"type\": \"contour\"}], \"contourcarpet\": [{\"colorbar\": {\"outlinewidth\": 0, \"ticks\": \"\"}, \"type\": \"contourcarpet\"}], \"heatmap\": [{\"colorbar\": {\"outlinewidth\": 0, \"ticks\": \"\"}, \"colorscale\": [[0.0, \"#0d0887\"], [0.1111111111111111, \"#46039f\"], [0.2222222222222222, \"#7201a8\"], [0.3333333333333333, \"#9c179e\"], [0.4444444444444444, \"#bd3786\"], [0.5555555555555556, \"#d8576b\"], [0.6666666666666666, \"#ed7953\"], [0.7777777777777778, \"#fb9f3a\"], [0.8888888888888888, \"#fdca26\"], [1.0, \"#f0f921\"]], \"type\": \"heatmap\"}], \"heatmapgl\": [{\"colorbar\": {\"outlinewidth\": 0, \"ticks\": \"\"}, \"colorscale\": [[0.0, \"#0d0887\"], [0.1111111111111111, \"#46039f\"], [0.2222222222222222, \"#7201a8\"], [0.3333333333333333, \"#9c179e\"], [0.4444444444444444, \"#bd3786\"], [0.5555555555555556, \"#d8576b\"], [0.6666666666666666, \"#ed7953\"], [0.7777777777777778, \"#fb9f3a\"], [0.8888888888888888, \"#fdca26\"], [1.0, \"#f0f921\"]], \"type\": \"heatmapgl\"}], \"histogram\": [{\"marker\": {\"colorbar\": {\"outlinewidth\": 0, \"ticks\": \"\"}}, \"type\": \"histogram\"}], \"histogram2d\": [{\"colorbar\": {\"outlinewidth\": 0, \"ticks\": \"\"}, \"colorscale\": [[0.0, \"#0d0887\"], [0.1111111111111111, \"#46039f\"], [0.2222222222222222, \"#7201a8\"], [0.3333333333333333, \"#9c179e\"], [0.4444444444444444, \"#bd3786\"], [0.5555555555555556, \"#d8576b\"], [0.6666666666666666, \"#ed7953\"], [0.7777777777777778, \"#fb9f3a\"], [0.8888888888888888, \"#fdca26\"], [1.0, \"#f0f921\"]], \"type\": \"histogram2d\"}], \"histogram2dcontour\": [{\"colorbar\": {\"outlinewidth\": 0, \"ticks\": \"\"}, \"colorscale\": [[0.0, \"#0d0887\"], [0.1111111111111111, \"#46039f\"], [0.2222222222222222, \"#7201a8\"], [0.3333333333333333, \"#9c179e\"], [0.4444444444444444, \"#bd3786\"], [0.5555555555555556, \"#d8576b\"], [0.6666666666666666, \"#ed7953\"], [0.7777777777777778, \"#fb9f3a\"], [0.8888888888888888, \"#fdca26\"], [1.0, \"#f0f921\"]], \"type\": \"histogram2dcontour\"}], \"mesh3d\": [{\"colorbar\": {\"outlinewidth\": 0, \"ticks\": \"\"}, \"type\": \"mesh3d\"}], \"parcoords\": [{\"line\": {\"colorbar\": {\"outlinewidth\": 0, \"ticks\": \"\"}}, \"type\": \"parcoords\"}], \"pie\": [{\"automargin\": true, \"type\": \"pie\"}], \"scatter\": [{\"marker\": {\"colorbar\": {\"outlinewidth\": 0, \"ticks\": \"\"}}, \"type\": \"scatter\"}], \"scatter3d\": [{\"line\": {\"colorbar\": {\"outlinewidth\": 0, \"ticks\": \"\"}}, \"marker\": {\"colorbar\": {\"outlinewidth\": 0, \"ticks\": \"\"}}, \"type\": \"scatter3d\"}], \"scattercarpet\": [{\"marker\": {\"colorbar\": {\"outlinewidth\": 0, \"ticks\": \"\"}}, \"type\": \"scattercarpet\"}], \"scattergeo\": [{\"marker\": {\"colorbar\": {\"outlinewidth\": 0, \"ticks\": \"\"}}, \"type\": \"scattergeo\"}], \"scattergl\": [{\"marker\": {\"colorbar\": {\"outlinewidth\": 0, \"ticks\": \"\"}}, \"type\": \"scattergl\"}], \"scattermapbox\": [{\"marker\": {\"colorbar\": {\"outlinewidth\": 0, \"ticks\": \"\"}}, \"type\": \"scattermapbox\"}], \"scatterpolar\": [{\"marker\": {\"colorbar\": {\"outlinewidth\": 0, \"ticks\": \"\"}}, \"type\": \"scatterpolar\"}], \"scatterpolargl\": [{\"marker\": {\"colorbar\": {\"outlinewidth\": 0, \"ticks\": \"\"}}, \"type\": \"scatterpolargl\"}], \"scatterternary\": [{\"marker\": {\"colorbar\": {\"outlinewidth\": 0, \"ticks\": \"\"}}, \"type\": \"scatterternary\"}], \"surface\": [{\"colorbar\": {\"outlinewidth\": 0, \"ticks\": \"\"}, \"colorscale\": [[0.0, \"#0d0887\"], [0.1111111111111111, \"#46039f\"], [0.2222222222222222, \"#7201a8\"], [0.3333333333333333, \"#9c179e\"], [0.4444444444444444, \"#bd3786\"], [0.5555555555555556, \"#d8576b\"], [0.6666666666666666, \"#ed7953\"], [0.7777777777777778, \"#fb9f3a\"], [0.8888888888888888, \"#fdca26\"], [1.0, \"#f0f921\"]], \"type\": \"surface\"}], \"table\": [{\"cells\": {\"fill\": {\"color\": \"#EBF0F8\"}, \"line\": {\"color\": \"white\"}}, \"header\": {\"fill\": {\"color\": \"#C8D4E3\"}, \"line\": {\"color\": \"white\"}}, \"type\": \"table\"}]}, \"layout\": {\"annotationdefaults\": {\"arrowcolor\": \"#2a3f5f\", \"arrowhead\": 0, \"arrowwidth\": 1}, \"coloraxis\": {\"colorbar\": {\"outlinewidth\": 0, \"ticks\": \"\"}}, \"colorscale\": {\"diverging\": [[0, \"#8e0152\"], [0.1, \"#c51b7d\"], [0.2, \"#de77ae\"], [0.3, \"#f1b6da\"], [0.4, \"#fde0ef\"], [0.5, \"#f7f7f7\"], [0.6, \"#e6f5d0\"], [0.7, \"#b8e186\"], [0.8, \"#7fbc41\"], [0.9, \"#4d9221\"], [1, \"#276419\"]], \"sequential\": [[0.0, \"#0d0887\"], [0.1111111111111111, \"#46039f\"], [0.2222222222222222, \"#7201a8\"], [0.3333333333333333, \"#9c179e\"], [0.4444444444444444, \"#bd3786\"], [0.5555555555555556, \"#d8576b\"], [0.6666666666666666, \"#ed7953\"], [0.7777777777777778, \"#fb9f3a\"], [0.8888888888888888, \"#fdca26\"], [1.0, \"#f0f921\"]], \"sequentialminus\": [[0.0, \"#0d0887\"], [0.1111111111111111, \"#46039f\"], [0.2222222222222222, \"#7201a8\"], [0.3333333333333333, \"#9c179e\"], [0.4444444444444444, \"#bd3786\"], [0.5555555555555556, \"#d8576b\"], [0.6666666666666666, \"#ed7953\"], [0.7777777777777778, \"#fb9f3a\"], [0.8888888888888888, \"#fdca26\"], [1.0, \"#f0f921\"]]}, \"colorway\": [\"#636efa\", \"#EF553B\", \"#00cc96\", \"#ab63fa\", \"#FFA15A\", \"#19d3f3\", \"#FF6692\", \"#B6E880\", \"#FF97FF\", \"#FECB52\"], \"font\": {\"color\": \"#2a3f5f\"}, \"geo\": {\"bgcolor\": \"white\", \"lakecolor\": \"white\", \"landcolor\": \"#E5ECF6\", \"showlakes\": true, \"showland\": true, \"subunitcolor\": \"white\"}, \"hoverlabel\": {\"align\": \"left\"}, \"hovermode\": \"closest\", \"mapbox\": {\"style\": \"light\"}, \"paper_bgcolor\": \"white\", \"plot_bgcolor\": \"#E5ECF6\", \"polar\": {\"angularaxis\": {\"gridcolor\": \"white\", \"linecolor\": \"white\", \"ticks\": \"\"}, \"bgcolor\": \"#E5ECF6\", \"radialaxis\": {\"gridcolor\": \"white\", \"linecolor\": \"white\", \"ticks\": \"\"}}, \"scene\": {\"xaxis\": {\"backgroundcolor\": \"#E5ECF6\", \"gridcolor\": \"white\", \"gridwidth\": 2, \"linecolor\": \"white\", \"showbackground\": true, \"ticks\": \"\", \"zerolinecolor\": \"white\"}, \"yaxis\": {\"backgroundcolor\": \"#E5ECF6\", \"gridcolor\": \"white\", \"gridwidth\": 2, \"linecolor\": \"white\", \"showbackground\": true, \"ticks\": \"\", \"zerolinecolor\": \"white\"}, \"zaxis\": {\"backgroundcolor\": \"#E5ECF6\", \"gridcolor\": \"white\", \"gridwidth\": 2, \"linecolor\": \"white\", \"showbackground\": true, \"ticks\": \"\", \"zerolinecolor\": \"white\"}}, \"shapedefaults\": {\"line\": {\"color\": \"#2a3f5f\"}}, \"ternary\": {\"aaxis\": {\"gridcolor\": \"white\", \"linecolor\": \"white\", \"ticks\": \"\"}, \"baxis\": {\"gridcolor\": \"white\", \"linecolor\": \"white\", \"ticks\": \"\"}, \"bgcolor\": \"#E5ECF6\", \"caxis\": {\"gridcolor\": \"white\", \"linecolor\": \"white\", \"ticks\": \"\"}}, \"title\": {\"x\": 0.05}, \"xaxis\": {\"automargin\": true, \"gridcolor\": \"white\", \"linecolor\": \"white\", \"ticks\": \"\", \"title\": {\"standoff\": 15}, \"zerolinecolor\": \"white\", \"zerolinewidth\": 2}, \"yaxis\": {\"automargin\": true, \"gridcolor\": \"white\", \"linecolor\": \"white\", \"ticks\": \"\", \"title\": {\"standoff\": 15}, \"zerolinecolor\": \"white\", \"zerolinewidth\": 2}}}, \"title\": {\"font\": {\"color\": \"#4D5663\"}}, \"xaxis\": {\"anchor\": \"y\", \"domain\": [0.0, 0.2125], \"gridcolor\": \"#E1E5ED\", \"showgrid\": false, \"tickfont\": {\"color\": \"#4D5663\"}, \"title\": {\"font\": {\"color\": \"#4D5663\"}, \"text\": \"\"}, \"zerolinecolor\": \"#E1E5ED\"}, \"xaxis10\": {\"anchor\": \"y10\", \"domain\": [0.2625, 0.475], \"gridcolor\": \"#E1E5ED\", \"showgrid\": false, \"tickfont\": {\"color\": \"#4D5663\"}, \"title\": {\"font\": {\"color\": \"#4D5663\"}, \"text\": \"\"}, \"zerolinecolor\": \"#E1E5ED\"}, \"xaxis11\": {\"anchor\": \"y11\", \"domain\": [0.525, 0.7375], \"gridcolor\": \"#E1E5ED\", \"showgrid\": false, \"tickfont\": {\"color\": \"#4D5663\"}, \"title\": {\"font\": {\"color\": \"#4D5663\"}, \"text\": \"\"}, \"zerolinecolor\": \"#E1E5ED\"}, \"xaxis12\": {\"anchor\": \"y12\", \"domain\": [0.7875, 1.0], \"gridcolor\": \"#E1E5ED\", \"showgrid\": false, \"tickfont\": {\"color\": \"#4D5663\"}, \"title\": {\"font\": {\"color\": \"#4D5663\"}, \"text\": \"\"}, \"zerolinecolor\": \"#E1E5ED\"}, \"xaxis13\": {\"anchor\": \"y13\", \"domain\": [0.0, 0.2125], \"gridcolor\": \"#E1E5ED\", \"showgrid\": false, \"tickfont\": {\"color\": \"#4D5663\"}, \"title\": {\"font\": {\"color\": \"#4D5663\"}, \"text\": \"\"}, \"zerolinecolor\": \"#E1E5ED\"}, \"xaxis14\": {\"anchor\": \"y14\", \"domain\": [0.2625, 0.475], \"gridcolor\": \"#E1E5ED\", \"showgrid\": false, \"tickfont\": {\"color\": \"#4D5663\"}, \"title\": {\"font\": {\"color\": \"#4D5663\"}, \"text\": \"\"}, \"zerolinecolor\": \"#E1E5ED\"}, \"xaxis15\": {\"anchor\": \"y15\", \"domain\": [0.525, 0.7375], \"gridcolor\": \"#E1E5ED\", \"showgrid\": false, \"tickfont\": {\"color\": \"#4D5663\"}, \"title\": {\"font\": {\"color\": \"#4D5663\"}, \"text\": \"\"}, \"zerolinecolor\": \"#E1E5ED\"}, \"xaxis16\": {\"anchor\": \"y16\", \"domain\": [0.7875, 1.0], \"gridcolor\": \"#E1E5ED\", \"showgrid\": false, \"tickfont\": {\"color\": \"#4D5663\"}, \"title\": {\"font\": {\"color\": \"#4D5663\"}, \"text\": \"\"}, \"zerolinecolor\": \"#E1E5ED\"}, \"xaxis2\": {\"anchor\": \"y2\", \"domain\": [0.2625, 0.475], \"gridcolor\": \"#E1E5ED\", \"showgrid\": false, \"tickfont\": {\"color\": \"#4D5663\"}, \"title\": {\"font\": {\"color\": \"#4D5663\"}, \"text\": \"\"}, \"zerolinecolor\": \"#E1E5ED\"}, \"xaxis3\": {\"anchor\": \"y3\", \"domain\": [0.525, 0.7375], \"gridcolor\": \"#E1E5ED\", \"showgrid\": false, \"tickfont\": {\"color\": \"#4D5663\"}, \"title\": {\"font\": {\"color\": \"#4D5663\"}, \"text\": \"\"}, \"zerolinecolor\": \"#E1E5ED\"}, \"xaxis4\": {\"anchor\": \"y4\", \"domain\": [0.7875, 1.0], \"gridcolor\": \"#E1E5ED\", \"showgrid\": false, \"tickfont\": {\"color\": \"#4D5663\"}, \"title\": {\"font\": {\"color\": \"#4D5663\"}, \"text\": \"\"}, \"zerolinecolor\": \"#E1E5ED\"}, \"xaxis5\": {\"anchor\": \"y5\", \"domain\": [0.0, 0.2125], \"gridcolor\": \"#E1E5ED\", \"showgrid\": false, \"tickfont\": {\"color\": \"#4D5663\"}, \"title\": {\"font\": {\"color\": \"#4D5663\"}, \"text\": \"\"}, \"zerolinecolor\": \"#E1E5ED\"}, \"xaxis6\": {\"anchor\": \"y6\", \"domain\": [0.2625, 0.475], \"gridcolor\": \"#E1E5ED\", \"showgrid\": false, \"tickfont\": {\"color\": \"#4D5663\"}, \"title\": {\"font\": {\"color\": \"#4D5663\"}, \"text\": \"\"}, \"zerolinecolor\": \"#E1E5ED\"}, \"xaxis7\": {\"anchor\": \"y7\", \"domain\": [0.525, 0.7375], \"gridcolor\": \"#E1E5ED\", \"showgrid\": false, \"tickfont\": {\"color\": \"#4D5663\"}, \"title\": {\"font\": {\"color\": \"#4D5663\"}, \"text\": \"\"}, \"zerolinecolor\": \"#E1E5ED\"}, \"xaxis8\": {\"anchor\": \"y8\", \"domain\": [0.7875, 1.0], \"gridcolor\": \"#E1E5ED\", \"showgrid\": false, \"tickfont\": {\"color\": \"#4D5663\"}, \"title\": {\"font\": {\"color\": \"#4D5663\"}, \"text\": \"\"}, \"zerolinecolor\": \"#E1E5ED\"}, \"xaxis9\": {\"anchor\": \"y9\", \"domain\": [0.0, 0.2125], \"gridcolor\": \"#E1E5ED\", \"showgrid\": false, \"tickfont\": {\"color\": \"#4D5663\"}, \"title\": {\"font\": {\"color\": \"#4D5663\"}, \"text\": \"\"}, \"zerolinecolor\": \"#E1E5ED\"}, \"yaxis\": {\"anchor\": \"x\", \"domain\": [0.8025, 1.0], \"gridcolor\": \"#E1E5ED\", \"showgrid\": false, \"tickfont\": {\"color\": \"#4D5663\"}, \"title\": {\"font\": {\"color\": \"#4D5663\"}, \"text\": \"\"}, \"zerolinecolor\": \"#E1E5ED\"}, \"yaxis10\": {\"anchor\": \"x10\", \"domain\": [0.2675, 0.465], \"gridcolor\": \"#E1E5ED\", \"showgrid\": false, \"tickfont\": {\"color\": \"#4D5663\"}, \"title\": {\"font\": {\"color\": \"#4D5663\"}, \"text\": \"\"}, \"zerolinecolor\": \"#E1E5ED\"}, \"yaxis11\": {\"anchor\": \"x11\", \"domain\": [0.2675, 0.465], \"gridcolor\": \"#E1E5ED\", \"showgrid\": false, \"tickfont\": {\"color\": \"#4D5663\"}, \"title\": {\"font\": {\"color\": \"#4D5663\"}, \"text\": \"\"}, \"zerolinecolor\": \"#E1E5ED\"}, \"yaxis12\": {\"anchor\": \"x12\", \"domain\": [0.2675, 0.465], \"gridcolor\": \"#E1E5ED\", \"showgrid\": false, \"tickfont\": {\"color\": \"#4D5663\"}, \"title\": {\"font\": {\"color\": \"#4D5663\"}, \"text\": \"\"}, \"zerolinecolor\": \"#E1E5ED\"}, \"yaxis13\": {\"anchor\": \"x13\", \"domain\": [0.0, 0.1975], \"gridcolor\": \"#E1E5ED\", \"showgrid\": false, \"tickfont\": {\"color\": \"#4D5663\"}, \"title\": {\"font\": {\"color\": \"#4D5663\"}, \"text\": \"\"}, \"zerolinecolor\": \"#E1E5ED\"}, \"yaxis14\": {\"anchor\": \"x14\", \"domain\": [0.0, 0.1975], \"gridcolor\": \"#E1E5ED\", \"showgrid\": false, \"tickfont\": {\"color\": \"#4D5663\"}, \"title\": {\"font\": {\"color\": \"#4D5663\"}, \"text\": \"\"}, \"zerolinecolor\": \"#E1E5ED\"}, \"yaxis15\": {\"anchor\": \"x15\", \"domain\": [0.0, 0.1975], \"gridcolor\": \"#E1E5ED\", \"showgrid\": false, \"tickfont\": {\"color\": \"#4D5663\"}, \"title\": {\"font\": {\"color\": \"#4D5663\"}, \"text\": \"\"}, \"zerolinecolor\": \"#E1E5ED\"}, \"yaxis16\": {\"anchor\": \"x16\", \"domain\": [0.0, 0.1975], \"gridcolor\": \"#E1E5ED\", \"showgrid\": false, \"tickfont\": {\"color\": \"#4D5663\"}, \"title\": {\"font\": {\"color\": \"#4D5663\"}, \"text\": \"\"}, \"zerolinecolor\": \"#E1E5ED\"}, \"yaxis2\": {\"anchor\": \"x2\", \"domain\": [0.8025, 1.0], \"gridcolor\": \"#E1E5ED\", \"showgrid\": false, \"tickfont\": {\"color\": \"#4D5663\"}, \"title\": {\"font\": {\"color\": \"#4D5663\"}, \"text\": \"\"}, \"zerolinecolor\": \"#E1E5ED\"}, \"yaxis3\": {\"anchor\": \"x3\", \"domain\": [0.8025, 1.0], \"gridcolor\": \"#E1E5ED\", \"showgrid\": false, \"tickfont\": {\"color\": \"#4D5663\"}, \"title\": {\"font\": {\"color\": \"#4D5663\"}, \"text\": \"\"}, \"zerolinecolor\": \"#E1E5ED\"}, \"yaxis4\": {\"anchor\": \"x4\", \"domain\": [0.8025, 1.0], \"gridcolor\": \"#E1E5ED\", \"showgrid\": false, \"tickfont\": {\"color\": \"#4D5663\"}, \"title\": {\"font\": {\"color\": \"#4D5663\"}, \"text\": \"\"}, \"zerolinecolor\": \"#E1E5ED\"}, \"yaxis5\": {\"anchor\": \"x5\", \"domain\": [0.535, 0.7325], \"gridcolor\": \"#E1E5ED\", \"showgrid\": false, \"tickfont\": {\"color\": \"#4D5663\"}, \"title\": {\"font\": {\"color\": \"#4D5663\"}, \"text\": \"\"}, \"zerolinecolor\": \"#E1E5ED\"}, \"yaxis6\": {\"anchor\": \"x6\", \"domain\": [0.535, 0.7325], \"gridcolor\": \"#E1E5ED\", \"showgrid\": false, \"tickfont\": {\"color\": \"#4D5663\"}, \"title\": {\"font\": {\"color\": \"#4D5663\"}, \"text\": \"\"}, \"zerolinecolor\": \"#E1E5ED\"}, \"yaxis7\": {\"anchor\": \"x7\", \"domain\": [0.535, 0.7325], \"gridcolor\": \"#E1E5ED\", \"showgrid\": false, \"tickfont\": {\"color\": \"#4D5663\"}, \"title\": {\"font\": {\"color\": \"#4D5663\"}, \"text\": \"\"}, \"zerolinecolor\": \"#E1E5ED\"}, \"yaxis8\": {\"anchor\": \"x8\", \"domain\": [0.535, 0.7325], \"gridcolor\": \"#E1E5ED\", \"showgrid\": false, \"tickfont\": {\"color\": \"#4D5663\"}, \"title\": {\"font\": {\"color\": \"#4D5663\"}, \"text\": \"\"}, \"zerolinecolor\": \"#E1E5ED\"}, \"yaxis9\": {\"anchor\": \"x9\", \"domain\": [0.2675, 0.465], \"gridcolor\": \"#E1E5ED\", \"showgrid\": false, \"tickfont\": {\"color\": \"#4D5663\"}, \"title\": {\"font\": {\"color\": \"#4D5663\"}, \"text\": \"\"}, \"zerolinecolor\": \"#E1E5ED\"}},\n",
       "                        {\"showLink\": true, \"linkText\": \"Export to plot.ly\", \"plotlyServerURL\": \"https://plot.ly\", \"responsive\": true}\n",
       "                    ).then(function(){\n",
       "                            \n",
       "var gd = document.getElementById('a271ca8f-1e31-442f-8292-8d2834dea039');\n",
       "var x = new MutationObserver(function (mutations, observer) {{\n",
       "        var display = window.getComputedStyle(gd).display;\n",
       "        if (!display || display === 'none') {{\n",
       "            console.log([gd, 'removed!']);\n",
       "            Plotly.purge(gd);\n",
       "            observer.disconnect();\n",
       "        }}\n",
       "}});\n",
       "\n",
       "// Listen for the removal of the full notebook cells\n",
       "var notebookContainer = gd.closest('#notebook-container');\n",
       "if (notebookContainer) {{\n",
       "    x.observe(notebookContainer, {childList: true});\n",
       "}}\n",
       "\n",
       "// Listen for the clearing of the current output cell\n",
       "var outputEl = gd.closest('.output');\n",
       "if (outputEl) {{\n",
       "    x.observe(outputEl, {childList: true});\n",
       "}}\n",
       "\n",
       "                        })\n",
       "                };\n",
       "                });\n",
       "            </script>\n",
       "        </div>"
      ]
     },
     "metadata": {},
     "output_type": "display_data"
    }
   ],
   "source": [
    "df.scatter_matrix()"
   ]
  },
  {
   "cell_type": "markdown",
   "metadata": {
    "collapsed": true
   },
   "source": [
    "# Great Job!"
   ]
  }
 ],
 "metadata": {
  "kernelspec": {
   "display_name": "Python 3",
   "language": "python",
   "name": "python3"
  },
  "language_info": {
   "codemirror_mode": {
    "name": "ipython",
    "version": 3
   },
   "file_extension": ".py",
   "mimetype": "text/x-python",
   "name": "python",
   "nbconvert_exporter": "python",
   "pygments_lexer": "ipython3",
   "version": "3.7.4"
  }
 },
 "nbformat": 4,
 "nbformat_minor": 1
}
